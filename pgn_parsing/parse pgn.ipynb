{
 "cells": [
  {
   "cell_type": "markdown",
   "metadata": {},
   "source": [
    "# Get score and variance for each move in game\n",
    "Parse pgn (once converted to single lines) to get list of stockfish score and variance after each move, then split into black and white"
   ]
  },
  {
   "cell_type": "markdown",
   "metadata": {},
   "source": [
    "## Read in packages, graph, and functions"
   ]
  },
  {
   "cell_type": "code",
   "execution_count": 1,
   "metadata": {},
   "outputs": [],
   "source": [
    "from collections import defaultdict\n",
    "import sys\n",
    "import networkx as nx\n",
    "import matplotlib.pyplot as plt\n",
    "import pandas as pd\n",
    "import numpy as np\n",
    "import re\n",
    "import chess\n",
    "import subprocess\n",
    "import timeit\n",
    "import pickle\n",
    "import stockfish\n",
    "from stockfish import Stockfish\n",
    "import chess\n",
    "import chess.engine\n",
    "import warnings\n",
    "warnings.filterwarnings('ignore')\n",
    "\n",
    "engine = chess.engine.SimpleEngine.popen_uci(\"../stockfish-10-64\")\n",
    "stockfish = Stockfish(\"../stockfish-10-64\")"
   ]
  },
  {
   "cell_type": "code",
   "execution_count": 2,
   "metadata": {},
   "outputs": [],
   "source": [
    "g = nx.read_gpickle('../Directed_Graphs/full690k.gpickle')"
   ]
  },
  {
   "cell_type": "code",
   "execution_count": 3,
   "metadata": {},
   "outputs": [],
   "source": [
    "def varWeighted(scores, counts):\n",
    "    if (len(counts)<2):\n",
    "        return None\n",
    "    else:\n",
    "        weightedMean = sum([a*b for a,b in zip(scores,counts)])/sum(counts)\n",
    "        scoreDiffs = [(score - weightedMean)**2 for score in scores]\n",
    "        V1 = sum(counts)\n",
    "        V2 = sum([count**2 for count in counts])\n",
    "        var = (V1/(V1**2-V2)) * sum([a*b for a,b in zip(counts,scoreDiffs)])\n",
    "        return var\n",
    "    \n",
    "def get_score(san):\n",
    "    board = chess.Board()\n",
    "    for move in san:\n",
    "        try:\n",
    "            board.push_san(move)\n",
    "        except:\n",
    "            break\n",
    "    currFen = board.fen()\n",
    "    score = engine.analyse(board, chess.engine.Limit(time=.05), info=chess.engine.INFO_SCORE)\n",
    "    if('#' in str(score['score'])):\n",
    "        if('-' in str(score['score'])):\n",
    "            return -39765\n",
    "        else:\n",
    "            return 39765\n",
    "    else:\n",
    "        score = int(str(score[\"score\"]))\n",
    "    return score\n",
    "\n",
    "def san_to_fen(san):\n",
    "    board = chess.Board()\n",
    "    for move in san:\n",
    "        try:\n",
    "            board.push_san(move)\n",
    "        except:\n",
    "            break\n",
    "    currFen = board.fen()\n",
    "    return currFen\n",
    "\n",
    "def get_node_sd(node):\n",
    "    scores = []\n",
    "    counts = []\n",
    "    try:\n",
    "        for neighbor in list(g.neighbors(node)):\n",
    "            scores.append(nx.get_node_attributes(g, 'score')[neighbor])\n",
    "            counts.append(nx.get_node_attributes(g, 'movelistCount')[neighbor][node])\n",
    "        return node, np.sqrt(varWeighted(scores,counts))\n",
    "    except:\n",
    "        return node, None"
   ]
  },
  {
   "cell_type": "markdown",
   "metadata": {},
   "source": [
    "## Read in pgn file"
   ]
  },
  {
   "cell_type": "code",
   "execution_count": 4,
   "metadata": {},
   "outputs": [
    {
     "name": "stdout",
     "output_type": "stream",
     "text": [
      "242666\n",
      "121332\n"
     ]
    }
   ],
   "source": [
    "my_file = open(\"pgnparse.txt\", \"r\")\n",
    "pgn = my_file.read()\n",
    "\n",
    "pgn_list = pgn.split(\"\\n\")\n",
    "my_file.close()\n",
    "print(len(pgn_list))\n",
    "\n",
    "pgn_list = list(filter(None, pgn_list))\n",
    "print(len(pgn_list))"
   ]
  },
  {
   "cell_type": "code",
   "execution_count": 5,
   "metadata": {},
   "outputs": [
    {
     "data": {
      "text/plain": [
       "'[Event \"Rated Classical game\"  [Site \"https://lichess.org/a9tcp02g\"  [White \"Desmond_Wilson\"  [Black \"savinka59\"  [Result \"1-0\"  [UTCDate \"2012.12.31\"  [UTCTime \"23:04:12\"  [WhiteElo \"1654\"  [BlackElo \"1919\"  [WhiteRatingDiff \"+19\"  [BlackRatingDiff \"-22\"  [ECO \"D04\"  [Opening \"Queen\\'s Pawn Game: Colle System, Anti-Colle\"  [TimeControl \"480+2\"  [Termination \"Normal\"   [mainline 1. d4 d5 2. Nf3 Nf6 3. e3 Bf5 4. Nh4 Bg6 5. Nxg6 hxg6 6. Nd2 e6 7. Bd3 Bd6 8. e4 dxe4 9. Nxe4 Rxh2 10. Ke2 Rxh1 11. Qxh1 Nc6 12. Bg5 Ke7 13. Qh7 Nxd4+ 14. Kd2 Qe8 15. Qxg7 Qh8 16. Bxf6+ Kd7 17. Qxh8 Rxh8 18. Bxh8 1-0  '"
      ]
     },
     "execution_count": 5,
     "metadata": {},
     "output_type": "execute_result"
    }
   ],
   "source": [
    "pgn_list[1]"
   ]
  },
  {
   "cell_type": "markdown",
   "metadata": {},
   "source": [
    "## Create Dataframe from pgn file by splitting into dictionary of headers and values"
   ]
  },
  {
   "cell_type": "code",
   "execution_count": 6,
   "metadata": {},
   "outputs": [
    {
     "name": "stdout",
     "output_type": "stream",
     "text": [
      "TIME: 0.874154785\n"
     ]
    }
   ],
   "source": [
    "start = timeit.default_timer()\n",
    "d = defaultdict(list)\n",
    "cnt = 0\n",
    "for item in pgn_list:\n",
    "    l = item.split('[mainline')\n",
    "    try:\n",
    "        info = l[0].split('\"')\n",
    "        #mainline = l[1]\n",
    "        tuples = list(zip(info[::2],info[1::2]))\n",
    "        tuples.append(('mainline', l[1]))\n",
    "\n",
    "        for a, b in tuples:\n",
    "            d[a].append(b)\n",
    "\n",
    "        \n",
    "    except:\n",
    "         print('problem parsing:', item)\n",
    "print(\"TIME:\", timeit.default_timer()- start)"
   ]
  },
  {
   "cell_type": "code",
   "execution_count": 7,
   "metadata": {},
   "outputs": [
    {
     "name": "stdout",
     "output_type": "stream",
     "text": [
      "(121332, 18)\n"
     ]
    },
    {
     "data": {
      "text/html": [
       "<div>\n",
       "<style scoped>\n",
       "    .dataframe tbody tr th:only-of-type {\n",
       "        vertical-align: middle;\n",
       "    }\n",
       "\n",
       "    .dataframe tbody tr th {\n",
       "        vertical-align: top;\n",
       "    }\n",
       "\n",
       "    .dataframe thead th {\n",
       "        text-align: right;\n",
       "    }\n",
       "</style>\n",
       "<table border=\"1\" class=\"dataframe\">\n",
       "  <thead>\n",
       "    <tr style=\"text-align: right;\">\n",
       "      <th></th>\n",
       "      <th>[Event</th>\n",
       "      <th>[Site</th>\n",
       "      <th>[White</th>\n",
       "      <th>[Black</th>\n",
       "      <th>[Result</th>\n",
       "      <th>[UTCDate</th>\n",
       "      <th>[UTCTime</th>\n",
       "      <th>[WhiteElo</th>\n",
       "      <th>[BlackElo</th>\n",
       "      <th>[WhiteRatingDiff</th>\n",
       "      <th>[BlackRatingDiff</th>\n",
       "      <th>[ECO</th>\n",
       "      <th>[Opening</th>\n",
       "      <th>[TimeControl</th>\n",
       "      <th>[Termination</th>\n",
       "      <th>mainline</th>\n",
       "      <th>[BlackTitle</th>\n",
       "      <th>[WhiteTitle</th>\n",
       "    </tr>\n",
       "  </thead>\n",
       "  <tbody>\n",
       "    <tr>\n",
       "      <th>0</th>\n",
       "      <td>Rated Classical game</td>\n",
       "      <td>https://lichess.org/j1dkb5dw</td>\n",
       "      <td>BFG9k</td>\n",
       "      <td>mamalak</td>\n",
       "      <td>1-0</td>\n",
       "      <td>2012.12.31</td>\n",
       "      <td>23:01:03</td>\n",
       "      <td>1639</td>\n",
       "      <td>1403</td>\n",
       "      <td>+5</td>\n",
       "      <td>-8</td>\n",
       "      <td>C00</td>\n",
       "      <td>French Defense: Normal Variation</td>\n",
       "      <td>600+8</td>\n",
       "      <td>Normal</td>\n",
       "      <td>1. e4 e6 2. d4 b6 3. a3 Bb7 4. Nc3 Nh6 5. Bxh...</td>\n",
       "      <td>LM</td>\n",
       "      <td>LM</td>\n",
       "    </tr>\n",
       "    <tr>\n",
       "      <th>1</th>\n",
       "      <td>Rated Classical game</td>\n",
       "      <td>https://lichess.org/a9tcp02g</td>\n",
       "      <td>Desmond_Wilson</td>\n",
       "      <td>savinka59</td>\n",
       "      <td>1-0</td>\n",
       "      <td>2012.12.31</td>\n",
       "      <td>23:04:12</td>\n",
       "      <td>1654</td>\n",
       "      <td>1919</td>\n",
       "      <td>+19</td>\n",
       "      <td>-22</td>\n",
       "      <td>D04</td>\n",
       "      <td>Queen's Pawn Game: Colle System, Anti-Colle</td>\n",
       "      <td>480+2</td>\n",
       "      <td>Normal</td>\n",
       "      <td>1. d4 d5 2. Nf3 Nf6 3. e3 Bf5 4. Nh4 Bg6 5. N...</td>\n",
       "      <td>LM</td>\n",
       "      <td>LM</td>\n",
       "    </tr>\n",
       "  </tbody>\n",
       "</table>\n",
       "</div>"
      ],
      "text/plain": [
       "                [Event                         [Site          [White   \\\n",
       "0  Rated Classical game  https://lichess.org/j1dkb5dw           BFG9k   \n",
       "1  Rated Classical game  https://lichess.org/a9tcp02g  Desmond_Wilson   \n",
       "\n",
       "     [Black    [Result    [UTCDate    [UTCTime    [WhiteElo    [BlackElo   \\\n",
       "0    mamalak        1-0  2012.12.31    23:01:03         1639         1403   \n",
       "1  savinka59        1-0  2012.12.31    23:04:12         1654         1919   \n",
       "\n",
       "    [WhiteRatingDiff    [BlackRatingDiff    [ECO   \\\n",
       "0                  +5                  -8     C00   \n",
       "1                 +19                 -22     D04   \n",
       "\n",
       "                                     [Opening    [TimeControl   \\\n",
       "0             French Defense: Normal Variation           600+8   \n",
       "1  Queen's Pawn Game: Colle System, Anti-Colle           480+2   \n",
       "\n",
       "    [Termination                                            mainline  \\\n",
       "0          Normal   1. e4 e6 2. d4 b6 3. a3 Bb7 4. Nc3 Nh6 5. Bxh...   \n",
       "1          Normal   1. d4 d5 2. Nf3 Nf6 3. e3 Bf5 4. Nh4 Bg6 5. N...   \n",
       "\n",
       "    [BlackTitle    [WhiteTitle   \n",
       "0             LM             LM  \n",
       "1             LM             LM  "
      ]
     },
     "execution_count": 7,
     "metadata": {},
     "output_type": "execute_result"
    }
   ],
   "source": [
    "df = pd.DataFrame(dict([ (k,pd.Series(v)) for k,v in d.items() ]))\n",
    "print(df.shape)\n",
    "df.head(2)"
   ]
  },
  {
   "cell_type": "markdown",
   "metadata": {},
   "source": [
    "#### Split san into list of moves (remove decimals)"
   ]
  },
  {
   "cell_type": "code",
   "execution_count": 8,
   "metadata": {},
   "outputs": [],
   "source": [
    "df['san'] = df.mainline.apply(lambda x: [ i for i in x.split() if \".\" not in i ])"
   ]
  },
  {
   "cell_type": "code",
   "execution_count": 9,
   "metadata": {},
   "outputs": [
    {
     "data": {
      "text/html": [
       "<div>\n",
       "<style scoped>\n",
       "    .dataframe tbody tr th:only-of-type {\n",
       "        vertical-align: middle;\n",
       "    }\n",
       "\n",
       "    .dataframe tbody tr th {\n",
       "        vertical-align: top;\n",
       "    }\n",
       "\n",
       "    .dataframe thead th {\n",
       "        text-align: right;\n",
       "    }\n",
       "</style>\n",
       "<table border=\"1\" class=\"dataframe\">\n",
       "  <thead>\n",
       "    <tr style=\"text-align: right;\">\n",
       "      <th></th>\n",
       "      <th>[Event</th>\n",
       "      <th>[Site</th>\n",
       "      <th>[White</th>\n",
       "      <th>[Black</th>\n",
       "      <th>[Result</th>\n",
       "      <th>[UTCDate</th>\n",
       "      <th>[UTCTime</th>\n",
       "      <th>[WhiteElo</th>\n",
       "      <th>[BlackElo</th>\n",
       "      <th>[WhiteRatingDiff</th>\n",
       "      <th>[BlackRatingDiff</th>\n",
       "      <th>[ECO</th>\n",
       "      <th>[Opening</th>\n",
       "      <th>[TimeControl</th>\n",
       "      <th>[Termination</th>\n",
       "      <th>mainline</th>\n",
       "      <th>[BlackTitle</th>\n",
       "      <th>[WhiteTitle</th>\n",
       "      <th>san</th>\n",
       "    </tr>\n",
       "  </thead>\n",
       "  <tbody>\n",
       "    <tr>\n",
       "      <th>0</th>\n",
       "      <td>Rated Classical game</td>\n",
       "      <td>https://lichess.org/j1dkb5dw</td>\n",
       "      <td>BFG9k</td>\n",
       "      <td>mamalak</td>\n",
       "      <td>1-0</td>\n",
       "      <td>2012.12.31</td>\n",
       "      <td>23:01:03</td>\n",
       "      <td>1639</td>\n",
       "      <td>1403</td>\n",
       "      <td>+5</td>\n",
       "      <td>-8</td>\n",
       "      <td>C00</td>\n",
       "      <td>French Defense: Normal Variation</td>\n",
       "      <td>600+8</td>\n",
       "      <td>Normal</td>\n",
       "      <td>1. e4 e6 2. d4 b6 3. a3 Bb7 4. Nc3 Nh6 5. Bxh...</td>\n",
       "      <td>LM</td>\n",
       "      <td>LM</td>\n",
       "      <td>[e4, e6, d4, b6, a3, Bb7, Nc3, Nh6, Bxh6, gxh6...</td>\n",
       "    </tr>\n",
       "    <tr>\n",
       "      <th>1</th>\n",
       "      <td>Rated Classical game</td>\n",
       "      <td>https://lichess.org/a9tcp02g</td>\n",
       "      <td>Desmond_Wilson</td>\n",
       "      <td>savinka59</td>\n",
       "      <td>1-0</td>\n",
       "      <td>2012.12.31</td>\n",
       "      <td>23:04:12</td>\n",
       "      <td>1654</td>\n",
       "      <td>1919</td>\n",
       "      <td>+19</td>\n",
       "      <td>-22</td>\n",
       "      <td>D04</td>\n",
       "      <td>Queen's Pawn Game: Colle System, Anti-Colle</td>\n",
       "      <td>480+2</td>\n",
       "      <td>Normal</td>\n",
       "      <td>1. d4 d5 2. Nf3 Nf6 3. e3 Bf5 4. Nh4 Bg6 5. N...</td>\n",
       "      <td>LM</td>\n",
       "      <td>LM</td>\n",
       "      <td>[d4, d5, Nf3, Nf6, e3, Bf5, Nh4, Bg6, Nxg6, hx...</td>\n",
       "    </tr>\n",
       "  </tbody>\n",
       "</table>\n",
       "</div>"
      ],
      "text/plain": [
       "                [Event                         [Site          [White   \\\n",
       "0  Rated Classical game  https://lichess.org/j1dkb5dw           BFG9k   \n",
       "1  Rated Classical game  https://lichess.org/a9tcp02g  Desmond_Wilson   \n",
       "\n",
       "     [Black    [Result    [UTCDate    [UTCTime    [WhiteElo    [BlackElo   \\\n",
       "0    mamalak        1-0  2012.12.31    23:01:03         1639         1403   \n",
       "1  savinka59        1-0  2012.12.31    23:04:12         1654         1919   \n",
       "\n",
       "    [WhiteRatingDiff    [BlackRatingDiff    [ECO   \\\n",
       "0                  +5                  -8     C00   \n",
       "1                 +19                 -22     D04   \n",
       "\n",
       "                                     [Opening    [TimeControl   \\\n",
       "0             French Defense: Normal Variation           600+8   \n",
       "1  Queen's Pawn Game: Colle System, Anti-Colle           480+2   \n",
       "\n",
       "    [Termination                                            mainline  \\\n",
       "0          Normal   1. e4 e6 2. d4 b6 3. a3 Bb7 4. Nc3 Nh6 5. Bxh...   \n",
       "1          Normal   1. d4 d5 2. Nf3 Nf6 3. e3 Bf5 4. Nh4 Bg6 5. N...   \n",
       "\n",
       "    [BlackTitle    [WhiteTitle   \\\n",
       "0             LM             LM   \n",
       "1             LM             LM   \n",
       "\n",
       "                                                 san  \n",
       "0  [e4, e6, d4, b6, a3, Bb7, Nc3, Nh6, Bxh6, gxh6...  \n",
       "1  [d4, d5, Nf3, Nf6, e3, Bf5, Nh4, Bg6, Nxg6, hx...  "
      ]
     },
     "execution_count": 9,
     "metadata": {},
     "output_type": "execute_result"
    }
   ],
   "source": [
    "df.head(2)"
   ]
  },
  {
   "cell_type": "markdown",
   "metadata": {},
   "source": [
    "## Function to get score and Variance \n",
    "for each move in san, then split by black and white"
   ]
  },
  {
   "cell_type": "code",
   "execution_count": 10,
   "metadata": {},
   "outputs": [],
   "source": [
    "def get_sd_score_from_san(san):\n",
    "    board = chess.Board()\n",
    "    sd_list = []\n",
    "    score_list = []\n",
    "    for move in san:\n",
    "        try:\n",
    "            board.push_san(move)\n",
    "            currFen = board.fen()\n",
    "            board = chess.Board(currFen)\n",
    "            sf = engine.analyse(board, chess.engine.Limit(time=0.05))\n",
    "            \n",
    "            if('#' in str(sf['score'])):\n",
    "                if('-' in str(sf['score'])):\n",
    "                    sf =  -39765\n",
    "                else:\n",
    "                    sf =  39765\n",
    "            else:\n",
    "                sf = int(str(sf[\"score\"]))*-1\n",
    "            score_list.append(sf)\n",
    "            scores = []\n",
    "            counts = []\n",
    "            for neighbor in list(g.neighbors(currFen)):\n",
    "                scores.append(nx.get_node_attributes(g, 'score')[neighbor])\n",
    "                counts.append(nx.get_node_attributes(g, 'count')[neighbor])\n",
    "\n",
    "            sd_list.append(np.sqrt(varWeighted(scores, counts)))\n",
    "        except:\n",
    "            break\n",
    "    return pd.Series([sd_list[::2],sd_list[1::2], score_list[::2],score_list[1::2]]) \n",
    "        ##white, black sd, white, black score\n",
    "#     return(sd_list, score_list)"
   ]
  },
  {
   "cell_type": "code",
   "execution_count": null,
   "metadata": {},
   "outputs": [],
   "source": [
    "#### Build a small dataframe to test on... this is super slow"
   ]
  },
  {
   "cell_type": "code",
   "execution_count": 11,
   "metadata": {},
   "outputs": [],
   "source": [
    "df_test = df.head(1000)"
   ]
  },
  {
   "cell_type": "code",
   "execution_count": 12,
   "metadata": {},
   "outputs": [
    {
     "name": "stdout",
     "output_type": "stream",
     "text": [
      "TIME: 785.990168188\n"
     ]
    },
    {
     "data": {
      "text/html": [
       "<div>\n",
       "<style scoped>\n",
       "    .dataframe tbody tr th:only-of-type {\n",
       "        vertical-align: middle;\n",
       "    }\n",
       "\n",
       "    .dataframe tbody tr th {\n",
       "        vertical-align: top;\n",
       "    }\n",
       "\n",
       "    .dataframe thead th {\n",
       "        text-align: right;\n",
       "    }\n",
       "</style>\n",
       "<table border=\"1\" class=\"dataframe\">\n",
       "  <thead>\n",
       "    <tr style=\"text-align: right;\">\n",
       "      <th></th>\n",
       "      <th>[Event</th>\n",
       "      <th>[Site</th>\n",
       "      <th>[White</th>\n",
       "      <th>[Black</th>\n",
       "      <th>[Result</th>\n",
       "      <th>[UTCDate</th>\n",
       "      <th>[UTCTime</th>\n",
       "      <th>[WhiteElo</th>\n",
       "      <th>[BlackElo</th>\n",
       "      <th>[WhiteRatingDiff</th>\n",
       "      <th>...</th>\n",
       "      <th>[TimeControl</th>\n",
       "      <th>[Termination</th>\n",
       "      <th>mainline</th>\n",
       "      <th>[BlackTitle</th>\n",
       "      <th>[WhiteTitle</th>\n",
       "      <th>san</th>\n",
       "      <th>sd_white</th>\n",
       "      <th>sd_black</th>\n",
       "      <th>score_white</th>\n",
       "      <th>score_black</th>\n",
       "    </tr>\n",
       "  </thead>\n",
       "  <tbody>\n",
       "    <tr>\n",
       "      <th>0</th>\n",
       "      <td>Rated Classical game</td>\n",
       "      <td>https://lichess.org/j1dkb5dw</td>\n",
       "      <td>BFG9k</td>\n",
       "      <td>mamalak</td>\n",
       "      <td>1-0</td>\n",
       "      <td>2012.12.31</td>\n",
       "      <td>23:01:03</td>\n",
       "      <td>1639</td>\n",
       "      <td>1403</td>\n",
       "      <td>+5</td>\n",
       "      <td>...</td>\n",
       "      <td>600+8</td>\n",
       "      <td>Normal</td>\n",
       "      <td>1. e4 e6 2. d4 b6 3. a3 Bb7 4. Nc3 Nh6 5. Bxh...</td>\n",
       "      <td>LM</td>\n",
       "      <td>LM</td>\n",
       "      <td>[e4, e6, d4, b6, a3, Bb7, Nc3, Nh6, Bxh6, gxh6...</td>\n",
       "      <td>[28.708603722120852, 37.04284754927736]</td>\n",
       "      <td>[56.44575414848348, 39.24433474773549]</td>\n",
       "      <td>[77, 54, 90]</td>\n",
       "      <td>[-72, -170]</td>\n",
       "    </tr>\n",
       "    <tr>\n",
       "      <th>1</th>\n",
       "      <td>Rated Classical game</td>\n",
       "      <td>https://lichess.org/a9tcp02g</td>\n",
       "      <td>Desmond_Wilson</td>\n",
       "      <td>savinka59</td>\n",
       "      <td>1-0</td>\n",
       "      <td>2012.12.31</td>\n",
       "      <td>23:04:12</td>\n",
       "      <td>1654</td>\n",
       "      <td>1919</td>\n",
       "      <td>+19</td>\n",
       "      <td>...</td>\n",
       "      <td>480+2</td>\n",
       "      <td>Normal</td>\n",
       "      <td>1. d4 d5 2. Nf3 Nf6 3. e3 Bf5 4. Nh4 Bg6 5. N...</td>\n",
       "      <td>LM</td>\n",
       "      <td>LM</td>\n",
       "      <td>[d4, d5, Nf3, Nf6, e3, Bf5, Nh4, Bg6, Nxg6, hx...</td>\n",
       "      <td>[46.49596859748773, 38.75231615526675, 19.0918...</td>\n",
       "      <td>[37.02046744780591, 21.913376695108]</td>\n",
       "      <td>[7, 44, 11]</td>\n",
       "      <td>[-76, -62, -53]</td>\n",
       "    </tr>\n",
       "  </tbody>\n",
       "</table>\n",
       "<p>2 rows × 23 columns</p>\n",
       "</div>"
      ],
      "text/plain": [
       "                [Event                         [Site          [White   \\\n",
       "0  Rated Classical game  https://lichess.org/j1dkb5dw           BFG9k   \n",
       "1  Rated Classical game  https://lichess.org/a9tcp02g  Desmond_Wilson   \n",
       "\n",
       "     [Black    [Result    [UTCDate    [UTCTime    [WhiteElo    [BlackElo   \\\n",
       "0    mamalak        1-0  2012.12.31    23:01:03         1639         1403   \n",
       "1  savinka59        1-0  2012.12.31    23:04:12         1654         1919   \n",
       "\n",
       "    [WhiteRatingDiff   ...   [TimeControl    [Termination   \\\n",
       "0                  +5  ...           600+8          Normal   \n",
       "1                 +19  ...           480+2          Normal   \n",
       "\n",
       "                                            mainline   [BlackTitle   \\\n",
       "0   1. e4 e6 2. d4 b6 3. a3 Bb7 4. Nc3 Nh6 5. Bxh...             LM   \n",
       "1   1. d4 d5 2. Nf3 Nf6 3. e3 Bf5 4. Nh4 Bg6 5. N...             LM   \n",
       "\n",
       "    [WhiteTitle                                                 san  \\\n",
       "0             LM  [e4, e6, d4, b6, a3, Bb7, Nc3, Nh6, Bxh6, gxh6...   \n",
       "1             LM  [d4, d5, Nf3, Nf6, e3, Bf5, Nh4, Bg6, Nxg6, hx...   \n",
       "\n",
       "                                            sd_white  \\\n",
       "0            [28.708603722120852, 37.04284754927736]   \n",
       "1  [46.49596859748773, 38.75231615526675, 19.0918...   \n",
       "\n",
       "                                 sd_black   score_white      score_black  \n",
       "0  [56.44575414848348, 39.24433474773549]  [77, 54, 90]      [-72, -170]  \n",
       "1    [37.02046744780591, 21.913376695108]   [7, 44, 11]  [-76, -62, -53]  \n",
       "\n",
       "[2 rows x 23 columns]"
      ]
     },
     "execution_count": 12,
     "metadata": {},
     "output_type": "execute_result"
    }
   ],
   "source": [
    "# df_small['sd_list'] = df.san.apply(lambda x: get_sd_score_from_san(x)[0])\n",
    "# df_small['sf_list'] = df.san.apply(lambda x: get_sd_score_from_san(x)[1])\n",
    "start = timeit.default_timer()\n",
    "df_test[['sd_white', 'sd_black','score_white', 'score_black']] = df_test.san.apply(\n",
    "    lambda x: get_sd_score_from_san(x))\n",
    "print(\"TIME:\",timeit.default_timer()-start)\n",
    "df_test.head(2)"
   ]
  },
  {
   "cell_type": "code",
   "execution_count": 13,
   "metadata": {},
   "outputs": [],
   "source": [
    "df_test['max_white_sd'] = df_test.sd_white.apply(lambda x: 0 if len(x) == 0 else max(x))\n",
    "df_test['max_black_sd'] = df_test.sd_black.apply(lambda x: 0 if len(x) == 0 else max(x))"
   ]
  },
  {
   "cell_type": "code",
   "execution_count": 14,
   "metadata": {},
   "outputs": [
    {
     "data": {
      "text/html": [
       "<div>\n",
       "<style scoped>\n",
       "    .dataframe tbody tr th:only-of-type {\n",
       "        vertical-align: middle;\n",
       "    }\n",
       "\n",
       "    .dataframe tbody tr th {\n",
       "        vertical-align: top;\n",
       "    }\n",
       "\n",
       "    .dataframe thead th {\n",
       "        text-align: right;\n",
       "    }\n",
       "</style>\n",
       "<table border=\"1\" class=\"dataframe\">\n",
       "  <thead>\n",
       "    <tr style=\"text-align: right;\">\n",
       "      <th></th>\n",
       "      <th>[Event</th>\n",
       "      <th>[Site</th>\n",
       "      <th>[White</th>\n",
       "      <th>[Black</th>\n",
       "      <th>[Result</th>\n",
       "      <th>[UTCDate</th>\n",
       "      <th>[UTCTime</th>\n",
       "      <th>[WhiteElo</th>\n",
       "      <th>[BlackElo</th>\n",
       "      <th>[WhiteRatingDiff</th>\n",
       "      <th>...</th>\n",
       "      <th>mainline</th>\n",
       "      <th>[BlackTitle</th>\n",
       "      <th>[WhiteTitle</th>\n",
       "      <th>san</th>\n",
       "      <th>sd_white</th>\n",
       "      <th>sd_black</th>\n",
       "      <th>score_white</th>\n",
       "      <th>score_black</th>\n",
       "      <th>max_white_sd</th>\n",
       "      <th>max_black_sd</th>\n",
       "    </tr>\n",
       "  </thead>\n",
       "  <tbody>\n",
       "    <tr>\n",
       "      <th>0</th>\n",
       "      <td>Rated Classical game</td>\n",
       "      <td>https://lichess.org/j1dkb5dw</td>\n",
       "      <td>BFG9k</td>\n",
       "      <td>mamalak</td>\n",
       "      <td>1-0</td>\n",
       "      <td>2012.12.31</td>\n",
       "      <td>23:01:03</td>\n",
       "      <td>1639</td>\n",
       "      <td>1403</td>\n",
       "      <td>+5</td>\n",
       "      <td>...</td>\n",
       "      <td>1. e4 e6 2. d4 b6 3. a3 Bb7 4. Nc3 Nh6 5. Bxh...</td>\n",
       "      <td>LM</td>\n",
       "      <td>LM</td>\n",
       "      <td>[e4, e6, d4, b6, a3, Bb7, Nc3, Nh6, Bxh6, gxh6...</td>\n",
       "      <td>[28.708603722120852, 37.04284754927736]</td>\n",
       "      <td>[56.44575414848348, 39.24433474773549]</td>\n",
       "      <td>[77, 54, 90]</td>\n",
       "      <td>[-72, -170]</td>\n",
       "      <td>37.042848</td>\n",
       "      <td>56.445754</td>\n",
       "    </tr>\n",
       "    <tr>\n",
       "      <th>1</th>\n",
       "      <td>Rated Classical game</td>\n",
       "      <td>https://lichess.org/a9tcp02g</td>\n",
       "      <td>Desmond_Wilson</td>\n",
       "      <td>savinka59</td>\n",
       "      <td>1-0</td>\n",
       "      <td>2012.12.31</td>\n",
       "      <td>23:04:12</td>\n",
       "      <td>1654</td>\n",
       "      <td>1919</td>\n",
       "      <td>+19</td>\n",
       "      <td>...</td>\n",
       "      <td>1. d4 d5 2. Nf3 Nf6 3. e3 Bf5 4. Nh4 Bg6 5. N...</td>\n",
       "      <td>LM</td>\n",
       "      <td>LM</td>\n",
       "      <td>[d4, d5, Nf3, Nf6, e3, Bf5, Nh4, Bg6, Nxg6, hx...</td>\n",
       "      <td>[46.49596859748773, 38.75231615526675, 19.0918...</td>\n",
       "      <td>[37.02046744780591, 21.913376695108]</td>\n",
       "      <td>[7, 44, 11]</td>\n",
       "      <td>[-76, -62, -53]</td>\n",
       "      <td>46.495969</td>\n",
       "      <td>37.020467</td>\n",
       "    </tr>\n",
       "  </tbody>\n",
       "</table>\n",
       "<p>2 rows × 25 columns</p>\n",
       "</div>"
      ],
      "text/plain": [
       "                [Event                         [Site          [White   \\\n",
       "0  Rated Classical game  https://lichess.org/j1dkb5dw           BFG9k   \n",
       "1  Rated Classical game  https://lichess.org/a9tcp02g  Desmond_Wilson   \n",
       "\n",
       "     [Black    [Result    [UTCDate    [UTCTime    [WhiteElo    [BlackElo   \\\n",
       "0    mamalak        1-0  2012.12.31    23:01:03         1639         1403   \n",
       "1  savinka59        1-0  2012.12.31    23:04:12         1654         1919   \n",
       "\n",
       "    [WhiteRatingDiff   ...                                           mainline  \\\n",
       "0                  +5  ...   1. e4 e6 2. d4 b6 3. a3 Bb7 4. Nc3 Nh6 5. Bxh...   \n",
       "1                 +19  ...   1. d4 d5 2. Nf3 Nf6 3. e3 Bf5 4. Nh4 Bg6 5. N...   \n",
       "\n",
       "    [BlackTitle    [WhiteTitle   \\\n",
       "0             LM             LM   \n",
       "1             LM             LM   \n",
       "\n",
       "                                                 san  \\\n",
       "0  [e4, e6, d4, b6, a3, Bb7, Nc3, Nh6, Bxh6, gxh6...   \n",
       "1  [d4, d5, Nf3, Nf6, e3, Bf5, Nh4, Bg6, Nxg6, hx...   \n",
       "\n",
       "                                            sd_white  \\\n",
       "0            [28.708603722120852, 37.04284754927736]   \n",
       "1  [46.49596859748773, 38.75231615526675, 19.0918...   \n",
       "\n",
       "                                 sd_black   score_white      score_black  \\\n",
       "0  [56.44575414848348, 39.24433474773549]  [77, 54, 90]      [-72, -170]   \n",
       "1    [37.02046744780591, 21.913376695108]   [7, 44, 11]  [-76, -62, -53]   \n",
       "\n",
       "  max_white_sd max_black_sd  \n",
       "0    37.042848    56.445754  \n",
       "1    46.495969    37.020467  \n",
       "\n",
       "[2 rows x 25 columns]"
      ]
     },
     "execution_count": 14,
     "metadata": {},
     "output_type": "execute_result"
    }
   ],
   "source": [
    "df_test.head(2)"
   ]
  },
  {
   "cell_type": "code",
   "execution_count": 15,
   "metadata": {},
   "outputs": [
    {
     "data": {
      "text/plain": [
       "Index(['[Event ', '  [Site ', '  [White ', '  [Black ', '  [Result ',\n",
       "       '  [UTCDate ', '  [UTCTime ', '  [WhiteElo ', '  [BlackElo ',\n",
       "       '  [WhiteRatingDiff ', '  [BlackRatingDiff ', '  [ECO ', '  [Opening ',\n",
       "       '  [TimeControl ', '  [Termination ', 'mainline', '  [BlackTitle ',\n",
       "       '  [WhiteTitle ', 'san', 'sd_white', 'sd_black', 'score_white',\n",
       "       'score_black', 'max_white_sd', 'max_black_sd'],\n",
       "      dtype='object')"
      ]
     },
     "execution_count": 15,
     "metadata": {},
     "output_type": "execute_result"
    }
   ],
   "source": [
    "df_test.columns"
   ]
  },
  {
   "cell_type": "code",
   "execution_count": 16,
   "metadata": {},
   "outputs": [],
   "source": [
    "df_test['  [WhiteElo '] = df_test['  [WhiteElo '].apply(pd.to_numeric)\n",
    "df_test['  [BlackElo '] = df_test['  [BlackElo '].apply(pd.to_numeric, errors= 'coerce')\n",
    "df_test['elo_diff'] = df_test['  [WhiteElo '] - df_test['  [BlackElo ']"
   ]
  },
  {
   "cell_type": "code",
   "execution_count": 20,
   "metadata": {},
   "outputs": [
    {
     "name": "stdout",
     "output_type": "stream",
     "text": [
      "CORR: 0.01466321889171192\n"
     ]
    },
    {
     "data": {
      "image/png": "[encoded data removed]",
      "text/plain": [
       "<Figure size 432x288 with 1 Axes>"
      ]
     },
     "metadata": {
      "needs_background": "light"
     },
     "output_type": "display_data"
    }
   ],
   "source": [
    "%matplotlib inline\n",
    "import seaborn as sns\n",
    "print(\"CORR:\",df_test['elo_diff'].corr(df_test['max_white_sd']))\n",
    "ax = sns.regplot('elo_diff' , 'max_white_sd', data = df_test)\n",
    "#plt.ylim(0,400)"
   ]
  },
  {
   "cell_type": "code",
   "execution_count": 26,
   "metadata": {},
   "outputs": [
    {
     "name": "stdout",
     "output_type": "stream",
     "text": [
      "CORR: nan\n"
     ]
    },
    {
     "data": {
      "image/png": "[encoded data removed]",
      "text/plain": [
       "<Figure size 432x288 with 1 Axes>"
      ]
     },
     "metadata": {
      "needs_background": "light"
     },
     "output_type": "display_data"
    }
   ],
   "source": [
    "df_test2 = df_test[df_test['max_white_sd'] <500]\n",
    "df_test2['log_sd'] = df_test2.max_white_sd.apply(lambda x: np.log(x))\n",
    "print(\"CORR:\",df_test2['elo_diff'].corr(df_test2['log_sd']))\n",
    "ax = sns.regplot('elo_diff' , 'log_sd', data = df_test2)"
   ]
  },
  {
   "cell_type": "code",
   "execution_count": null,
   "metadata": {},
   "outputs": [],
   "source": []
  }
 ],
 "metadata": {
  "kernelspec": {
   "display_name": "Python 3",
   "language": "python",
   "name": "python3"
  },
  "language_info": {
   "codemirror_mode": {
    "name": "ipython",
    "version": 3
   },
   "file_extension": ".py",
   "mimetype": "text/x-python",
   "name": "python",
   "nbconvert_exporter": "python",
   "pygments_lexer": "ipython3",
   "version": "3.7.6"
  }
 },
 "nbformat": 4,
 "nbformat_minor": 4
}
