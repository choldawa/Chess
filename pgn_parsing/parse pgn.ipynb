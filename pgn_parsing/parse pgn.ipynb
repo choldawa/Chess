{
 "cells": [
  {
   "cell_type": "code",
   "execution_count": 2,
   "metadata": {},
   "outputs": [],
   "source": [
    "txt = '[Event \"Rated Classical game\"  [Site \"https://lichess.org/7rzcutsf\"  [White \"manos68\"  [Black \"jtkjtkful\"  [Result \"1-0\"  [UTCDate \"2012.12.31\"  [UTCTime \"23:03:50\"  [WhiteElo \"1445\"  [BlackElo \"1169\"  [WhiteRatingDiff \"+4\"  [BlackRatingDiff \"-15\"  [ECO \"A43\"  [Opening \"Old Benoni Defense\"  [TimeControl \"900+0\"  [Termination \"Normal\"   [mainline 1. d4 c5 2. c4 d6 3. Bf4 g6 4. Nf3 Bh6 5. Bxh6 Nxh6 6. Nc3 Nf5 7. d5 O-O 8. e4 Nd4 9. Bd3 Bd7 10. O-O a6 11. Ng5 h5 12. Re1 e6 13. dxe6 Nxe6 14. Nxe6 Bxe6 15. Nd5 h4 16. h3 Bxh3 17. gxh3 Qg5+ 18. Kf1 Nd7 19. Qa4 Nf6 20. Ne7+ Kh8 21. f3 Qg3 22. Ke2 Qxh3 23. Rh1 Qg2+ 24. Ke3 h3 25. Qd1 Rae8 26. Bf1 Ng4+ 27. Kd3 Ne5+ 28. Kc3 Qg3 29. Rxh3+ Qxh3 30. Bxh3 Rxe7 31. Qxd6 Nc6 32. Rh1 Rd8 33. Qxc5 a5 34. Bd7+ Kg7 35. Bxc6 Rc7 36. Qe5+ f6 37. Qxc7+ 1-0'"
   ]
  },
  {
   "cell_type": "code",
   "execution_count": 8,
   "metadata": {},
   "outputs": [],
   "source": [
    "l = txt.split('[mainline')"
   ]
  },
  {
   "cell_type": "code",
   "execution_count": 11,
   "metadata": {},
   "outputs": [
    {
     "name": "stdout",
     "output_type": "stream",
     "text": [
      "[Event \"Rated Classical game\"  [Site \"https://lichess.org/7rzcutsf\"  [White \"manos68\"  [Black \"jtkjtkful\"  [Result \"1-0\"  [UTCDate \"2012.12.31\"  [UTCTime \"23:03:50\"  [WhiteElo \"1445\"  [BlackElo \"1169\"  [WhiteRatingDiff \"+4\"  [BlackRatingDiff \"-15\"  [ECO \"A43\"  [Opening \"Old Benoni Defense\"  [TimeControl \"900+0\"  [Termination \"Normal\"   \n",
      " 1. d4 c5 2. c4 d6 3. Bf4 g6 4. Nf3 Bh6 5. Bxh6 Nxh6 6. Nc3 Nf5 7. d5 O-O 8. e4 Nd4 9. Bd3 Bd7 10. O-O a6 11. Ng5 h5 12. Re1 e6 13. dxe6 Nxe6 14. Nxe6 Bxe6 15. Nd5 h4 16. h3 Bxh3 17. gxh3 Qg5+ 18. Kf1 Nd7 19. Qa4 Nf6 20. Ne7+ Kh8 21. f3 Qg3 22. Ke2 Qxh3 23. Rh1 Qg2+ 24. Ke3 h3 25. Qd1 Rae8 26. Bf1 Ng4+ 27. Kd3 Ne5+ 28. Kc3 Qg3 29. Rxh3+ Qxh3 30. Bxh3 Rxe7 31. Qxd6 Nc6 32. Rh1 Rd8 33. Qxc5 a5 34. Bd7+ Kg7 35. Bxc6 Rc7 36. Qe5+ f6 37. Qxc7+ 1-0\n"
     ]
    }
   ],
   "source": [
    "print(l[0])\n",
    "print(l[1])"
   ]
  },
  {
   "cell_type": "code",
   "execution_count": 18,
   "metadata": {},
   "outputs": [],
   "source": [
    "info = l[0].split('\"')\n",
    "mainline = l[1]"
   ]
  },
  {
   "cell_type": "code",
   "execution_count": 22,
   "metadata": {},
   "outputs": [
    {
     "name": "stdout",
     "output_type": "stream",
     "text": [
      "[('[Event ', 'Rated Classical game'), ('  [Site ', 'https://lichess.org/7rzcutsf'), ('  [White ', 'manos68'), ('  [Black ', 'jtkjtkful'), ('  [Result ', '1-0'), ('  [UTCDate ', '2012.12.31'), ('  [UTCTime ', '23:03:50'), ('  [WhiteElo ', '1445'), ('  [BlackElo ', '1169'), ('  [WhiteRatingDiff ', '+4'), ('  [BlackRatingDiff ', '-15'), ('  [ECO ', 'A43'), ('  [Opening ', 'Old Benoni Defense'), ('  [TimeControl ', '900+0'), ('  [Termination ', 'Normal')]\n"
     ]
    }
   ],
   "source": [
    "print(list(zip(info[::2],info[1::2])))"
   ]
  },
  {
   "cell_type": "code",
   "execution_count": 14,
   "metadata": {},
   "outputs": [],
   "source": [
    "headers = info[::2]\n",
    "content = info[1::2]\n",
    " "
   ]
  },
  {
   "cell_type": "code",
   "execution_count": 16,
   "metadata": {},
   "outputs": [
    {
     "data": {
      "text/plain": [
       "'[vn RtdCasclgm\" St hts/lcesog7zus\" Wie\"ao6\" Bak\"tjku\" Rsl 10 [TDt 21.23\" UCie\"30:0 [htEo\"45 [lcEo\"19 [htRtnDf +\" Bakaigif\"1\" EO\"4\" Oeig\"l eoiDfne [ieoto 900 [emnto Nra\" '"
      ]
     },
     "execution_count": 16,
     "metadata": {},
     "output_type": "execute_result"
    }
   ],
   "source": [
    "headers"
   ]
  },
  {
   "cell_type": "code",
   "execution_count": null,
   "metadata": {},
   "outputs": [],
   "source": []
  }
 ],
 "metadata": {
  "kernelspec": {
   "display_name": "Python 3",
   "language": "python",
   "name": "python3"
  },
  "language_info": {
   "codemirror_mode": {
    "name": "ipython",
    "version": 3
   },
   "file_extension": ".py",
   "mimetype": "text/x-python",
   "name": "python",
   "nbconvert_exporter": "python",
   "pygments_lexer": "ipython3",
   "version": "3.7.6"
  }
 },
 "nbformat": 4,
 "nbformat_minor": 4
}
