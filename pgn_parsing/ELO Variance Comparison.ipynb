{
 "cells": [
  {
   "cell_type": "markdown",
   "metadata": {},
   "source": [
    "# Get score and variance for each move in game\n",
    "Parse pgn (once converted to single lines) to get list of stockfish score and variance after each move, then split into black and white"
   ]
  },
  {
   "cell_type": "markdown",
   "metadata": {},
   "source": [
    "## Read in packages, graph, and functions"
   ]
  },
  {
   "cell_type": "code",
   "execution_count": 1,
   "metadata": {},
   "outputs": [],
   "source": [
    "from collections import defaultdict\n",
    "import sys\n",
    "import networkx as nx\n",
    "import matplotlib.pyplot as plt\n",
    "import pandas as pd\n",
    "import numpy as np\n",
    "import re\n",
    "import chess\n",
    "import subprocess\n",
    "import timeit\n",
    "import pickle\n",
    "import stockfish\n",
    "from stockfish import Stockfish\n",
    "import chess\n",
    "import chess.engine\n",
    "import warnings\n",
    "warnings.filterwarnings('ignore')\n",
    "\n",
    "engine = chess.engine.SimpleEngine.popen_uci(\"../stockfish-10-64\")\n",
    "stockfish = Stockfish(\"../stockfish-10-64\")"
   ]
  },
  {
   "cell_type": "code",
   "execution_count": 2,
   "metadata": {},
   "outputs": [],
   "source": [
    "g = nx.read_gpickle('../Directed_Graphs/690k_30.gpickle')"
   ]
  },
  {
   "cell_type": "code",
   "execution_count": 3,
   "metadata": {},
   "outputs": [],
   "source": [
    "def varWeighted(scores, counts):\n",
    "    if (len(counts)<2):\n",
    "        return None\n",
    "    else:\n",
    "        weightedMean = sum([a*b for a,b in zip(scores,counts)])/sum(counts)\n",
    "        scoreDiffs = [(score - weightedMean)**2 for score in scores]\n",
    "        V1 = sum(counts)\n",
    "        V2 = sum([count**2 for count in counts])\n",
    "        var = (V1/(V1**2-V2)) * sum([a*b for a,b in zip(counts,scoreDiffs)])\n",
    "        return var\n",
    "    \n",
    "def get_score(san):\n",
    "    board = chess.Board()\n",
    "    for move in san:\n",
    "        try:\n",
    "            board.push_san(move)\n",
    "        except:\n",
    "            break\n",
    "    currFen = board.fen()\n",
    "    score = engine.analyse(board, chess.engine.Limit(time=.05), info=chess.engine.INFO_SCORE)\n",
    "    if('#' in str(score['score'])):\n",
    "        if('-' in str(score['score'])):\n",
    "            return -39765\n",
    "        else:\n",
    "            return 39765\n",
    "    else:\n",
    "        score = int(str(score[\"score\"]))\n",
    "    return score\n",
    "\n",
    "def san_to_fen(san):\n",
    "    board = chess.Board()\n",
    "    for move in san:\n",
    "        try:\n",
    "            board.push_san(move)\n",
    "        except:\n",
    "            break\n",
    "    currFen = board.fen()\n",
    "    return currFen\n",
    "\n",
    "def get_node_sd(node):\n",
    "    scores = []\n",
    "    counts = []\n",
    "    try:\n",
    "        for neighbor in list(g.neighbors(node)):\n",
    "            scores.append(nx.get_node_attributes(g, 'score')[neighbor])\n",
    "            counts.append(nx.get_node_attributes(g, 'movelistCount')[neighbor][node])\n",
    "        return node, np.sqrt(varWeighted(scores,counts))\n",
    "    except:\n",
    "        return node, None"
   ]
  },
  {
   "cell_type": "markdown",
   "metadata": {},
   "source": [
    "## Function to get score and Variance \n",
    "for each move in san, then split by black and white"
   ]
  },
  {
   "cell_type": "code",
   "execution_count": null,
   "metadata": {},
   "outputs": [],
   "source": [
    "def get_sd_score_from_san(san):\n",
    "    board = chess.Board()\n",
    "    sd_list = []\n",
    "    score_list = []\n",
    "    for move in san:\n",
    "        try:\n",
    "            board.push_san(move)\n",
    "            currFen = board.fen()\n",
    "            board = chess.Board(currFen)\n",
    "            sf = engine.analyse(board, chess.engine.Limit(time=0.05))\n",
    "            \n",
    "            if('#' in str(sf['score'])):\n",
    "                if('-' in str(sf['score'])):\n",
    "                    sf =  -39765\n",
    "                else:\n",
    "                    sf =  39765\n",
    "            else:\n",
    "                sf = int(str(sf[\"score\"]))*-1\n",
    "            score_list.append(sf)\n",
    "            scores = []\n",
    "            counts = []\n",
    "            for neighbor in list(g.neighbors(currFen)):\n",
    "                scores.append(nx.get_node_attributes(g, 'score')[neighbor])\n",
    "                counts.append(nx.get_node_attributes(g, 'count')[neighbor])\n",
    "\n",
    "            sd_list.append(np.sqrt(varWeighted(scores, counts)))\n",
    "        except:\n",
    "            break\n",
    "    return pd.Series([sd_list[::2],sd_list[1::2], score_list[::2],score_list[1::2]]) \n",
    "        ##white, black sd, white, black score\n",
    "#     return(sd_list, score_list)"
   ]
  },
  {
   "cell_type": "markdown",
   "metadata": {},
   "source": [
    "### Read in pickled df"
   ]
  },
  {
   "cell_type": "code",
   "execution_count": 5,
   "metadata": {},
   "outputs": [],
   "source": [
    "df_test = pd.read_pickle(\"./DF_sd_sf_2000.pkl\")"
   ]
  },
  {
   "cell_type": "markdown",
   "metadata": {},
   "source": [
    "#### Calculate max SD and ELO difference"
   ]
  },
  {
   "cell_type": "code",
   "execution_count": 7,
   "metadata": {},
   "outputs": [
    {
     "data": {
      "text/html": [
       "<div>\n",
       "<style scoped>\n",
       "    .dataframe tbody tr th:only-of-type {\n",
       "        vertical-align: middle;\n",
       "    }\n",
       "\n",
       "    .dataframe tbody tr th {\n",
       "        vertical-align: top;\n",
       "    }\n",
       "\n",
       "    .dataframe thead th {\n",
       "        text-align: right;\n",
       "    }\n",
       "</style>\n",
       "<table border=\"1\" class=\"dataframe\">\n",
       "  <thead>\n",
       "    <tr style=\"text-align: right;\">\n",
       "      <th></th>\n",
       "      <th>Event</th>\n",
       "      <th>Site</th>\n",
       "      <th>White</th>\n",
       "      <th>Black</th>\n",
       "      <th>Result</th>\n",
       "      <th>UTCDate</th>\n",
       "      <th>UTCTime</th>\n",
       "      <th>WhiteElo</th>\n",
       "      <th>BlackElo</th>\n",
       "      <th>WhiteRatingDiff</th>\n",
       "      <th>...</th>\n",
       "      <th>san</th>\n",
       "      <th>sd_white</th>\n",
       "      <th>sd_black</th>\n",
       "      <th>score_white</th>\n",
       "      <th>score_black</th>\n",
       "      <th>max_white_sd</th>\n",
       "      <th>max_black_sd</th>\n",
       "      <th>elo_diff</th>\n",
       "      <th>mean_white_sd</th>\n",
       "      <th>mean_black_sd</th>\n",
       "    </tr>\n",
       "  </thead>\n",
       "  <tbody>\n",
       "    <tr>\n",
       "      <th>0</th>\n",
       "      <td>Rated Classical game</td>\n",
       "      <td>https://lichess.org/j1dkb5dw</td>\n",
       "      <td>BFG9k</td>\n",
       "      <td>mamalak</td>\n",
       "      <td>1-0</td>\n",
       "      <td>2012.12.31</td>\n",
       "      <td>23:01:03</td>\n",
       "      <td>1639</td>\n",
       "      <td>1403.0</td>\n",
       "      <td>+5</td>\n",
       "      <td>...</td>\n",
       "      <td>[e4, e6, d4, b6, a3, Bb7, Nc3, Nh6, Bxh6, gxh6...</td>\n",
       "      <td>[36.54898214746768, 51.68424175964618]</td>\n",
       "      <td>[69.49150941681832, 57.91136991521607]</td>\n",
       "      <td>[13, 14, 55]</td>\n",
       "      <td>[-62, -139]</td>\n",
       "      <td>51.684242</td>\n",
       "      <td>69.491509</td>\n",
       "      <td>236.0</td>\n",
       "      <td>44.116612</td>\n",
       "      <td>63.701440</td>\n",
       "    </tr>\n",
       "    <tr>\n",
       "      <th>1</th>\n",
       "      <td>Rated Classical game</td>\n",
       "      <td>https://lichess.org/a9tcp02g</td>\n",
       "      <td>Desmond_Wilson</td>\n",
       "      <td>savinka59</td>\n",
       "      <td>1-0</td>\n",
       "      <td>2012.12.31</td>\n",
       "      <td>23:04:12</td>\n",
       "      <td>1654</td>\n",
       "      <td>1919.0</td>\n",
       "      <td>+19</td>\n",
       "      <td>...</td>\n",
       "      <td>[d4, d5, Nf3, Nf6, e3, Bf5, Nh4, Bg6, Nxg6, hx...</td>\n",
       "      <td>[42.700943259251886, 40.713433829788556, 25.43...</td>\n",
       "      <td>[39.71234421228449, 25.62968487845111, 30.1709...</td>\n",
       "      <td>[1, 17, 1, -26]</td>\n",
       "      <td>[-58, -62, -58]</td>\n",
       "      <td>42.700943</td>\n",
       "      <td>39.712344</td>\n",
       "      <td>-265.0</td>\n",
       "      <td>36.284541</td>\n",
       "      <td>31.837663</td>\n",
       "    </tr>\n",
       "  </tbody>\n",
       "</table>\n",
       "<p>2 rows × 28 columns</p>\n",
       "</div>"
      ],
      "text/plain": [
       "                  Event                          Site           White  \\\n",
       "0  Rated Classical game  https://lichess.org/j1dkb5dw           BFG9k   \n",
       "1  Rated Classical game  https://lichess.org/a9tcp02g  Desmond_Wilson   \n",
       "\n",
       "       Black Result     UTCDate   UTCTime  WhiteElo  BlackElo WhiteRatingDiff  \\\n",
       "0    mamalak    1-0  2012.12.31  23:01:03      1639    1403.0              +5   \n",
       "1  savinka59    1-0  2012.12.31  23:04:12      1654    1919.0             +19   \n",
       "\n",
       "   ...                                                san  \\\n",
       "0  ...  [e4, e6, d4, b6, a3, Bb7, Nc3, Nh6, Bxh6, gxh6...   \n",
       "1  ...  [d4, d5, Nf3, Nf6, e3, Bf5, Nh4, Bg6, Nxg6, hx...   \n",
       "\n",
       "                                            sd_white  \\\n",
       "0             [36.54898214746768, 51.68424175964618]   \n",
       "1  [42.700943259251886, 40.713433829788556, 25.43...   \n",
       "\n",
       "                                            sd_black      score_white  \\\n",
       "0             [69.49150941681832, 57.91136991521607]     [13, 14, 55]   \n",
       "1  [39.71234421228449, 25.62968487845111, 30.1709...  [1, 17, 1, -26]   \n",
       "\n",
       "       score_black max_white_sd max_black_sd elo_diff mean_white_sd  \\\n",
       "0      [-62, -139]    51.684242    69.491509    236.0     44.116612   \n",
       "1  [-58, -62, -58]    42.700943    39.712344   -265.0     36.284541   \n",
       "\n",
       "  mean_black_sd  \n",
       "0     63.701440  \n",
       "1     31.837663  \n",
       "\n",
       "[2 rows x 28 columns]"
      ]
     },
     "execution_count": 7,
     "metadata": {},
     "output_type": "execute_result"
    }
   ],
   "source": [
    "df_test['max_white_sd'] = df_test.sd_white.apply(lambda x: 0 if len(x) == 0 else max(x))\n",
    "df_test['max_black_sd'] = df_test.sd_black.apply(lambda x: 0 if len(x) == 0 else max(x))\n",
    "df_test['mean_white_sd'] = df_test.sd_white.apply(lambda x: 0 if len(x) == 0 else np.mean(x))\n",
    "df_test['mean_black_sd'] = df_test.sd_black.apply(lambda x: 0 if len(x) == 0 else np.mean(x))\n",
    "df_test.head(2)"
   ]
  },
  {
   "cell_type": "code",
   "execution_count": 8,
   "metadata": {},
   "outputs": [],
   "source": [
    "df_test['WhiteElo'] = df_test['WhiteElo'].apply(pd.to_numeric)\n",
    "df_test['BlackElo'] = df_test['BlackElo'].apply(pd.to_numeric, errors= 'coerce')\n",
    "df_test['elo_diff'] = df_test['WhiteElo'] - df_test['BlackElo']"
   ]
  },
  {
   "cell_type": "markdown",
   "metadata": {},
   "source": [
    "### Plot relationships between ELO difference and mean/max SD"
   ]
  },
  {
   "cell_type": "code",
   "execution_count": 9,
   "metadata": {},
   "outputs": [
    {
     "name": "stdout",
     "output_type": "stream",
     "text": [
      "CORR: -0.001037675751053465\n"
     ]
    },
    {
     "data": {
      "image/png": "[encoded data removed]",
      "text/plain": [
       "<Figure size 432x288 with 1 Axes>"
      ]
     },
     "metadata": {
      "needs_background": "light"
     },
     "output_type": "display_data"
    }
   ],
   "source": [
    "%matplotlib inline\n",
    "import seaborn as sns\n",
    "print(\"CORR:\",df_test['elo_diff'].corr(df_test['max_white_sd']))\n",
    "ax = sns.regplot('elo_diff' , 'max_white_sd', data = df_test)\n",
    "#plt.ylim(0,400)"
   ]
  },
  {
   "cell_type": "code",
   "execution_count": 11,
   "metadata": {},
   "outputs": [
    {
     "name": "stdout",
     "output_type": "stream",
     "text": [
      "CORR: 0.08747288519039176\n"
     ]
    },
    {
     "data": {
      "image/png": "[encoded data removed]",
      "text/plain": [
       "<Figure size 432x288 with 1 Axes>"
      ]
     },
     "metadata": {
      "needs_background": "light"
     },
     "output_type": "display_data"
    }
   ],
   "source": [
    "df_test2 = df_test[df_test['max_white_sd'] <500]\n",
    "df_test2['log_sd'] = df_test2.max_white_sd.apply(lambda x: np.log(x))\n",
    "print(\"CORR:\",df_test2['elo_diff'].corr(df_test2['log_sd']))\n",
    "ax = sns.regplot('elo_diff' , 'log_sd', data = df_test2)"
   ]
  },
  {
   "cell_type": "code",
   "execution_count": 10,
   "metadata": {},
   "outputs": [
    {
     "name": "stdout",
     "output_type": "stream",
     "text": [
      "CORR: -0.002479336665048891\n"
     ]
    },
    {
     "data": {
      "image/png": "[encoded data removed]",
      "text/plain": [
       "<Figure size 432x288 with 1 Axes>"
      ]
     },
     "metadata": {
      "needs_background": "light"
     },
     "output_type": "display_data"
    }
   ],
   "source": [
    "%matplotlib inline\n",
    "import seaborn as sns\n",
    "print(\"CORR:\",df_test['elo_diff'].corr(df_test['mean_white_sd']))\n",
    "ax = sns.regplot('elo_diff' , 'mean_white_sd', data = df_test)\n",
    "#plt.ylim(0,400)"
   ]
  },
  {
   "cell_type": "code",
   "execution_count": 12,
   "metadata": {},
   "outputs": [
    {
     "name": "stdout",
     "output_type": "stream",
     "text": [
      "CORR: 0.05925209604447583\n"
     ]
    },
    {
     "data": {
      "image/png": "[encoded data removed]",
      "text/plain": [
       "<Figure size 432x288 with 1 Axes>"
      ]
     },
     "metadata": {
      "needs_background": "light"
     },
     "output_type": "display_data"
    }
   ],
   "source": [
    "df_test2 = df_test[df_test['mean_white_sd'] <500]\n",
    "df_test2['log_sd'] = df_test2.mean_white_sd.apply(lambda x: np.log(x))\n",
    "print(\"CORR:\",df_test2['elo_diff'].corr(df_test2['log_sd']))\n",
    "ax = sns.regplot('elo_diff' , 'log_sd', data = df_test2)"
   ]
  },
  {
   "cell_type": "markdown",
   "metadata": {},
   "source": [
    "### How does stockfish eval correlate with riskiness?"
   ]
  },
  {
   "cell_type": "code",
   "execution_count": 13,
   "metadata": {},
   "outputs": [],
   "source": [
    "#remove any lists without risk evals\n",
    "df_short = df_test[df_test['sd_white'].apply(lambda x: len(x)>1)]"
   ]
  },
  {
   "cell_type": "code",
   "execution_count": 14,
   "metadata": {},
   "outputs": [],
   "source": [
    "#trim sf lists until they match length of sd\n",
    "def match_length(l1,l2):\n",
    "    if(len(l2)>len(l1)):\n",
    "        while len(l2)>len(l1):\n",
    "            l2.pop()\n",
    "    return(l2)\n",
    "    \n",
    "df_short['white_short'] = df_short.apply(lambda x: match_length(x['sd_white'], x['score_white']), axis =1)"
   ]
  },
  {
   "cell_type": "code",
   "execution_count": 15,
   "metadata": {},
   "outputs": [
    {
     "name": "stdout",
     "output_type": "stream",
     "text": [
      "6319\n",
      "6319\n"
     ]
    }
   ],
   "source": [
    "score = []\n",
    "for s in df_short['white_short']:\n",
    "    for i in s:\n",
    "        score.append(i)\n",
    "        \n",
    "print(len(score))\n",
    "\n",
    "sd = []\n",
    "for s in df_short['sd_white']:\n",
    "    for i in s:\n",
    "        sd.append(i)\n",
    "        \n",
    "print(len(sd))"
   ]
  },
  {
   "cell_type": "code",
   "execution_count": 16,
   "metadata": {},
   "outputs": [
    {
     "name": "stdout",
     "output_type": "stream",
     "text": [
      "-0.10738623350946588\n"
     ]
    },
    {
     "data": {
      "text/plain": [
       "<matplotlib.collections.PathCollection at 0x1a29db2e10>"
      ]
     },
     "execution_count": 16,
     "metadata": {},
     "output_type": "execute_result"
    },
    {
     "data": {
      "image/png": "[encoded data removed]",
      "text/plain": [
       "<Figure size 432x288 with 1 Axes>"
      ]
     },
     "metadata": {
      "needs_background": "light"
     },
     "output_type": "display_data"
    }
   ],
   "source": [
    "from scipy.stats.stats import pearsonr\n",
    "print(pearsonr(score,sd)[0])\n",
    "plt.scatter(score,np.log(sd))"
   ]
  },
  {
   "cell_type": "markdown",
   "metadata": {},
   "source": [
    "### How does opponent's previous move quality affect riskiness?\n",
    "Get list of black riskiness as long as white sd\n",
    "plot black riskiness off white score"
   ]
  },
  {
   "cell_type": "code",
   "execution_count": 17,
   "metadata": {},
   "outputs": [],
   "source": [
    "df_short['white_prev'] = df_short.apply(lambda x: match_length(x['sd_black'], x['score_white']), axis =1)"
   ]
  },
  {
   "cell_type": "code",
   "execution_count": 18,
   "metadata": {},
   "outputs": [
    {
     "name": "stdout",
     "output_type": "stream",
     "text": [
      "5318\n",
      "5318\n"
     ]
    }
   ],
   "source": [
    "score = []\n",
    "for s in df_short['white_prev']:\n",
    "    for i in s:\n",
    "        score.append(i)\n",
    "        \n",
    "print(len(score))\n",
    "\n",
    "sd = []\n",
    "for s in df_short['sd_black']:\n",
    "    for i in s:\n",
    "        sd.append(i)\n",
    "        \n",
    "print(len(sd))\n"
   ]
  },
  {
   "cell_type": "code",
   "execution_count": null,
   "metadata": {},
   "outputs": [],
   "source": [
    "print(pearsonr(score,sd)[0])\n",
    "plt.scatter(score,np.log(sd))"
   ]
  }
 ],
 "metadata": {
  "kernelspec": {
   "display_name": "Python 3",
   "language": "python",
   "name": "python3"
  },
  "language_info": {
   "codemirror_mode": {
    "name": "ipython",
    "version": 3
   },
   "file_extension": ".py",
   "mimetype": "text/x-python",
   "name": "python",
   "nbconvert_exporter": "python",
   "pygments_lexer": "ipython3",
   "version": "3.7.6"
  }
 },
 "nbformat": 4,
 "nbformat_minor": 4
}
