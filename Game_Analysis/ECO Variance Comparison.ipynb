{
 "cells": [
  {
   "cell_type": "markdown",
   "metadata": {},
   "source": [
    "# ECO variance comparison\n",
    "To see how our variance measure compares with traiditon win% risk measures"
   ]
  },
  {
   "cell_type": "code",
   "execution_count": 1,
   "metadata": {},
   "outputs": [],
   "source": [
    "import sys\n",
    "import networkx as nx\n",
    "import matplotlib as plt\n",
    "import numpy as np\n",
    "import re\n",
    "import chess\n",
    "import subprocess\n",
    "import timeit\n",
    "import pickle\n",
    "import stockfish\n",
    "from stockfish import Stockfish\n",
    "import chess\n",
    "import chess.engine\n",
    "import pandas as pd\n",
    "import warnings\n",
    "warnings.filterwarnings('ignore')\n",
    "\n",
    "engine = chess.engine.SimpleEngine.popen_uci(\"../stockfish-10-64\")\n",
    "stockfish = Stockfish(\"../stockfish-10-64\")"
   ]
  },
  {
   "cell_type": "markdown",
   "metadata": {},
   "source": [
    "## Load functions"
   ]
  },
  {
   "cell_type": "code",
   "execution_count": 2,
   "metadata": {},
   "outputs": [],
   "source": [
    "def varWeighted(scores, counts):\n",
    "    if (len(counts)<2):\n",
    "        return None\n",
    "    else:\n",
    "        weightedMean = sum([a*b for a,b in zip(scores,counts)])/sum(counts)\n",
    "        scoreDiffs = [(score - weightedMean)**2 for score in scores]\n",
    "        V1 = sum(counts)\n",
    "        V2 = sum([count**2 for count in counts])\n",
    "        var = (V1/(V1**2-V2)) * sum([a*b for a,b in zip(counts,scoreDiffs)])\n",
    "        return var\n",
    "    \n",
    "def get_score(san):\n",
    "    board = chess.Board()\n",
    "    for move in san:\n",
    "        board.push_san(move)\n",
    "    currFen = board.fen()\n",
    "    score = engine.analyse(board, chess.engine.Limit(time=.05), info=chess.engine.INFO_SCORE)\n",
    "    if('#' in str(score['score'])):\n",
    "        if('-' in str(score['score'])):\n",
    "            return -39765\n",
    "        else:\n",
    "            return 39765\n",
    "    else:\n",
    "        score = int(str(score[\"score\"]))\n",
    "    return score\n",
    "\n",
    "def san_to_fen(san):\n",
    "    board = chess.Board()\n",
    "    for move in san:\n",
    "        try:\n",
    "            board.push_san(move)\n",
    "            currFen = board.fen()\n",
    "        except:\n",
    "            currFen = None\n",
    "    return currFen\n",
    "\n",
    "def get_node_sd(node):\n",
    "    scores = []\n",
    "    counts = []\n",
    "    try:\n",
    "        for neighbor in list(g.neighbors(node)):\n",
    "            scores.append(nx.get_node_attributes(g, 'score')[neighbor])\n",
    "            counts.append(nx.get_node_attributes(g, 'movelistCount')[neighbor][node])\n",
    "        return node, np.sqrt(varWeighted(scores,counts))\n",
    "    except:\n",
    "        return node, None"
   ]
  },
  {
   "cell_type": "markdown",
   "metadata": {},
   "source": [
    "## Load games graph"
   ]
  },
  {
   "cell_type": "code",
   "execution_count": 3,
   "metadata": {},
   "outputs": [
    {
     "data": {
      "text/plain": [
       "64747"
      ]
     },
     "execution_count": 3,
     "metadata": {},
     "output_type": "execute_result"
    }
   ],
   "source": [
    "g = nx.read_gpickle('../graph-pickle/690k_30.gpickle')\n",
    "len(g.nodes())"
   ]
  },
  {
   "cell_type": "code",
   "execution_count": 4,
   "metadata": {},
   "outputs": [],
   "source": [
    "# Get all ECO openings from .tsv files, not using this since the win % file has more info\n",
    "\n",
    "# import pandas as pd\n",
    "# import glob\n",
    "\n",
    "# path = r'../eco_files/' # use your path\n",
    "# all_files = glob.glob(path + \"/*.tsv\")\n",
    "\n",
    "# li = []\n",
    "\n",
    "# for filename in all_files:\n",
    "#     df = pd.read_csv(filename, index_col=None, header=0, sep = '\\t')\n",
    "#     li.append(df)\n",
    "\n",
    "# eco_df = pd.concat(li, axis=0, ignore_index=True)\n",
    "# print(eco_df.shape)\n",
    "# eco_df.head(2)"
   ]
  },
  {
   "cell_type": "markdown",
   "metadata": {},
   "source": [
    "## Read in df"
   ]
  },
  {
   "cell_type": "code",
   "execution_count": 5,
   "metadata": {},
   "outputs": [
    {
     "name": "stdout",
     "output_type": "stream",
     "text": [
      "Total NA fen: 0\n"
     ]
    },
    {
     "data": {
      "text/html": [
       "<div>\n",
       "<style scoped>\n",
       "    .dataframe tbody tr th:only-of-type {\n",
       "        vertical-align: middle;\n",
       "    }\n",
       "\n",
       "    .dataframe tbody tr th {\n",
       "        vertical-align: top;\n",
       "    }\n",
       "\n",
       "    .dataframe thead th {\n",
       "        text-align: right;\n",
       "    }\n",
       "</style>\n",
       "<table border=\"1\" class=\"dataframe\">\n",
       "  <thead>\n",
       "    <tr style=\"text-align: right;\">\n",
       "      <th></th>\n",
       "      <th>Opening</th>\n",
       "      <th>Num Games</th>\n",
       "      <th>ECO</th>\n",
       "      <th>Perf Rating</th>\n",
       "      <th>Avg Player</th>\n",
       "      <th>Player Win %</th>\n",
       "      <th>Draw %</th>\n",
       "      <th>Opponent Win %</th>\n",
       "      <th>san</th>\n",
       "      <th>fen</th>\n",
       "      <th>move_count</th>\n",
       "    </tr>\n",
       "  </thead>\n",
       "  <tbody>\n",
       "    <tr>\n",
       "      <th>0</th>\n",
       "      <td>Sicilian Defense, Closed Variation</td>\n",
       "      <td>26244</td>\n",
       "      <td>B23</td>\n",
       "      <td>2112</td>\n",
       "      <td>2087</td>\n",
       "      <td>0.37</td>\n",
       "      <td>0.24</td>\n",
       "      <td>0.39</td>\n",
       "      <td>[e4, c5, Nc3]</td>\n",
       "      <td>rnbqkbnr/pp1ppppp/8/2p5/4P3/2N5/PPPP1PPP/R1BQK...</td>\n",
       "      <td>3</td>\n",
       "    </tr>\n",
       "    <tr>\n",
       "      <th>1</th>\n",
       "      <td>King's Indian Attack, General</td>\n",
       "      <td>23034</td>\n",
       "      <td>A07</td>\n",
       "      <td>2316</td>\n",
       "      <td>2299</td>\n",
       "      <td>0.40</td>\n",
       "      <td>0.34</td>\n",
       "      <td>0.26</td>\n",
       "      <td>[Nf3, d5, g3]</td>\n",
       "      <td>rnbqkbnr/ppp1pppp/8/3p4/8/5NP1/PPPPPP1P/RNBQKB...</td>\n",
       "      <td>3</td>\n",
       "    </tr>\n",
       "  </tbody>\n",
       "</table>\n",
       "</div>"
      ],
      "text/plain": [
       "                              Opening  Num Games  ECO  Perf Rating  \\\n",
       "0  Sicilian Defense, Closed Variation      26244  B23         2112   \n",
       "1       King's Indian Attack, General      23034  A07         2316   \n",
       "\n",
       "   Avg Player  Player Win %  Draw %  Opponent Win %            san  \\\n",
       "0        2087          0.37    0.24            0.39  [e4, c5, Nc3]   \n",
       "1        2299          0.40    0.34            0.26  [Nf3, d5, g3]   \n",
       "\n",
       "                                                 fen  move_count  \n",
       "0  rnbqkbnr/pp1ppppp/8/2p5/4P3/2N5/PPPP1PPP/R1BQK...           3  \n",
       "1  rnbqkbnr/ppp1pppp/8/3p4/8/5NP1/PPPPPP1P/RNBQKB...           3  "
      ]
     },
     "execution_count": 5,
     "metadata": {},
     "output_type": "execute_result"
    }
   ],
   "source": [
    "eco_df = pd.read_csv('../eco_files/ECO_win_percent_chesstempo.csv')\n",
    "eco_df.san = eco_df.san.astype(str)\n",
    "eco_df.san = eco_df.san.apply(lambda x: \" \".join(x.split()))\n",
    "eco_df.san = eco_df.san.str.split(' ').tolist()\n",
    "eco_df['fen'] = eco_df.san.apply(lambda x: san_to_fen(x))\n",
    "eco_df['move_count'] = eco_df['san'].apply(lambda x: len(x))\n",
    "print(\"Total NA fen:\", eco_df['fen'].isna().sum())\n",
    "eco_df.head(2)"
   ]
  },
  {
   "cell_type": "code",
   "execution_count": 6,
   "metadata": {},
   "outputs": [],
   "source": [
    "eco_list = list(eco_df['fen'])\n",
    "sd_list = []\n",
    "node_fen = list(g.nodes())\n",
    "for eco in eco_list:\n",
    "    currFen = [fen for fen in node_fen if eco in fen]\n",
    "    if(len(currFen)>0):\n",
    "        currFen = str(currFen[0])\n",
    "    scores = []\n",
    "    counts = []\n",
    "    try:\n",
    "        for neighbor in list(g.neighbors(currFen)):\n",
    "            scores.append(nx.get_node_attributes(g, 'score')[neighbor])\n",
    "            counts.append(nx.get_node_attributes(g, 'movelistCount')[neighbor][currFen])\n",
    "        sd_list.append(np.sqrt(varWeighted(scores,counts)))\n",
    "#         print('{} {} ||| SD :'.format(key, game), np.sqrt(varWeighted(scores,counts)), \", total Games:\", sum(counts))\n",
    "    except:\n",
    "        sd_list.append(None)"
   ]
  },
  {
   "cell_type": "markdown",
   "metadata": {},
   "source": [
    "#### Check how many NA in df, i.e. how many fens from ECO do not show up in graph"
   ]
  },
  {
   "cell_type": "code",
   "execution_count": 7,
   "metadata": {},
   "outputs": [
    {
     "name": "stdout",
     "output_type": "stream",
     "text": [
      "Total ECO: 384\n",
      "Total NA: 171\n"
     ]
    }
   ],
   "source": [
    "eco_df['sd'] = sd_list\n",
    "print(\"Total ECO:\", len(eco_df['fen']))\n",
    "print(\"Total NA:\", eco_df['sd'].isna().sum())"
   ]
  },
  {
   "cell_type": "code",
   "execution_count": 8,
   "metadata": {},
   "outputs": [
    {
     "name": "stdout",
     "output_type": "stream",
     "text": [
      "(171, 12)\n"
     ]
    },
    {
     "data": {
      "text/html": [
       "<div>\n",
       "<style scoped>\n",
       "    .dataframe tbody tr th:only-of-type {\n",
       "        vertical-align: middle;\n",
       "    }\n",
       "\n",
       "    .dataframe tbody tr th {\n",
       "        vertical-align: top;\n",
       "    }\n",
       "\n",
       "    .dataframe thead th {\n",
       "        text-align: right;\n",
       "    }\n",
       "</style>\n",
       "<table border=\"1\" class=\"dataframe\">\n",
       "  <thead>\n",
       "    <tr style=\"text-align: right;\">\n",
       "      <th></th>\n",
       "      <th>Opening</th>\n",
       "      <th>Num Games</th>\n",
       "      <th>ECO</th>\n",
       "      <th>Perf Rating</th>\n",
       "      <th>Avg Player</th>\n",
       "      <th>Player Win %</th>\n",
       "      <th>Draw %</th>\n",
       "      <th>Opponent Win %</th>\n",
       "      <th>san</th>\n",
       "      <th>fen</th>\n",
       "      <th>move_count</th>\n",
       "      <th>sd</th>\n",
       "    </tr>\n",
       "  </thead>\n",
       "  <tbody>\n",
       "    <tr>\n",
       "      <th>16</th>\n",
       "      <td>Semi-Slav Defense, Stoltz Variation</td>\n",
       "      <td>13107</td>\n",
       "      <td>D45</td>\n",
       "      <td>2406</td>\n",
       "      <td>2376</td>\n",
       "      <td>0.39</td>\n",
       "      <td>0.39</td>\n",
       "      <td>0.22</td>\n",
       "      <td>[d4, d5, c4, e6, Nc3, Nf6, Nf3, c6, e3, Nbd7, ...</td>\n",
       "      <td>r1bqkb1r/pp1n1ppp/2p1pn2/3p4/2PP4/2N1PN2/PPQ2P...</td>\n",
       "      <td>11</td>\n",
       "      <td>NaN</td>\n",
       "    </tr>\n",
       "    <tr>\n",
       "      <th>18</th>\n",
       "      <td>Catalan Opening, Closed Variation</td>\n",
       "      <td>12921</td>\n",
       "      <td>E06</td>\n",
       "      <td>2390</td>\n",
       "      <td>2354</td>\n",
       "      <td>0.42</td>\n",
       "      <td>0.40</td>\n",
       "      <td>0.18</td>\n",
       "      <td>[d4, Nf6, c4, e6, g3, d5, Bg2, Be7, Nf3]</td>\n",
       "      <td>rnbqk2r/ppp1bppp/4pn2/3p4/2PP4/5NP1/PP2PPBP/RN...</td>\n",
       "      <td>9</td>\n",
       "      <td>NaN</td>\n",
       "    </tr>\n",
       "    <tr>\n",
       "      <th>19</th>\n",
       "      <td>Sicilian Defense, Lasker-Pelikan Variation, Sv...</td>\n",
       "      <td>12713</td>\n",
       "      <td>B33</td>\n",
       "      <td>2268</td>\n",
       "      <td>2236</td>\n",
       "      <td>0.36</td>\n",
       "      <td>0.35</td>\n",
       "      <td>0.29</td>\n",
       "      <td>[e4, c5, Nf3, Nc6, d4, cxd4, Nxd4, Nf6, Nc3, e...</td>\n",
       "      <td>r1bqkb1r/5ppp/p1np1n2/1p1Np1B1/4P3/N7/PPP2PPP/...</td>\n",
       "      <td>17</td>\n",
       "      <td>NaN</td>\n",
       "    </tr>\n",
       "    <tr>\n",
       "      <th>39</th>\n",
       "      <td>French Defense, Tarrasch Variation, Closed Var...</td>\n",
       "      <td>9325</td>\n",
       "      <td>C06</td>\n",
       "      <td>2272</td>\n",
       "      <td>2242</td>\n",
       "      <td>0.41</td>\n",
       "      <td>0.31</td>\n",
       "      <td>0.28</td>\n",
       "      <td>[e4, e6, d4, d5, Nd2, Nf6, e5, Nfd7, Bd3, c5, ...</td>\n",
       "      <td>r1bqkb1r/pp1n1ppp/2n1p3/3pP3/3P4/3B4/PP1NNPPP/...</td>\n",
       "      <td>15</td>\n",
       "      <td>NaN</td>\n",
       "    </tr>\n",
       "    <tr>\n",
       "      <th>40</th>\n",
       "      <td>Bogo-Indian Defense, Grünfeld Variation</td>\n",
       "      <td>9197</td>\n",
       "      <td>E11</td>\n",
       "      <td>2422</td>\n",
       "      <td>2382</td>\n",
       "      <td>0.43</td>\n",
       "      <td>0.35</td>\n",
       "      <td>0.22</td>\n",
       "      <td>[d4, Nf6, c4, e6, Nf3, Bb4+, Nbd2]</td>\n",
       "      <td>rnbqk2r/pppp1ppp/4pn2/8/1bPP4/5N2/PP1NPPPP/R1B...</td>\n",
       "      <td>7</td>\n",
       "      <td>NaN</td>\n",
       "    </tr>\n",
       "  </tbody>\n",
       "</table>\n",
       "</div>"
      ],
      "text/plain": [
       "                                              Opening  Num Games  ECO  \\\n",
       "16                Semi-Slav Defense, Stoltz Variation      13107  D45   \n",
       "18                  Catalan Opening, Closed Variation      12921  E06   \n",
       "19  Sicilian Defense, Lasker-Pelikan Variation, Sv...      12713  B33   \n",
       "39  French Defense, Tarrasch Variation, Closed Var...       9325  C06   \n",
       "40            Bogo-Indian Defense, Grünfeld Variation       9197  E11   \n",
       "\n",
       "    Perf Rating  Avg Player  Player Win %  Draw %  Opponent Win %  \\\n",
       "16         2406        2376          0.39    0.39            0.22   \n",
       "18         2390        2354          0.42    0.40            0.18   \n",
       "19         2268        2236          0.36    0.35            0.29   \n",
       "39         2272        2242          0.41    0.31            0.28   \n",
       "40         2422        2382          0.43    0.35            0.22   \n",
       "\n",
       "                                                  san  \\\n",
       "16  [d4, d5, c4, e6, Nc3, Nf6, Nf3, c6, e3, Nbd7, ...   \n",
       "18           [d4, Nf6, c4, e6, g3, d5, Bg2, Be7, Nf3]   \n",
       "19  [e4, c5, Nf3, Nc6, d4, cxd4, Nxd4, Nf6, Nc3, e...   \n",
       "39  [e4, e6, d4, d5, Nd2, Nf6, e5, Nfd7, Bd3, c5, ...   \n",
       "40                 [d4, Nf6, c4, e6, Nf3, Bb4+, Nbd2]   \n",
       "\n",
       "                                                  fen  move_count  sd  \n",
       "16  r1bqkb1r/pp1n1ppp/2p1pn2/3p4/2PP4/2N1PN2/PPQ2P...          11 NaN  \n",
       "18  rnbqk2r/ppp1bppp/4pn2/3p4/2PP4/5NP1/PP2PPBP/RN...           9 NaN  \n",
       "19  r1bqkb1r/5ppp/p1np1n2/1p1Np1B1/4P3/N7/PPP2PPP/...          17 NaN  \n",
       "39  r1bqkb1r/pp1n1ppp/2n1p3/3pP3/3P4/3B4/PP1NNPPP/...          15 NaN  \n",
       "40  rnbqk2r/pppp1ppp/4pn2/8/1bPP4/5N2/PP1NPPPP/R1B...           7 NaN  "
      ]
     },
     "execution_count": 8,
     "metadata": {},
     "output_type": "execute_result"
    }
   ],
   "source": [
    "is_NaN = eco_df.isnull()\n",
    "row_has_NaN = is_NaN.any(axis=1)\n",
    "rows_with_NaN = eco_df[row_has_NaN]\n",
    "\n",
    "print(rows_with_NaN.shape)\n",
    "rows_with_NaN.head()"
   ]
  },
  {
   "cell_type": "markdown",
   "metadata": {},
   "source": [
    "#### Sort by sd to get highest variance openings"
   ]
  },
  {
   "cell_type": "code",
   "execution_count": 9,
   "metadata": {},
   "outputs": [
    {
     "data": {
      "text/html": [
       "<div>\n",
       "<style scoped>\n",
       "    .dataframe tbody tr th:only-of-type {\n",
       "        vertical-align: middle;\n",
       "    }\n",
       "\n",
       "    .dataframe tbody tr th {\n",
       "        vertical-align: top;\n",
       "    }\n",
       "\n",
       "    .dataframe thead th {\n",
       "        text-align: right;\n",
       "    }\n",
       "</style>\n",
       "<table border=\"1\" class=\"dataframe\">\n",
       "  <thead>\n",
       "    <tr style=\"text-align: right;\">\n",
       "      <th></th>\n",
       "      <th>Opening</th>\n",
       "      <th>Num Games</th>\n",
       "      <th>ECO</th>\n",
       "      <th>Perf Rating</th>\n",
       "      <th>Avg Player</th>\n",
       "      <th>Player Win %</th>\n",
       "      <th>Draw %</th>\n",
       "      <th>Opponent Win %</th>\n",
       "      <th>san</th>\n",
       "      <th>fen</th>\n",
       "      <th>move_count</th>\n",
       "      <th>sd</th>\n",
       "    </tr>\n",
       "  </thead>\n",
       "  <tbody>\n",
       "    <tr>\n",
       "      <th>105</th>\n",
       "      <td>Queen Pawn Game, Levitsky Attack</td>\n",
       "      <td>4752</td>\n",
       "      <td>D00</td>\n",
       "      <td>2210</td>\n",
       "      <td>2194</td>\n",
       "      <td>0.43</td>\n",
       "      <td>0.29</td>\n",
       "      <td>0.27</td>\n",
       "      <td>[d4, d5, Bg5]</td>\n",
       "      <td>rnbqkbnr/ppp1pppp/8/3p2B1/3P4/8/PPP1PPPP/RN1QK...</td>\n",
       "      <td>3</td>\n",
       "      <td>261.573854</td>\n",
       "    </tr>\n",
       "    <tr>\n",
       "      <th>230</th>\n",
       "      <td>Russian Game, Cozio (Lasker) Attack</td>\n",
       "      <td>2365</td>\n",
       "      <td>C42</td>\n",
       "      <td>2272</td>\n",
       "      <td>2252</td>\n",
       "      <td>0.19</td>\n",
       "      <td>0.65</td>\n",
       "      <td>0.16</td>\n",
       "      <td>[e4, e5, Nf3, Nf6, Nxe5, d6, Nf3, Nxe4, Qe2]</td>\n",
       "      <td>rnbqkb1r/ppp2ppp/3p4/8/4n3/5N2/PPPPQPPP/RNB1KB...</td>\n",
       "      <td>9</td>\n",
       "      <td>241.762362</td>\n",
       "    </tr>\n",
       "  </tbody>\n",
       "</table>\n",
       "</div>"
      ],
      "text/plain": [
       "                                 Opening  Num Games  ECO  Perf Rating  \\\n",
       "105     Queen Pawn Game, Levitsky Attack       4752  D00         2210   \n",
       "230  Russian Game, Cozio (Lasker) Attack       2365  C42         2272   \n",
       "\n",
       "     Avg Player  Player Win %  Draw %  Opponent Win %  \\\n",
       "105        2194          0.43    0.29            0.27   \n",
       "230        2252          0.19    0.65            0.16   \n",
       "\n",
       "                                              san  \\\n",
       "105                                 [d4, d5, Bg5]   \n",
       "230  [e4, e5, Nf3, Nf6, Nxe5, d6, Nf3, Nxe4, Qe2]   \n",
       "\n",
       "                                                   fen  move_count          sd  \n",
       "105  rnbqkbnr/ppp1pppp/8/3p2B1/3P4/8/PPP1PPPP/RN1QK...           3  261.573854  \n",
       "230  rnbqkb1r/ppp2ppp/3p4/8/4n3/5N2/PPPPQPPP/RNB1KB...           9  241.762362  "
      ]
     },
     "execution_count": 9,
     "metadata": {},
     "output_type": "execute_result"
    }
   ],
   "source": [
    "eco_df.sort_values(by = ['sd'], ascending = False)[:2]"
   ]
  },
  {
   "cell_type": "code",
   "execution_count": 10,
   "metadata": {},
   "outputs": [
    {
     "data": {
      "text/html": [
       "<div>\n",
       "<style scoped>\n",
       "    .dataframe tbody tr th:only-of-type {\n",
       "        vertical-align: middle;\n",
       "    }\n",
       "\n",
       "    .dataframe tbody tr th {\n",
       "        vertical-align: top;\n",
       "    }\n",
       "\n",
       "    .dataframe thead th {\n",
       "        text-align: right;\n",
       "    }\n",
       "</style>\n",
       "<table border=\"1\" class=\"dataframe\">\n",
       "  <thead>\n",
       "    <tr style=\"text-align: right;\">\n",
       "      <th></th>\n",
       "      <th>Opening</th>\n",
       "      <th>Num Games</th>\n",
       "      <th>ECO</th>\n",
       "      <th>Perf Rating</th>\n",
       "      <th>Avg Player</th>\n",
       "      <th>Player Win %</th>\n",
       "      <th>Draw %</th>\n",
       "      <th>Opponent Win %</th>\n",
       "      <th>san</th>\n",
       "      <th>fen</th>\n",
       "      <th>move_count</th>\n",
       "      <th>sd</th>\n",
       "    </tr>\n",
       "  </thead>\n",
       "  <tbody>\n",
       "    <tr>\n",
       "      <th>2</th>\n",
       "      <td>Sicilian Defense, Alapin Variation, General</td>\n",
       "      <td>21841</td>\n",
       "      <td>B22</td>\n",
       "      <td>2201</td>\n",
       "      <td>2161</td>\n",
       "      <td>0.37</td>\n",
       "      <td>0.29</td>\n",
       "      <td>0.34</td>\n",
       "      <td>[e4, c5, c3]</td>\n",
       "      <td>rnbqkbnr/pp1ppppp/8/2p5/4P3/2P5/PP1P1PPP/RNBQK...</td>\n",
       "      <td>3</td>\n",
       "      <td>33.803212</td>\n",
       "    </tr>\n",
       "  </tbody>\n",
       "</table>\n",
       "</div>"
      ],
      "text/plain": [
       "                                       Opening  Num Games  ECO  Perf Rating  \\\n",
       "2  Sicilian Defense, Alapin Variation, General      21841  B22         2201   \n",
       "\n",
       "   Avg Player  Player Win %  Draw %  Opponent Win %           san  \\\n",
       "2        2161          0.37    0.29            0.34  [e4, c5, c3]   \n",
       "\n",
       "                                                 fen  move_count         sd  \n",
       "2  rnbqkbnr/pp1ppppp/8/2p5/4P3/2P5/PP1P1PPP/RNBQK...           3  33.803212  "
      ]
     },
     "execution_count": 10,
     "metadata": {},
     "output_type": "execute_result"
    }
   ],
   "source": [
    "eco_df[eco_df['san'].apply(lambda x : x == ['e4', 'c5', 'c3'])]"
   ]
  },
  {
   "cell_type": "markdown",
   "metadata": {},
   "source": [
    "#### Check sd compared to draw% for popular games"
   ]
  },
  {
   "cell_type": "code",
   "execution_count": 11,
   "metadata": {},
   "outputs": [
    {
     "name": "stdout",
     "output_type": "stream",
     "text": [
      "root ['e4', 'c5'] ||| SD : 53.17421298817888 DRAW: None\n",
      "safe ['e4', 'c5', 'c3'] ||| SD : 33.803211905697694 DRAW: 0.29\n",
      "risky ['e4', 'c5', 'd4'] ||| SD : 112.59554494204002 DRAW: None\n",
      "root2 ['e4', 'e6', 'd4', 'd5'] ||| SD : 35.29555838233849 DRAW: None\n",
      "popular2.0 ['e4', 'e6', 'd4', 'd5', 'Nc3'] ||| SD : 38.82435952658399 DRAW: 0.31\n",
      "popular2.1 ['e4', 'e6', 'd4', 'd5', 'Nd2'] ||| SD : 73.60617708334175 DRAW: 0.28\n",
      "safe2 ['e4', 'e6', 'd4', 'd5', 'exd5'] ||| SD : 59.07250112917537 DRAW: 0.39\n",
      "risky2 ['e4', 'e6', 'd4', 'd5', 'e5'] ||| SD : 78.55239442769992 DRAW: 0.22\n",
      "Ruy ['e4', 'e5', 'Nf3', 'Nc6', 'Bb5'] ||| SD : 19.630732457868167 DRAW: 0.36\n",
      "Vienna ['e4', 'e5', 'd4', 'exd4', 'c3'] ||| SD : 35.14133659917036 DRAW: None\n"
     ]
    }
   ],
   "source": [
    "gamesDict = {\"root\" : ['e4', 'c5'],\n",
    "\"safe\" : ['e4', 'c5', 'c3'],\n",
    "\"risky\" : ['e4', 'c5', 'd4'],\n",
    "\"root2\" : ['e4', 'e6', 'd4', 'd5'],\n",
    "\"popular2.0\" : ['e4', 'e6', 'd4', 'd5', 'Nc3'],\n",
    "\"popular2.1\" : ['e4', 'e6', 'd4', 'd5', 'Nd2'],\n",
    "\"safe2\" : ['e4', 'e6', 'd4', 'd5', 'exd5'],\n",
    "\"risky2\" : ['e4', 'e6', 'd4', 'd5', 'e5'],\n",
    "\"Ruy\" : ['e4', 'e5','Nf3', 'Nc6','Bb5'],\n",
    "\"Vienna\" : ['e4' ,'e5','d4','exd4','c3']}\n",
    "\n",
    "#eco_df[eco_df['san'].apply(lambda x : x == ['e4','c5'])]['Draw %']\n",
    "for key, game in gamesDict.items():\n",
    "    try:\n",
    "        draw = float(eco_df[eco_df['san'].apply(lambda x : x == game)]['Draw %'])\n",
    "    except:\n",
    "        draw = None\n",
    "    currFen = san_to_fen(game)\n",
    "    scores = []\n",
    "    counts = []\n",
    "    try:\n",
    "        for neighbor in list(g.neighbors(currFen)):\n",
    "            scores.append(nx.get_node_attributes(g, 'score')[neighbor])\n",
    "            counts.append(nx.get_node_attributes(g, 'movelistCount')[neighbor][currFen])\n",
    "        print('{} {} ||| SD :'.format(key, game), np.sqrt(varWeighted(scores,counts)), \"DRAW:\", draw)\n",
    "    except:\n",
    "        break"
   ]
  },
  {
   "cell_type": "markdown",
   "metadata": {},
   "source": [
    "## Plot relationship between sd and draw%"
   ]
  },
  {
   "cell_type": "markdown",
   "metadata": {},
   "source": [
    "#### Distribution of sd across ECO openings"
   ]
  },
  {
   "cell_type": "code",
   "execution_count": 12,
   "metadata": {},
   "outputs": [
    {
     "data": {
      "text/plain": [
       "(0, 500)"
      ]
     },
     "execution_count": 12,
     "metadata": {},
     "output_type": "execute_result"
    },
    {
     "data": {
      "image/png": "[encoded data removed]",
      "text/plain": [
       "<Figure size 432x288 with 1 Axes>"
      ]
     },
     "metadata": {
      "needs_background": "light"
     },
     "output_type": "display_data"
    }
   ],
   "source": [
    "import matplotlib.pyplot as plt\n",
    "\n",
    "# An \"interface\" to matplotlib.axes.Axes.hist() method\n",
    "n, bins, patches = plt.hist(x=eco_df['sd'], bins='auto', color='#0504aa',\n",
    "                            alpha=0.7, rwidth=0.8)\n",
    "plt.grid(axis='y', alpha=0.75)\n",
    "plt.xlabel('Value')\n",
    "plt.ylabel('Frequency')\n",
    "maxfreq = n.max()\n",
    "# Set a clean upper y-axis limit.\n",
    "plt.ylim(ymax=np.ceil(maxfreq / 10) * 10 if maxfreq % 10 else maxfreq + 10)\n",
    "plt.xlim(xmin = 0, xmax = 500)"
   ]
  },
  {
   "cell_type": "markdown",
   "metadata": {},
   "source": [
    "#### Correlation between sd and draw%"
   ]
  },
  {
   "cell_type": "code",
   "execution_count": 13,
   "metadata": {},
   "outputs": [
    {
     "name": "stdout",
     "output_type": "stream",
     "text": [
      "CORR: 0.1327331139555662\n"
     ]
    },
    {
     "data": {
      "text/plain": [
       "(0.14577134555207863, 0.45)"
      ]
     },
     "execution_count": 13,
     "metadata": {},
     "output_type": "execute_result"
    },
    {
     "data": {
      "image/png": "[encoded data removed]",
      "text/plain": [
       "<Figure size 360x360 with 1 Axes>"
      ]
     },
     "metadata": {
      "needs_background": "light"
     },
     "output_type": "display_data"
    }
   ],
   "source": [
    "import seaborn as sns\n",
    "print(\"CORR:\",eco_df['Draw %'].corr(eco_df['sd']))\n",
    "sns.lmplot('Draw %', 'sd', data = eco_df)\n",
    "plt.ylim(0,150)\n",
    "plt.xlim(None,0.45)"
   ]
  },
  {
   "cell_type": "markdown",
   "metadata": {},
   "source": [
    "#### Correlation between sd and move count of opening"
   ]
  },
  {
   "cell_type": "code",
   "execution_count": 14,
   "metadata": {},
   "outputs": [
    {
     "name": "stdout",
     "output_type": "stream",
     "text": [
      "CORR: -0.15553521116126137\n"
     ]
    },
    {
     "data": {
      "text/plain": [
       "(0, 10)"
      ]
     },
     "execution_count": 14,
     "metadata": {},
     "output_type": "execute_result"
    },
    {
     "data": {
      "image/png": "[encoded data removed]",
      "text/plain": [
       "<Figure size 360x360 with 1 Axes>"
      ]
     },
     "metadata": {
      "needs_background": "light"
     },
     "output_type": "display_data"
    }
   ],
   "source": [
    "print(\"CORR:\",eco_df['move_count'].corr(eco_df['sd']))\n",
    "sns.lmplot('move_count', 'sd', data = eco_df)\n",
    "plt.ylim(0,150)\n",
    "plt.xlim(0,10)"
   ]
  },
  {
   "cell_type": "code",
   "execution_count": null,
   "metadata": {},
   "outputs": [],
   "source": []
  }
 ],
 "metadata": {
  "kernelspec": {
   "display_name": "Python 3",
   "language": "python",
   "name": "python3"
  },
  "language_info": {
   "codemirror_mode": {
    "name": "ipython",
    "version": 3
   },
   "file_extension": ".py",
   "mimetype": "text/x-python",
   "name": "python",
   "nbconvert_exporter": "python",
   "pygments_lexer": "ipython3",
   "version": "3.7.6"
  }
 },
 "nbformat": 4,
 "nbformat_minor": 4
}
