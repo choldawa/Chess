{
 "cells": [
  {
   "cell_type": "markdown",
   "metadata": {},
   "source": [
    "# Get score and variance for each move in game\n",
    "Parse pgn (once converted to single lines) to get list of stockfish score and variance after each move, then split into black and white"
   ]
  },
  {
   "cell_type": "markdown",
   "metadata": {},
   "source": [
    "## Read in packages, graph, and functions"
   ]
  },
  {
   "cell_type": "code",
   "execution_count": 1,
   "metadata": {},
   "outputs": [],
   "source": [
    "from collections import defaultdict\n",
    "import sys\n",
    "import networkx as nx\n",
    "import matplotlib.pyplot as plt\n",
    "import pandas as pd\n",
    "import numpy as np\n",
    "import re\n",
    "import chess\n",
    "import subprocess\n",
    "import timeit\n",
    "import pickle\n",
    "import stockfish\n",
    "from stockfish import Stockfish\n",
    "import chess\n",
    "import chess.engine\n",
    "import warnings\n",
    "warnings.filterwarnings('ignore')\n",
    "\n",
    "engine = chess.engine.SimpleEngine.popen_uci(\"../stockfish-10-64\")\n",
    "stockfish = Stockfish(\"../stockfish-10-64\")"
   ]
  },
  {
   "cell_type": "code",
   "execution_count": 2,
   "metadata": {},
   "outputs": [],
   "source": [
    "g = nx.read_gpickle('../Directed_Graphs/690k_30.gpickle')"
   ]
  },
  {
   "cell_type": "code",
   "execution_count": 3,
   "metadata": {},
   "outputs": [],
   "source": [
    "def varWeighted(scores, counts):\n",
    "    if (len(counts)<2):\n",
    "        return None\n",
    "    else:\n",
    "        weightedMean = sum([a*b for a,b in zip(scores,counts)])/sum(counts)\n",
    "        scoreDiffs = [(score - weightedMean)**2 for score in scores]\n",
    "        V1 = sum(counts)\n",
    "        V2 = sum([count**2 for count in counts])\n",
    "        var = (V1/(V1**2-V2)) * sum([a*b for a,b in zip(counts,scoreDiffs)])\n",
    "        return var\n",
    "    \n",
    "def get_score(san):\n",
    "    board = chess.Board()\n",
    "    for move in san:\n",
    "        try:\n",
    "            board.push_san(move)\n",
    "        except:\n",
    "            break\n",
    "    currFen = board.fen()\n",
    "    score = engine.analyse(board, chess.engine.Limit(time=.05), info=chess.engine.INFO_SCORE)\n",
    "    if('#' in str(score['score'])):\n",
    "        if('-' in str(score['score'])):\n",
    "            return -39765\n",
    "        else:\n",
    "            return 39765\n",
    "    else:\n",
    "        score = int(str(score[\"score\"]))\n",
    "    return score\n",
    "\n",
    "def san_to_fen(san):\n",
    "    board = chess.Board()\n",
    "    for move in san:\n",
    "        try:\n",
    "            board.push_san(move)\n",
    "        except:\n",
    "            break\n",
    "    currFen = board.fen()\n",
    "    return currFen\n",
    "\n",
    "def get_node_sd(node):\n",
    "    scores = []\n",
    "    counts = []\n",
    "    try:\n",
    "        for neighbor in list(g.neighbors(node)):\n",
    "            scores.append(nx.get_node_attributes(g, 'score')[neighbor])\n",
    "            counts.append(nx.get_node_attributes(g, 'movelistCount')[neighbor][node])\n",
    "        return node, np.sqrt(varWeighted(scores,counts))\n",
    "    except:\n",
    "        return node, None"
   ]
  },
  {
   "cell_type": "markdown",
   "metadata": {},
   "source": [
    "## Read in pgn file"
   ]
  },
  {
   "cell_type": "code",
   "execution_count": null,
   "metadata": {},
   "outputs": [],
   "source": [
    "my_file = open(\"pgnparse.txt\", \"r\")\n",
    "pgn = my_file.read()\n",
    "\n",
    "pgn_list = pgn.split(\"\\n\")\n",
    "my_file.close()\n",
    "print(len(pgn_list))\n",
    "\n",
    "pgn_list = list(filter(None, pgn_list))\n",
    "print(len(pgn_list))"
   ]
  },
  {
   "cell_type": "code",
   "execution_count": null,
   "metadata": {},
   "outputs": [],
   "source": [
    "pgn_list[1]"
   ]
  },
  {
   "cell_type": "markdown",
   "metadata": {},
   "source": [
    "## Create Dataframe from pgn file by splitting into dictionary of headers and values"
   ]
  },
  {
   "cell_type": "code",
   "execution_count": null,
   "metadata": {},
   "outputs": [],
   "source": [
    "start = timeit.default_timer()\n",
    "d = defaultdict(list)\n",
    "cnt = 0\n",
    "for item in pgn_list:\n",
    "    l = item.split('[mainline')\n",
    "    try:\n",
    "        info = l[0].split('\"')\n",
    "        #mainline = l[1]\n",
    "        tuples = list(zip(info[::2],info[1::2]))\n",
    "        tuples.append(('mainline', l[1]))\n",
    "\n",
    "        for a, b in tuples:\n",
    "            d[a].append(b)\n",
    "\n",
    "        \n",
    "    except:\n",
    "         print('problem parsing:', item)\n",
    "print(\"TIME:\", timeit.default_timer()- start)"
   ]
  },
  {
   "cell_type": "markdown",
   "metadata": {},
   "source": [
    "#### DF cleaning and split san into list of moves (remove decimals)"
   ]
  },
  {
   "cell_type": "code",
   "execution_count": null,
   "metadata": {},
   "outputs": [],
   "source": [
    "df = pd.DataFrame(dict([ (k,pd.Series(v)) for k,v in d.items() ]))\n",
    "columns = [x.strip(' ') for x in df.columns]\n",
    "columns = [x.strip('[') for x in columns]\n",
    "df['san'] = df.mainline.apply(lambda x: [ i for i in x.split() if \".\" not in i ])\n",
    "df.columns = columns\n",
    "print(df.shape)\n",
    "df.head(2)"
   ]
  },
  {
   "cell_type": "markdown",
   "metadata": {},
   "source": [
    "## Function to get score and Variance \n",
    "for each move in san, then split by black and white"
   ]
  },
  {
   "cell_type": "code",
   "execution_count": null,
   "metadata": {},
   "outputs": [],
   "source": [
    "def get_sd_score_from_san(san):\n",
    "    board = chess.Board()\n",
    "    sd_list = []\n",
    "    score_list = []\n",
    "    for move in san:\n",
    "        try:\n",
    "            board.push_san(move)\n",
    "            currFen = board.fen()\n",
    "            board = chess.Board(currFen)\n",
    "            sf = engine.analyse(board, chess.engine.Limit(time=0.05))\n",
    "            \n",
    "            if('#' in str(sf['score'])):\n",
    "                if('-' in str(sf['score'])):\n",
    "                    sf =  -39765\n",
    "                else:\n",
    "                    sf =  39765\n",
    "            else:\n",
    "                sf = int(str(sf[\"score\"]))*-1\n",
    "            score_list.append(sf)\n",
    "            scores = []\n",
    "            counts = []\n",
    "            for neighbor in list(g.neighbors(currFen)):\n",
    "                scores.append(nx.get_node_attributes(g, 'score')[neighbor])\n",
    "                counts.append(nx.get_node_attributes(g, 'count')[neighbor])\n",
    "\n",
    "            sd_list.append(np.sqrt(varWeighted(scores, counts)))\n",
    "        except:\n",
    "            break\n",
    "    return pd.Series([sd_list[::2],sd_list[1::2], score_list[::2],score_list[1::2]]) \n",
    "        ##white, black sd, white, black score\n",
    "#     return(sd_list, score_list)"
   ]
  },
  {
   "cell_type": "markdown",
   "metadata": {},
   "source": [
    "#### Build a small dataframe to test on... this is super slow"
   ]
  },
  {
   "cell_type": "code",
   "execution_count": 4,
   "metadata": {
    "collapsed": true
   },
   "outputs": [
    {
     "ename": "NameError",
     "evalue": "name 'df' is not defined",
     "output_type": "error",
     "traceback": [
      "\u001b[0;31m---------------------------------------------------------------------------\u001b[0m",
      "\u001b[0;31mNameError\u001b[0m                                 Traceback (most recent call last)",
      "\u001b[0;32m<ipython-input-4-40dfd41294e4>\u001b[0m in \u001b[0;36m<module>\u001b[0;34m\u001b[0m\n\u001b[0;32m----> 1\u001b[0;31m \u001b[0mdf_test\u001b[0m \u001b[0;34m=\u001b[0m \u001b[0mdf\u001b[0m\u001b[0;34m.\u001b[0m\u001b[0mhead\u001b[0m\u001b[0;34m(\u001b[0m\u001b[0;36m2000\u001b[0m\u001b[0;34m)\u001b[0m\u001b[0;34m\u001b[0m\u001b[0;34m\u001b[0m\u001b[0m\n\u001b[0m",
      "\u001b[0;31mNameError\u001b[0m: name 'df' is not defined"
     ]
    }
   ],
   "source": [
    "#Get a subset of df\n",
    "df_test = df.head(2000)"
   ]
  },
  {
   "cell_type": "code",
   "execution_count": null,
   "metadata": {},
   "outputs": [],
   "source": [
    "# df_small['sd_list'] = df.san.apply(lambda x: get_sd_score_from_san(x)[0])\n",
    "# df_small['sf_list'] = df.san.apply(lambda x: get_sd_score_from_san(x)[1])\n",
    "start = timeit.default_timer()\n",
    "df_test[['sd_white', 'sd_black','score_white', 'score_black']] = df_test.san.apply(\n",
    "    lambda x: get_sd_score_from_san(x))\n",
    "print(\"TIME:\",timeit.default_timer()-start)\n",
    "df_test.head(2)"
   ]
  },
  {
   "cell_type": "markdown",
   "metadata": {},
   "source": [
    "#### Write df to pickle"
   ]
  },
  {
   "cell_type": "code",
   "execution_count": null,
   "metadata": {},
   "outputs": [],
   "source": [
    "#df_test.to_pickle(\"./DF_sd_sf_2000.pkl\")"
   ]
  }
 ],
 "metadata": {
  "kernelspec": {
   "display_name": "Python 3",
   "language": "python",
   "name": "python3"
  },
  "language_info": {
   "codemirror_mode": {
    "name": "ipython",
    "version": 3
   },
   "file_extension": ".py",
   "mimetype": "text/x-python",
   "name": "python",
   "nbconvert_exporter": "python",
   "pygments_lexer": "ipython3",
   "version": "3.7.6"
  }
 },
 "nbformat": 4,
 "nbformat_minor": 4
}
