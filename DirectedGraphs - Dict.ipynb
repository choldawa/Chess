{
 "cells": [
  {
   "cell_type": "code",
   "execution_count": 25,
   "metadata": {},
   "outputs": [],
   "source": [
    "########\n",
    "#pipe grep command of move sequence into another grep command to get 1-0 to tabulate total wins, ties and losses\n",
    "#these will need to be incremented in same way as counts\n",
    "\n",
    "import networkx as nx\n",
    "import matplotlib as plt\n",
    "import numpy as np\n",
    "import re\n",
    "import chess\n",
    "import chess.pgn\n",
    "import chess.engine\n",
    "import subprocess\n",
    "import time\n",
    "import timeit\n",
    "import pickle\n",
    "import stockfish\n",
    "engine = chess.engine.SimpleEngine.popen_uci(\"./stockfish-10-64\")"
   ]
  },
  {
   "cell_type": "code",
   "execution_count": 85,
   "metadata": {},
   "outputs": [],
   "source": [
    "from stockfish import Stockfish\n",
    "stockfish = Stockfish(\"./stockfish-10-64\")"
   ]
  },
  {
   "cell_type": "code",
   "execution_count": 27,
   "metadata": {},
   "outputs": [],
   "source": [
    "with open('Lichess2013noNumbers.txt', \"r\") as file_in:\n",
    "    mainlineList = []\n",
    "    for line in file_in:\n",
    "        mainlineList.append(line)"
   ]
  },
  {
   "cell_type": "code",
   "execution_count": 90,
   "metadata": {},
   "outputs": [
    {
     "name": "stdout",
     "output_type": "stream",
     "text": [
      "121332\n"
     ]
    }
   ],
   "source": [
    "stringList = []\n",
    "for mainLine in mainlineList:\n",
    "    stringList.append(mainLine.split())\n",
    "print(len(stringList))"
   ]
  },
  {
   "cell_type": "code",
   "execution_count": 58,
   "metadata": {},
   "outputs": [],
   "source": [
    "## TESTING IF DIFFERENT MOVESTRINGS CONVERGE TO SAME FEN\n",
    "stringList = [['e4','e5','d4','d5','c3'],\n",
    "             ['d4','e5','e4','d5','a3']]"
   ]
  },
  {
   "cell_type": "code",
   "execution_count": 71,
   "metadata": {},
   "outputs": [
    {
     "name": "stdout",
     "output_type": "stream",
     "text": [
      "strings processed: 0\n",
      "^ \\+e4 \\+ ['36889', '0', '33320', '1', '2279', '2']\n",
      "e4 72488\n",
      "^ \\+e4 \\+e5 \\+ ['17255', '0', '14411', '1', '1036', '2']\n",
      "e5 32702\n",
      "^ \\+e4 \\+e5 \\+d4 \\+ ['1197', '0', '991', '1', '53', '2']\n",
      "d4 2241\n",
      "^ \\+e4 \\+e5 \\+d4 \\+d5 \\+ ['54', '0', '31', '1', '1', '2']\n",
      "d5 86\n",
      "^ \\+e4 \\+e5 \\+d4 \\+d5 \\+c3 \\+ ['1', '0', '1', '1', '1', '2']\n",
      "c3 3\n",
      "strings processed: 0\n",
      "^ \\+d4 \\+ ['15666', '0', '12327', '1', '1074', '2']\n",
      "d4 29067\n",
      "^ \\+d4 \\+e5 \\+ ['453', '0', '371', '1', '35', '2']\n",
      "e5 859\n",
      "^ \\+d4 \\+e5 \\+e4 \\+ ['10', '0', '12', '1', '1', '2']\n",
      "e4 23\n",
      "^ \\+d4 \\+e5 \\+e4 \\+d5 \\+ ['1', '0', '1', '1']\n",
      "d5 2\n",
      "^ \\+d4 \\+e5 \\+e4 \\+d5 \\+a3 \\+ []\n",
      "a3 0\n"
     ]
    }
   ],
   "source": [
    "game_file = \"Lichess2013noNumbers.txt\"\n",
    "start = timeit.default_timer()\n",
    "\n",
    "g = nx.DiGraph()\n",
    "g.add_node('')\n",
    "X = 0\n",
    "cnt = 0\n",
    "for string in stringList[:10]:\n",
    "    if(cnt%50 == 0):\n",
    "        print(\"strings processed:\", cnt)\n",
    "    board = chess.Board()\n",
    "    moveString = '^ \\+'\n",
    "    parentFen = ''\n",
    "    for move in string:\n",
    "        try:\n",
    "            count = 0\n",
    "            countWhite = 0\n",
    "            countTie = 0\n",
    "            countBlack = 0\n",
    "            moveString += move + ' \\+'\n",
    "            board.push_san(move) #push the move to the board\n",
    "            currFen = board.fen() #get the fen from the board\n",
    "             #BASH SCRIPT TO GET COUNT\n",
    "                #pipe big grep into temp file, cat/query that\n",
    "                #eliminate duplicate count call\n",
    "                #grep -o '.$' | sort |unique- c\n",
    "            command = 'grep -I \"{}\"  {}  | grep -o \".$\" | sort | uniq -c'.format(moveString, game_file)\n",
    "            process = subprocess.Popen(command, stdout=subprocess.PIPE, stderr=None, shell=True)\n",
    "            output = process.communicate()\n",
    "\n",
    "            counts = re.findall('\\d+',str(output))\n",
    "            print(moveString, counts)\n",
    "            if('0' in counts[1::2]):\n",
    "                 countWhite = counts[0::2][counts[1::2].index('0')]\n",
    "            else:\n",
    "                countTie = 0\n",
    "            if('1' in counts[1::2]):\n",
    "                 countBlack = counts[0::2][counts[1::2].index('1')]\n",
    "            else:\n",
    "                countTie = 0\n",
    "            if('2' in counts[1::2]):\n",
    "                countTie = counts[0::2][counts[1::2].index('2')]\n",
    "            else:\n",
    "\n",
    "                countTie = 0\n",
    "\n",
    "            count = int(countWhite) + int(countBlack) + int(countTie)\n",
    "            print(move, count)\n",
    "        except:\n",
    "            print(\"EXCEPT\")\n",
    "            break\n",
    "            "
   ]
  },
  {
   "cell_type": "code",
   "execution_count": null,
   "metadata": {},
   "outputs": [
    {
     "name": "stdout",
     "output_type": "stream",
     "text": [
      "strings processed: 0\n",
      "strings processed: 50\n",
      "strings processed: 100\n",
      "strings processed: 150\n",
      "strings processed: 200\n",
      "strings processed: 250\n"
     ]
    }
   ],
   "source": [
    "#FIXES ISSUE WITHMULTIPLE NODES, OVERCOUNTING\n",
    "game_file = \"Lichess2013noNumbers.txt\"\n",
    "start = timeit.default_timer()\n",
    "\n",
    "g = nx.DiGraph()\n",
    "g.add_node('')\n",
    "X = 10\n",
    "cnt = 0\n",
    "for string in stringList[:1000]:\n",
    "    if(cnt%50 == 0):\n",
    "        print(\"strings processed:\", cnt)\n",
    "    board = chess.Board()\n",
    "    moveString = '^ \\+'\n",
    "    parentFen = ''\n",
    "    for move in string:\n",
    "        try: \n",
    "            count = 0\n",
    "            countWhite = 0\n",
    "            countTie = 0\n",
    "            countBlack = 0\n",
    "            moveString += move + ' \\+'\n",
    "            board.push_san(move) #push the move to the board\n",
    "            currFen = board.fen() #get the fen from the board\n",
    "            \n",
    "            command = 'grep -I \"{}\"  {}  | grep -o \".$\" | sort | uniq -c'.format(moveString, game_file)\n",
    "            process = subprocess.Popen(command, stdout=subprocess.PIPE, stderr=None, shell=True)\n",
    "            output = process.communicate()\n",
    "            \n",
    "            counts = re.findall('\\d+',str(output))\n",
    "            if('0' in counts[1::2]):\n",
    "                 countWhite = counts[0::2][counts[1::2].index('0')]\n",
    "            else:\n",
    "                countTie = 0\n",
    "            if('1' in counts[1::2]):\n",
    "                 countBlack = counts[0::2][counts[1::2].index('1')]\n",
    "            else:\n",
    "                countTie = 0\n",
    "            if('2' in counts[1::2]):\n",
    "                countTie = counts[0::2][counts[1::2].index('2')]\n",
    "            else:\n",
    "\n",
    "                countTie = 0\n",
    "\n",
    "            count = int(countWhite) + int(countBlack) + int(countTie)\n",
    "            \n",
    "        #check if fen is new, if yes, and count is high, add new node\n",
    "            if(currFen not in g.nodes and count>=X): #only add nodes if the sequence has not yet occured and they are frequent enough \n",
    "                #stockfish = engine.analyse(board, chess.engine.Limit(time=0.05)) #get stockfish score of fen\n",
    "                stockfish.set_fen_position(currFen)\n",
    "                \n",
    "                g.add_node(currFen, \n",
    "                           score = stockfish.get_evaluation()['value'], \n",
    "                           count = count,\n",
    "#                            whiteWins = countWhite,\n",
    "#                            blackWins = countBlack,\n",
    "#                            tie = countTie,\n",
    "                           movelist = {parentFen:count}) #make a dict of parent IDs and count\n",
    "                          # movelist = [[moveString]]) #make a list of moveStrings\n",
    "                g.add_edge(parentFen, currFen)\n",
    "                \n",
    "                parentFen = currFen\n",
    "                \n",
    "        #if fen is not new, check if movestring in list of movestrings, if not, add it and add count  \n",
    "            elif(count>=X):\n",
    "                if(parentFen not in nx.get_node_attributes(g, 'movelist')[currFen]):\n",
    "                    #nx.get_node_attributes(g, 'movelist')[currFen] = nx.get_node_attributes(g, 'movelist')[currFen].append([moveString])\n",
    "                    nx.get_node_attributes(g, 'movelist')[currFen][parentFen] = count\n",
    "                    g.nodes[currFen]['count'] = nx.get_node_attributes(g, 'count')[currFen]+count\n",
    "#                     g.nodes[currFen]['whiteWins'] = nx.get_node_attributes(g, 'whiteWins')[currFen]+countWhite\n",
    "#                     g.nodes[currFen]['blackWins'] = nx.get_node_attributes(g, 'blackWins')[currFen]+countBlack\n",
    "#                     g.nodes[currFen]['tie'] = nx.get_node_attributes(g, 'tie')[currFen]+countTie\n",
    "                    g.add_edge(parentFen, currFen)\n",
    "                parentFen = currFen\n",
    "            else:\n",
    "                break\n",
    "        except: #skip any errors in the notation that cannot be pushed to a board\n",
    "            break\n",
    "    cnt+=1\n",
    "stop = timeit.default_timer()\n",
    "print('Time: ', stop - start)\n",
    "print(\"totalNodes:\",len(g))"
   ]
  },
  {
   "cell_type": "code",
   "execution_count": null,
   "metadata": {},
   "outputs": [],
   "source": [
    "#save as pickle\n",
    "nx.write_gpickle(g,\"g1000dict.gpickle\")"
   ]
  },
  {
   "cell_type": "code",
   "execution_count": null,
   "metadata": {
    "scrolled": false
   },
   "outputs": [],
   "source": [
    "#read pickle\n",
    "g=nx.read_gpickle(\"g1000dict.gpickle\")\n",
    "print(\"totalNodes:\",len(g))"
   ]
  },
  {
   "cell_type": "code",
   "execution_count": 50,
   "metadata": {
    "collapsed": true
   },
   "outputs": [
    {
     "data": {
      "image/png": "[encoded data removed]",
      "text/plain": [
       "<Figure size 432x288 with 1 Axes>"
      ]
     },
     "metadata": {},
     "output_type": "display_data"
    }
   ],
   "source": [
    "#print(\"Total Nodes:\", len(g))\n",
    "nx.draw(g, with_labels=False)"
   ]
  },
  {
   "cell_type": "code",
   "execution_count": 99,
   "metadata": {},
   "outputs": [
    {
     "data": {
      "text/plain": [
       "{'score': 61, 'count': 72488, 'movelist': {'': 72488}}"
      ]
     },
     "execution_count": 99,
     "metadata": {},
     "output_type": "execute_result"
    }
   ],
   "source": [
    "g.nodes['rnbqkbnr/pppppppp/8/8/4P3/8/PPPP1PPP/RNBQKBNR b KQkq - 0 1']"
   ]
  },
  {
   "cell_type": "code",
   "execution_count": null,
   "metadata": {},
   "outputs": [],
   "source": [
    "def varWeighted(scores, counts):\n",
    "    if (len(counts)<2):\n",
    "        return None\n",
    "    else:\n",
    "        weightedMean = sum([a*b for a,b in zip(scores,counts)])/sum(counts)\n",
    "        scoreDiffs = [(score - weightedMean)**2 for score in scores]\n",
    "        V1 = sum(counts)\n",
    "        V2 = sum([count**2 for count in counts])\n",
    "        var = (V1/(V1**2-V2)) * sum([a*b for a,b in zip(counts,scoreDiffs)])\n",
    "        return var"
   ]
  },
  {
   "cell_type": "code",
   "execution_count": 20,
   "metadata": {
    "collapsed": true
   },
   "outputs": [
    {
     "ename": "NetworkXError",
     "evalue": "The node rnbqkb1r/pppppppp/5n2/8/3P4/8/PPP1PPPP/RNBQKBNR w KQkq - 1 2 is not in the digraph.",
     "output_type": "error",
     "traceback": [
      "\u001b[0;31m---------------------------------------------------------------------------\u001b[0m",
      "\u001b[0;31mKeyError\u001b[0m                                  Traceback (most recent call last)",
      "\u001b[0;32m~/opt/anaconda3/lib/python3.7/site-packages/networkx/classes/digraph.py\u001b[0m in \u001b[0;36msuccessors\u001b[0;34m(self, n)\u001b[0m\n\u001b[1;32m    808\u001b[0m         \u001b[0;32mtry\u001b[0m\u001b[0;34m:\u001b[0m\u001b[0;34m\u001b[0m\u001b[0;34m\u001b[0m\u001b[0m\n\u001b[0;32m--> 809\u001b[0;31m             \u001b[0;32mreturn\u001b[0m \u001b[0miter\u001b[0m\u001b[0;34m(\u001b[0m\u001b[0mself\u001b[0m\u001b[0;34m.\u001b[0m\u001b[0m_succ\u001b[0m\u001b[0;34m[\u001b[0m\u001b[0mn\u001b[0m\u001b[0;34m]\u001b[0m\u001b[0;34m)\u001b[0m\u001b[0;34m\u001b[0m\u001b[0;34m\u001b[0m\u001b[0m\n\u001b[0m\u001b[1;32m    810\u001b[0m         \u001b[0;32mexcept\u001b[0m \u001b[0mKeyError\u001b[0m\u001b[0;34m:\u001b[0m\u001b[0;34m\u001b[0m\u001b[0;34m\u001b[0m\u001b[0m\n",
      "\u001b[0;31mKeyError\u001b[0m: 'rnbqkb1r/pppppppp/5n2/8/3P4/8/PPP1PPPP/RNBQKBNR w KQkq - 1 2'",
      "\nDuring handling of the above exception, another exception occurred:\n",
      "\u001b[0;31mNetworkXError\u001b[0m                             Traceback (most recent call last)",
      "\u001b[0;32m<ipython-input-20-712f4764d838>\u001b[0m in \u001b[0;36m<module>\u001b[0;34m\u001b[0m\n\u001b[1;32m      7\u001b[0m \u001b[0mscores\u001b[0m \u001b[0;34m=\u001b[0m \u001b[0;34m[\u001b[0m\u001b[0;34m]\u001b[0m\u001b[0;34m\u001b[0m\u001b[0;34m\u001b[0m\u001b[0m\n\u001b[1;32m      8\u001b[0m \u001b[0mcounts\u001b[0m \u001b[0;34m=\u001b[0m \u001b[0;34m[\u001b[0m\u001b[0;34m]\u001b[0m\u001b[0;34m\u001b[0m\u001b[0;34m\u001b[0m\u001b[0m\n\u001b[0;32m----> 9\u001b[0;31m \u001b[0;32mfor\u001b[0m \u001b[0mneighbor\u001b[0m \u001b[0;32min\u001b[0m \u001b[0mlist\u001b[0m\u001b[0;34m(\u001b[0m\u001b[0mg\u001b[0m\u001b[0;34m.\u001b[0m\u001b[0mneighbors\u001b[0m\u001b[0;34m(\u001b[0m\u001b[0mcurrFen\u001b[0m\u001b[0;34m)\u001b[0m\u001b[0;34m)\u001b[0m\u001b[0;34m:\u001b[0m\u001b[0;34m\u001b[0m\u001b[0;34m\u001b[0m\u001b[0m\n\u001b[0m\u001b[1;32m     10\u001b[0m     \u001b[0mscores\u001b[0m\u001b[0;34m.\u001b[0m\u001b[0mappend\u001b[0m\u001b[0;34m(\u001b[0m\u001b[0mnx\u001b[0m\u001b[0;34m.\u001b[0m\u001b[0mget_node_attributes\u001b[0m\u001b[0;34m(\u001b[0m\u001b[0mg\u001b[0m\u001b[0;34m,\u001b[0m \u001b[0;34m'score'\u001b[0m\u001b[0;34m)\u001b[0m\u001b[0;34m[\u001b[0m\u001b[0mneighbor\u001b[0m\u001b[0;34m]\u001b[0m\u001b[0;34m)\u001b[0m\u001b[0;34m\u001b[0m\u001b[0;34m\u001b[0m\u001b[0m\n\u001b[1;32m     11\u001b[0m     \u001b[0mcounts\u001b[0m\u001b[0;34m.\u001b[0m\u001b[0mappend\u001b[0m\u001b[0;34m(\u001b[0m\u001b[0mnx\u001b[0m\u001b[0;34m.\u001b[0m\u001b[0mget_node_attributes\u001b[0m\u001b[0;34m(\u001b[0m\u001b[0mg\u001b[0m\u001b[0;34m,\u001b[0m \u001b[0;34m'count'\u001b[0m\u001b[0;34m)\u001b[0m\u001b[0;34m[\u001b[0m\u001b[0mneighbor\u001b[0m\u001b[0;34m]\u001b[0m\u001b[0;34m)\u001b[0m\u001b[0;34m\u001b[0m\u001b[0;34m\u001b[0m\u001b[0m\n",
      "\u001b[0;32m~/opt/anaconda3/lib/python3.7/site-packages/networkx/classes/digraph.py\u001b[0m in \u001b[0;36msuccessors\u001b[0;34m(self, n)\u001b[0m\n\u001b[1;32m    809\u001b[0m             \u001b[0;32mreturn\u001b[0m \u001b[0miter\u001b[0m\u001b[0;34m(\u001b[0m\u001b[0mself\u001b[0m\u001b[0;34m.\u001b[0m\u001b[0m_succ\u001b[0m\u001b[0;34m[\u001b[0m\u001b[0mn\u001b[0m\u001b[0;34m]\u001b[0m\u001b[0;34m)\u001b[0m\u001b[0;34m\u001b[0m\u001b[0;34m\u001b[0m\u001b[0m\n\u001b[1;32m    810\u001b[0m         \u001b[0;32mexcept\u001b[0m \u001b[0mKeyError\u001b[0m\u001b[0;34m:\u001b[0m\u001b[0;34m\u001b[0m\u001b[0;34m\u001b[0m\u001b[0m\n\u001b[0;32m--> 811\u001b[0;31m             \u001b[0;32mraise\u001b[0m \u001b[0mNetworkXError\u001b[0m\u001b[0;34m(\u001b[0m\u001b[0;34m\"The node %s is not in the digraph.\"\u001b[0m \u001b[0;34m%\u001b[0m \u001b[0;34m(\u001b[0m\u001b[0mn\u001b[0m\u001b[0;34m,\u001b[0m\u001b[0;34m)\u001b[0m\u001b[0;34m)\u001b[0m\u001b[0;34m\u001b[0m\u001b[0;34m\u001b[0m\u001b[0m\n\u001b[0m\u001b[1;32m    812\u001b[0m \u001b[0;34m\u001b[0m\u001b[0m\n\u001b[1;32m    813\u001b[0m     \u001b[0;31m# digraph definitions\u001b[0m\u001b[0;34m\u001b[0m\u001b[0;34m\u001b[0m\u001b[0;34m\u001b[0m\u001b[0m\n",
      "\u001b[0;31mNetworkXError\u001b[0m: The node rnbqkb1r/pppppppp/5n2/8/3P4/8/PPP1PPPP/RNBQKBNR w KQkq - 1 2 is not in the digraph."
     ]
    }
   ],
   "source": [
    "start = timeit.default_timer()\n",
    "\n",
    "board = chess.Board()\n",
    "board.push_san('d4') #push the move to the board\n",
    "board.push_san('Nf6') #push the move to the board\n",
    "currFen = board.fen()\n",
    "scores = []\n",
    "counts = []\n",
    "for neighbor in list(g.neighbors(currFen)):\n",
    "    scores.append(nx.get_node_attributes(g, 'score')[neighbor])\n",
    "    counts.append(nx.get_node_attributes(g, 'count')[neighbor])\n",
    "    \n",
    "print(\"var:\",varWeighted(scores, counts))\n",
    "\n",
    "stop = timeit.default_timer()\n",
    "print('Time: ', stop - start) "
   ]
  },
  {
   "cell_type": "code",
   "execution_count": 18,
   "metadata": {
    "collapsed": true
   },
   "outputs": [
    {
     "ename": "NetworkXError",
     "evalue": "The node rnbqkbnr/pp1ppppp/8/2p5/4P3/8/PPPP1PPP/RNBQKBNR w KQkq - 0 2 is not in the digraph.",
     "output_type": "error",
     "traceback": [
      "\u001b[0;31m---------------------------------------------------------------------------\u001b[0m",
      "\u001b[0;31mKeyError\u001b[0m                                  Traceback (most recent call last)",
      "\u001b[0;32m~/opt/anaconda3/lib/python3.7/site-packages/networkx/classes/digraph.py\u001b[0m in \u001b[0;36msuccessors\u001b[0;34m(self, n)\u001b[0m\n\u001b[1;32m    808\u001b[0m         \u001b[0;32mtry\u001b[0m\u001b[0;34m:\u001b[0m\u001b[0;34m\u001b[0m\u001b[0;34m\u001b[0m\u001b[0m\n\u001b[0;32m--> 809\u001b[0;31m             \u001b[0;32mreturn\u001b[0m \u001b[0miter\u001b[0m\u001b[0;34m(\u001b[0m\u001b[0mself\u001b[0m\u001b[0;34m.\u001b[0m\u001b[0m_succ\u001b[0m\u001b[0;34m[\u001b[0m\u001b[0mn\u001b[0m\u001b[0;34m]\u001b[0m\u001b[0;34m)\u001b[0m\u001b[0;34m\u001b[0m\u001b[0;34m\u001b[0m\u001b[0m\n\u001b[0m\u001b[1;32m    810\u001b[0m         \u001b[0;32mexcept\u001b[0m \u001b[0mKeyError\u001b[0m\u001b[0;34m:\u001b[0m\u001b[0;34m\u001b[0m\u001b[0;34m\u001b[0m\u001b[0m\n",
      "\u001b[0;31mKeyError\u001b[0m: 'rnbqkbnr/pp1ppppp/8/2p5/4P3/8/PPPP1PPP/RNBQKBNR w KQkq - 0 2'",
      "\nDuring handling of the above exception, another exception occurred:\n",
      "\u001b[0;31mNetworkXError\u001b[0m                             Traceback (most recent call last)",
      "\u001b[0;32m<ipython-input-18-d76b40a785bd>\u001b[0m in \u001b[0;36m<module>\u001b[0;34m\u001b[0m\n\u001b[1;32m     19\u001b[0m     \u001b[0mscores\u001b[0m \u001b[0;34m=\u001b[0m \u001b[0;34m[\u001b[0m\u001b[0;34m]\u001b[0m\u001b[0;34m\u001b[0m\u001b[0;34m\u001b[0m\u001b[0m\n\u001b[1;32m     20\u001b[0m     \u001b[0mcounts\u001b[0m \u001b[0;34m=\u001b[0m \u001b[0;34m[\u001b[0m\u001b[0;34m]\u001b[0m\u001b[0;34m\u001b[0m\u001b[0;34m\u001b[0m\u001b[0m\n\u001b[0;32m---> 21\u001b[0;31m     \u001b[0;32mfor\u001b[0m \u001b[0mneighbor\u001b[0m \u001b[0;32min\u001b[0m \u001b[0mlist\u001b[0m\u001b[0;34m(\u001b[0m\u001b[0mg\u001b[0m\u001b[0;34m.\u001b[0m\u001b[0mneighbors\u001b[0m\u001b[0;34m(\u001b[0m\u001b[0mcurrFen\u001b[0m\u001b[0;34m)\u001b[0m\u001b[0;34m)\u001b[0m\u001b[0;34m:\u001b[0m\u001b[0;34m\u001b[0m\u001b[0;34m\u001b[0m\u001b[0m\n\u001b[0m\u001b[1;32m     22\u001b[0m         \u001b[0mscores\u001b[0m\u001b[0;34m.\u001b[0m\u001b[0mappend\u001b[0m\u001b[0;34m(\u001b[0m\u001b[0mnx\u001b[0m\u001b[0;34m.\u001b[0m\u001b[0mget_node_attributes\u001b[0m\u001b[0;34m(\u001b[0m\u001b[0mg\u001b[0m\u001b[0;34m,\u001b[0m \u001b[0;34m'score'\u001b[0m\u001b[0;34m)\u001b[0m\u001b[0;34m[\u001b[0m\u001b[0mneighbor\u001b[0m\u001b[0;34m]\u001b[0m\u001b[0;34m)\u001b[0m\u001b[0;34m\u001b[0m\u001b[0;34m\u001b[0m\u001b[0m\n\u001b[1;32m     23\u001b[0m         \u001b[0mcounts\u001b[0m\u001b[0;34m.\u001b[0m\u001b[0mappend\u001b[0m\u001b[0;34m(\u001b[0m\u001b[0mnx\u001b[0m\u001b[0;34m.\u001b[0m\u001b[0mget_node_attributes\u001b[0m\u001b[0;34m(\u001b[0m\u001b[0mg\u001b[0m\u001b[0;34m,\u001b[0m \u001b[0;34m'count'\u001b[0m\u001b[0;34m)\u001b[0m\u001b[0;34m[\u001b[0m\u001b[0mneighbor\u001b[0m\u001b[0;34m]\u001b[0m\u001b[0;34m)\u001b[0m\u001b[0;34m\u001b[0m\u001b[0;34m\u001b[0m\u001b[0m\n",
      "\u001b[0;32m~/opt/anaconda3/lib/python3.7/site-packages/networkx/classes/digraph.py\u001b[0m in \u001b[0;36msuccessors\u001b[0;34m(self, n)\u001b[0m\n\u001b[1;32m    809\u001b[0m             \u001b[0;32mreturn\u001b[0m \u001b[0miter\u001b[0m\u001b[0;34m(\u001b[0m\u001b[0mself\u001b[0m\u001b[0;34m.\u001b[0m\u001b[0m_succ\u001b[0m\u001b[0;34m[\u001b[0m\u001b[0mn\u001b[0m\u001b[0;34m]\u001b[0m\u001b[0;34m)\u001b[0m\u001b[0;34m\u001b[0m\u001b[0;34m\u001b[0m\u001b[0m\n\u001b[1;32m    810\u001b[0m         \u001b[0;32mexcept\u001b[0m \u001b[0mKeyError\u001b[0m\u001b[0;34m:\u001b[0m\u001b[0;34m\u001b[0m\u001b[0;34m\u001b[0m\u001b[0m\n\u001b[0;32m--> 811\u001b[0;31m             \u001b[0;32mraise\u001b[0m \u001b[0mNetworkXError\u001b[0m\u001b[0;34m(\u001b[0m\u001b[0;34m\"The node %s is not in the digraph.\"\u001b[0m \u001b[0;34m%\u001b[0m \u001b[0;34m(\u001b[0m\u001b[0mn\u001b[0m\u001b[0;34m,\u001b[0m\u001b[0;34m)\u001b[0m\u001b[0;34m)\u001b[0m\u001b[0;34m\u001b[0m\u001b[0;34m\u001b[0m\u001b[0m\n\u001b[0m\u001b[1;32m    812\u001b[0m \u001b[0;34m\u001b[0m\u001b[0m\n\u001b[1;32m    813\u001b[0m     \u001b[0;31m# digraph definitions\u001b[0m\u001b[0;34m\u001b[0m\u001b[0;34m\u001b[0m\u001b[0;34m\u001b[0m\u001b[0m\n",
      "\u001b[0;31mNetworkXError\u001b[0m: The node rnbqkbnr/pp1ppppp/8/2p5/4P3/8/PPPP1PPP/RNBQKBNR w KQkq - 0 2 is not in the digraph."
     ]
    }
   ],
   "source": [
    "root = ['e4', 'c5']\n",
    "safe = ['e4', 'c5', 'c3']\n",
    "risky = ['e4', 'c5', 'd4']\n",
    "\n",
    "root2 = ['e4', 'e6', 'd4', 'd5']\n",
    "popular2 = ['e4', 'e6', 'd4', 'd5', 'Nc3']\n",
    "popular21 = ['e4', 'e6', 'd4', 'd5', 'Nd2']\n",
    "safe2 = ['e4', 'e6', 'd4', 'd5', 'exd5']\n",
    "risky2 = ['e4', 'e6', 'd4', 'd5', 'e5']\n",
    "\n",
    "Ruy = ['e4', 'e5','Nf3', 'Nc6','Bb5']\n",
    "Vienna = ['e4' ,'e5','d4','exd4','c3']\n",
    "games = [root,safe,risky,root2,popular2, popular21,safe2,risky2, Ruy, Vienna]\n",
    "for game in games:\n",
    "    board = chess.Board()\n",
    "    for move in game:\n",
    "        board.push_san(move)\n",
    "    currFen = board.fen()\n",
    "    scores = []\n",
    "    counts = []\n",
    "    for neighbor in list(g.neighbors(currFen)):\n",
    "        scores.append(nx.get_node_attributes(g, 'score')[neighbor])\n",
    "        counts.append(nx.get_node_attributes(g, 'count')[neighbor])\n",
    "\n",
    "    print('Var {}:'.format(game), varWeighted(scores,counts), \", total Games:\", sum(counts), ', TIE%:', nx.get_node_attributes(g, 'tie')[currFen]/sum(counts)*100)"
   ]
  },
  {
   "cell_type": "code",
   "execution_count": null,
   "metadata": {},
   "outputs": [],
   "source": [
    "root = ['e4', 'c5']\n",
    "safe = ['e4', 'c5', 'c3']\n",
    "risky = ['e4', 'c5', 'd4']\n",
    "\n",
    "root2 = ['e4', 'e6', 'd4', 'd5']\n",
    "popular2 = ['e4', 'e6', 'd4', 'd5', 'Nc3']\n",
    "popular21 = ['e4', 'e6', 'd4', 'd5', 'Nd2']\n",
    "safe2 = ['e4', 'e6', 'd4', 'd5', 'exd5']\n",
    "risky2 = ['e4', 'e6', 'd4', 'd5', 'e5']\n",
    "\n",
    "Ruy = ['e4', 'e5','Nf3', 'Nc6','Bb5']\n",
    "Vienna = ['e4' ,'e5','d4','exd4','c3']\n",
    "games = [root,safe,risky,root2,popular2, popular21,safe2,risky2, Ruy, Vienna]\n",
    "\n",
    "\n",
    "for game in games:\n",
    "    board = chess.Board()\n",
    "    for move in game:\n",
    "        board.push_san(move)\n",
    "    currFen = board.fen()\n",
    "    stockfish.set_fen_position(currFen)\n",
    "    info = stockfish.get_evaluation()['value']\n",
    "\n",
    "    print(game,\"Score:\", info)"
   ]
  },
  {
   "cell_type": "code",
   "execution_count": 19,
   "metadata": {},
   "outputs": [
    {
     "data": {
      "text/plain": [
       "97"
      ]
     },
     "execution_count": 19,
     "metadata": {},
     "output_type": "execute_result"
    }
   ],
   "source": [
    "stockfish.set_fen_position(\"rnbqkbnr/pp1ppppp/8/2p5/4P3/8/PPPP1PPP/RNBQKBNR w KQkq - 0 2\")\n",
    "stockfish.get_evaluation()['value']"
   ]
  },
  {
   "cell_type": "code",
   "execution_count": null,
   "metadata": {},
   "outputs": [],
   "source": [
    "# ###Chess Gambits\n",
    "# Polish Gambit 1. e4 b5\n",
    "# Wing Gambit 1. e4 c5 2. b4\n",
    "# Ware Gambit 1. a4 e5 2. a5 d5 3. e3 f5 4. a6\n",
    "# Birmingham Gambit 1. b4 c5\n",
    "# Schuhler Gambit 1. b4 c6 2. Bb2 a5 3. b5 cxb5 4. e4\n",
    "# Wolferts Gambit 1. b4 e5 2. Bb2 c5\n",
    "# Englund Gambit 1. d4 e5\n",
    "# Budapest Gambit 1. d4 Nf6 2. c4 e5\n",
    "# Benko Gambit 1. d4 Nf6 2. c4 c5 3. d5 b5\n",
    "# Staunton Gambit 1. d4 f5 2. e4\n",
    "# Smith-Morra Gambit 1. e4 c5 2. d4 cxd4 3. c3\n",
    "# Danish Gambit 1. e4 e5 2. d4 exd4 3. c3\n",
    "# Vienna Gambit 1. e4 e5 2. Nc3 Nf6 3. f4\n",
    "# King's Gambit 1. e4 e5 2. f4\n",
    "# Quaade Gambit 1. e4 e5 2. f4 exf4 3. Nf3 g5 4. Nc3\n",
    "# Kieseritsky Gambit 1. e4 e5 2. Nc3 Nf6 3. Bc4 Nxe4 4. Nf3\n",
    "# Rice Gambit 1. e4 e5 2. f4 exf4 3. Nf3 g5 4. h4 g4 5. Ne5 Nf6 6. Bc4 d5 7. exd5 Bd6 8. 0-0\n",
    "# Elephant Gambit 1. e4 e5 2. Nf3 d5\n",
    "# Latvian Gambit 1. e4 e5 2. Nf3 f5\n",
    "# Irish Gambit 1. e4 e5 2. Nf3 Nc6 3. Nxe5?\n",
    "# Halloween Gambit 1. e4 e5 2. Nf3 Nc6 3. Nc3 Nf6 4. Nxe5?!\n",
    "# Blackburne Shilling Gambit 1. e4 e5 2. Nf3 Nc6 3. Bc4 Nd4\n",
    "# Italian Gambit 1. e4 e5 2. Nf3 Nc6 3. Bc4 Bc5 4. d4\n",
    "# Rousseau Gambit 1. e4 e5 2. Nf3 Nc6 3. Bc4 f5\n",
    "# Evans Gambit 1. e4 e5 2. Nf3 Nc6 3. Bc4 Bc5 4. b4\n",
    "# Blackmar–Diemer Gambit 1. d4 d5 2. e4 dxe4 3. Nc3\n",
    "# Queen's Gambit 1. d4 d5 2. c4\n",
    "# Grünfeld Gambit 1. d4 Nf6 2. c4 g6 3. Nc3 d5 4. Bf4 Bg7 5. e3 0-0"
   ]
  },
  {
   "cell_type": "code",
   "execution_count": 87,
   "metadata": {},
   "outputs": [
    {
     "name": "stdout",
     "output_type": "stream",
     "text": [
      "strings processed: 0\n",
      "Time:  13.804609733999769\n",
      "totalNodes: 9\n",
      "['', 'rnbqkbnr/pppppppp/8/8/4P3/8/PPPP1PPP/RNBQKBNR b KQkq - 0 1', 'rnbqkbnr/pppp1ppp/8/4p3/4P3/8/PPPP1PPP/RNBQKBNR w KQkq - 0 2', 'rnbqkbnr/pppp1ppp/8/4p3/3PP3/8/PPP2PPP/RNBQKBNR b KQkq - 0 2', 'rnbqkbnr/ppp2ppp/8/3pp3/3PP3/8/PPP2PPP/RNBQKBNR w KQkq - 0 3', 'rnbqkbnr/ppp2ppp/8/3pp3/3PP3/2P5/PP3PPP/RNBQKBNR b KQkq - 0 3', 'rnbqkbnr/pppppppp/8/8/3P4/8/PPP1PPPP/RNBQKBNR b KQkq - 0 1', 'rnbqkbnr/pppp1ppp/8/4p3/3P4/8/PPP1PPPP/RNBQKBNR w KQkq - 0 2', 'rnbqkbnr/ppp2ppp/8/3pp3/3PP3/P7/1PP2PPP/RNBQKBNR b KQkq - 0 3']\n"
     ]
    }
   ],
   "source": [
    "#THis has been deprecated becasue it has redundant grep calls\n",
    "# game_file = \"Lichess2013noNumbers.txt\"\n",
    "# start = timeit.default_timer()\n",
    "\n",
    "# g = nx.DiGraph()\n",
    "# g.add_node('')\n",
    "# X = 0\n",
    "# cnt = 0\n",
    "# for string in stringList[:10]:\n",
    "#     if(cnt%50 == 0):\n",
    "#         print(\"strings processed:\", cnt)\n",
    "#     board = chess.Board()\n",
    "#     moveString = '^ \\+'\n",
    "#     parentFen = ''\n",
    "#     for move in string:\n",
    "#         moveString += move + ' \\+'\n",
    "#         try: \n",
    "#             board.push_san(move) #push the move to the board\n",
    "#             currFen = board.fen() #get the fen from the board\n",
    "#              #BASH SCRIPT TO GET COUNT\n",
    "#                 #pipe big grep into temp file, cat/query that\n",
    "#                 #eliminate duplicate count call\n",
    "#                 #grep -o '.$' | sort |unique- c\n",
    "#             command = \"grep -I '{}'  {} | wc -l\".format(moveString, game_file)\n",
    "#             process = subprocess.Popen(command, stdout=subprocess.PIPE, stderr=None, shell=True)\n",
    "#             output = process.communicate()\n",
    "#             count = int(re.findall('\\d+',str(output))[0])\n",
    "#             #BASH TO GET WIN PERCENT White\n",
    "#             commandWhite = \"grep -I '{}'  {} | grep -I '[0]$' | wc -l\".format(moveString, game_file)\n",
    "#             process = subprocess.Popen(commandWhite, stdout=subprocess.PIPE, stderr=None, shell=True)\n",
    "#             output = process.communicate()\n",
    "#             countWhite = int(re.findall('\\d+',str(output))[0])\n",
    "#             #Black\n",
    "#             commandBlack = \"grep -I '{}'  {} | grep -I '[1]$' | wc -l\".format(moveString, game_file)\n",
    "#             process = subprocess.Popen(commandBlack, stdout=subprocess.PIPE, stderr=None, shell=True)\n",
    "#             output = process.communicate()\n",
    "#             countBlack = int(re.findall('\\d+',str(output))[0])\n",
    "#             #Tie\n",
    "#             commandTie = \"grep -I '{}'  {} | grep -I '[2]$' | wc -l\".format(moveString, game_file)\n",
    "#             process = subprocess.Popen(commandTie, stdout=subprocess.PIPE, stderr=None, shell=True)\n",
    "#             output = process.communicate()\n",
    "#             countTie = int(re.findall('\\d+',str(output))[0])\n",
    "            \n",
    "#             #check if fen is new, if yes, and count is high, add new node\n",
    "#             if(currFen not in g.nodes and count>=X): #only add nodes if the sequence has not yet occured and they are frequent enough \n",
    "#                 #stockfish = engine.analyse(board, chess.engine.Limit(time=0.05)) #get stockfish score of fen\n",
    "#                 stockfish.set_fen_position(currFen)\n",
    "                \n",
    "#                 g.add_node(currFen, \n",
    "#                            score = stockfish.get_evaluation()['value'], \n",
    "#                            count = count,\n",
    "# #                            whiteWins = countWhite,\n",
    "# #                            blackWins = countBlack,\n",
    "# #                            tie = countTie,\n",
    "#                            movelist = {parentFen:count}) #make a dict of parent IDs and count\n",
    "#                           # movelist = [[moveString]]) #make a list of moveStrings\n",
    "#                 g.add_edge(parentFen, currFen)\n",
    "#                 parentFen = currFen\n",
    "#             #if fen is not new, check if movestring in list of movestrings, if not, add it and add count  \n",
    "#             elif(count>=X):\n",
    "#                 if(parentFen not in nx.get_node_attributes(g, 'movelist')[currFen]):\n",
    "#                     #nx.get_node_attributes(g, 'movelist')[currFen] = nx.get_node_attributes(g, 'movelist')[currFen].append([moveString])\n",
    "#                     nx.get_node_attributes(g, 'movelist')[currFen][parentFen] = count\n",
    "#                     g.nodes[currFen]['count'] = nx.get_node_attributes(g, 'count')[currFen]+count\n",
    "# #                     g.nodes[currFen]['whiteWins'] = nx.get_node_attributes(g, 'whiteWins')[currFen]+countWhite\n",
    "# #                     g.nodes[currFen]['blackWins'] = nx.get_node_attributes(g, 'blackWins')[currFen]+countBlack\n",
    "# #                     g.nodes[currFen]['tie'] = nx.get_node_attributes(g, 'tie')[currFen]+countTie\n",
    "#                     g.add_edge(parentFen, currFen)\n",
    "#                 parentFen = currFen\n",
    "#             else:\n",
    "#                 break\n",
    "#         except: #skip any errors in the notation that cannot be pushed to a board\n",
    "#             #print(\"EXCEPT\")\n",
    "#             break\n",
    "#     cnt+=1\n",
    "# stop = timeit.default_timer()\n",
    "# print('Time: ', stop - start)\n",
    "# print(\"totalNodes:\",len(g))\n",
    "# print(g.nodes)"
   ]
  }
 ],
 "metadata": {
  "kernelspec": {
   "display_name": "Python 3",
   "language": "python",
   "name": "python3"
  },
  "language_info": {
   "codemirror_mode": {
    "name": "ipython",
    "version": 3
   },
   "file_extension": ".py",
   "mimetype": "text/x-python",
   "name": "python",
   "nbconvert_exporter": "python",
   "pygments_lexer": "ipython3",
   "version": "3.7.6"
  }
 },
 "nbformat": 4,
 "nbformat_minor": 4
}
