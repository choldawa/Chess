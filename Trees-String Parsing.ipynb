{
 "cells": [
  {
   "cell_type": "raw",
   "metadata": {},
   "source": [
    "Issues:\n",
    "    what about circular/repeated moves?\n",
    "    how to store/efficiently search tree (just move or move path?)\n",
    "    how to evaluate move in stockfish-- can we pass in san?\n",
    "    \n",
    "\n",
    "for tress:\n",
    "[need to track: node, all children, frequency of children]\n",
    "1. get list of moves\n",
    "2. first move becomes root\n",
    "3. next move becomes child\n",
    "4. add +1 to child attribute\n",
    "\n",
    "When building tree: iterate through every move\n",
    "generate unique ID (label for that node) -- increment data associated with node\n",
    "Load pgn push move, load board get fen <- now unique id\n",
    "\n",
    "When looking up, go to root, go to child, continue until desired position reached. Get stockfish of all listed children, weighted by frequency\n",
    "\n",
    "\n",
    "unpack games into intermediate step before tree (query)\n",
    "    text file of mainlines\n",
    "    grep strings\n",
    "\n",
    "6/28--------------------------- \n",
    "MAKE JUMBO TXT with all pgn files using grep (concatenate all for final iteration)\n",
    "Store in node:\n",
    "    Full string path (san)\n",
    "    Stockfish score at node\n",
    "    count of instances of node\n",
    "Preprocessing:\n",
    "    We have a txt file with mainlines\n",
    "        Need to split on lines, and parse for simplified san (using regex)\n",
    "How to add to nodes:\n",
    "    pass through each line\n",
    "    For each line:\n",
    "        grab move \n",
    "        push move to board - get board - get fen\n",
    "        calculate stockfish using fen\n",
    "        get line count using grep\n",
    "    Stop (do not add node) when line count too low, move to next game\n",
    "        \n",
    "\n"
   ]
  },
  {
   "cell_type": "code",
   "execution_count": 84,
   "metadata": {},
   "outputs": [],
   "source": [
    "# import pip\n",
    "#!pip install pgnparser\n",
    "#Build a tree\n",
    "import chess\n",
    "import chess.pgn\n",
    "import re\n",
    "from treelib import Node, Tree\n",
    "import chess.engine\n",
    "\n",
    "engine = chess.engine.SimpleEngine.popen_uci(\"./stockfish-10-64\")"
   ]
  },
  {
   "cell_type": "code",
   "execution_count": 37,
   "metadata": {},
   "outputs": [
    {
     "name": "stdout",
     "output_type": "stream",
     "text": [
      "Line 1: 1. e4 e6 2. d4 b6 3. a3 Bb7 4. Nc3 Nh6 5. Bxh6 gxh6 6. Be2 Qg5 7. Bg4 h5 8. Nf3 Qg6 9. Nh4 Qg5 10. Bxh5 Qxh4 11. Qf3 Kd8 12. Qxf7 Nc6 13. Qe8# 1-0\n",
      "Line 2: 1. d4 d5 2. Nf3 Nf6 3. e3 Bf5 4. Nh4 Bg6 5. Nxg6 hxg6 6. Nd2 e6 7. Bd3 Bd6 8. e4 dxe4 9. Nxe4 Rxh2 10. Ke2 Rxh1 11. Qxh1 Nc6 12. Bg5 Ke7 13. Qh7 Nxd4+ 14. Kd2 Qe8 15. Qxg7 Qh8 16. Bxf6+ Kd7 17. Qxh8 Rxh8 18. Bxh8 1-0\n",
      "Line 3: 1. e4 e5 2. Nf3 Nc6 3. Bc4 Nf6 4. Nc3 Bc5 5. a3 Bxf2+ 6. Kxf2 Nd4 7. d3 Ng4+ 8. Kf1 Qf6 9. h3 d5 10. Nxd5 Qe6 11. Nxc7+ 1-0\n",
      "Line 4: 1. e4 c6 2. Nc3 d5 3. Qf3 dxe4 4. Nxe4 Nd7 5. Bc4 Ngf6 6. Nxf6+ Nxf6 7. Qg3 Bf5 8. d3 Bg6 9. Ne2 e6 10. Bf4 Nh5 11. Qf3 Nxf4 12. Nxf4 Be7 13. Bxe6 fxe6 14. Nxe6 Qa5+ 15. c3 Qe5+ 16. Qe3 Qxe3+ 17. fxe3 Kd7 18. Nf4 Bd6 19. Nxg6 hxg6 20. h3 Bg3+ 21. Kd2 Raf8 22. Rhf1 Ke7 23. d4 Rxf1 24. Rxf1 Rf8 25. Rxf8 Kxf8 26. e4 Ke7 27. Ke3 g5 28. Kf3 Be1 29. Kg4 Bd2 30. Kf5 Bc1 31. Kg6 Kf8 32. e5 Bxb2 33. Kxg5 Bxc3 34. h4 Bxd4 35. h5 Bxe5 36. g4 Bb2 37. Kf5 Kf7 38. g5 Bc1 39. g6+ Ke7 40. Ke5 b5 41. Kd4 Kd6 42. Kc3 c5 43. a3 Bg5 44. a4 bxa4 45. Kb2 Kd5 46. Ka3 Kd4 47. Kxa4 c4 0-1\n"
     ]
    }
   ],
   "source": [
    "f = open('Lichess2013mainline.txt', \"r\")\n",
    "mainlineList = []\n",
    "filepath = 'Lichess2013mainline.txt'\n",
    "with open(filepath) as fp:\n",
    "    line = fp.readline()\n",
    "    mainlineList.append(line)\n",
    "    cnt = 1\n",
    "    while cnt <5:\n",
    "        print(\"Line {}: {}\".format(cnt, line.strip()))\n",
    "        line = fp.readline()\n",
    "        mainlineList.append(line)\n",
    "        cnt += 1"
   ]
  },
  {
   "cell_type": "code",
   "execution_count": 38,
   "metadata": {},
   "outputs": [
    {
     "data": {
      "text/plain": [
       "['1. e4 e6 2. d4 b6 3. a3 Bb7 4. Nc3 Nh6 5. Bxh6 gxh6 6. Be2 Qg5 7. Bg4 h5 8. Nf3 Qg6 9. Nh4 Qg5 10. Bxh5 Qxh4 11. Qf3 Kd8 12. Qxf7 Nc6 13. Qe8# 1-0\\n',\n",
       " '1. d4 d5 2. Nf3 Nf6 3. e3 Bf5 4. Nh4 Bg6 5. Nxg6 hxg6 6. Nd2 e6 7. Bd3 Bd6 8. e4 dxe4 9. Nxe4 Rxh2 10. Ke2 Rxh1 11. Qxh1 Nc6 12. Bg5 Ke7 13. Qh7 Nxd4+ 14. Kd2 Qe8 15. Qxg7 Qh8 16. Bxf6+ Kd7 17. Qxh8 Rxh8 18. Bxh8 1-0\\n',\n",
       " '1. e4 e5 2. Nf3 Nc6 3. Bc4 Nf6 4. Nc3 Bc5 5. a3 Bxf2+ 6. Kxf2 Nd4 7. d3 Ng4+ 8. Kf1 Qf6 9. h3 d5 10. Nxd5 Qe6 11. Nxc7+ 1-0\\n',\n",
       " '1. e4 c6 2. Nc3 d5 3. Qf3 dxe4 4. Nxe4 Nd7 5. Bc4 Ngf6 6. Nxf6+ Nxf6 7. Qg3 Bf5 8. d3 Bg6 9. Ne2 e6 10. Bf4 Nh5 11. Qf3 Nxf4 12. Nxf4 Be7 13. Bxe6 fxe6 14. Nxe6 Qa5+ 15. c3 Qe5+ 16. Qe3 Qxe3+ 17. fxe3 Kd7 18. Nf4 Bd6 19. Nxg6 hxg6 20. h3 Bg3+ 21. Kd2 Raf8 22. Rhf1 Ke7 23. d4 Rxf1 24. Rxf1 Rf8 25. Rxf8 Kxf8 26. e4 Ke7 27. Ke3 g5 28. Kf3 Be1 29. Kg4 Bd2 30. Kf5 Bc1 31. Kg6 Kf8 32. e5 Bxb2 33. Kxg5 Bxc3 34. h4 Bxd4 35. h5 Bxe5 36. g4 Bb2 37. Kf5 Kf7 38. g5 Bc1 39. g6+ Ke7 40. Ke5 b5 41. Kd4 Kd6 42. Kc3 c5 43. a3 Bg5 44. a4 bxa4 45. Kb2 Kd5 46. Ka3 Kd4 47. Kxa4 c4 0-1\\n',\n",
       " '1. e4 e6 2. f4 d5 3. e5 c5 4. Nf3 Qb6 5. c3 Nc6 6. d3 Bd7 7. Be2 Nh6 8. O-O Nf5 9. g4 Nh6 10. Kg2 Nxg4 11. h3 Nh6 12. Ng5 Nf5 13. Bg4 Nce7 14. Nd2 Ne3+ 15. Kf3 Nxd1 16. Rxd1 h6 17. Nxf7 Kxf7 18. Rf1 h5 19. Bxe6+ Bxe6 20. Kg3 Nf5+ 21. Kg2 Ne3+ 22. Kf2 Nxf1 23. Kxf1 Bxh3+ 0-1\\n']"
      ]
     },
     "execution_count": 38,
     "metadata": {},
     "output_type": "execute_result"
    }
   ],
   "source": [
    "mainlineList"
   ]
  },
  {
   "cell_type": "code",
   "execution_count": 2,
   "metadata": {},
   "outputs": [],
   "source": [
    "# pgn_mega = open(\"lichess 2013-01.pgn\")\n",
    "# gameList = []\n",
    "# for i in range(1,10):\n",
    "#     gameList.append(chess.pgn.read_game(pgn_mega))\n",
    "# game = gameList[0]"
   ]
  },
  {
   "cell_type": "code",
   "execution_count": 39,
   "metadata": {},
   "outputs": [],
   "source": [
    "def processMainline(mainlineString):\n",
    "    out = ''\n",
    "    for move in re.split('\\s?\\d+\\.\\s',mainlineString):\n",
    "        out = out+re.sub(r'\\W+', ' ',move) + ' '\n",
    "    move_list = re.split('\\s',out)\n",
    "    while(\"\" in move_list) : \n",
    "        move_list.remove(\"\")\n",
    "    return move_list"
   ]
  },
  {
   "cell_type": "code",
   "execution_count": 40,
   "metadata": {},
   "outputs": [
    {
     "name": "stdout",
     "output_type": "stream",
     "text": [
      "[['e4', 'e6', 'd4', 'b6', 'a3', 'Bb7', 'Nc3', 'Nh6', 'Bxh6', 'gxh6', 'Be2', 'Qg5', 'Bg4', 'h5', 'Nf3', 'Qg6', 'Nh4', 'Qg5', 'Bxh5', 'Qxh4', 'Qf3', 'Kd8', 'Qxf7', 'Nc6', 'Qe8', '1', '0'], ['d4', 'd5', 'Nf3', 'Nf6', 'e3', 'Bf5', 'Nh4', 'Bg6', 'Nxg6', 'hxg6', 'Nd2', 'e6', 'Bd3', 'Bd6', 'e4', 'dxe4', 'Nxe4', 'Rxh2', 'Ke2', 'Rxh1', 'Qxh1', 'Nc6', 'Bg5', 'Ke7', 'Qh7', 'Nxd4', 'Kd2', 'Qe8', 'Qxg7', 'Qh8', 'Bxf6', 'Kd7', 'Qxh8', 'Rxh8', 'Bxh8', '1', '0'], ['e4', 'e5', 'Nf3', 'Nc6', 'Bc4', 'Nf6', 'Nc3', 'Bc5', 'a3', 'Bxf2', 'Kxf2', 'Nd4', 'd3', 'Ng4', 'Kf1', 'Qf6', 'h3', 'd5', 'Nxd5', 'Qe6', 'Nxc7', '1', '0'], ['e4', 'c6', 'Nc3', 'd5', 'Qf3', 'dxe4', 'Nxe4', 'Nd7', 'Bc4', 'Ngf6', 'Nxf6', 'Nxf6', 'Qg3', 'Bf5', 'd3', 'Bg6', 'Ne2', 'e6', 'Bf4', 'Nh5', 'Qf3', 'Nxf4', 'Nxf4', 'Be7', 'Bxe6', 'fxe6', 'Nxe6', 'Qa5', 'c3', 'Qe5', 'Qe3', 'Qxe3', 'fxe3', 'Kd7', 'Nf4', 'Bd6', 'Nxg6', 'hxg6', 'h3', 'Bg3', 'Kd2', 'Raf8', 'Rhf1', 'Ke7', 'd4', 'Rxf1', 'Rxf1', 'Rf8', 'Rxf8', 'Kxf8', 'e4', 'Ke7', 'Ke3', 'g5', 'Kf3', 'Be1', 'Kg4', 'Bd2', 'Kf5', 'Bc1', 'Kg6', 'Kf8', 'e5', 'Bxb2', 'Kxg5', 'Bxc3', 'h4', 'Bxd4', 'h5', 'Bxe5', 'g4', 'Bb2', 'Kf5', 'Kf7', 'g5', 'Bc1', 'g6', 'Ke7', 'Ke5', 'b5', 'Kd4', 'Kd6', 'Kc3', 'c5', 'a3', 'Bg5', 'a4', 'bxa4', 'Kb2', 'Kd5', 'Ka3', 'Kd4', 'Kxa4', 'c4', '0', '1'], ['e4', 'e6', 'f4', 'd5', 'e5', 'c5', 'Nf3', 'Qb6', 'c3', 'Nc6', 'd3', 'Bd7', 'Be2', 'Nh6', 'O', 'O', 'Nf5', 'g4', 'Nh6', 'Kg2', 'Nxg4', 'h3', 'Nh6', 'Ng5', 'Nf5', 'Bg4', 'Nce7', 'Nd2', 'Ne3', 'Kf3', 'Nxd1', 'Rxd1', 'h6', 'Nxf7', 'Kxf7', 'Rf1', 'h5', 'Bxe6', 'Bxe6', 'Kg3', 'Nf5', 'Kg2', 'Ne3', 'Kf2', 'Nxf1', 'Kxf1', 'Bxh3', '0', '1']]\n"
     ]
    }
   ],
   "source": [
    "stringList = []\n",
    "for mainLine in mainlineList:\n",
    "    stringList.append(processMainline(mainLine))\n",
    "print(stringList)"
   ]
  },
  {
   "cell_type": "code",
   "execution_count": 41,
   "metadata": {},
   "outputs": [],
   "source": [
    "# moves = []\n",
    "# for move in re.split('\\s?\\d+\\.\\s',str(game.mainline())):\n",
    "#     moves.append(re.sub(r'\\W+', ' ',move))\n",
    "# print(moves)"
   ]
  },
  {
   "cell_type": "code",
   "execution_count": 42,
   "metadata": {},
   "outputs": [],
   "source": [
    "# #string of moves\n",
    "# strings = ''\n",
    "# for move in re.split('\\s?\\d+\\.\\s',str(game.mainline())):\n",
    "#     strings = strings+re.sub(r'\\W+', ' ',move) + ' '\n",
    "# print(strings)"
   ]
  },
  {
   "cell_type": "code",
   "execution_count": 43,
   "metadata": {},
   "outputs": [],
   "source": [
    "# move_list = re.split('\\s',strings)\n",
    "# while(\"\" in move_list) : \n",
    "#     move_list.remove(\"\")\n",
    "# print(move_list)\n",
    "#move_list = ['root'] + move_list\n",
    "#print(move_list)"
   ]
  },
  {
   "cell_type": "markdown",
   "metadata": {},
   "source": [
    "## Build tree"
   ]
  },
  {
   "cell_type": "code",
   "execution_count": 153,
   "metadata": {},
   "outputs": [
    {
     "name": "stdout",
     "output_type": "stream",
     "text": [
      "e4 e4\n",
      "e4\n",
      "d4 d4\n"
     ]
    }
   ],
   "source": [
    "tree = Tree() #instantiate tree\n",
    "tree.create_node('root', 'root', data = 1)\n",
    "X = 10 #set pruning limit (don't add moves with less than X instances)\n",
    "parentID = ''\n",
    "for string in stringList: #loop through pre-processed games now as san strings\n",
    "    board = chess.Board() #instantiate blank board\n",
    "    moveString = '' #instantiate empty list to append moves to (for unique id)\n",
    "    count = 1\n",
    "    for move in string: #loop through all moves in single game\n",
    "        moveString +=move\n",
    "        try:\n",
    "            board.push_san(move) #push the move to the board\n",
    "            currFen = board.fen() #get the fen from the board\n",
    "            #count = 1 #count the instances of this sequence of moves in mega game file (grep?)\n",
    "            if((tree.get_node(moveString) == None) & (count < X)): #only add nodes if the sequence has not yet occured (HOW TO CHECK?) and they are frequent enough \n",
    "\n",
    "                stockfish = engine.analyse(board, chess.engine.Limit(time=0.05)) #get stockfish score of fen\n",
    "                if(string[0] == move): #handle first moves, add to root\n",
    "                    print(move, moveString)\n",
    "                    tree.create_node(tag = move, #add node, tag is move, unique id is sequence of moves, \n",
    "                                     identifier = MoveString, \n",
    "                                     parent = 'root', #parent is last set of moves\n",
    "                                     data =[count,int(re.split('\\+|-', str(stockfish['score']))[1])])\n",
    "                                     #data = {cnt: count, sf: stockfish['score']}) #store count of instances and associated stockfish score\n",
    "                    print(moveString)\n",
    "                else:\n",
    "                    tree.create_node(tag = move, #add node, tagis move, unique id is sequence of moves, \n",
    "                                     identifier = moveString, \n",
    "                                     parent = parentID, #parent is last set of moves\n",
    "                                     data =[count,int(re.split('\\+|-', str(stockfish['score']))[1])])\n",
    "                                 #data = {\"cnt\": count, \"sf\": stockfish['score']}) #store count of instances and associated stockfish score\n",
    "            count+=1\n",
    "            parentID = moveString\n",
    "        except:\n",
    "            continue"
   ]
  },
  {
   "cell_type": "code",
   "execution_count": 158,
   "metadata": {},
   "outputs": [
    {
     "name": "stdout",
     "output_type": "stream",
     "text": [
      "[2, 118]\n"
     ]
    }
   ],
   "source": [
    "print(tree.get_node('e4c6').data)"
   ]
  },
  {
   "cell_type": "code",
   "execution_count": 157,
   "metadata": {
    "scrolled": true
   },
   "outputs": [
    {
     "name": "stdout",
     "output_type": "stream",
     "text": [
      "root\n",
      "└── e4\n",
      "    ├── c6\n",
      "    │   └── Nc3\n",
      "    │       └── d5\n",
      "    │           └── Qf3\n",
      "    │               └── dxe4\n",
      "    │                   └── Nxe4\n",
      "    │                       └── Nd7\n",
      "    │                           └── Bc4\n",
      "    ├── e5\n",
      "    │   └── Nf3\n",
      "    │       └── Nc6\n",
      "    │           └── Bc4\n",
      "    │               └── Nf6\n",
      "    │                   └── Nc3\n",
      "    │                       └── Bc5\n",
      "    │                           └── a3\n",
      "    └── e6\n",
      "        ├── d4\n",
      "        │   └── b6\n",
      "        │       └── a3\n",
      "        │           └── Bb7\n",
      "        │               └── Nc3\n",
      "        │                   └── Nh6\n",
      "        │                       └── Bxh6\n",
      "        └── f4\n",
      "            └── d5\n",
      "                └── e5\n",
      "                    └── c5\n",
      "                        └── Nf3\n",
      "                            └── Qb6\n",
      "                                └── c3\n",
      "\n"
     ]
    }
   ],
   "source": [
    "print(tree)"
   ]
  },
  {
   "cell_type": "code",
   "execution_count": 114,
   "metadata": {},
   "outputs": [
    {
     "name": "stdout",
     "output_type": "stream",
     "text": [
      "-36\n"
     ]
    },
    {
     "data": {
      "text/plain": [
       "'42'"
      ]
     },
     "execution_count": 114,
     "metadata": {},
     "output_type": "execute_result"
    }
   ],
   "source": [
    "stockfish = engine.analyse(board, chess.engine.Limit(time=0.05))\n",
    "info2 = engine.analyse(board, chess.engine.Limit(time=0.05))\n",
    "print(stockfish['score'])\n",
    "re.split('\\+|-', str(info2['score']))[1]"
   ]
  },
  {
   "cell_type": "code",
   "execution_count": 111,
   "metadata": {},
   "outputs": [
    {
     "data": {
      "text/plain": [
       "'-25'"
      ]
     },
     "execution_count": 111,
     "metadata": {},
     "output_type": "execute_result"
    }
   ],
   "source": [
    "str(info2['score'])"
   ]
  },
  {
   "cell_type": "code",
   "execution_count": 86,
   "metadata": {},
   "outputs": [
    {
     "name": "stdout",
     "output_type": "stream",
     "text": [
      "[1, PovScore(Cp(-77), BLACK)]\n"
     ]
    }
   ],
   "source": [
    "print(tree.get_node('e4').data)"
   ]
  },
  {
   "cell_type": "code",
   "execution_count": 70,
   "metadata": {},
   "outputs": [
    {
     "name": "stdout",
     "output_type": "stream",
     "text": [
      "el: a\n",
      "yes\n",
      "el: b\n"
     ]
    }
   ],
   "source": [
    "ls = ['a','b']\n",
    "for i, el in enumerate(ls):\n",
    "    print(\"el:\", el)\n",
    "    if ls[i] == 'a':\n",
    "        print('yes')"
   ]
  },
  {
   "cell_type": "code",
   "execution_count": 11,
   "metadata": {},
   "outputs": [
    {
     "name": "stdout",
     "output_type": "stream",
     "text": [
      "a\n",
      "├── b\n",
      "└── b\n",
      "\n"
     ]
    }
   ],
   "source": [
    "move_tree = Tree()\n",
    "move_tree.create_node('a', 'a', data = 1)\n",
    "move_tree.create_node('b', 'b', parent = 'a', data = 1)\n",
    "move_tree.create_node('b', 'c', parent = 'a', data = 1)\n",
    "print(move_tree)"
   ]
  },
  {
   "cell_type": "code",
   "execution_count": null,
   "metadata": {},
   "outputs": [],
   "source": [
    "bStr = ['b']"
   ]
  },
  {
   "cell_type": "code",
   "execution_count": 48,
   "metadata": {},
   "outputs": [
    {
     "name": "stdout",
     "output_type": "stream",
     "text": [
      "<class 'str'>\n",
      "<class 'str'>\n",
      "<class 'str'>\n",
      "<class 'str'>\n",
      "<class 'str'>\n",
      "<class 'str'>\n",
      "<class 'str'>\n",
      "<class 'str'>\n",
      "<class 'str'>\n",
      "<class 'str'>\n",
      "Score: +167\n"
     ]
    }
   ],
   "source": [
    "import chess\n",
    "import chess.engine\n",
    "\n",
    "engine = chess.engine.SimpleEngine.popen_uci(\"./stockfish-10-64\")\n",
    "\n",
    "scores = []\n",
    "board = chess.Board()\n",
    "for move in stringList[0][0:10]:\n",
    "    print(type(move))\n",
    "    board.push_san(move)\n",
    "    #print(board.board_fen())\n",
    "    \n",
    "#info = engine.analyse(board, chess.engine.Limit(depth=20)) #seems about same as below, but slower\n",
    "#info1 = engine.analyse(board, chess.engine.Limit(time=0.1))\n",
    "stockfish = engine.analyse(board, chess.engine.Limit(time=0.05))\n",
    "#print(\"Score:\", info[\"score\"])\n",
    "#print(\"Score:\", info1[\"score\"])\n",
    "print(\"Score:\", stockfish[\"score\"])"
   ]
  },
  {
   "cell_type": "code",
   "execution_count": 34,
   "metadata": {},
   "outputs": [
    {
     "name": "stdout",
     "output_type": "stream",
     "text": [
      "True\n"
     ]
    }
   ],
   "source": [
    "print(move_tree.get_node('d') == None)"
   ]
  },
  {
   "cell_type": "code",
   "execution_count": 2,
   "metadata": {},
   "outputs": [
    {
     "ename": "NameError",
     "evalue": "name 'Tree' is not defined",
     "output_type": "error",
     "traceback": [
      "\u001b[0;31m---------------------------------------------------------------------------\u001b[0m",
      "\u001b[0;31mNameError\u001b[0m                                 Traceback (most recent call last)",
      "\u001b[0;32m<ipython-input-2-2d83a7a1eea2>\u001b[0m in \u001b[0;36m<module>\u001b[0;34m\u001b[0m\n\u001b[0;32m----> 1\u001b[0;31m \u001b[0mmove_tree\u001b[0m \u001b[0;34m=\u001b[0m \u001b[0mTree\u001b[0m\u001b[0;34m(\u001b[0m\u001b[0;34m)\u001b[0m\u001b[0;34m\u001b[0m\u001b[0;34m\u001b[0m\u001b[0m\n\u001b[0m\u001b[1;32m      2\u001b[0m \u001b[0;32mfor\u001b[0m \u001b[0mi\u001b[0m\u001b[0;34m,\u001b[0m \u001b[0mmove\u001b[0m \u001b[0;32min\u001b[0m \u001b[0menumerate\u001b[0m\u001b[0;34m(\u001b[0m\u001b[0mmove_list\u001b[0m\u001b[0;34m)\u001b[0m\u001b[0;34m:\u001b[0m\u001b[0;34m\u001b[0m\u001b[0;34m\u001b[0m\u001b[0m\n\u001b[1;32m      3\u001b[0m     \u001b[0;32mif\u001b[0m \u001b[0mmove_tree\u001b[0m\u001b[0;34m.\u001b[0m\u001b[0mget_node\u001b[0m\u001b[0;34m(\u001b[0m\u001b[0mmove_list\u001b[0m\u001b[0;34m[\u001b[0m\u001b[0mi\u001b[0m\u001b[0;34m]\u001b[0m\u001b[0;34m)\u001b[0m \u001b[0;32mis\u001b[0m \u001b[0;32mNone\u001b[0m\u001b[0;34m:\u001b[0m\u001b[0;34m\u001b[0m\u001b[0;34m\u001b[0m\u001b[0m\n\u001b[1;32m      4\u001b[0m         \u001b[0;32mif\u001b[0m\u001b[0;34m(\u001b[0m\u001b[0mi\u001b[0m \u001b[0;34m==\u001b[0m\u001b[0;36m0\u001b[0m\u001b[0;34m)\u001b[0m\u001b[0;34m:\u001b[0m\u001b[0;34m\u001b[0m\u001b[0;34m\u001b[0m\u001b[0m\n\u001b[1;32m      5\u001b[0m             \u001b[0mmove_tree\u001b[0m\u001b[0;34m.\u001b[0m\u001b[0mcreate_node\u001b[0m\u001b[0;34m(\u001b[0m\u001b[0mmove_list\u001b[0m\u001b[0;34m[\u001b[0m\u001b[0mi\u001b[0m\u001b[0;34m]\u001b[0m\u001b[0;34m,\u001b[0m \u001b[0mmove_list\u001b[0m\u001b[0;34m[\u001b[0m\u001b[0mi\u001b[0m\u001b[0;34m]\u001b[0m\u001b[0;34m,\u001b[0m \u001b[0mdata\u001b[0m \u001b[0;34m=\u001b[0m \u001b[0;36m1\u001b[0m\u001b[0;34m)\u001b[0m\u001b[0;34m\u001b[0m\u001b[0;34m\u001b[0m\u001b[0m\n",
      "\u001b[0;31mNameError\u001b[0m: name 'Tree' is not defined"
     ]
    }
   ],
   "source": [
    "move_tree = Tree()\n",
    "for i, move in enumerate(move_list):\n",
    "    if move_tree.get_node(move_list[i]) is None:\n",
    "        if(i ==0):\n",
    "            move_tree.create_node(move_list[i], move_list[i], data = 1)\n",
    "        else:\n",
    "            move_tree.create_node(move_list[i], move_list[i], parent = move_list[i-1], data = 1)\n",
    "    else:\n",
    "        move_tree.get_node(move_list[i-1]).data+=1\n"
   ]
  },
  {
   "cell_type": "code",
   "execution_count": 31,
   "metadata": {},
   "outputs": [
    {
     "name": "stdout",
     "output_type": "stream",
     "text": [
      "[['root', 'e4', 'e6', 'd4', 'b6', 'a3', 'Bb7', 'Nc3', 'Nh6', 'Bxh6', 'gxh6', 'Be2', 'Qg5', 'Bg4', 'h5', 'Nf3', 'Qg6', 'Nh4', 'Qg5', 'Bxh5', 'Qxh4', 'Qf3', 'Kd8', 'Qxf7', 'Nc6', 'Qe8'], ['root', 'e4', 'e6', 'd4', 'b6', 'a3', 'Bb7', 'Nc3', 'Nh6', 'Bxh6', 'test', 'test2']]\n"
     ]
    }
   ],
   "source": [
    "move_list2 = move_list[0:10] + ['test', 'test2']\n",
    "move_list_full = [move_list, move_list2]\n",
    "print(move_list_full)"
   ]
  },
  {
   "cell_type": "code",
   "execution_count": 32,
   "metadata": {},
   "outputs": [],
   "source": [
    "move_tree = Tree()\n",
    "for move_list in move_list_full:\n",
    "#     print (move_list)\n",
    "    for i, move in enumerate(move_list):\n",
    "#         print(move)\n",
    "        if move_tree.get_node(move_list[i]) is None:\n",
    "            if(i ==0):\n",
    "                move_tree.create_node(move_list[i], move_list[i], data = 1)\n",
    "            else:\n",
    "                move_tree.create_node(move_list[i], move_list[i], parent = move_list[i-1], data = 1)\n",
    "        else:\n",
    "            if(i!=0):\n",
    "                move_tree.get_node(move_list[i-1]).data+=1"
   ]
  },
  {
   "cell_type": "code",
   "execution_count": 14,
   "metadata": {},
   "outputs": [
    {
     "data": {
      "text/plain": [
       "'gxh6'"
      ]
     },
     "execution_count": 14,
     "metadata": {},
     "output_type": "execute_result"
    }
   ],
   "source": [
    "move_tree.children('Bxh6')[0].tag"
   ]
  },
  {
   "cell_type": "code",
   "execution_count": 35,
   "metadata": {},
   "outputs": [
    {
     "name": "stdout",
     "output_type": "stream",
     "text": [
      "1\n",
      "root\n",
      "└── e4\n",
      "    └── e6\n",
      "        └── d4\n",
      "            └── b6\n",
      "                └── a3\n",
      "                    └── Bb7\n",
      "                        └── Nc3\n",
      "                            └── Nh6\n",
      "                                └── Bxh6\n",
      "                                    ├── gxh6\n",
      "                                    │   └── Be2\n",
      "                                    │       └── Qg5\n",
      "                                    │           ├── Bg4\n",
      "                                    │           │   └── h5\n",
      "                                    │           │       └── Nf3\n",
      "                                    │           │           └── Qg6\n",
      "                                    │           │               └── Nh4\n",
      "                                    │           └── Bxh5\n",
      "                                    │               └── Qxh4\n",
      "                                    │                   └── Qf3\n",
      "                                    │                       └── Kd8\n",
      "                                    │                           └── Qxf7\n",
      "                                    │                               └── Nc6\n",
      "                                    │                                   └── Qe8\n",
      "                                    └── test\n",
      "                                        └── test2\n",
      "\n"
     ]
    }
   ],
   "source": [
    "print(move_tree.get_node('test2').data)\n",
    "print(move_tree)"
   ]
  },
  {
   "cell_type": "code",
   "execution_count": 16,
   "metadata": {},
   "outputs": [],
   "source": [
    "# import pip\n",
    "# !pip install chessmoves\n",
    "#import chessmoves"
   ]
  },
  {
   "cell_type": "code",
   "execution_count": 17,
   "metadata": {},
   "outputs": [],
   "source": [
    "# import pip\n",
    "# !pip install stockfish\n",
    "from stockfish import Stockfish\n",
    "stockfish = Stockfish(\"./stockfish-10-64\")\n"
   ]
  },
  {
   "cell_type": "code",
   "execution_count": 38,
   "metadata": {},
   "outputs": [
    {
     "data": {
      "text/plain": [
       "{'type': 'cp', 'value': 74}"
      ]
     },
     "execution_count": 38,
     "metadata": {},
     "output_type": "execute_result"
    }
   ],
   "source": [
    "stockfish.set_position([\"e2e4\", \"e7e6\", \"d2d4\"]) #only takes lan and fen??\n",
    "stockfish.get_evaluation()"
   ]
  },
  {
   "cell_type": "code",
   "execution_count": 14,
   "metadata": {},
   "outputs": [
    {
     "ename": "NameError",
     "evalue": "name 'board' is not defined",
     "output_type": "error",
     "traceback": [
      "\u001b[0;31m---------------------------------------------------------------------------\u001b[0m",
      "\u001b[0;31mNameError\u001b[0m                                 Traceback (most recent call last)",
      "\u001b[0;32m<ipython-input-14-68592f0f13cd>\u001b[0m in \u001b[0;36m<module>\u001b[0;34m\u001b[0m\n\u001b[0;32m----> 1\u001b[0;31m \u001b[0mprint\u001b[0m\u001b[0;34m(\u001b[0m\u001b[0mboard\u001b[0m\u001b[0;34m.\u001b[0m\u001b[0mfen\u001b[0m\u001b[0;34m(\u001b[0m\u001b[0;34m)\u001b[0m\u001b[0;34m)\u001b[0m\u001b[0;34m\u001b[0m\u001b[0;34m\u001b[0m\u001b[0m\n\u001b[0m\u001b[1;32m      2\u001b[0m \u001b[0mprint\u001b[0m\u001b[0;34m(\u001b[0m\u001b[0mboard\u001b[0m\u001b[0;34m.\u001b[0m\u001b[0mboard_fen\u001b[0m\u001b[0;34m(\u001b[0m\u001b[0;34m)\u001b[0m\u001b[0;34m)\u001b[0m\u001b[0;34m\u001b[0m\u001b[0;34m\u001b[0m\u001b[0m\n\u001b[1;32m      3\u001b[0m \u001b[0mprint\u001b[0m\u001b[0;34m(\u001b[0m\u001b[0mboard\u001b[0m\u001b[0;34m.\u001b[0m\u001b[0mcastling_shredder_fen\u001b[0m\u001b[0;34m)\u001b[0m\u001b[0;34m\u001b[0m\u001b[0;34m\u001b[0m\u001b[0m\n\u001b[1;32m      4\u001b[0m \u001b[0mprint\u001b[0m\u001b[0;34m(\u001b[0m\u001b[0mboard\u001b[0m\u001b[0;34m.\u001b[0m\u001b[0mcastling_xfen\u001b[0m\u001b[0;34m)\u001b[0m\u001b[0;34m\u001b[0m\u001b[0;34m\u001b[0m\u001b[0m\n\u001b[1;32m      5\u001b[0m \u001b[0mprint\u001b[0m\u001b[0;34m(\u001b[0m\u001b[0mboard\u001b[0m\u001b[0;34m.\u001b[0m\u001b[0mlan\u001b[0m\u001b[0;34m)\u001b[0m\u001b[0;34m\u001b[0m\u001b[0;34m\u001b[0m\u001b[0m\n",
      "\u001b[0;31mNameError\u001b[0m: name 'board' is not defined"
     ]
    }
   ],
   "source": [
    "print(board.fen())\n",
    "print(board.board_fen())\n",
    "print(board.castling_shredder_fen)\n",
    "print(board.castling_xfen)\n",
    "print(board.lan)\n",
    "print(board.parse_san)\n",
    "print(board.san)\n",
    "print(board.shredder_fen())\n",
    "print(board.starting_fen)"
   ]
  },
  {
   "cell_type": "code",
   "execution_count": 33,
   "metadata": {},
   "outputs": [
    {
     "data": {
      "text/plain": [
       "<bound method Board.fen of Board('rn1qkb1r/pbpp1p1p/1p2p2p/8/3PP3/P1N5/1PP2PPP/R2QKBNR w KQkq - 0 6')>"
      ]
     },
     "execution_count": 33,
     "metadata": {},
     "output_type": "execute_result"
    }
   ],
   "source": [
    "board.fen"
   ]
  }
 ],
 "metadata": {
  "kernelspec": {
   "display_name": "Python 3",
   "language": "python",
   "name": "python3"
  },
  "language_info": {
   "codemirror_mode": {
    "name": "ipython",
    "version": 3
   },
   "file_extension": ".py",
   "mimetype": "text/x-python",
   "name": "python",
   "nbconvert_exporter": "python",
   "pygments_lexer": "ipython3",
   "version": "3.7.6"
  }
 },
 "nbformat": 4,
 "nbformat_minor": 4
}
