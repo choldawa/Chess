{
 "cells": [
  {
   "cell_type": "code",
   "execution_count": 1,
   "metadata": {},
   "outputs": [],
   "source": [
    "import sys\n",
    "import networkx as nx\n",
    "import matplotlib as plt\n",
    "import numpy as np\n",
    "import re\n",
    "import chess\n",
    "import subprocess\n",
    "import timeit\n",
    "import pickle\n",
    "import stockfish\n",
    "from stockfish import Stockfish\n",
    "import chess\n",
    "import chess.engine\n",
    "import pandas as pd\n",
    "\n",
    "engine = chess.engine.SimpleEngine.popen_uci(\"../stockfish-10-64\")\n",
    "stockfish = Stockfish(\"../stockfish-10-64\")"
   ]
  },
  {
   "cell_type": "code",
   "execution_count": 2,
   "metadata": {},
   "outputs": [],
   "source": [
    "def varWeighted(scores, counts):\n",
    "    if (len(counts)<2):\n",
    "        return None\n",
    "    else:\n",
    "        weightedMean = sum([a*b for a,b in zip(scores,counts)])/sum(counts)\n",
    "        scoreDiffs = [(score - weightedMean)**2 for score in scores]\n",
    "        V1 = sum(counts)\n",
    "        V2 = sum([count**2 for count in counts])\n",
    "        var = (V1/(V1**2-V2)) * sum([a*b for a,b in zip(counts,scoreDiffs)])\n",
    "        return var\n",
    "    \n",
    "def get_score(san):\n",
    "    board = chess.Board()\n",
    "    for move in san:\n",
    "        board.push_san(move)\n",
    "    currFen = board.fen()\n",
    "    score = engine.analyse(board, chess.engine.Limit(time=.05), info=chess.engine.INFO_SCORE)\n",
    "    if('#' in str(score['score'])):\n",
    "        if('-' in str(score['score'])):\n",
    "            return -39765\n",
    "        else:\n",
    "            return 39765\n",
    "    else:\n",
    "        score = int(str(score[\"score\"]))\n",
    "    return score\n",
    "\n",
    "def san_to_fen(san):\n",
    "    board = chess.Board()\n",
    "    for move in san:\n",
    "        board.push_san(move)\n",
    "    currFen = board.fen()\n",
    "    return currFen\n",
    "\n",
    "def get_node_sd(node):\n",
    "    scores = []\n",
    "    counts = []\n",
    "    try:\n",
    "        for neighbor in list(g.neighbors(node)):\n",
    "            scores.append(nx.get_node_attributes(g, 'score')[neighbor])\n",
    "            counts.append(nx.get_node_attributes(g, 'movelistCount')[neighbor][node])\n",
    "        return node, np.sqrt(varWeighted(scores,counts))\n",
    "    except:\n",
    "        return node, None"
   ]
  },
  {
   "cell_type": "code",
   "execution_count": 3,
   "metadata": {},
   "outputs": [
    {
     "data": {
      "text/plain": [
       "10346"
      ]
     },
     "execution_count": 3,
     "metadata": {},
     "output_type": "execute_result"
    }
   ],
   "source": [
    "g = nx.read_gpickle('full690k.gpickle')\n",
    "len(g.nodes())"
   ]
  },
  {
   "cell_type": "code",
   "execution_count": 4,
   "metadata": {},
   "outputs": [],
   "source": [
    "import pandas as pd\n",
    "import glob\n",
    "\n",
    "path = r'../eco_files/' # use your path\n",
    "all_files = glob.glob(path + \"/*.tsv\")\n",
    "\n",
    "li = []\n",
    "\n",
    "for filename in all_files:\n",
    "    df = pd.read_csv(filename, index_col=None, header=0, sep = '\\t')\n",
    "    li.append(df)\n",
    "\n",
    "eco_df = pd.concat(li, axis=0, ignore_index=True)"
   ]
  },
  {
   "cell_type": "code",
   "execution_count": 5,
   "metadata": {},
   "outputs": [
    {
     "name": "stdout",
     "output_type": "stream",
     "text": [
      "(3402, 4)\n"
     ]
    },
    {
     "data": {
      "text/html": [
       "<div>\n",
       "<style scoped>\n",
       "    .dataframe tbody tr th:only-of-type {\n",
       "        vertical-align: middle;\n",
       "    }\n",
       "\n",
       "    .dataframe tbody tr th {\n",
       "        vertical-align: top;\n",
       "    }\n",
       "\n",
       "    .dataframe thead th {\n",
       "        text-align: right;\n",
       "    }\n",
       "</style>\n",
       "<table border=\"1\" class=\"dataframe\">\n",
       "  <thead>\n",
       "    <tr style=\"text-align: right;\">\n",
       "      <th></th>\n",
       "      <th>eco</th>\n",
       "      <th>name</th>\n",
       "      <th>fen</th>\n",
       "      <th>moves</th>\n",
       "    </tr>\n",
       "  </thead>\n",
       "  <tbody>\n",
       "    <tr>\n",
       "      <th>0</th>\n",
       "      <td>E00</td>\n",
       "      <td>Catalan Opening: Hungarian Gambit</td>\n",
       "      <td>rnbqkb1r/pppp1ppp/5n2/4p3/2PP4/6P1/PP2PP1P/RNB...</td>\n",
       "      <td>d2d4 g8f6 c2c4 e7e6 g2g3 e6e5</td>\n",
       "    </tr>\n",
       "    <tr>\n",
       "      <th>1</th>\n",
       "      <td>E00</td>\n",
       "      <td>Catalan Opening</td>\n",
       "      <td>rnbqkb1r/ppp2ppp/4pn2/3p4/2PP4/6P1/PP2PP1P/RNB...</td>\n",
       "      <td>d2d4 g8f6 c2c4 e7e6 g2g3 d7d5</td>\n",
       "    </tr>\n",
       "    <tr>\n",
       "      <th>2</th>\n",
       "      <td>E00</td>\n",
       "      <td>Catalan Opening</td>\n",
       "      <td>rnbqkb1r/pppp1ppp/4pn2/8/2PP4/6P1/PP2PP1P/RNBQ...</td>\n",
       "      <td>d2d4 g8f6 c2c4 e7e6 g2g3</td>\n",
       "    </tr>\n",
       "    <tr>\n",
       "      <th>3</th>\n",
       "      <td>E00</td>\n",
       "      <td>Indian Game: Devin Gambit</td>\n",
       "      <td>rnbqkb1r/pppp1ppp/4pn2/8/2PP2P1/8/PP2PP1P/RNBQ...</td>\n",
       "      <td>d2d4 g8f6 c2c4 e7e6 g2g4</td>\n",
       "    </tr>\n",
       "    <tr>\n",
       "      <th>4</th>\n",
       "      <td>E00</td>\n",
       "      <td>Indian Game</td>\n",
       "      <td>rnbqkb1r/pppp1ppp/4pn2/8/2PP4/1Q6/PP2PPPP/RNB1...</td>\n",
       "      <td>d2d4 g8f6 c2c4 e7e6 d1b3</td>\n",
       "    </tr>\n",
       "  </tbody>\n",
       "</table>\n",
       "</div>"
      ],
      "text/plain": [
       "   eco                               name  \\\n",
       "0  E00  Catalan Opening: Hungarian Gambit   \n",
       "1  E00                    Catalan Opening   \n",
       "2  E00                    Catalan Opening   \n",
       "3  E00          Indian Game: Devin Gambit   \n",
       "4  E00                        Indian Game   \n",
       "\n",
       "                                                 fen  \\\n",
       "0  rnbqkb1r/pppp1ppp/5n2/4p3/2PP4/6P1/PP2PP1P/RNB...   \n",
       "1  rnbqkb1r/ppp2ppp/4pn2/3p4/2PP4/6P1/PP2PP1P/RNB...   \n",
       "2  rnbqkb1r/pppp1ppp/4pn2/8/2PP4/6P1/PP2PP1P/RNBQ...   \n",
       "3  rnbqkb1r/pppp1ppp/4pn2/8/2PP2P1/8/PP2PP1P/RNBQ...   \n",
       "4  rnbqkb1r/pppp1ppp/4pn2/8/2PP4/1Q6/PP2PPPP/RNB1...   \n",
       "\n",
       "                           moves  \n",
       "0  d2d4 g8f6 c2c4 e7e6 g2g3 e6e5  \n",
       "1  d2d4 g8f6 c2c4 e7e6 g2g3 d7d5  \n",
       "2       d2d4 g8f6 c2c4 e7e6 g2g3  \n",
       "3       d2d4 g8f6 c2c4 e7e6 g2g4  \n",
       "4       d2d4 g8f6 c2c4 e7e6 d1b3  "
      ]
     },
     "execution_count": 5,
     "metadata": {},
     "output_type": "execute_result"
    }
   ],
   "source": [
    "print(eco_df.shape)\n",
    "eco_df.head()"
   ]
  },
  {
   "cell_type": "code",
   "execution_count": 6,
   "metadata": {},
   "outputs": [],
   "source": [
    "eco_list = list(eco_df['fen'])\n",
    "sd_list = []\n",
    "node_fen = list(g.nodes())\n",
    "for eco in eco_list:\n",
    "    currFen = [fen for fen in node_fen if eco in fen]\n",
    "    if(len(currFen)>0):\n",
    "        currFen = str(currFen[0])\n",
    "    scores = []\n",
    "    counts = []\n",
    "    try:\n",
    "        for neighbor in list(g.neighbors(currFen)):\n",
    "            scores.append(nx.get_node_attributes(g, 'score')[neighbor])\n",
    "            counts.append(nx.get_node_attributes(g, 'movelistCount')[neighbor][currFen])\n",
    "        sd_list.append(np.sqrt(varWeighted(scores,counts)))\n",
    "#         print('{} {} ||| SD :'.format(key, game), np.sqrt(varWeighted(scores,counts)), \", total Games:\", sum(counts))\n",
    "    except:\n",
    "        sd_list.append(None)"
   ]
  },
  {
   "cell_type": "code",
   "execution_count": 7,
   "metadata": {},
   "outputs": [
    {
     "data": {
      "text/plain": [
       "[None, None, None, None, None, None, None, None, None, None]"
      ]
     },
     "execution_count": 7,
     "metadata": {},
     "output_type": "execute_result"
    }
   ],
   "source": [
    "sd_list[:10]"
   ]
  },
  {
   "cell_type": "code",
   "execution_count": 8,
   "metadata": {},
   "outputs": [],
   "source": [
    "eco_df['sd'] = sd_list"
   ]
  },
  {
   "cell_type": "code",
   "execution_count": 19,
   "metadata": {},
   "outputs": [
    {
     "data": {
      "text/html": [
       "<div>\n",
       "<style scoped>\n",
       "    .dataframe tbody tr th:only-of-type {\n",
       "        vertical-align: middle;\n",
       "    }\n",
       "\n",
       "    .dataframe tbody tr th {\n",
       "        vertical-align: top;\n",
       "    }\n",
       "\n",
       "    .dataframe thead th {\n",
       "        text-align: right;\n",
       "    }\n",
       "</style>\n",
       "<table border=\"1\" class=\"dataframe\">\n",
       "  <thead>\n",
       "    <tr style=\"text-align: right;\">\n",
       "      <th></th>\n",
       "      <th>eco</th>\n",
       "      <th>name</th>\n",
       "      <th>fen</th>\n",
       "      <th>moves</th>\n",
       "      <th>sd</th>\n",
       "      <th>move_count</th>\n",
       "    </tr>\n",
       "  </thead>\n",
       "  <tbody>\n",
       "    <tr>\n",
       "      <th>982</th>\n",
       "      <td>C20</td>\n",
       "      <td>King's Pawn Game: Wayward Queen Attack</td>\n",
       "      <td>rnbqkbnr/pppp1ppp/8/4p2Q/4P3/8/PPPP1PPP/RNB1KB...</td>\n",
       "      <td>e2e4 e7e5 d1h5</td>\n",
       "      <td>3890.540970</td>\n",
       "      <td>14</td>\n",
       "    </tr>\n",
       "    <tr>\n",
       "      <th>332</th>\n",
       "      <td>D00</td>\n",
       "      <td>Queen's Pawn Game: Levitsky Attack</td>\n",
       "      <td>rnbqkbnr/ppp1pppp/8/3p2B1/3P4/8/PPP1PPPP/RN1QK...</td>\n",
       "      <td>d2d4 d7d5 c1g5</td>\n",
       "      <td>458.059378</td>\n",
       "      <td>14</td>\n",
       "    </tr>\n",
       "    <tr>\n",
       "      <th>1703</th>\n",
       "      <td>C57</td>\n",
       "      <td>Italian Game: Two Knights Defense, Knight Attack</td>\n",
       "      <td>r1bqkb1r/pppp1ppp/2n2n2/4p1N1/2B1P3/8/PPPP1PPP...</td>\n",
       "      <td>e2e4 e7e5 g1f3 b8c6 f1c4 g8f6 f3g5</td>\n",
       "      <td>375.557530</td>\n",
       "      <td>34</td>\n",
       "    </tr>\n",
       "    <tr>\n",
       "      <th>1698</th>\n",
       "      <td>C57</td>\n",
       "      <td>Italian Game: Two Knights Defense, Fried Liver...</td>\n",
       "      <td>r1bqkb1r/ppp2Npp/2n5/3np3/2B5/8/PPPP1PPP/RNBQK...</td>\n",
       "      <td>e2e4 e7e5 g1f3 b8c6 f1c4 g8f6 f3g5 d7d5 e4d5 f...</td>\n",
       "      <td>336.582828</td>\n",
       "      <td>54</td>\n",
       "    </tr>\n",
       "    <tr>\n",
       "      <th>1015</th>\n",
       "      <td>C22</td>\n",
       "      <td>Center Game: Normal Variation</td>\n",
       "      <td>r1bqkbnr/pppp1ppp/2n5/8/3QP3/8/PPP2PPP/RNB1KBN...</td>\n",
       "      <td>e2e4 e7e5 d2d4 e5d4 d1d4 b8c6</td>\n",
       "      <td>328.208346</td>\n",
       "      <td>29</td>\n",
       "    </tr>\n",
       "    <tr>\n",
       "      <th>...</th>\n",
       "      <td>...</td>\n",
       "      <td>...</td>\n",
       "      <td>...</td>\n",
       "      <td>...</td>\n",
       "      <td>...</td>\n",
       "      <td>...</td>\n",
       "    </tr>\n",
       "    <tr>\n",
       "      <th>3397</th>\n",
       "      <td>A96</td>\n",
       "      <td>Dutch Defense: Classical Variation</td>\n",
       "      <td>rnbq1rk1/ppp1b1pp/3ppn2/5p2/2PP4/5NP1/PP2PPBP/...</td>\n",
       "      <td>d2d4 e7e6 c2c4 f7f5 g2g3 g8f6 f1g2 f8e7 g1f3 e...</td>\n",
       "      <td>NaN</td>\n",
       "      <td>59</td>\n",
       "    </tr>\n",
       "    <tr>\n",
       "      <th>3398</th>\n",
       "      <td>A97</td>\n",
       "      <td>Dutch Defense: Classical Variation, Ilyin-Zhen...</td>\n",
       "      <td>rnb1qrk1/ppp1b1pp/3ppn2/5p2/2PP4/2N2NP1/PP2PPB...</td>\n",
       "      <td>d2d4 f7f5 g1f3 g8f6 g2g3 e7e6 f1g2 f8e7 e1g1 e...</td>\n",
       "      <td>NaN</td>\n",
       "      <td>69</td>\n",
       "    </tr>\n",
       "    <tr>\n",
       "      <th>3399</th>\n",
       "      <td>A97</td>\n",
       "      <td>Dutch Defense: Ilyin-Zhenevsky, Winter Variation</td>\n",
       "      <td>rnb1qrk1/ppp1b1pp/3ppn2/5p2/2PP4/2N2NP1/PP2PPB...</td>\n",
       "      <td>d2d4 f7f5 g1f3 g8f6 g2g3 e7e6 f1g2 f8e7 e1g1 e...</td>\n",
       "      <td>NaN</td>\n",
       "      <td>74</td>\n",
       "    </tr>\n",
       "    <tr>\n",
       "      <th>3400</th>\n",
       "      <td>A98</td>\n",
       "      <td>Dutch Defense: Classical Variation, Ilyin-Zhen...</td>\n",
       "      <td>rnb1qrk1/ppp1b1pp/3ppn2/5p2/2PP4/2N2NP1/PPQ1PP...</td>\n",
       "      <td>d2d4 f7f5 g1f3 g8f6 g2g3 e7e6 f1g2 f8e7 e1g1 e...</td>\n",
       "      <td>NaN</td>\n",
       "      <td>74</td>\n",
       "    </tr>\n",
       "    <tr>\n",
       "      <th>3401</th>\n",
       "      <td>A99</td>\n",
       "      <td>Dutch Defense: Classical Variation, Ilyin-Zhen...</td>\n",
       "      <td>rnb1qrk1/ppp1b1pp/3ppn2/5p2/2PP4/1PN2NP1/P3PPB...</td>\n",
       "      <td>d2d4 e7e6 c2c4 f7f5 g2g3 g8f6 f1g2 f8e7 g1f3 e...</td>\n",
       "      <td>NaN</td>\n",
       "      <td>74</td>\n",
       "    </tr>\n",
       "  </tbody>\n",
       "</table>\n",
       "<p>3402 rows × 6 columns</p>\n",
       "</div>"
      ],
      "text/plain": [
       "      eco                                               name  \\\n",
       "982   C20             King's Pawn Game: Wayward Queen Attack   \n",
       "332   D00                 Queen's Pawn Game: Levitsky Attack   \n",
       "1703  C57   Italian Game: Two Knights Defense, Knight Attack   \n",
       "1698  C57  Italian Game: Two Knights Defense, Fried Liver...   \n",
       "1015  C22                      Center Game: Normal Variation   \n",
       "...   ...                                                ...   \n",
       "3397  A96                 Dutch Defense: Classical Variation   \n",
       "3398  A97  Dutch Defense: Classical Variation, Ilyin-Zhen...   \n",
       "3399  A97   Dutch Defense: Ilyin-Zhenevsky, Winter Variation   \n",
       "3400  A98  Dutch Defense: Classical Variation, Ilyin-Zhen...   \n",
       "3401  A99  Dutch Defense: Classical Variation, Ilyin-Zhen...   \n",
       "\n",
       "                                                    fen  \\\n",
       "982   rnbqkbnr/pppp1ppp/8/4p2Q/4P3/8/PPPP1PPP/RNB1KB...   \n",
       "332   rnbqkbnr/ppp1pppp/8/3p2B1/3P4/8/PPP1PPPP/RN1QK...   \n",
       "1703  r1bqkb1r/pppp1ppp/2n2n2/4p1N1/2B1P3/8/PPPP1PPP...   \n",
       "1698  r1bqkb1r/ppp2Npp/2n5/3np3/2B5/8/PPPP1PPP/RNBQK...   \n",
       "1015  r1bqkbnr/pppp1ppp/2n5/8/3QP3/8/PPP2PPP/RNB1KBN...   \n",
       "...                                                 ...   \n",
       "3397  rnbq1rk1/ppp1b1pp/3ppn2/5p2/2PP4/5NP1/PP2PPBP/...   \n",
       "3398  rnb1qrk1/ppp1b1pp/3ppn2/5p2/2PP4/2N2NP1/PP2PPB...   \n",
       "3399  rnb1qrk1/ppp1b1pp/3ppn2/5p2/2PP4/2N2NP1/PP2PPB...   \n",
       "3400  rnb1qrk1/ppp1b1pp/3ppn2/5p2/2PP4/2N2NP1/PPQ1PP...   \n",
       "3401  rnb1qrk1/ppp1b1pp/3ppn2/5p2/2PP4/1PN2NP1/P3PPB...   \n",
       "\n",
       "                                                  moves           sd  \\\n",
       "982                                      e2e4 e7e5 d1h5  3890.540970   \n",
       "332                                      d2d4 d7d5 c1g5   458.059378   \n",
       "1703                 e2e4 e7e5 g1f3 b8c6 f1c4 g8f6 f3g5   375.557530   \n",
       "1698  e2e4 e7e5 g1f3 b8c6 f1c4 g8f6 f3g5 d7d5 e4d5 f...   336.582828   \n",
       "1015                      e2e4 e7e5 d2d4 e5d4 d1d4 b8c6   328.208346   \n",
       "...                                                 ...          ...   \n",
       "3397  d2d4 e7e6 c2c4 f7f5 g2g3 g8f6 f1g2 f8e7 g1f3 e...          NaN   \n",
       "3398  d2d4 f7f5 g1f3 g8f6 g2g3 e7e6 f1g2 f8e7 e1g1 e...          NaN   \n",
       "3399  d2d4 f7f5 g1f3 g8f6 g2g3 e7e6 f1g2 f8e7 e1g1 e...          NaN   \n",
       "3400  d2d4 f7f5 g1f3 g8f6 g2g3 e7e6 f1g2 f8e7 e1g1 e...          NaN   \n",
       "3401  d2d4 e7e6 c2c4 f7f5 g2g3 g8f6 f1g2 f8e7 g1f3 e...          NaN   \n",
       "\n",
       "      move_count  \n",
       "982           14  \n",
       "332           14  \n",
       "1703          34  \n",
       "1698          54  \n",
       "1015          29  \n",
       "...          ...  \n",
       "3397          59  \n",
       "3398          69  \n",
       "3399          74  \n",
       "3400          74  \n",
       "3401          74  \n",
       "\n",
       "[3402 rows x 6 columns]"
      ]
     },
     "execution_count": 19,
     "metadata": {},
     "output_type": "execute_result"
    }
   ],
   "source": [
    "eco_df.sort_values(by = ['sd'], ascending = False)"
   ]
  },
  {
   "cell_type": "code",
   "execution_count": 28,
   "metadata": {},
   "outputs": [],
   "source": [
    "eco_df['move_count'] = eco_df['moves'].apply(lambda x: len(x.split()))"
   ]
  },
  {
   "cell_type": "code",
   "execution_count": 29,
   "metadata": {},
   "outputs": [
    {
     "data": {
      "text/html": [
       "<div>\n",
       "<style scoped>\n",
       "    .dataframe tbody tr th:only-of-type {\n",
       "        vertical-align: middle;\n",
       "    }\n",
       "\n",
       "    .dataframe tbody tr th {\n",
       "        vertical-align: top;\n",
       "    }\n",
       "\n",
       "    .dataframe thead th {\n",
       "        text-align: right;\n",
       "    }\n",
       "</style>\n",
       "<table border=\"1\" class=\"dataframe\">\n",
       "  <thead>\n",
       "    <tr style=\"text-align: right;\">\n",
       "      <th></th>\n",
       "      <th>eco</th>\n",
       "      <th>name</th>\n",
       "      <th>fen</th>\n",
       "      <th>moves</th>\n",
       "      <th>sd</th>\n",
       "      <th>move_count</th>\n",
       "    </tr>\n",
       "  </thead>\n",
       "  <tbody>\n",
       "    <tr>\n",
       "      <th>0</th>\n",
       "      <td>E00</td>\n",
       "      <td>Catalan Opening: Hungarian Gambit</td>\n",
       "      <td>rnbqkb1r/pppp1ppp/5n2/4p3/2PP4/6P1/PP2PP1P/RNB...</td>\n",
       "      <td>d2d4 g8f6 c2c4 e7e6 g2g3 e6e5</td>\n",
       "      <td>NaN</td>\n",
       "      <td>6</td>\n",
       "    </tr>\n",
       "    <tr>\n",
       "      <th>1</th>\n",
       "      <td>E00</td>\n",
       "      <td>Catalan Opening</td>\n",
       "      <td>rnbqkb1r/ppp2ppp/4pn2/3p4/2PP4/6P1/PP2PP1P/RNB...</td>\n",
       "      <td>d2d4 g8f6 c2c4 e7e6 g2g3 d7d5</td>\n",
       "      <td>NaN</td>\n",
       "      <td>6</td>\n",
       "    </tr>\n",
       "    <tr>\n",
       "      <th>2</th>\n",
       "      <td>E00</td>\n",
       "      <td>Catalan Opening</td>\n",
       "      <td>rnbqkb1r/pppp1ppp/4pn2/8/2PP4/6P1/PP2PP1P/RNBQ...</td>\n",
       "      <td>d2d4 g8f6 c2c4 e7e6 g2g3</td>\n",
       "      <td>NaN</td>\n",
       "      <td>5</td>\n",
       "    </tr>\n",
       "    <tr>\n",
       "      <th>3</th>\n",
       "      <td>E00</td>\n",
       "      <td>Indian Game: Devin Gambit</td>\n",
       "      <td>rnbqkb1r/pppp1ppp/4pn2/8/2PP2P1/8/PP2PP1P/RNBQ...</td>\n",
       "      <td>d2d4 g8f6 c2c4 e7e6 g2g4</td>\n",
       "      <td>NaN</td>\n",
       "      <td>5</td>\n",
       "    </tr>\n",
       "    <tr>\n",
       "      <th>4</th>\n",
       "      <td>E00</td>\n",
       "      <td>Indian Game</td>\n",
       "      <td>rnbqkb1r/pppp1ppp/4pn2/8/2PP4/1Q6/PP2PPPP/RNB1...</td>\n",
       "      <td>d2d4 g8f6 c2c4 e7e6 d1b3</td>\n",
       "      <td>NaN</td>\n",
       "      <td>5</td>\n",
       "    </tr>\n",
       "  </tbody>\n",
       "</table>\n",
       "</div>"
      ],
      "text/plain": [
       "   eco                               name  \\\n",
       "0  E00  Catalan Opening: Hungarian Gambit   \n",
       "1  E00                    Catalan Opening   \n",
       "2  E00                    Catalan Opening   \n",
       "3  E00          Indian Game: Devin Gambit   \n",
       "4  E00                        Indian Game   \n",
       "\n",
       "                                                 fen  \\\n",
       "0  rnbqkb1r/pppp1ppp/5n2/4p3/2PP4/6P1/PP2PP1P/RNB...   \n",
       "1  rnbqkb1r/ppp2ppp/4pn2/3p4/2PP4/6P1/PP2PP1P/RNB...   \n",
       "2  rnbqkb1r/pppp1ppp/4pn2/8/2PP4/6P1/PP2PP1P/RNBQ...   \n",
       "3  rnbqkb1r/pppp1ppp/4pn2/8/2PP2P1/8/PP2PP1P/RNBQ...   \n",
       "4  rnbqkb1r/pppp1ppp/4pn2/8/2PP4/1Q6/PP2PPPP/RNB1...   \n",
       "\n",
       "                           moves  sd  move_count  \n",
       "0  d2d4 g8f6 c2c4 e7e6 g2g3 e6e5 NaN           6  \n",
       "1  d2d4 g8f6 c2c4 e7e6 g2g3 d7d5 NaN           6  \n",
       "2       d2d4 g8f6 c2c4 e7e6 g2g3 NaN           5  \n",
       "3       d2d4 g8f6 c2c4 e7e6 g2g4 NaN           5  \n",
       "4       d2d4 g8f6 c2c4 e7e6 d1b3 NaN           5  "
      ]
     },
     "execution_count": 29,
     "metadata": {},
     "output_type": "execute_result"
    }
   ],
   "source": [
    "eco_df.head()"
   ]
  },
  {
   "cell_type": "code",
   "execution_count": 15,
   "metadata": {},
   "outputs": [
    {
     "data": {
      "text/plain": [
       "(0, 500)"
      ]
     },
     "execution_count": 15,
     "metadata": {},
     "output_type": "execute_result"
    },
    {
     "data": {
      "image/png": "[encoded data removed]",
      "text/plain": [
       "<Figure size 432x288 with 1 Axes>"
      ]
     },
     "metadata": {
      "needs_background": "light"
     },
     "output_type": "display_data"
    }
   ],
   "source": [
    "import matplotlib.pyplot as plt\n",
    "\n",
    "# An \"interface\" to matplotlib.axes.Axes.hist() method\n",
    "n, bins, patches = plt.hist(x=eco_df['sd'], bins='auto', color='#0504aa',\n",
    "                            alpha=0.7, rwidth=0.85)\n",
    "plt.grid(axis='y', alpha=0.75)\n",
    "plt.xlabel('Value')\n",
    "plt.ylabel('Frequency')\n",
    "maxfreq = n.max()\n",
    "# Set a clean upper y-axis limit.\n",
    "plt.ylim(ymax=np.ceil(maxfreq / 10) * 10 if maxfreq % 10 else maxfreq + 10)\n",
    "plt.xlim(xmin = 0, xmax = 500)"
   ]
  },
  {
   "cell_type": "code",
   "execution_count": 33,
   "metadata": {},
   "outputs": [
    {
     "data": {
      "text/plain": [
       "(0, 15)"
      ]
     },
     "execution_count": 33,
     "metadata": {},
     "output_type": "execute_result"
    },
    {
     "data": {
      "image/png": "[encoded data removed]",
      "text/plain": [
       "<Figure size 432x288 with 1 Axes>"
      ]
     },
     "metadata": {
      "needs_background": "light"
     },
     "output_type": "display_data"
    }
   ],
   "source": [
    "plt.scatter(eco_df['move_count'], eco_df['sd'])\n",
    "plt.ylim(0,300)\n",
    "plt.xlim(0,15)"
   ]
  },
  {
   "cell_type": "code",
   "execution_count": 35,
   "metadata": {},
   "outputs": [
    {
     "data": {
      "text/plain": [
       "-0.03374379837242805"
      ]
     },
     "execution_count": 35,
     "metadata": {},
     "output_type": "execute_result"
    }
   ],
   "source": [
    "eco_df['move_count'].corr(eco_df['sd'])"
   ]
  },
  {
   "cell_type": "code",
   "execution_count": null,
   "metadata": {},
   "outputs": [],
   "source": []
  }
 ],
 "metadata": {
  "kernelspec": {
   "display_name": "Python 3",
   "language": "python",
   "name": "python3"
  },
  "language_info": {
   "codemirror_mode": {
    "name": "ipython",
    "version": 3
   },
   "file_extension": ".py",
   "mimetype": "text/x-python",
   "name": "python",
   "nbconvert_exporter": "python",
   "pygments_lexer": "ipython3",
   "version": "3.7.6"
  }
 },
 "nbformat": 4,
 "nbformat_minor": 4
}
