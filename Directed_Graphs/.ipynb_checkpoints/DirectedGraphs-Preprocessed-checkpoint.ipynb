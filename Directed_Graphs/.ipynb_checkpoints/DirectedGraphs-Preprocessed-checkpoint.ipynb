{
 "cells": [
  {
   "cell_type": "markdown",
   "metadata": {},
   "source": [
    "# Build graph from preprocessed file\n",
    "With a tabulated count:san file"
   ]
  },
  {
   "cell_type": "markdown",
   "metadata": {},
   "source": [
    "## Read in packages, functions, and file"
   ]
  },
  {
   "cell_type": "code",
   "execution_count": 1,
   "metadata": {},
   "outputs": [],
   "source": [
    "import sys\n",
    "import networkx as nx\n",
    "import matplotlib as plt\n",
    "import numpy as np\n",
    "import re\n",
    "import chess\n",
    "import subprocess\n",
    "import timeit\n",
    "import pickle\n",
    "import stockfish\n",
    "from stockfish import Stockfish\n",
    "import chess\n",
    "import chess.engine\n",
    "import warnings\n",
    "warnings.filterwarnings('ignore')\n",
    "\n",
    "engine = chess.engine.SimpleEngine.popen_uci(\"../stockfish-10-64\")\n",
    "stockfish = Stockfish(\"../stockfish-10-64\")"
   ]
  },
  {
   "cell_type": "code",
   "execution_count": 2,
   "metadata": {},
   "outputs": [],
   "source": [
    "def varWeighted(scores, counts):\n",
    "    if (len(counts)<2):\n",
    "        return None\n",
    "    else:\n",
    "        weightedMean = sum([a*b for a,b in zip(scores,counts)])/sum(counts)\n",
    "        scoreDiffs = [(score - weightedMean)**2 for score in scores]\n",
    "        V1 = sum(counts)\n",
    "        V2 = sum([count**2 for count in counts])\n",
    "        var = (V1/(V1**2-V2)) * sum([a*b for a,b in zip(counts,scoreDiffs)])\n",
    "        return var\n",
    "    \n",
    "def get_score(san):\n",
    "    board = chess.Board()\n",
    "    for move in san:\n",
    "        board.push_san(move)\n",
    "    currFen = board.fen()\n",
    "    score = engine.analyse(board, chess.engine.Limit(time=.05), info=chess.engine.INFO_SCORE)\n",
    "    if('#' in str(score['score'])):\n",
    "        if('-' in str(score['score'])):\n",
    "            return -39765\n",
    "        else:\n",
    "            return 39765\n",
    "    else:\n",
    "        score = int(str(score[\"score\"]))\n",
    "    return score\n",
    "\n",
    "def san_to_fen(san):\n",
    "    board = chess.Board()\n",
    "    for move in san:\n",
    "        board.push_san(move)\n",
    "    currFen = board.fen()\n",
    "    return currFen\n",
    "\n",
    "def get_node_sd(node):\n",
    "    scores = []\n",
    "    counts = []\n",
    "    try:\n",
    "        for neighbor in list(g.neighbors(node)):\n",
    "            scores.append(nx.get_node_attributes(g, 'score')[neighbor])\n",
    "            counts.append(nx.get_node_attributes(g, 'movelistCount')[neighbor][node])\n",
    "        return node, np.sqrt(varWeighted(scores,counts))\n",
    "    except:\n",
    "        return node, None"
   ]
  },
  {
   "cell_type": "code",
   "execution_count": 3,
   "metadata": {},
   "outputs": [],
   "source": [
    "game_file = \"../tab-trunc.txt\"\n",
    "\n",
    "with open(game_file, \"r\") as file_in:\n",
    "    mainlineList = []\n",
    "    for line in file_in:\n",
    "        mainlineList.append(line)\n",
    "\n",
    "#extract each string of moves\n",
    "stringList = []\n",
    "for mainLine in mainlineList:\n",
    "    stringList.append(mainLine.split())\n",
    "\n",
    "# stringList.sort(key = len) \n"
   ]
  },
  {
   "cell_type": "code",
   "execution_count": 4,
   "metadata": {},
   "outputs": [
    {
     "name": "stdout",
     "output_type": "stream",
     "text": [
      "692287\n"
     ]
    }
   ],
   "source": [
    "print(len(stringList))"
   ]
  },
  {
   "cell_type": "markdown",
   "metadata": {},
   "source": [
    "## Build and pickle graph"
   ]
  },
  {
   "cell_type": "code",
   "execution_count": 7,
   "metadata": {},
   "outputs": [
    {
     "name": "stdout",
     "output_type": "stream",
     "text": [
      "strings processed: 0 TIME: 0.00242193999997653\n",
      "strings processed: 10000 TIME: 71.85589509799996\n",
      "strings processed: 20000 TIME: 98.10558570799998\n",
      "strings processed: 30000 TIME: 125.80123850399997\n",
      "strings processed: 40000 TIME: 149.60965842599995\n",
      "strings processed: 50000 TIME: 187.46209325900003\n",
      "strings processed: 60000 TIME: 222.27314098999994\n",
      "strings processed: 70000 TIME: 258.25379971\n",
      "strings processed: 80000 TIME: 291.261070759\n",
      "strings processed: 90000 TIME: 334.06481228\n",
      "strings processed: 100000 TIME: 372.27280346900005\n",
      "strings processed: 110000 TIME: 418.040255942\n",
      "strings processed: 120000 TIME: 469.90256292\n",
      "strings processed: 130000 TIME: 524.993408064\n",
      "strings processed: 140000 TIME: 585.529706408\n",
      "strings processed: 150000 TIME: 645.9033075\n",
      "strings processed: 160000 TIME: 714.102250273\n",
      "strings processed: 170000 TIME: 791.559625076\n",
      "strings processed: 180000 TIME: 862.0017981220001\n",
      "strings processed: 190000 TIME: 938.6436170870002\n",
      "strings processed: 200000 TIME: 1028.181293046\n",
      "strings processed: 210000 TIME: 1107.124700114\n",
      "strings processed: 220000 TIME: 1178.772901498\n",
      "strings processed: 230000 TIME: 1259.603090328\n",
      "strings processed: 240000 TIME: 1353.0112619840002\n",
      "strings processed: 250000 TIME: 1458.362831161\n",
      "strings processed: 260000 TIME: 1559.8924154840001\n",
      "strings processed: 270000 TIME: 1666.438467114\n",
      "strings processed: 280000 TIME: 1751.234985915\n",
      "strings processed: 290000 TIME: 1856.61088182\n",
      "strings processed: 300000 TIME: 1962.18509452\n",
      "strings processed: 310000 TIME: 2075.090735548\n",
      "strings processed: 320000 TIME: 2207.260777227\n",
      "strings processed: 330000 TIME: 2323.067355386\n",
      "strings processed: 340000 TIME: 2454.309071322\n",
      "strings processed: 350000 TIME: 2584.943721405\n",
      "strings processed: 360000 TIME: 2723.754611245\n",
      "strings processed: 370000 TIME: 2854.6169785770003\n",
      "strings processed: 380000 TIME: 2991.459063479\n",
      "strings processed: 390000 TIME: 3131.50272229\n",
      "strings processed: 400000 TIME: 3277.574636221\n",
      "strings processed: 410000 TIME: 3436.814317727\n",
      "strings processed: 420000 TIME: 3630.61512146\n",
      "strings processed: 430000 TIME: 3835.413957225\n",
      "strings processed: 440000 TIME: 4079.2124325030004\n",
      "strings processed: 450000 TIME: 4313.599617338\n",
      "strings processed: 460000 TIME: 4602.335452171\n",
      "strings processed: 470000 TIME: 4894.963593216\n",
      "strings processed: 480000 TIME: 5096.113783217999\n",
      "strings processed: 490000 TIME: 5299.250865473\n",
      "strings processed: 500000 TIME: 5537.719614203\n",
      "strings processed: 510000 TIME: 5832.923736668\n",
      "strings processed: 520000 TIME: 6142.412398195\n",
      "strings processed: 530000 TIME: 6411.754424350999\n",
      "strings processed: 540000 TIME: 6700.661193518999\n",
      "strings processed: 550000 TIME: 7002.207690398999\n",
      "strings processed: 560000 TIME: 7317.493136921999\n",
      "strings processed: 570000 TIME: 7624.257330607999\n",
      "strings processed: 580000 TIME: 7922.441738634999\n",
      "strings processed: 590000 TIME: 8266.29309126\n",
      "strings processed: 600000 TIME: 8646.698832867001\n",
      "strings processed: 610000 TIME: 9052.980629977\n",
      "strings processed: 620000 TIME: 9437.586911421\n",
      "strings processed: 630000 TIME: 9867.784131571001\n",
      "strings processed: 640000 TIME: 10287.562658292001\n",
      "strings processed: 650000 TIME: 10835.390072613001\n",
      "strings processed: 660000 TIME: 11461.268398374\n",
      "strings processed: 670000 TIME: 12078.24003029\n",
      "strings processed: 680000 TIME: 12725.712380889001\n",
      "strings processed: 690000 TIME: 13429.050423572\n",
      "Time:  13613.873877897\n",
      "totalNodes: 40471\n"
     ]
    }
   ],
   "source": [
    "cnt = 0\n",
    "start = timeit.default_timer()\n",
    "\n",
    "#initialize graph with root node\n",
    "g = nx.DiGraph()\n",
    "g.add_node('root', score = 0, movelist = 'root')\n",
    "\n",
    "for s in stringList:\n",
    "    whiteMove = 1\n",
    "    if(cnt%10000 == 0):\n",
    "        print(\"strings processed:\", cnt, \"TIME:\", timeit.default_timer()-start)\n",
    "    count = int(s[0])\n",
    "    if(count >= 35):\n",
    "        board = chess.Board()\n",
    "        parentFen = 'root'\n",
    "        for move in s[1:]:\n",
    "            try:\n",
    "                san = s[1:s.index(move)+1]\n",
    "                board.push_san(move)\n",
    "                currFen = board.fen()\n",
    "                if(currFen not in g.nodes):\n",
    "                    board = chess.Board(currFen)\n",
    "                    if('#' not in move):\n",
    "                        score = engine.analyse(board, chess.engine.Limit(time=0.05))\n",
    "                        if('#' in str(score['score'])):\n",
    "                            if('-' in str(score['score'])):\n",
    "                                score =  -39765\n",
    "                            else:\n",
    "                                score =  39765\n",
    "                        else:\n",
    "                            score = int(str(score[\"score\"])) * whiteMove\n",
    "    #                         stockfish.set_fen_position(currFen)\n",
    "    #                         score = stockfish.get_evaluation()['value']\n",
    "                    else:\n",
    "                        score = -39765 * whiteMove\n",
    "                    g.add_node(currFen,\n",
    "                               score = score,\n",
    "                               count = count,\n",
    "                               san = san,\n",
    "                               movelistCount = {parentFen:count})\n",
    "                    g.add_edge(parentFen, currFen)\n",
    "                else:\n",
    "                    if(parentFen in nx.get_node_attributes(g, 'movelistCount')[currFen]):\n",
    "                        nx.get_node_attributes(g, 'movelistCount')[currFen][parentFen] += count #increase parent count\n",
    "                    else:\n",
    "                        nx.get_node_attributes(g, 'movelistCount')[currFen][parentFen] = count #add parent and count\n",
    "                        g.add_edge(parentFen, currFen) #add edge from parentFen to currFen\n",
    "                    g.nodes[currFen]['count'] = nx.get_node_attributes(g, 'count')[currFen] + count #increase count\n",
    "    #                 whiteMove *= -1\n",
    "                parentFen = currFen\n",
    "            except Exception as e:\n",
    "                print(e)\n",
    "                print(sys.exc_info()[0])\n",
    "                print(\"Move\",s)\n",
    "                stockfish.set_fen_position(currFen)\n",
    "                print(stockfish.get_evaluation()['value'])\n",
    "                break\n",
    "        cnt+=1\n",
    "    else:\n",
    "        cnt+=1\n",
    "            \n",
    "stop = timeit.default_timer()\n",
    "print('Time: ', stop - start)\n",
    "print(\"totalNodes:\",len(g))"
   ]
  },
  {
   "cell_type": "code",
   "execution_count": 8,
   "metadata": {},
   "outputs": [
    {
     "data": {
      "text/plain": [
       "{'score': 60,\n",
       " 'count': 51063,\n",
       " 'san': ['d4', 'Nf6'],\n",
       " 'movelistCount': {'rnbqkbnr/pppppppp/8/8/3P4/8/PPP1PPPP/RNBQKBNR b KQkq - 0 1': 51063}}"
      ]
     },
     "execution_count": 8,
     "metadata": {},
     "output_type": "execute_result"
    }
   ],
   "source": [
    "g.nodes()['rnbqkb1r/pppppppp/5n2/8/3P4/8/PPP1PPPP/RNBQKBNR w KQkq - 1 2']"
   ]
  },
  {
   "cell_type": "code",
   "execution_count": 9,
   "metadata": {},
   "outputs": [],
   "source": [
    "#nx.write_gpickle(g,\"test.gpickle\")"
   ]
  },
  {
   "cell_type": "code",
   "execution_count": 10,
   "metadata": {},
   "outputs": [],
   "source": [
    "g = nx.read_gpickle('690k_35.gpickle')"
   ]
  },
  {
   "cell_type": "code",
   "execution_count": 11,
   "metadata": {},
   "outputs": [
    {
     "data": {
      "text/plain": [
       "{'score': -4,\n",
       " 'count': 209,\n",
       " 'san': ['c4', 'Nf6', 'Nf3'],\n",
       " 'movelistCount': {'rnbqkb1r/pppppppp/5n2/8/2P5/8/PP1PPPPP/RNBQKBNR w KQkq - 1 2': 209}}"
      ]
     },
     "execution_count": 11,
     "metadata": {},
     "output_type": "execute_result"
    }
   ],
   "source": [
    "g.nodes()[san_to_fen(['c4', 'Nf6', 'Nf3'])]"
   ]
  },
  {
   "cell_type": "markdown",
   "metadata": {},
   "source": [
    "## Test variance calcuilations"
   ]
  },
  {
   "cell_type": "code",
   "execution_count": 12,
   "metadata": {},
   "outputs": [
    {
     "name": "stdout",
     "output_type": "stream",
     "text": [
      "rnbqkb1r/pppppppp/5n2/8/3P4/8/PPP1PPPP/RNBQKBNR w KQkq - 1 2\n",
      "sd: 41.840461146481466\n",
      "Time:  1.2546152750001056\n"
     ]
    }
   ],
   "source": [
    "start = timeit.default_timer()\n",
    "\n",
    "board = chess.Board()\n",
    "board.push_san('d4') #push the move to the board\n",
    "board.push_san('Nf6') #push the move to the board\n",
    "currFen = board.fen()\n",
    "print(currFen)\n",
    "scores = []\n",
    "counts = []\n",
    "for neighbor in list(g.neighbors(currFen)):\n",
    "    scores.append(nx.get_node_attributes(g, 'score')[neighbor])\n",
    "    counts.append(nx.get_node_attributes(g, 'count')[neighbor])\n",
    "    \n",
    "print(\"sd:\",np.sqrt(varWeighted(scores, counts)))\n",
    "\n",
    "stop = timeit.default_timer()\n",
    "print('Time: ', stop - start) "
   ]
  },
  {
   "cell_type": "code",
   "execution_count": 13,
   "metadata": {},
   "outputs": [
    {
     "name": "stdout",
     "output_type": "stream",
     "text": [
      "root ['e4', 'c5'] ||| SD : 53.764646820755054 , total Games: 129818\n",
      "safe ['e4', 'c5', 'c3'] ||| SD : 42.50448532864366 , total Games: 5802\n",
      "risky ['e4', 'c5', 'd4'] ||| SD : 100.49696549662231 , total Games: 12196\n",
      "root2 ['e4', 'e6', 'd4', 'd5'] ||| SD : 31.143222357461255 , total Games: 26341\n",
      "popular2.0 ['e4', 'e6', 'd4', 'd5', 'Nc3'] ||| SD : 43.75226250307866 , total Games: 5165\n",
      "popular2.1 ['e4', 'e6', 'd4', 'd5', 'Nd2'] ||| SD : 24.049723300714508 , total Games: 2040\n",
      "safe2 ['e4', 'e6', 'd4', 'd5', 'exd5'] ||| SD : 90.34431007382685 , total Games: 6634\n",
      "risky2 ['e4', 'e6', 'd4', 'd5', 'e5'] ||| SD : 54.447732111766946 , total Games: 14438\n",
      "Ruy ['e4', 'e5', 'Nf3', 'Nc6', 'Bb5'] ||| SD : 22.42832108229823 , total Games: 25037\n",
      "Vienna ['e4', 'e5', 'd4', 'exd4', 'c3'] ||| SD : 41.83334348908065 , total Games: 3910\n"
     ]
    }
   ],
   "source": [
    "gamesDict = {\"root\" : ['e4', 'c5'],\n",
    "\"safe\" : ['e4', 'c5', 'c3'],\n",
    "\"risky\" : ['e4', 'c5', 'd4'],\n",
    "\"root2\" : ['e4', 'e6', 'd4', 'd5'],\n",
    "\"popular2.0\" : ['e4', 'e6', 'd4', 'd5', 'Nc3'],\n",
    "\"popular2.1\" : ['e4', 'e6', 'd4', 'd5', 'Nd2'],\n",
    "\"safe2\" : ['e4', 'e6', 'd4', 'd5', 'exd5'],\n",
    "\"risky2\" : ['e4', 'e6', 'd4', 'd5', 'e5'],\n",
    "\"Ruy\" : ['e4', 'e5','Nf3', 'Nc6','Bb5'],\n",
    "\"Vienna\" : ['e4' ,'e5','d4','exd4','c3']}\n",
    "\n",
    "for key, game in gamesDict.items():\n",
    "    currFen = san_to_fen(game)\n",
    "    scores = []\n",
    "    counts = []\n",
    "    try:\n",
    "        for neighbor in list(g.neighbors(currFen)):\n",
    "            scores.append(nx.get_node_attributes(g, 'score')[neighbor])\n",
    "            counts.append(nx.get_node_attributes(g, 'movelistCount')[neighbor][currFen])\n",
    "        print('{} {} ||| SD :'.format(key, game), np.sqrt(varWeighted(scores,counts)), \", total Games:\", sum(counts))\n",
    "    except:\n",
    "        break\n",
    "\n",
    "    "
   ]
  },
  {
   "cell_type": "code",
   "execution_count": null,
   "metadata": {},
   "outputs": [],
   "source": [
    "sd_dict = {}\n",
    "for node in g.nodes():\n",
    "    n, val = get_node_sd(node)\n",
    "    sd_dict.update({n: val})\n",
    "#     dict.update(Iterable_Sequence of key:value)\n",
    "#     sd_list.append(get_node_sd(node))\n",
    "\n",
    "sd_dict = {key:val for key, val in sd_dict.items() if val != None}\n",
    "\n",
    "maxSD = max(sd_dict.items(), key=lambda x : x[1])\n",
    "print('Max value in Dict: ', maxSD[1])\n",
    "print('Key With Max value in Dict: ', maxSD[0])"
   ]
  },
  {
   "cell_type": "code",
   "execution_count": null,
   "metadata": {},
   "outputs": [],
   "source": [
    "{k: v for k, v in sorted(sd_dict.items(), key=lambda item: item[1], reverse = True)}"
   ]
  },
  {
   "cell_type": "code",
   "execution_count": null,
   "metadata": {},
   "outputs": [],
   "source": [
    "currFen =  'rnbqkbnr/p3pppp/8/1p6/2pP4/4PQ2/1P3PPP/RNB1KBNR b KQkq - 1 6'\n",
    "scores = []\n",
    "counts = []\n",
    "\n",
    "for neighbor in list(g.neighbors(currFen)):\n",
    "    print(neighbor, g.nodes()[neighbor])\n",
    "    scores.append(nx.get_node_attributes(g, 'score')[neighbor])\n",
    "    counts.append(nx.get_node_attributes(g, 'movelistCount')[neighbor][currFen])\n",
    "print('SD :', np.sqrt(varWeighted(scores,counts)), \", total Games:\", sum(counts))\n"
   ]
  },
  {
   "cell_type": "markdown",
   "metadata": {},
   "source": [
    "## Ad hoc viz of moves and children with sf score"
   ]
  },
  {
   "cell_type": "code",
   "execution_count": 5,
   "metadata": {},
   "outputs": [
    {
     "name": "stdout",
     "output_type": "stream",
     "text": [
      "rnbqkbnr/pppp1ppp/8/4p3/8/5P2/PPPPP1PP/RNBQKBNR w KQkq - 0 2\n",
      "-101\n"
     ]
    }
   ],
   "source": [
    "#Move ['32', 'f3', 'e5', 'g4', 'Qh4#']\n",
    "\n",
    "board = chess.Board()\n",
    "board.push_san('f3') #push the move to the board\n",
    "board.push_san('e5') #push the move to the board\n",
    "#board.push_san('g4') #push the move to the board\n",
    "#board.push_san('Qh4#') #push the move to the board\n",
    "currFen = board.fen()\n",
    "print(currFen)\n",
    "stockfish.set_fen_position(currFen)\n",
    "score = stockfish.get_evaluation()['value']\n",
    "print(score)"
   ]
  },
  {
   "cell_type": "code",
   "execution_count": null,
   "metadata": {},
   "outputs": [],
   "source": [
    "board = chess.Board(currFen)\n",
    "print(engine.analyse(board, chess.engine.Limit(time=.05), info=chess.engine.INFO_SCORE))\n",
    "board"
   ]
  },
  {
   "cell_type": "code",
   "execution_count": null,
   "metadata": {},
   "outputs": [],
   "source": [
    "board = chess.Board(currFen)\n",
    "print(engine.analyse(board, chess.engine.Limit(time=.05), info=chess.engine.INFO_SCORE))\n",
    "print(\"CURRFEN:\")\n",
    "print(board)\n",
    "print(\"_\"*50)\n",
    "print(\"_\"*50)\n",
    "for neighbor in list(g.neighbors(currFen)):\n",
    "    board = chess.Board(neighbor)\n",
    "    print(engine.analyse(board, chess.engine.Limit(time=.05), info=chess.engine.INFO_SCORE))\n",
    "    print(board)\n",
    "    print(\"_\"*50)"
   ]
  },
  {
   "cell_type": "code",
   "execution_count": null,
   "metadata": {},
   "outputs": [],
   "source": []
  }
 ],
 "metadata": {
  "kernelspec": {
   "display_name": "Python 3",
   "language": "python",
   "name": "python3"
  },
  "language_info": {
   "codemirror_mode": {
    "name": "ipython",
    "version": 3
   },
   "file_extension": ".py",
   "mimetype": "text/x-python",
   "name": "python",
   "nbconvert_exporter": "python",
   "pygments_lexer": "ipython3",
   "version": "3.7.6"
  }
 },
 "nbformat": 4,
 "nbformat_minor": 4
}
