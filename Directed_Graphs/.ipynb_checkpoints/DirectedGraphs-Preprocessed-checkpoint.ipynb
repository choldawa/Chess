{
 "cells": [
  {
   "cell_type": "markdown",
   "metadata": {},
   "source": [
    "# Build graph from preprocessed file\n",
    "With a tabulated count:san file"
   ]
  },
  {
   "cell_type": "markdown",
   "metadata": {},
   "source": [
    "## Read in packages, functions, and file"
   ]
  },
  {
   "cell_type": "code",
   "execution_count": 1,
   "metadata": {},
   "outputs": [],
   "source": [
    "import sys\n",
    "import networkx as nx\n",
    "import matplotlib as plt\n",
    "import numpy as np\n",
    "import re\n",
    "import chess\n",
    "import subprocess\n",
    "import timeit\n",
    "import pickle\n",
    "import stockfish\n",
    "from stockfish import Stockfish\n",
    "import chess\n",
    "import chess.engine\n",
    "import warnings\n",
    "warnings.filterwarnings('ignore')\n",
    "\n",
    "engine = chess.engine.SimpleEngine.popen_uci(\"../stockfish-10-64\")\n",
    "stockfish = Stockfish(\"../stockfish-10-64\")"
   ]
  },
  {
   "cell_type": "code",
   "execution_count": 2,
   "metadata": {},
   "outputs": [],
   "source": [
    "def varWeighted(scores, counts):\n",
    "    if (len(counts)<2):\n",
    "        return None\n",
    "    else:\n",
    "        weightedMean = sum([a*b for a,b in zip(scores,counts)])/sum(counts)\n",
    "        scoreDiffs = [(score - weightedMean)**2 for score in scores]\n",
    "        V1 = sum(counts)\n",
    "        V2 = sum([count**2 for count in counts])\n",
    "        var = (V1/(V1**2-V2)) * sum([a*b for a,b in zip(counts,scoreDiffs)])\n",
    "        return var\n",
    "    \n",
    "def get_score(san):\n",
    "    board = chess.Board()\n",
    "    for move in san:\n",
    "        board.push_san(move)\n",
    "    currFen = board.fen()\n",
    "    score = engine.analyse(board, chess.engine.Limit(time=.05), info=chess.engine.INFO_SCORE)\n",
    "    if('#' in str(score['score'])):\n",
    "        if('-' in str(score['score'])):\n",
    "            return -39765\n",
    "        else:\n",
    "            return 39765\n",
    "    else:\n",
    "        score = int(str(score[\"score\"]))\n",
    "    return score\n",
    "\n",
    "def san_to_fen(san):\n",
    "    board = chess.Board()\n",
    "    for move in san:\n",
    "        board.push_san(move)\n",
    "    currFen = board.fen()\n",
    "    return currFen\n",
    "\n",
    "def get_node_sd(node):\n",
    "    scores = []\n",
    "    counts = []\n",
    "    try:\n",
    "        for neighbor in list(g.neighbors(node)):\n",
    "            scores.append(nx.get_node_attributes(g, 'score')[neighbor])\n",
    "            counts.append(nx.get_node_attributes(g, 'movelistCount')[neighbor][node])\n",
    "        return node, np.sqrt(varWeighted(scores,counts))\n",
    "    except:\n",
    "        return node, None"
   ]
  },
  {
   "cell_type": "code",
   "execution_count": 3,
   "metadata": {},
   "outputs": [],
   "source": [
    "game_file = \"../tab-trunc.txt\"\n",
    "\n",
    "with open(game_file, \"r\") as file_in:\n",
    "    mainlineList = []\n",
    "    for line in file_in:\n",
    "        mainlineList.append(line)\n",
    "\n",
    "#extract each string of moves\n",
    "stringList = []\n",
    "for mainLine in mainlineList:\n",
    "    stringList.append(mainLine.split())\n",
    "\n",
    "# stringList.sort(key = len) \n"
   ]
  },
  {
   "cell_type": "code",
   "execution_count": 4,
   "metadata": {},
   "outputs": [
    {
     "name": "stdout",
     "output_type": "stream",
     "text": [
      "692287\n"
     ]
    }
   ],
   "source": [
    "print(len(stringList))"
   ]
  },
  {
   "cell_type": "markdown",
   "metadata": {},
   "source": [
    "## Build and pickle graph"
   ]
  },
  {
   "cell_type": "code",
   "execution_count": 10,
   "metadata": {},
   "outputs": [
    {
     "name": "stdout",
     "output_type": "stream",
     "text": [
      "strings processed: 0 TIME: 0.006866430999991735\n",
      "strings processed: 5000 TIME: 32.68757163500001\n",
      "strings processed: 10000 TIME: 33.08138398899999\n",
      "strings processed: 15000 TIME: 34.976854661999994\n",
      "strings processed: 20000 TIME: 35.67065922699999\n",
      "strings processed: 25000 TIME: 38.53639154499999\n",
      "strings processed: 30000 TIME: 40.18450292200001\n",
      "strings processed: 35000 TIME: 41.161686495\n",
      "strings processed: 40000 TIME: 41.759341441000004\n",
      "strings processed: 45000 TIME: 43.02297358300001\n",
      "strings processed: 50000 TIME: 45.240920047\n",
      "strings processed: 55000 TIME: 47.613884598\n",
      "strings processed: 60000 TIME: 49.94377467699999\n",
      "strings processed: 65000 TIME: 52.525709132\n",
      "strings processed: 70000 TIME: 54.183036326999996\n",
      "strings processed: 75000 TIME: 55.70505054\n",
      "strings processed: 80000 TIME: 56.95148082399999\n",
      "strings processed: 85000 TIME: 58.80307467\n",
      "strings processed: 90000 TIME: 60.746835124\n",
      "strings processed: 95000 TIME: 62.37400139799999\n",
      "strings processed: 100000 TIME: 63.262296099\n",
      "strings processed: 105000 TIME: 65.518820761\n",
      "strings processed: 110000 TIME: 69.794096693\n",
      "strings processed: 115000 TIME: 71.86895428099999\n",
      "strings processed: 120000 TIME: 73.82763814900002\n",
      "strings processed: 125000 TIME: 76.54368197300002\n",
      "strings processed: 130000 TIME: 78.89601721300002\n",
      "strings processed: 135000 TIME: 82.13138578499999\n",
      "strings processed: 140000 TIME: 83.72439682799998\n",
      "strings processed: 145000 TIME: 86.08743073899998\n",
      "strings processed: 150000 TIME: 87.350677004\n",
      "strings processed: 155000 TIME: 89.58069913099999\n",
      "strings processed: 160000 TIME: 92.12141507800001\n",
      "strings processed: 165000 TIME: 96.27094605300002\n",
      "strings processed: 170000 TIME: 99.94254468599999\n",
      "strings processed: 175000 TIME: 103.93790375299997\n",
      "strings processed: 180000 TIME: 106.31148623300001\n",
      "strings processed: 185000 TIME: 108.30800973199999\n",
      "strings processed: 190000 TIME: 110.52984041200003\n",
      "strings processed: 195000 TIME: 116.285386967\n",
      "strings processed: 200000 TIME: 118.38014215799998\n",
      "strings processed: 205000 TIME: 120.56447042599999\n",
      "strings processed: 210000 TIME: 122.653406424\n",
      "strings processed: 215000 TIME: 124.530392858\n",
      "strings processed: 220000 TIME: 126.002841926\n",
      "strings processed: 225000 TIME: 129.17586673600002\n",
      "strings processed: 230000 TIME: 132.40197336499998\n",
      "strings processed: 235000 TIME: 136.42755209599997\n",
      "strings processed: 240000 TIME: 139.50380431800002\n",
      "strings processed: 245000 TIME: 142.70529103700002\n",
      "strings processed: 250000 TIME: 146.51453990000002\n",
      "strings processed: 255000 TIME: 149.073058477\n",
      "strings processed: 260000 TIME: 152.78737368400002\n",
      "strings processed: 265000 TIME: 156.04392851600002\n",
      "strings processed: 270000 TIME: 159.23825520800003\n",
      "strings processed: 275000 TIME: 161.594200029\n",
      "strings processed: 280000 TIME: 164.26095641499998\n",
      "strings processed: 285000 TIME: 167.050281973\n",
      "strings processed: 290000 TIME: 169.822088368\n",
      "strings processed: 295000 TIME: 172.047566564\n",
      "strings processed: 300000 TIME: 176.512005405\n",
      "strings processed: 305000 TIME: 178.193326102\n",
      "strings processed: 310000 TIME: 182.16558419600003\n",
      "strings processed: 315000 TIME: 186.02991884899998\n",
      "strings processed: 320000 TIME: 189.16887014\n",
      "strings processed: 325000 TIME: 192.81007438100002\n",
      "strings processed: 330000 TIME: 196.279251861\n",
      "strings processed: 335000 TIME: 200.269118374\n",
      "strings processed: 340000 TIME: 204.52597772099998\n",
      "strings processed: 345000 TIME: 208.64080324800003\n",
      "strings processed: 350000 TIME: 211.97781295000001\n",
      "strings processed: 355000 TIME: 214.575484618\n",
      "strings processed: 360000 TIME: 217.55142827\n",
      "strings processed: 365000 TIME: 221.04582800900002\n",
      "strings processed: 370000 TIME: 224.43121560199998\n",
      "strings processed: 375000 TIME: 228.606270841\n",
      "strings processed: 380000 TIME: 232.445465809\n",
      "strings processed: 385000 TIME: 237.302868447\n",
      "strings processed: 390000 TIME: 240.76771577999997\n",
      "strings processed: 395000 TIME: 245.07653656099998\n",
      "strings processed: 400000 TIME: 247.90992424700002\n",
      "strings processed: 405000 TIME: 251.260011257\n",
      "strings processed: 410000 TIME: 257.138610921\n",
      "strings processed: 415000 TIME: 260.95626056000003\n",
      "strings processed: 420000 TIME: 265.245026294\n",
      "strings processed: 425000 TIME: 270.253004155\n",
      "strings processed: 430000 TIME: 272.741029499\n",
      "strings processed: 435000 TIME: 277.44611148700005\n",
      "strings processed: 440000 TIME: 281.300382871\n",
      "strings processed: 445000 TIME: 285.16736732799995\n",
      "strings processed: 450000 TIME: 288.95543463700005\n",
      "strings processed: 455000 TIME: 293.36817955799995\n",
      "strings processed: 460000 TIME: 297.416901242\n",
      "strings processed: 465000 TIME: 301.782265509\n",
      "strings processed: 470000 TIME: 305.60021146500003\n",
      "strings processed: 475000 TIME: 309.989038035\n",
      "strings processed: 480000 TIME: 313.839726737\n",
      "strings processed: 485000 TIME: 317.21429519599997\n",
      "strings processed: 490000 TIME: 320.80702089500005\n",
      "strings processed: 495000 TIME: 325.233000831\n",
      "strings processed: 500000 TIME: 332.892348353\n",
      "strings processed: 505000 TIME: 343.76175973499994\n",
      "strings processed: 510000 TIME: 352.774854475\n",
      "strings processed: 515000 TIME: 361.87866884799996\n",
      "strings processed: 520000 TIME: 370.042830298\n",
      "strings processed: 525000 TIME: 378.68783071099995\n",
      "strings processed: 530000 TIME: 386.3860798459999\n",
      "strings processed: 535000 TIME: 392.0076562979999\n",
      "strings processed: 540000 TIME: 402.30998347\n",
      "strings processed: 545000 TIME: 409.359421247\n",
      "strings processed: 550000 TIME: 418.347639749\n",
      "strings processed: 555000 TIME: 425.21061520599994\n",
      "strings processed: 560000 TIME: 434.521959776\n",
      "strings processed: 565000 TIME: 443.129442864\n",
      "strings processed: 570000 TIME: 451.117415551\n",
      "strings processed: 575000 TIME: 458.83797499799994\n",
      "strings processed: 580000 TIME: 469.487274318\n",
      "strings processed: 585000 TIME: 479.617101426\n",
      "strings processed: 590000 TIME: 493.231062631\n",
      "strings processed: 595000 TIME: 501.541415873\n",
      "strings processed: 600000 TIME: 512.269697913\n",
      "strings processed: 605000 TIME: 523.776263955\n",
      "strings processed: 610000 TIME: 534.861925371\n",
      "strings processed: 615000 TIME: 545.3102649169999\n",
      "strings processed: 620000 TIME: 555.0917170189999\n",
      "strings processed: 625000 TIME: 564.259740129\n",
      "strings processed: 630000 TIME: 577.958245959\n",
      "strings processed: 635000 TIME: 589.0684406959999\n",
      "strings processed: 640000 TIME: 608.389780137\n",
      "strings processed: 645000 TIME: 626.437177682\n",
      "strings processed: 650000 TIME: 644.4345265219999\n",
      "strings processed: 655000 TIME: 664.6817212479999\n",
      "strings processed: 660000 TIME: 683.908644964\n",
      "strings processed: 665000 TIME: 705.265064039\n",
      "strings processed: 670000 TIME: 723.33993987\n",
      "strings processed: 675000 TIME: 744.4498873489999\n",
      "strings processed: 680000 TIME: 779.645713677\n",
      "strings processed: 685000 TIME: 811.098876139\n",
      "strings processed: 690000 TIME: 844.35277549\n",
      "Time:  860.494933065\n",
      "totalNodes: 10346\n"
     ]
    }
   ],
   "source": [
    "cnt = 0\n",
    "start = timeit.default_timer()\n",
    "\n",
    "#initialize graph with root node\n",
    "g = nx.DiGraph()\n",
    "g.add_node('root', score = 0, movelist = 'root')\n",
    "\n",
    "for s in stringList:\n",
    "    whiteMove = 1\n",
    "    if(cnt%10000 == 0):\n",
    "        print(\"strings processed:\", cnt, \"TIME:\", timeit.default_timer()-start)\n",
    "    count = int(s[0])\n",
    "    if(count >= 50):\n",
    "        board = chess.Board()\n",
    "        parentFen = 'root'\n",
    "        try:\n",
    "            for move in s[1:]:\n",
    "                san = s[1:s.index(move)+1]\n",
    "                board.push_san(move)\n",
    "                currFen = board.fen()\n",
    "                if(currFen not in g.nodes):\n",
    "                    board = chess.Board(currFen)\n",
    "                    if('#' not in move):\n",
    "                        score = engine.analyse(board, chess.engine.Limit(time=0.05))\n",
    "                        if('#' in str(score['score'])):\n",
    "                            if('-' in str(score['score'])):\n",
    "                                score =  -39765\n",
    "                            else:\n",
    "                                score =  39765\n",
    "                        else:\n",
    "                            score = int(str(score[\"score\"])) * whiteMove\n",
    "    #                         stockfish.set_fen_position(currFen)\n",
    "    #                         score = stockfish.get_evaluation()['value']\n",
    "                    else:\n",
    "                        score = -39765 * whiteMove\n",
    "                    g.add_node(currFen,\n",
    "                               score = score,\n",
    "                               count = count,\n",
    "                               san = san,\n",
    "                               movelistCount = {parentFen:count})\n",
    "                    g.add_edge(parentFen, currFen)\n",
    "                else:\n",
    "                    if(parentFen in nx.get_node_attributes(g, 'movelistCount')[currFen]):\n",
    "                        nx.get_node_attributes(g, 'movelistCount')[currFen][parentFen] += count #increase parent count\n",
    "                    else:\n",
    "                        nx.get_node_attributes(g, 'movelistCount')[currFen][parentFen] = count #add parent and count\n",
    "                        g.add_edge(parentFen, currFen) #add edge from parentFen to currFen\n",
    "                    g.nodes[currFen]['count'] = nx.get_node_attributes(g, 'count')[currFen] + count #increase count\n",
    "    #                 whiteMove *= -1\n",
    "                parentFen = currFen\n",
    "        except Exception as e:\n",
    "            print(e)\n",
    "            print(sys.exc_info()[0])\n",
    "            print(\"Move\",s)\n",
    "            stockfish.set_fen_position(currFen)\n",
    "            print(stockfish.get_evaluation()['value'])\n",
    "            break\n",
    "        cnt+=1\n",
    "    else:\n",
    "        cnt+=1\n",
    "            \n",
    "stop = timeit.default_timer()\n",
    "print('Time: ', stop - start)\n",
    "print(\"totalNodes:\",len(g))"
   ]
  },
  {
   "cell_type": "code",
   "execution_count": 11,
   "metadata": {},
   "outputs": [
    {
     "data": {
      "text/plain": [
       "{'score': 63,\n",
       " 'count': 11948,\n",
       " 'san': ['d4', 'Nf6'],\n",
       " 'movelistCount': {'rnbqkbnr/pppppppp/8/8/3P4/8/PPP1PPPP/RNBQKBNR b KQkq - 0 1': 11948}}"
      ]
     },
     "execution_count": 11,
     "metadata": {},
     "output_type": "execute_result"
    }
   ],
   "source": [
    "g.nodes()['rnbqkb1r/pppppppp/5n2/8/3P4/8/PPP1PPPP/RNBQKBNR w KQkq - 1 2']"
   ]
  },
  {
   "cell_type": "code",
   "execution_count": 12,
   "metadata": {},
   "outputs": [],
   "source": [
    "#nx.write_gpickle(g,\"test.gpickle\")"
   ]
  },
  {
   "cell_type": "code",
   "execution_count": 13,
   "metadata": {},
   "outputs": [],
   "source": [
    "g = nx.read_gpickle('full690k.gpickle')"
   ]
  },
  {
   "cell_type": "markdown",
   "metadata": {},
   "source": [
    "## Test variance calcuilations"
   ]
  },
  {
   "cell_type": "code",
   "execution_count": 14,
   "metadata": {},
   "outputs": [
    {
     "name": "stdout",
     "output_type": "stream",
     "text": [
      "rnbqkb1r/pppppppp/5n2/8/3P4/8/PPP1PPPP/RNBQKBNR w KQkq - 1 2\n",
      "sd: 39.42412035207993\n",
      "Time:  0.19528749800019796\n"
     ]
    }
   ],
   "source": [
    "start = timeit.default_timer()\n",
    "\n",
    "board = chess.Board()\n",
    "board.push_san('d4') #push the move to the board\n",
    "board.push_san('Nf6') #push the move to the board\n",
    "currFen = board.fen()\n",
    "print(currFen)\n",
    "scores = []\n",
    "counts = []\n",
    "for neighbor in list(g.neighbors(currFen)):\n",
    "    scores.append(nx.get_node_attributes(g, 'score')[neighbor])\n",
    "    counts.append(nx.get_node_attributes(g, 'count')[neighbor])\n",
    "    \n",
    "print(\"sd:\",np.sqrt(varWeighted(scores, counts)))\n",
    "\n",
    "stop = timeit.default_timer()\n",
    "print('Time: ', stop - start) "
   ]
  },
  {
   "cell_type": "code",
   "execution_count": 15,
   "metadata": {},
   "outputs": [
    {
     "name": "stdout",
     "output_type": "stream",
     "text": [
      "root ['e4', 'c5'] ||| SD : 52.4178835913871 , total Games: 30613\n",
      "safe ['e4', 'c5', 'c3'] ||| SD : 17.919670383656534 , total Games: 1224\n",
      "risky ['e4', 'c5', 'd4'] ||| SD : 87.61629331075976 , total Games: 3702\n",
      "root2 ['e4', 'e6', 'd4', 'd5'] ||| SD : 34.549936453466835 , total Games: 5868\n",
      "popular2.0 ['e4', 'e6', 'd4', 'd5', 'Nc3'] ||| SD : 26.534029951240356 , total Games: 986\n",
      "popular2.1 ['e4', 'e6', 'd4', 'd5', 'Nd2'] ||| SD : 29.42564695849045 , total Games: 677\n",
      "safe2 ['e4', 'e6', 'd4', 'd5', 'exd5'] ||| SD : 79.12339016299454 , total Games: 639\n",
      "risky2 ['e4', 'e6', 'd4', 'd5', 'e5'] ||| SD : 48.575727612339946 , total Games: 4571\n",
      "Ruy ['e4', 'e5', 'Nf3', 'Nc6', 'Bb5'] ||| SD : 32.326789052452725 , total Games: 4814\n",
      "Vienna ['e4', 'e5', 'd4', 'exd4', 'c3'] ||| SD : 43.9007496294731 , total Games: 753\n"
     ]
    }
   ],
   "source": [
    "gamesDict = {\"root\" : ['e4', 'c5'],\n",
    "\"safe\" : ['e4', 'c5', 'c3'],\n",
    "\"risky\" : ['e4', 'c5', 'd4'],\n",
    "\"root2\" : ['e4', 'e6', 'd4', 'd5'],\n",
    "\"popular2.0\" : ['e4', 'e6', 'd4', 'd5', 'Nc3'],\n",
    "\"popular2.1\" : ['e4', 'e6', 'd4', 'd5', 'Nd2'],\n",
    "\"safe2\" : ['e4', 'e6', 'd4', 'd5', 'exd5'],\n",
    "\"risky2\" : ['e4', 'e6', 'd4', 'd5', 'e5'],\n",
    "\"Ruy\" : ['e4', 'e5','Nf3', 'Nc6','Bb5'],\n",
    "\"Vienna\" : ['e4' ,'e5','d4','exd4','c3']}\n",
    "\n",
    "for key, game in gamesDict.items():\n",
    "    currFen = san_to_fen(game)\n",
    "    scores = []\n",
    "    counts = []\n",
    "    try:\n",
    "        for neighbor in list(g.neighbors(currFen)):\n",
    "            scores.append(nx.get_node_attributes(g, 'score')[neighbor])\n",
    "            counts.append(nx.get_node_attributes(g, 'movelistCount')[neighbor][currFen])\n",
    "        print('{} {} ||| SD :'.format(key, game), np.sqrt(varWeighted(scores,counts)), \", total Games:\", sum(counts))\n",
    "    except:\n",
    "        break\n",
    "\n",
    "    "
   ]
  },
  {
   "cell_type": "code",
   "execution_count": null,
   "metadata": {},
   "outputs": [],
   "source": [
    "sd_dict = {}\n",
    "for node in g.nodes():\n",
    "    n, val = get_node_sd(node)\n",
    "    sd_dict.update({n: val})\n",
    "#     dict.update(Iterable_Sequence of key:value)\n",
    "#     sd_list.append(get_node_sd(node))\n",
    "\n",
    "sd_dict = {key:val for key, val in sd_dict.items() if val != None}\n",
    "\n",
    "maxSD = max(sd_dict.items(), key=lambda x : x[1])\n",
    "print('Max value in Dict: ', maxSD[1])\n",
    "print('Key With Max value in Dict: ', maxSD[0])"
   ]
  },
  {
   "cell_type": "code",
   "execution_count": null,
   "metadata": {},
   "outputs": [],
   "source": [
    "{k: v for k, v in sorted(sd_dict.items(), key=lambda item: item[1], reverse = True)}"
   ]
  },
  {
   "cell_type": "code",
   "execution_count": null,
   "metadata": {},
   "outputs": [],
   "source": [
    "currFen =  'rnbqkbnr/p3pppp/8/1p6/2pP4/4PQ2/1P3PPP/RNB1KBNR b KQkq - 1 6'\n",
    "scores = []\n",
    "counts = []\n",
    "\n",
    "for neighbor in list(g.neighbors(currFen)):\n",
    "    print(neighbor, g.nodes()[neighbor])\n",
    "    scores.append(nx.get_node_attributes(g, 'score')[neighbor])\n",
    "    counts.append(nx.get_node_attributes(g, 'movelistCount')[neighbor][currFen])\n",
    "print('SD :', np.sqrt(varWeighted(scores,counts)), \", total Games:\", sum(counts))\n"
   ]
  },
  {
   "cell_type": "markdown",
   "metadata": {},
   "source": [
    "## Ad hoc viz of moves and children with sf score"
   ]
  },
  {
   "cell_type": "code",
   "execution_count": 5,
   "metadata": {},
   "outputs": [
    {
     "name": "stdout",
     "output_type": "stream",
     "text": [
      "rnbqkbnr/pppp1ppp/8/4p3/8/5P2/PPPPP1PP/RNBQKBNR w KQkq - 0 2\n",
      "-101\n"
     ]
    }
   ],
   "source": [
    "#Move ['32', 'f3', 'e5', 'g4', 'Qh4#']\n",
    "\n",
    "board = chess.Board()\n",
    "board.push_san('f3') #push the move to the board\n",
    "board.push_san('e5') #push the move to the board\n",
    "#board.push_san('g4') #push the move to the board\n",
    "#board.push_san('Qh4#') #push the move to the board\n",
    "currFen = board.fen()\n",
    "print(currFen)\n",
    "stockfish.set_fen_position(currFen)\n",
    "score = stockfish.get_evaluation()['value']\n",
    "print(score)"
   ]
  },
  {
   "cell_type": "code",
   "execution_count": null,
   "metadata": {},
   "outputs": [],
   "source": [
    "board = chess.Board(currFen)\n",
    "print(engine.analyse(board, chess.engine.Limit(time=.05), info=chess.engine.INFO_SCORE))\n",
    "board"
   ]
  },
  {
   "cell_type": "code",
   "execution_count": null,
   "metadata": {},
   "outputs": [],
   "source": [
    "board = chess.Board(currFen)\n",
    "print(engine.analyse(board, chess.engine.Limit(time=.05), info=chess.engine.INFO_SCORE))\n",
    "print(\"CURRFEN:\")\n",
    "print(board)\n",
    "print(\"_\"*50)\n",
    "print(\"_\"*50)\n",
    "for neighbor in list(g.neighbors(currFen)):\n",
    "    board = chess.Board(neighbor)\n",
    "    print(engine.analyse(board, chess.engine.Limit(time=.05), info=chess.engine.INFO_SCORE))\n",
    "    print(board)\n",
    "    print(\"_\"*50)"
   ]
  },
  {
   "cell_type": "code",
   "execution_count": null,
   "metadata": {},
   "outputs": [],
   "source": []
  }
 ],
 "metadata": {
  "kernelspec": {
   "display_name": "Python 3",
   "language": "python",
   "name": "python3"
  },
  "language_info": {
   "codemirror_mode": {
    "name": "ipython",
    "version": 3
   },
   "file_extension": ".py",
   "mimetype": "text/x-python",
   "name": "python",
   "nbconvert_exporter": "python",
   "pygments_lexer": "ipython3",
   "version": "3.7.6"
  }
 },
 "nbformat": 4,
 "nbformat_minor": 4
}
