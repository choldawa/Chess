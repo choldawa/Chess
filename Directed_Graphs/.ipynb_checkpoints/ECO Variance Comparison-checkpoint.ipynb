{
 "cells": [
  {
   "cell_type": "markdown",
   "metadata": {},
   "source": [
    "# ECO variance comparison\n",
    "To see how our variance measure compares with traiditon win% risk measures"
   ]
  },
  {
   "cell_type": "code",
   "execution_count": 92,
   "metadata": {},
   "outputs": [],
   "source": [
    "import sys\n",
    "import networkx as nx\n",
    "import matplotlib as plt\n",
    "import numpy as np\n",
    "import re\n",
    "import chess\n",
    "import subprocess\n",
    "import timeit\n",
    "import pickle\n",
    "import stockfish\n",
    "from stockfish import Stockfish\n",
    "import chess\n",
    "import chess.engine\n",
    "import pandas as pd\n",
    "import warnings\n",
    "warnings.filterwarnings('ignore')\n",
    "\n",
    "engine = chess.engine.SimpleEngine.popen_uci(\"../stockfish-10-64\")\n",
    "stockfish = Stockfish(\"../stockfish-10-64\")"
   ]
  },
  {
   "cell_type": "markdown",
   "metadata": {},
   "source": [
    "## Load functions"
   ]
  },
  {
   "cell_type": "code",
   "execution_count": 93,
   "metadata": {},
   "outputs": [],
   "source": [
    "def varWeighted(scores, counts):\n",
    "    if (len(counts)<2):\n",
    "        return None\n",
    "    else:\n",
    "        weightedMean = sum([a*b for a,b in zip(scores,counts)])/sum(counts)\n",
    "        scoreDiffs = [(score - weightedMean)**2 for score in scores]\n",
    "        V1 = sum(counts)\n",
    "        V2 = sum([count**2 for count in counts])\n",
    "        var = (V1/(V1**2-V2)) * sum([a*b for a,b in zip(counts,scoreDiffs)])\n",
    "        return var\n",
    "    \n",
    "def get_score(san):\n",
    "    board = chess.Board()\n",
    "    for move in san:\n",
    "        board.push_san(move)\n",
    "    currFen = board.fen()\n",
    "    score = engine.analyse(board, chess.engine.Limit(time=.05), info=chess.engine.INFO_SCORE)\n",
    "    if('#' in str(score['score'])):\n",
    "        if('-' in str(score['score'])):\n",
    "            return -39765\n",
    "        else:\n",
    "            return 39765\n",
    "    else:\n",
    "        score = int(str(score[\"score\"]))\n",
    "    return score\n",
    "\n",
    "def san_to_fen(san):\n",
    "    board = chess.Board()\n",
    "    for move in san:\n",
    "        try:\n",
    "            board.push_san(move)\n",
    "            currFen = board.fen()\n",
    "        except:\n",
    "            currFen = None\n",
    "    return currFen\n",
    "\n",
    "def get_node_sd(node):\n",
    "    scores = []\n",
    "    counts = []\n",
    "    try:\n",
    "        for neighbor in list(g.neighbors(node)):\n",
    "            scores.append(nx.get_node_attributes(g, 'score')[neighbor])\n",
    "            counts.append(nx.get_node_attributes(g, 'movelistCount')[neighbor][node])\n",
    "        return node, np.sqrt(varWeighted(scores,counts))\n",
    "    except:\n",
    "        return node, None"
   ]
  },
  {
   "cell_type": "markdown",
   "metadata": {},
   "source": [
    "## Load games graph"
   ]
  },
  {
   "cell_type": "code",
   "execution_count": 94,
   "metadata": {},
   "outputs": [
    {
     "data": {
      "text/plain": [
       "10346"
      ]
     },
     "execution_count": 94,
     "metadata": {},
     "output_type": "execute_result"
    }
   ],
   "source": [
    "g = nx.read_gpickle('full690k.gpickle')\n",
    "len(g.nodes())"
   ]
  },
  {
   "cell_type": "code",
   "execution_count": 95,
   "metadata": {},
   "outputs": [],
   "source": [
    "# Get all ECO openings from .tsv files, not using this since the win % file has more info\n",
    "\n",
    "# import pandas as pd\n",
    "# import glob\n",
    "\n",
    "# path = r'../eco_files/' # use your path\n",
    "# all_files = glob.glob(path + \"/*.tsv\")\n",
    "\n",
    "# li = []\n",
    "\n",
    "# for filename in all_files:\n",
    "#     df = pd.read_csv(filename, index_col=None, header=0, sep = '\\t')\n",
    "#     li.append(df)\n",
    "\n",
    "# eco_df = pd.concat(li, axis=0, ignore_index=True)\n",
    "# print(eco_df.shape)\n",
    "# eco_df.head(2)"
   ]
  },
  {
   "cell_type": "markdown",
   "metadata": {},
   "source": [
    "## Read in df"
   ]
  },
  {
   "cell_type": "code",
   "execution_count": 96,
   "metadata": {},
   "outputs": [
    {
     "name": "stdout",
     "output_type": "stream",
     "text": [
      "Total NA fen: 0\n"
     ]
    },
    {
     "data": {
      "text/html": [
       "<div>\n",
       "<style scoped>\n",
       "    .dataframe tbody tr th:only-of-type {\n",
       "        vertical-align: middle;\n",
       "    }\n",
       "\n",
       "    .dataframe tbody tr th {\n",
       "        vertical-align: top;\n",
       "    }\n",
       "\n",
       "    .dataframe thead th {\n",
       "        text-align: right;\n",
       "    }\n",
       "</style>\n",
       "<table border=\"1\" class=\"dataframe\">\n",
       "  <thead>\n",
       "    <tr style=\"text-align: right;\">\n",
       "      <th></th>\n",
       "      <th>Opening</th>\n",
       "      <th>Num Games</th>\n",
       "      <th>ECO</th>\n",
       "      <th>Perf Rating</th>\n",
       "      <th>Avg Player</th>\n",
       "      <th>Player Win %</th>\n",
       "      <th>Draw %</th>\n",
       "      <th>Opponent Win %</th>\n",
       "      <th>san</th>\n",
       "      <th>fen</th>\n",
       "    </tr>\n",
       "  </thead>\n",
       "  <tbody>\n",
       "    <tr>\n",
       "      <th>0</th>\n",
       "      <td>Sicilian Defense, Closed Variation</td>\n",
       "      <td>26244</td>\n",
       "      <td>B23</td>\n",
       "      <td>2112</td>\n",
       "      <td>2087</td>\n",
       "      <td>0.37</td>\n",
       "      <td>0.24</td>\n",
       "      <td>0.39</td>\n",
       "      <td>[e4, c5, Nc3]</td>\n",
       "      <td>rnbqkbnr/pp1ppppp/8/2p5/4P3/2N5/PPPP1PPP/R1BQK...</td>\n",
       "    </tr>\n",
       "    <tr>\n",
       "      <th>1</th>\n",
       "      <td>King's Indian Attack, General</td>\n",
       "      <td>23034</td>\n",
       "      <td>A07</td>\n",
       "      <td>2316</td>\n",
       "      <td>2299</td>\n",
       "      <td>0.40</td>\n",
       "      <td>0.34</td>\n",
       "      <td>0.26</td>\n",
       "      <td>[Nf3, d5, g3]</td>\n",
       "      <td>rnbqkbnr/ppp1pppp/8/3p4/8/5NP1/PPPPPP1P/RNBQKB...</td>\n",
       "    </tr>\n",
       "  </tbody>\n",
       "</table>\n",
       "</div>"
      ],
      "text/plain": [
       "                              Opening  Num Games  ECO  Perf Rating  \\\n",
       "0  Sicilian Defense, Closed Variation      26244  B23         2112   \n",
       "1       King's Indian Attack, General      23034  A07         2316   \n",
       "\n",
       "   Avg Player  Player Win %  Draw %  Opponent Win %            san  \\\n",
       "0        2087          0.37    0.24            0.39  [e4, c5, Nc3]   \n",
       "1        2299          0.40    0.34            0.26  [Nf3, d5, g3]   \n",
       "\n",
       "                                                 fen  \n",
       "0  rnbqkbnr/pp1ppppp/8/2p5/4P3/2N5/PPPP1PPP/R1BQK...  \n",
       "1  rnbqkbnr/ppp1pppp/8/3p4/8/5NP1/PPPPPP1P/RNBQKB...  "
      ]
     },
     "execution_count": 96,
     "metadata": {},
     "output_type": "execute_result"
    }
   ],
   "source": [
    "eco_df = pd.read_csv('../eco_files/ECO_win_percent_chesstempo.csv')\n",
    "eco_df.san = eco_df.san.astype(str)\n",
    "eco_df.san = eco_df.san.apply(lambda x: \" \".join(x.split()))\n",
    "eco_df.san = eco_df.san.str.split(' ').tolist()\n",
    "eco_df['fen'] = eco_df.san.apply(lambda x: san_to_fen(x))\n",
    "eco_df['move_count'] = eco_df['san'].apply(lambda x: len(x))\n",
    "print(\"Total NA fen:\", eco_df['fen'].isna().sum())\n",
    "eco_df.head(2)"
   ]
  },
  {
   "cell_type": "code",
   "execution_count": 97,
   "metadata": {},
   "outputs": [],
   "source": [
    "eco_list = list(eco_df['fen'])\n",
    "sd_list = []\n",
    "node_fen = list(g.nodes())\n",
    "for eco in eco_list:\n",
    "    currFen = [fen for fen in node_fen if eco in fen]\n",
    "    if(len(currFen)>0):\n",
    "        currFen = str(currFen[0])\n",
    "    scores = []\n",
    "    counts = []\n",
    "    try:\n",
    "        for neighbor in list(g.neighbors(currFen)):\n",
    "            scores.append(nx.get_node_attributes(g, 'score')[neighbor])\n",
    "            counts.append(nx.get_node_attributes(g, 'movelistCount')[neighbor][currFen])\n",
    "        sd_list.append(np.sqrt(varWeighted(scores,counts)))\n",
    "#         print('{} {} ||| SD :'.format(key, game), np.sqrt(varWeighted(scores,counts)), \", total Games:\", sum(counts))\n",
    "    except:\n",
    "        sd_list.append(None)"
   ]
  },
  {
   "cell_type": "markdown",
   "metadata": {},
   "source": [
    "#### Check how many NA in df, i.e. how many fens from ECO do not show up in graph"
   ]
  },
  {
   "cell_type": "code",
   "execution_count": 99,
   "metadata": {},
   "outputs": [
    {
     "name": "stdout",
     "output_type": "stream",
     "text": [
      "Total ECO: 384\n",
      "Total NA: 308\n"
     ]
    }
   ],
   "source": [
    "eco_df['sd'] = sd_list\n",
    "print(\"Total ECO:\", len(eco_df['fen']))\n",
    "print(\"Total NA:\", eco_df['sd'].isna().sum())"
   ]
  },
  {
   "cell_type": "code",
   "execution_count": 102,
   "metadata": {},
   "outputs": [
    {
     "name": "stdout",
     "output_type": "stream",
     "text": [
      "(308, 11)\n"
     ]
    },
    {
     "data": {
      "text/html": [
       "<div>\n",
       "<style scoped>\n",
       "    .dataframe tbody tr th:only-of-type {\n",
       "        vertical-align: middle;\n",
       "    }\n",
       "\n",
       "    .dataframe tbody tr th {\n",
       "        vertical-align: top;\n",
       "    }\n",
       "\n",
       "    .dataframe thead th {\n",
       "        text-align: right;\n",
       "    }\n",
       "</style>\n",
       "<table border=\"1\" class=\"dataframe\">\n",
       "  <thead>\n",
       "    <tr style=\"text-align: right;\">\n",
       "      <th></th>\n",
       "      <th>Opening</th>\n",
       "      <th>Num Games</th>\n",
       "      <th>ECO</th>\n",
       "      <th>Perf Rating</th>\n",
       "      <th>Avg Player</th>\n",
       "      <th>Player Win %</th>\n",
       "      <th>Draw %</th>\n",
       "      <th>Opponent Win %</th>\n",
       "      <th>san</th>\n",
       "      <th>fen</th>\n",
       "      <th>sd</th>\n",
       "    </tr>\n",
       "  </thead>\n",
       "  <tbody>\n",
       "    <tr>\n",
       "      <th>6</th>\n",
       "      <td>Sicilian Defense, Najdorf Variation, English A...</td>\n",
       "      <td>16870</td>\n",
       "      <td>B90</td>\n",
       "      <td>2303</td>\n",
       "      <td>2277</td>\n",
       "      <td>0.39</td>\n",
       "      <td>0.28</td>\n",
       "      <td>0.34</td>\n",
       "      <td>[e4, c5, Nf3, d6, d4, cxd4, Nxd4, Nf6, Nc3, a6...</td>\n",
       "      <td>rnbqkb1r/1p2pppp/p2p1n2/8/3NP3/2N1B3/PPP2PPP/R...</td>\n",
       "      <td>NaN</td>\n",
       "    </tr>\n",
       "    <tr>\n",
       "      <th>9</th>\n",
       "      <td>English Opening, Anglo-Indian Defense, King's ...</td>\n",
       "      <td>15322</td>\n",
       "      <td>A15</td>\n",
       "      <td>2347</td>\n",
       "      <td>2328</td>\n",
       "      <td>0.40</td>\n",
       "      <td>0.37</td>\n",
       "      <td>0.24</td>\n",
       "      <td>[c4, Nf6, Nf3]</td>\n",
       "      <td>rnbqkb1r/pppppppp/5n2/8/2P5/5N2/PP1PPPPP/RNBQK...</td>\n",
       "      <td>NaN</td>\n",
       "    </tr>\n",
       "    <tr>\n",
       "      <th>10</th>\n",
       "      <td>King's Indian Defense, Normal Variation, King'...</td>\n",
       "      <td>14459</td>\n",
       "      <td>E60</td>\n",
       "      <td>2281</td>\n",
       "      <td>2259</td>\n",
       "      <td>0.38</td>\n",
       "      <td>0.33</td>\n",
       "      <td>0.29</td>\n",
       "      <td>[d4, Nf6, c4, g6, Nf3]</td>\n",
       "      <td>rnbqkb1r/pppppp1p/5np1/8/2PP4/5N2/PP2PPPP/RNBQ...</td>\n",
       "      <td>NaN</td>\n",
       "    </tr>\n",
       "    <tr>\n",
       "      <th>11</th>\n",
       "      <td>Queen Pawn Game, London System</td>\n",
       "      <td>14288</td>\n",
       "      <td>D02</td>\n",
       "      <td>2074</td>\n",
       "      <td>2049</td>\n",
       "      <td>0.36</td>\n",
       "      <td>0.31</td>\n",
       "      <td>0.33</td>\n",
       "      <td>[d4, d5, Nf3, Nf6, Bf4]</td>\n",
       "      <td>rnbqkb1r/ppp1pppp/5n2/3p4/3P1B2/5N2/PPP1PPPP/R...</td>\n",
       "      <td>NaN</td>\n",
       "    </tr>\n",
       "    <tr>\n",
       "      <th>14</th>\n",
       "      <td>Sicilian Defense, Canal Attack</td>\n",
       "      <td>13659</td>\n",
       "      <td>B51</td>\n",
       "      <td>2315</td>\n",
       "      <td>2286</td>\n",
       "      <td>0.31</td>\n",
       "      <td>0.34</td>\n",
       "      <td>0.36</td>\n",
       "      <td>[e4, c5, Nf3, d6, Bb5+]</td>\n",
       "      <td>rnbqkbnr/pp2pppp/3p4/1Bp5/4P3/5N2/PPPP1PPP/RNB...</td>\n",
       "      <td>NaN</td>\n",
       "    </tr>\n",
       "  </tbody>\n",
       "</table>\n",
       "</div>"
      ],
      "text/plain": [
       "                                              Opening  Num Games  ECO  \\\n",
       "6   Sicilian Defense, Najdorf Variation, English A...      16870  B90   \n",
       "9   English Opening, Anglo-Indian Defense, King's ...      15322  A15   \n",
       "10  King's Indian Defense, Normal Variation, King'...      14459  E60   \n",
       "11                     Queen Pawn Game, London System      14288  D02   \n",
       "14                     Sicilian Defense, Canal Attack      13659  B51   \n",
       "\n",
       "    Perf Rating  Avg Player  Player Win %  Draw %  Opponent Win %  \\\n",
       "6          2303        2277          0.39    0.28            0.34   \n",
       "9          2347        2328          0.40    0.37            0.24   \n",
       "10         2281        2259          0.38    0.33            0.29   \n",
       "11         2074        2049          0.36    0.31            0.33   \n",
       "14         2315        2286          0.31    0.34            0.36   \n",
       "\n",
       "                                                  san  \\\n",
       "6   [e4, c5, Nf3, d6, d4, cxd4, Nxd4, Nf6, Nc3, a6...   \n",
       "9                                      [c4, Nf6, Nf3]   \n",
       "10                             [d4, Nf6, c4, g6, Nf3]   \n",
       "11                            [d4, d5, Nf3, Nf6, Bf4]   \n",
       "14                            [e4, c5, Nf3, d6, Bb5+]   \n",
       "\n",
       "                                                  fen  sd  \n",
       "6   rnbqkb1r/1p2pppp/p2p1n2/8/3NP3/2N1B3/PPP2PPP/R... NaN  \n",
       "9   rnbqkb1r/pppppppp/5n2/8/2P5/5N2/PP1PPPPP/RNBQK... NaN  \n",
       "10  rnbqkb1r/pppppp1p/5np1/8/2PP4/5N2/PP2PPPP/RNBQ... NaN  \n",
       "11  rnbqkb1r/ppp1pppp/5n2/3p4/3P1B2/5N2/PPP1PPPP/R... NaN  \n",
       "14  rnbqkbnr/pp2pppp/3p4/1Bp5/4P3/5N2/PPPP1PPP/RNB... NaN  "
      ]
     },
     "execution_count": 102,
     "metadata": {},
     "output_type": "execute_result"
    }
   ],
   "source": [
    "is_NaN = eco_df.isnull()\n",
    "row_has_NaN = is_NaN.any(axis=1)\n",
    "rows_with_NaN = eco_df[row_has_NaN]\n",
    "\n",
    "print(rows_with_NaN.shape)\n",
    "rows_with_NaN.head()"
   ]
  },
  {
   "cell_type": "markdown",
   "metadata": {},
   "source": [
    "#### Sort by sd to get highest variance openings"
   ]
  },
  {
   "cell_type": "code",
   "execution_count": 37,
   "metadata": {},
   "outputs": [
    {
     "data": {
      "text/html": [
       "<div>\n",
       "<style scoped>\n",
       "    .dataframe tbody tr th:only-of-type {\n",
       "        vertical-align: middle;\n",
       "    }\n",
       "\n",
       "    .dataframe tbody tr th {\n",
       "        vertical-align: top;\n",
       "    }\n",
       "\n",
       "    .dataframe thead th {\n",
       "        text-align: right;\n",
       "    }\n",
       "</style>\n",
       "<table border=\"1\" class=\"dataframe\">\n",
       "  <thead>\n",
       "    <tr style=\"text-align: right;\">\n",
       "      <th></th>\n",
       "      <th>Opening</th>\n",
       "      <th>Num Games</th>\n",
       "      <th>ECO</th>\n",
       "      <th>Perf Rating</th>\n",
       "      <th>Avg Player</th>\n",
       "      <th>Player Win %</th>\n",
       "      <th>Draw %</th>\n",
       "      <th>Opponent Win %</th>\n",
       "      <th>san</th>\n",
       "      <th>fen</th>\n",
       "      <th>sd</th>\n",
       "    </tr>\n",
       "  </thead>\n",
       "  <tbody>\n",
       "    <tr>\n",
       "      <th>105</th>\n",
       "      <td>Queen Pawn Game, Levitsky Attack</td>\n",
       "      <td>4752</td>\n",
       "      <td>D00</td>\n",
       "      <td>2210</td>\n",
       "      <td>2194</td>\n",
       "      <td>0.43</td>\n",
       "      <td>0.29</td>\n",
       "      <td>0.27</td>\n",
       "      <td>[d4, d5, Bg5]</td>\n",
       "      <td>rnbqkbnr/ppp1pppp/8/3p2B1/3P4/8/PPP1PPPP/RN1QK...</td>\n",
       "      <td>458.059378</td>\n",
       "    </tr>\n",
       "    <tr>\n",
       "      <th>149</th>\n",
       "      <td>French Defense, Classical Variation, Steinitz ...</td>\n",
       "      <td>3424</td>\n",
       "      <td>C11</td>\n",
       "      <td>2181</td>\n",
       "      <td>2164</td>\n",
       "      <td>0.42</td>\n",
       "      <td>0.23</td>\n",
       "      <td>0.35</td>\n",
       "      <td>[e4, e6, d4, d5, Nc3, Nf6, e5]</td>\n",
       "      <td>rnbqkb1r/ppp2ppp/4pn2/3pP3/3P4/2N5/PPP2PPP/R1B...</td>\n",
       "      <td>120.915260</td>\n",
       "    </tr>\n",
       "    <tr>\n",
       "      <th>13</th>\n",
       "      <td>Italian Game, Classical Variation, Giuoco Pian...</td>\n",
       "      <td>13738</td>\n",
       "      <td>C53</td>\n",
       "      <td>2222</td>\n",
       "      <td>2192</td>\n",
       "      <td>0.39</td>\n",
       "      <td>0.32</td>\n",
       "      <td>0.29</td>\n",
       "      <td>[e4, e5, Nf3, Nc6, Bc4, Bc5, c3, Nf6, d3]</td>\n",
       "      <td>r1bqk2r/pppp1ppp/2n2n2/2b1p3/2B1P3/2PP1N2/PP3P...</td>\n",
       "      <td>111.722871</td>\n",
       "    </tr>\n",
       "    <tr>\n",
       "      <th>23</th>\n",
       "      <td>Sicilian Defense, Delayed Alapin</td>\n",
       "      <td>12060</td>\n",
       "      <td>B50</td>\n",
       "      <td>2220</td>\n",
       "      <td>2203</td>\n",
       "      <td>0.39</td>\n",
       "      <td>0.28</td>\n",
       "      <td>0.33</td>\n",
       "      <td>[e4, c5, Nf3, d6, c3]</td>\n",
       "      <td>rnbqkbnr/pp2pppp/3p4/2p5/4P3/2P2N2/PP1P1PPP/RN...</td>\n",
       "      <td>91.216775</td>\n",
       "    </tr>\n",
       "    <tr>\n",
       "      <th>22</th>\n",
       "      <td>English Opening, Anglo-Indian Defense, Queen's...</td>\n",
       "      <td>12239</td>\n",
       "      <td>A16</td>\n",
       "      <td>2202</td>\n",
       "      <td>2184</td>\n",
       "      <td>0.40</td>\n",
       "      <td>0.30</td>\n",
       "      <td>0.31</td>\n",
       "      <td>[c4, Nf6, Nc3]</td>\n",
       "      <td>rnbqkb1r/pppppppp/5n2/8/2P5/2N5/PP1PPPPP/R1BQK...</td>\n",
       "      <td>89.095454</td>\n",
       "    </tr>\n",
       "    <tr>\n",
       "      <th>...</th>\n",
       "      <td>...</td>\n",
       "      <td>...</td>\n",
       "      <td>...</td>\n",
       "      <td>...</td>\n",
       "      <td>...</td>\n",
       "      <td>...</td>\n",
       "      <td>...</td>\n",
       "      <td>...</td>\n",
       "      <td>...</td>\n",
       "      <td>...</td>\n",
       "      <td>...</td>\n",
       "    </tr>\n",
       "    <tr>\n",
       "      <th>379</th>\n",
       "      <td>Nimzo-Indian Defense, Saemisch Variation, Kere...</td>\n",
       "      <td>1037</td>\n",
       "      <td>E25</td>\n",
       "      <td>2437</td>\n",
       "      <td>2404</td>\n",
       "      <td>0.33</td>\n",
       "      <td>0.44</td>\n",
       "      <td>0.24</td>\n",
       "      <td>[d4, Nf6, c4, e6, Nc3, Bb4, a3, Bxc3+, bxc3, c...</td>\n",
       "      <td>rnbqk2r/pp3ppp/4p3/2Pn4/8/P1P2P2/4P1PP/R1BQKBN...</td>\n",
       "      <td>NaN</td>\n",
       "    </tr>\n",
       "    <tr>\n",
       "      <th>380</th>\n",
       "      <td>Alekhine Defense, Two Pawn Attack, Lasker Vari...</td>\n",
       "      <td>1030</td>\n",
       "      <td>B02</td>\n",
       "      <td>2200</td>\n",
       "      <td>2190</td>\n",
       "      <td>0.33</td>\n",
       "      <td>0.30</td>\n",
       "      <td>0.37</td>\n",
       "      <td>[e4, Nf6, e5, Nd5, c4, Nb6, c5]</td>\n",
       "      <td>rnbqkb1r/pppppppp/1n6/2P1P3/8/8/PP1P1PPP/RNBQK...</td>\n",
       "      <td>NaN</td>\n",
       "    </tr>\n",
       "    <tr>\n",
       "      <th>381</th>\n",
       "      <td>Trompowsky Attack, Raptor Variation</td>\n",
       "      <td>1027</td>\n",
       "      <td>A45</td>\n",
       "      <td>2285</td>\n",
       "      <td>2246</td>\n",
       "      <td>0.41</td>\n",
       "      <td>0.29</td>\n",
       "      <td>0.30</td>\n",
       "      <td>[d4, Nf6, Bg5, Ne4, h4]</td>\n",
       "      <td>rnbqkb1r/pppppppp/8/6B1/3Pn2P/8/PPP1PPP1/RN1QK...</td>\n",
       "      <td>NaN</td>\n",
       "    </tr>\n",
       "    <tr>\n",
       "      <th>382</th>\n",
       "      <td>Pirc Defense, Austrian Attack, Kurajica Variation</td>\n",
       "      <td>1017</td>\n",
       "      <td>B09</td>\n",
       "      <td>2304</td>\n",
       "      <td>2264</td>\n",
       "      <td>0.43</td>\n",
       "      <td>0.23</td>\n",
       "      <td>0.34</td>\n",
       "      <td>[e4, d6, d4, Nf6, Nc3, g6, f4, Bg7, Nf3, O-O, ...</td>\n",
       "      <td>rnbq1rk1/ppp1ppbp/3p1np1/8/3PPP2/2N1BN2/PPP3PP...</td>\n",
       "      <td>NaN</td>\n",
       "    </tr>\n",
       "    <tr>\n",
       "      <th>383</th>\n",
       "      <td>Sicilian Defense, Dragon Variation, Yugoslav A...</td>\n",
       "      <td>1016</td>\n",
       "      <td>B75</td>\n",
       "      <td>2213</td>\n",
       "      <td>2171</td>\n",
       "      <td>0.45</td>\n",
       "      <td>0.21</td>\n",
       "      <td>0.34</td>\n",
       "      <td>[e4, c5, Nf3, d6, d4, cxd4, Nxd4, Nf6, Nc3, g6...</td>\n",
       "      <td>rnbqk2r/pp2ppbp/3p1np1/8/3NP3/2N1BP2/PPP3PP/R2...</td>\n",
       "      <td>NaN</td>\n",
       "    </tr>\n",
       "  </tbody>\n",
       "</table>\n",
       "<p>384 rows × 11 columns</p>\n",
       "</div>"
      ],
      "text/plain": [
       "                                               Opening  Num Games  ECO  \\\n",
       "105                   Queen Pawn Game, Levitsky Attack       4752  D00   \n",
       "149  French Defense, Classical Variation, Steinitz ...       3424  C11   \n",
       "13   Italian Game, Classical Variation, Giuoco Pian...      13738  C53   \n",
       "23                    Sicilian Defense, Delayed Alapin      12060  B50   \n",
       "22   English Opening, Anglo-Indian Defense, Queen's...      12239  A16   \n",
       "..                                                 ...        ...  ...   \n",
       "379  Nimzo-Indian Defense, Saemisch Variation, Kere...       1037  E25   \n",
       "380  Alekhine Defense, Two Pawn Attack, Lasker Vari...       1030  B02   \n",
       "381                Trompowsky Attack, Raptor Variation       1027  A45   \n",
       "382  Pirc Defense, Austrian Attack, Kurajica Variation       1017  B09   \n",
       "383  Sicilian Defense, Dragon Variation, Yugoslav A...       1016  B75   \n",
       "\n",
       "     Perf Rating  Avg Player  Player Win %  Draw %  Opponent Win %  \\\n",
       "105         2210        2194          0.43    0.29            0.27   \n",
       "149         2181        2164          0.42    0.23            0.35   \n",
       "13          2222        2192          0.39    0.32            0.29   \n",
       "23          2220        2203          0.39    0.28            0.33   \n",
       "22          2202        2184          0.40    0.30            0.31   \n",
       "..           ...         ...           ...     ...             ...   \n",
       "379         2437        2404          0.33    0.44            0.24   \n",
       "380         2200        2190          0.33    0.30            0.37   \n",
       "381         2285        2246          0.41    0.29            0.30   \n",
       "382         2304        2264          0.43    0.23            0.34   \n",
       "383         2213        2171          0.45    0.21            0.34   \n",
       "\n",
       "                                                   san  \\\n",
       "105                                      [d4, d5, Bg5]   \n",
       "149                     [e4, e6, d4, d5, Nc3, Nf6, e5]   \n",
       "13           [e4, e5, Nf3, Nc6, Bc4, Bc5, c3, Nf6, d3]   \n",
       "23                               [e4, c5, Nf3, d6, c3]   \n",
       "22                                      [c4, Nf6, Nc3]   \n",
       "..                                                 ...   \n",
       "379  [d4, Nf6, c4, e6, Nc3, Bb4, a3, Bxc3+, bxc3, c...   \n",
       "380                    [e4, Nf6, e5, Nd5, c4, Nb6, c5]   \n",
       "381                            [d4, Nf6, Bg5, Ne4, h4]   \n",
       "382  [e4, d6, d4, Nf6, Nc3, g6, f4, Bg7, Nf3, O-O, ...   \n",
       "383  [e4, c5, Nf3, d6, d4, cxd4, Nxd4, Nf6, Nc3, g6...   \n",
       "\n",
       "                                                   fen          sd  \n",
       "105  rnbqkbnr/ppp1pppp/8/3p2B1/3P4/8/PPP1PPPP/RN1QK...  458.059378  \n",
       "149  rnbqkb1r/ppp2ppp/4pn2/3pP3/3P4/2N5/PPP2PPP/R1B...  120.915260  \n",
       "13   r1bqk2r/pppp1ppp/2n2n2/2b1p3/2B1P3/2PP1N2/PP3P...  111.722871  \n",
       "23   rnbqkbnr/pp2pppp/3p4/2p5/4P3/2P2N2/PP1P1PPP/RN...   91.216775  \n",
       "22   rnbqkb1r/pppppppp/5n2/8/2P5/2N5/PP1PPPPP/R1BQK...   89.095454  \n",
       "..                                                 ...         ...  \n",
       "379  rnbqk2r/pp3ppp/4p3/2Pn4/8/P1P2P2/4P1PP/R1BQKBN...         NaN  \n",
       "380  rnbqkb1r/pppppppp/1n6/2P1P3/8/8/PP1P1PPP/RNBQK...         NaN  \n",
       "381  rnbqkb1r/pppppppp/8/6B1/3Pn2P/8/PPP1PPP1/RN1QK...         NaN  \n",
       "382  rnbq1rk1/ppp1ppbp/3p1np1/8/3PPP2/2N1BN2/PPP3PP...         NaN  \n",
       "383  rnbqk2r/pp2ppbp/3p1np1/8/3NP3/2N1BP2/PPP3PP/R2...         NaN  \n",
       "\n",
       "[384 rows x 11 columns]"
      ]
     },
     "execution_count": 37,
     "metadata": {},
     "output_type": "execute_result"
    }
   ],
   "source": [
    "eco_df.sort_values(by = ['sd'], ascending = False)"
   ]
  },
  {
   "cell_type": "code",
   "execution_count": 87,
   "metadata": {},
   "outputs": [
    {
     "data": {
      "text/html": [
       "<div>\n",
       "<style scoped>\n",
       "    .dataframe tbody tr th:only-of-type {\n",
       "        vertical-align: middle;\n",
       "    }\n",
       "\n",
       "    .dataframe tbody tr th {\n",
       "        vertical-align: top;\n",
       "    }\n",
       "\n",
       "    .dataframe thead th {\n",
       "        text-align: right;\n",
       "    }\n",
       "</style>\n",
       "<table border=\"1\" class=\"dataframe\">\n",
       "  <thead>\n",
       "    <tr style=\"text-align: right;\">\n",
       "      <th></th>\n",
       "      <th>Opening</th>\n",
       "      <th>Num Games</th>\n",
       "      <th>ECO</th>\n",
       "      <th>Perf Rating</th>\n",
       "      <th>Avg Player</th>\n",
       "      <th>Player Win %</th>\n",
       "      <th>Draw %</th>\n",
       "      <th>Opponent Win %</th>\n",
       "      <th>san</th>\n",
       "      <th>fen</th>\n",
       "      <th>sd</th>\n",
       "      <th>move_count</th>\n",
       "    </tr>\n",
       "  </thead>\n",
       "  <tbody>\n",
       "    <tr>\n",
       "      <th>2</th>\n",
       "      <td>Sicilian Defense, Alapin Variation, General</td>\n",
       "      <td>21841</td>\n",
       "      <td>B22</td>\n",
       "      <td>2201</td>\n",
       "      <td>2161</td>\n",
       "      <td>0.37</td>\n",
       "      <td>0.29</td>\n",
       "      <td>0.34</td>\n",
       "      <td>[e4, c5, c3]</td>\n",
       "      <td>rnbqkbnr/pp1ppppp/8/2p5/4P3/2P5/PP1P1PPP/RNBQK...</td>\n",
       "      <td>28.363269</td>\n",
       "      <td>3</td>\n",
       "    </tr>\n",
       "  </tbody>\n",
       "</table>\n",
       "</div>"
      ],
      "text/plain": [
       "                                       Opening  Num Games  ECO  Perf Rating  \\\n",
       "2  Sicilian Defense, Alapin Variation, General      21841  B22         2201   \n",
       "\n",
       "   Avg Player  Player Win %  Draw %  Opponent Win %           san  \\\n",
       "2        2161          0.37    0.29            0.34  [e4, c5, c3]   \n",
       "\n",
       "                                                 fen         sd  move_count  \n",
       "2  rnbqkbnr/pp1ppppp/8/2p5/4P3/2P5/PP1P1PPP/RNBQK...  28.363269           3  "
      ]
     },
     "execution_count": 87,
     "metadata": {},
     "output_type": "execute_result"
    }
   ],
   "source": [
    "eco_df[eco_df['san'].apply(lambda x : x == ['e4', 'c5', 'c3'])]"
   ]
  },
  {
   "cell_type": "markdown",
   "metadata": {},
   "source": [
    "#### Check sd compared to draw% for popular games"
   ]
  },
  {
   "cell_type": "code",
   "execution_count": 91,
   "metadata": {},
   "outputs": [
    {
     "name": "stdout",
     "output_type": "stream",
     "text": [
      "root ['e4', 'c5'] ||| SD : 40.21762883938671 DRAW: None\n",
      "safe ['e4', 'c5', 'c3'] ||| SD : 28.36326937009214 DRAW: 0.29\n",
      "risky ['e4', 'c5', 'd4'] ||| SD : 80.06188435835759 DRAW: None\n",
      "root2 ['e4', 'e6', 'd4', 'd5'] ||| SD : 29.493432655871636 DRAW: None\n",
      "popular2.0 ['e4', 'e6', 'd4', 'd5', 'Nc3'] ||| SD : 50.441638339302244 DRAW: 0.31\n",
      "popular2.1 ['e4', 'e6', 'd4', 'd5', 'Nd2'] ||| SD : 66.34986448736355 DRAW: 0.28\n",
      "safe2 ['e4', 'e6', 'd4', 'd5', 'exd5'] ||| SD : 77.32305865008192 DRAW: 0.39\n",
      "risky2 ['e4', 'e6', 'd4', 'd5', 'e5'] ||| SD : 47.33398805676923 DRAW: 0.22\n",
      "Ruy ['e4', 'e5', 'Nf3', 'Nc6', 'Bb5'] ||| SD : 22.1906721266971 DRAW: 0.36\n",
      "Vienna ['e4', 'e5', 'd4', 'exd4', 'c3'] ||| SD : 5.861174899891382 DRAW: None\n"
     ]
    }
   ],
   "source": [
    "gamesDict = {\"root\" : ['e4', 'c5'],\n",
    "\"safe\" : ['e4', 'c5', 'c3'],\n",
    "\"risky\" : ['e4', 'c5', 'd4'],\n",
    "\"root2\" : ['e4', 'e6', 'd4', 'd5'],\n",
    "\"popular2.0\" : ['e4', 'e6', 'd4', 'd5', 'Nc3'],\n",
    "\"popular2.1\" : ['e4', 'e6', 'd4', 'd5', 'Nd2'],\n",
    "\"safe2\" : ['e4', 'e6', 'd4', 'd5', 'exd5'],\n",
    "\"risky2\" : ['e4', 'e6', 'd4', 'd5', 'e5'],\n",
    "\"Ruy\" : ['e4', 'e5','Nf3', 'Nc6','Bb5'],\n",
    "\"Vienna\" : ['e4' ,'e5','d4','exd4','c3']}\n",
    "\n",
    "#eco_df[eco_df['san'].apply(lambda x : x == ['e4','c5'])]['Draw %']\n",
    "for key, game in gamesDict.items():\n",
    "    try:\n",
    "        draw = float(eco_df[eco_df['san'].apply(lambda x : x == game)]['Draw %'])\n",
    "    except:\n",
    "        draw = None\n",
    "    currFen = san_to_fen(game)\n",
    "    scores = []\n",
    "    counts = []\n",
    "    try:\n",
    "        for neighbor in list(g.neighbors(currFen)):\n",
    "            scores.append(nx.get_node_attributes(g, 'score')[neighbor])\n",
    "            counts.append(nx.get_node_attributes(g, 'movelistCount')[neighbor][currFen])\n",
    "        print('{} {} ||| SD :'.format(key, game), np.sqrt(varWeighted(scores,counts)), \"DRAW:\", draw)\n",
    "    except:\n",
    "        break"
   ]
  },
  {
   "cell_type": "markdown",
   "metadata": {},
   "source": [
    "## Plot relationship between sd and draw%"
   ]
  },
  {
   "cell_type": "code",
   "execution_count": 44,
   "metadata": {},
   "outputs": [
    {
     "name": "stderr",
     "output_type": "stream",
     "text": [
      "/Users/choldawa/opt/anaconda3/lib/python3.7/site-packages/numpy/lib/histograms.py:403: RuntimeWarning: invalid value encountered in greater_equal\n",
      "  keep = (a >= first_edge)\n",
      "/Users/choldawa/opt/anaconda3/lib/python3.7/site-packages/numpy/lib/histograms.py:404: RuntimeWarning: invalid value encountered in less_equal\n",
      "  keep &= (a <= last_edge)\n",
      "/Users/choldawa/opt/anaconda3/lib/python3.7/site-packages/numpy/lib/histograms.py:839: RuntimeWarning: invalid value encountered in greater_equal\n",
      "  keep = (tmp_a >= first_edge)\n",
      "/Users/choldawa/opt/anaconda3/lib/python3.7/site-packages/numpy/lib/histograms.py:840: RuntimeWarning: invalid value encountered in less_equal\n",
      "  keep &= (tmp_a <= last_edge)\n"
     ]
    },
    {
     "data": {
      "text/plain": [
       "(0, 500)"
      ]
     },
     "execution_count": 44,
     "metadata": {},
     "output_type": "execute_result"
    },
    {
     "data": {
      "image/png": "[encoded data removed]",
      "text/plain": [
       "<Figure size 432x288 with 1 Axes>"
      ]
     },
     "metadata": {
      "needs_background": "light"
     },
     "output_type": "display_data"
    }
   ],
   "source": [
    "import matplotlib.pyplot as plt\n",
    "\n",
    "# An \"interface\" to matplotlib.axes.Axes.hist() method\n",
    "n, bins, patches = plt.hist(x=eco_df['sd'], bins='auto', color='#0504aa',\n",
    "                            alpha=0.7, rwidth=0.8)\n",
    "plt.grid(axis='y', alpha=0.75)\n",
    "plt.xlabel('Value')\n",
    "plt.ylabel('Frequency')\n",
    "maxfreq = n.max()\n",
    "# Set a clean upper y-axis limit.\n",
    "plt.ylim(ymax=np.ceil(maxfreq / 10) * 10 if maxfreq % 10 else maxfreq + 10)\n",
    "plt.xlim(xmin = 0, xmax = 500)"
   ]
  },
  {
   "cell_type": "code",
   "execution_count": 61,
   "metadata": {},
   "outputs": [
    {
     "name": "stdout",
     "output_type": "stream",
     "text": [
      "CORR: 0.013279660424599719\n"
     ]
    },
    {
     "data": {
      "text/plain": [
       "(0.14577134555207863, 0.45)"
      ]
     },
     "execution_count": 61,
     "metadata": {},
     "output_type": "execute_result"
    },
    {
     "data": {
      "image/png": "[encoded data removed]",
      "text/plain": [
       "<Figure size 360x360 with 1 Axes>"
      ]
     },
     "metadata": {
      "needs_background": "light"
     },
     "output_type": "display_data"
    }
   ],
   "source": [
    "import seaborn as sns\n",
    "print(\"CORR:\",eco_df['Draw %'].corr(eco_df['sd']))\n",
    "sns.lmplot('Draw %', 'sd', data = eco_df)\n",
    "plt.ylim(0,150)\n",
    "plt.xlim(None,0.45)"
   ]
  },
  {
   "cell_type": "code",
   "execution_count": 62,
   "metadata": {},
   "outputs": [
    {
     "name": "stdout",
     "output_type": "stream",
     "text": [
      "CORR: -0.0851904971537999\n"
     ]
    },
    {
     "data": {
      "text/plain": [
       "(0, 10)"
      ]
     },
     "execution_count": 62,
     "metadata": {},
     "output_type": "execute_result"
    },
    {
     "data": {
      "image/png": "[encoded data removed]",
      "text/plain": [
       "<Figure size 360x360 with 1 Axes>"
      ]
     },
     "metadata": {
      "needs_background": "light"
     },
     "output_type": "display_data"
    }
   ],
   "source": [
    "print(\"CORR:\",eco_df['move_count'].corr(eco_df['sd']))\n",
    "sns.lmplot('move_count', 'sd', data = eco_df)\n",
    "plt.ylim(0,150)\n",
    "plt.xlim(0,10)"
   ]
  },
  {
   "cell_type": "code",
   "execution_count": null,
   "metadata": {},
   "outputs": [],
   "source": []
  }
 ],
 "metadata": {
  "kernelspec": {
   "display_name": "Python 3",
   "language": "python",
   "name": "python3"
  },
  "language_info": {
   "codemirror_mode": {
    "name": "ipython",
    "version": 3
   },
   "file_extension": ".py",
   "mimetype": "text/x-python",
   "name": "python",
   "nbconvert_exporter": "python",
   "pygments_lexer": "ipython3",
   "version": "3.7.6"
  }
 },
 "nbformat": 4,
 "nbformat_minor": 4
}
