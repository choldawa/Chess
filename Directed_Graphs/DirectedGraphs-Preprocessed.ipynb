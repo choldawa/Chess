{
 "cells": [
  {
   "cell_type": "code",
   "execution_count": 39,
   "metadata": {},
   "outputs": [],
   "source": [
    "import sys\n",
    "import networkx as nx\n",
    "import matplotlib as plt\n",
    "import numpy as np\n",
    "import re\n",
    "import chess\n",
    "import subprocess\n",
    "import timeit\n",
    "import pickle\n",
    "import stockfish\n",
    "from stockfish import Stockfish\n",
    "import chess\n",
    "import chess.engine\n",
    "\n",
    "engine = chess.engine.SimpleEngine.popen_uci(\"../stockfish-10-64\")\n",
    "stockfish = Stockfish(\"../stockfish-10-64\")"
   ]
  },
  {
   "cell_type": "code",
   "execution_count": 40,
   "metadata": {},
   "outputs": [],
   "source": [
    "def varWeighted(scores, counts):\n",
    "    if (len(counts)<2):\n",
    "        return None\n",
    "    else:\n",
    "        weightedMean = sum([a*b for a,b in zip(scores,counts)])/sum(counts)\n",
    "        scoreDiffs = [(score - weightedMean)**2 for score in scores]\n",
    "        V1 = sum(counts)\n",
    "        V2 = sum([count**2 for count in counts])\n",
    "        var = (V1/(V1**2-V2)) * sum([a*b for a,b in zip(counts,scoreDiffs)])\n",
    "        return var\n",
    "    \n",
    "def set_score(san):\n",
    "    board = chess.Board()\n",
    "    for move in san:\n",
    "        board.push_san(move)\n",
    "    currFen = board.fen()\n",
    "    score = engine.analyse(board, chess.engine.Limit(time=.05), info=chess.engine.INFO_SCORE)\n",
    "    if('#' in str(score['score'])):\n",
    "        if('-' in str(score['score'])):\n",
    "            return -39765\n",
    "        else:\n",
    "            return 39765\n",
    "    else:\n",
    "        score = int(str(score[\"score\"]))\n",
    "    return score\n",
    "\n",
    "def san_to_fen(san):\n",
    "    board = chess.Board()\n",
    "    for move in san:\n",
    "        board.push_san(move)\n",
    "    currFen = board.fen()\n",
    "    return currFen"
   ]
  },
  {
   "cell_type": "code",
   "execution_count": 41,
   "metadata": {},
   "outputs": [
    {
     "data": {
      "text/plain": [
       "'r1bq1b1r/ppp1n1pp/4k3/3np3/2B5/2N2Q2/PPPP1PPP/R1B1K2R w KQ - 4 9'"
      ]
     },
     "execution_count": 41,
     "metadata": {},
     "output_type": "execute_result"
    }
   ],
   "source": [
    "san_to_fen(['e4', 'e5', 'Nf3', 'Nc6', 'Bc4', 'Nf6', 'Ng5', 'd5', 'exd5', 'Nxd5', 'Nxf7', 'Kxf7', 'Qf3+', 'Ke6', 'Nc3', 'Ne7'])"
   ]
  },
  {
   "cell_type": "code",
   "execution_count": 42,
   "metadata": {},
   "outputs": [],
   "source": [
    "game_file = \"../tab-trunc.txt\"\n",
    "\n",
    "with open(game_file, \"r\") as file_in:\n",
    "    mainlineList = []\n",
    "    for line in file_in:\n",
    "        mainlineList.append(line)\n",
    "\n",
    "#extract each string of moves\n",
    "stringList = []\n",
    "for mainLine in mainlineList:\n",
    "    stringList.append(mainLine.split())\n",
    "\n",
    "# stringList.sort(key = len) \n"
   ]
  },
  {
   "cell_type": "code",
   "execution_count": 43,
   "metadata": {},
   "outputs": [
    {
     "name": "stdout",
     "output_type": "stream",
     "text": [
      "692287\n"
     ]
    }
   ],
   "source": [
    "print(len(stringList))"
   ]
  },
  {
   "cell_type": "code",
   "execution_count": 44,
   "metadata": {},
   "outputs": [
    {
     "name": "stdout",
     "output_type": "stream",
     "text": [
      "rnbqkbnr/pppp1ppp/8/4p3/8/5P2/PPPPP1PP/RNBQKBNR w KQkq - 0 2\n",
      "-101\n"
     ]
    }
   ],
   "source": [
    "#Move ['32', 'f3', 'e5', 'g4', 'Qh4#']\n",
    "\n",
    "board = chess.Board()\n",
    "board.push_san('f3') #push the move to the board\n",
    "board.push_san('e5') #push the move to the board\n",
    "#board.push_san('g4') #push the move to the board\n",
    "#board.push_san('Qh4#') #push the move to the board\n",
    "currFen = board.fen()\n",
    "print(currFen)\n",
    "stockfish.set_fen_position(currFen)\n",
    "score = stockfish.get_evaluation()['value']\n",
    "print(score)"
   ]
  },
  {
   "cell_type": "code",
   "execution_count": 45,
   "metadata": {},
   "outputs": [
    {
     "name": "stdout",
     "output_type": "stream",
     "text": [
      "strings processed: 0 TIME: 0.0010037840002041776\n",
      "strings processed: 1000 TIME: 126.96641232000002\n",
      "Time:  336.802527283\n",
      "totalNodes: 5345\n"
     ]
    }
   ],
   "source": [
    "cnt = 0\n",
    "start = timeit.default_timer()\n",
    "\n",
    "#initialize graph with root node\n",
    "g = nx.DiGraph()\n",
    "g.add_node('root', score = 0, movelist = 'root')\n",
    "\n",
    "for s in stringList[:2000]:\n",
    "    whiteMove = 1\n",
    "    if(cnt%1000 == 0):\n",
    "        print(\"strings processed:\", cnt, \"TIME:\", timeit.default_timer()-start)\n",
    "    count = int(s[0])\n",
    "    board = chess.Board()\n",
    "    parentFen = 'root'\n",
    "    try:\n",
    "#         if(len(s) == 2):\n",
    "#             board.push_san(s[1])\n",
    "#             currFen = board.fen()\n",
    "#             score = engine.analyse(board, chess.engine.Limit(time=0.05))\n",
    "#             stockfish.set_fen_position(currFen)\n",
    "#             score = int(str(score[\"score\"]))\n",
    "#             score = stockfish.get_evaluation()['value']\n",
    "#             g.add_node(currFen,\n",
    "#                     score = score,\n",
    "#                     count = count,\n",
    "#                     movelistCount = {parentFen:count})\n",
    "#             g.add_edge(parentFen, currFen)\n",
    "#         else:\n",
    "            for move in s[1:]:\n",
    "                board.push_san(move)\n",
    "                currFen = board.fen()\n",
    "                if(currFen not in g.nodes):\n",
    "                    board = chess.Board(currFen)\n",
    "                    if('#' not in move):\n",
    "                        score = engine.analyse(board, chess.engine.Limit(time=0.05))\n",
    "                        if('#' in str(score['score'])):\n",
    "                            if('-' in str(score['score'])):\n",
    "                                score =  -39765\n",
    "                            else:\n",
    "                                score =  39765\n",
    "                        else:\n",
    "                            score = int(str(score[\"score\"])) * whiteMove\n",
    "#                         stockfish.set_fen_position(currFen)\n",
    "#                         score = stockfish.get_evaluation()['value']\n",
    "                    else:\n",
    "                        score = 39765 * whiteMove\n",
    "                    g.add_node(currFen,\n",
    "                               score = score,\n",
    "                               count = count,\n",
    "                               movelistCount = {parentFen:count})\n",
    "                    g.add_edge(parentFen, currFen)\n",
    "                else:\n",
    "                    if(parentFen in nx.get_node_attributes(g, 'movelistCount')[currFen]):\n",
    "                        nx.get_node_attributes(g, 'movelistCount')[currFen][parentFen] += count #increase parent count\n",
    "                    else:\n",
    "                        nx.get_node_attributes(g, 'movelistCount')[currFen][parentFen] = count #add parent and count\n",
    "                        g.add_edge(parentFen, currFen) #add edge from parentFen to currFen\n",
    "                    g.nodes[currFen]['count'] = nx.get_node_attributes(g, 'count')[currFen] + count #increase count\n",
    "#                 whiteMove *= -1\n",
    "                parentFen = currFen\n",
    "    except Exception as e:\n",
    "        print(e)\n",
    "        print(sys.exc_info()[0])\n",
    "        print(\"Move\",s)\n",
    "        stockfish.set_fen_position(currFen)\n",
    "        print(stockfish.get_evaluation()['value'])\n",
    "        break\n",
    "    cnt+=1\n",
    "            \n",
    "stop = timeit.default_timer()\n",
    "print('Time: ', stop - start)\n",
    "print(\"totalNodes:\",len(g))"
   ]
  },
  {
   "cell_type": "code",
   "execution_count": null,
   "metadata": {},
   "outputs": [],
   "source": [
    "g.nodes()['rnbqkbnr/pppp1ppp/8/4p3/4P3/8/PPPP1PPP/RNBQKBNR w KQkq - 0 2']"
   ]
  },
  {
   "cell_type": "code",
   "execution_count": null,
   "metadata": {},
   "outputs": [],
   "source": []
  },
  {
   "cell_type": "code",
   "execution_count": null,
   "metadata": {},
   "outputs": [],
   "source": [
    "#nx.write_gpickle(g,\"test.gpickle\")"
   ]
  },
  {
   "cell_type": "code",
   "execution_count": 8,
   "metadata": {},
   "outputs": [],
   "source": [
    "g = nx.read_gpickle('g10k.gpickle')"
   ]
  },
  {
   "cell_type": "code",
   "execution_count": 21,
   "metadata": {},
   "outputs": [
    {
     "name": "stdout",
     "output_type": "stream",
     "text": [
      "rnbqkb1r/pppppppp/5n2/8/3P4/8/PPP1PPPP/RNBQKBNR w KQkq - 1 2\n",
      "sd: 38.691368920941464\n",
      "Time:  0.026040993999913553\n"
     ]
    }
   ],
   "source": [
    "start = timeit.default_timer()\n",
    "\n",
    "board = chess.Board()\n",
    "board.push_san('d4') #push the move to the board\n",
    "board.push_san('Nf6') #push the move to the board\n",
    "currFen = board.fen()\n",
    "print(currFen)\n",
    "scores = []\n",
    "counts = []\n",
    "for neighbor in list(g.neighbors(currFen)):\n",
    "    scores.append(nx.get_node_attributes(g, 'score')[neighbor])\n",
    "    counts.append(nx.get_node_attributes(g, 'count')[neighbor])\n",
    "    \n",
    "print(\"sd:\",np.sqrt(varWeighted(scores, counts)))\n",
    "\n",
    "stop = timeit.default_timer()\n",
    "print('Time: ', stop - start) "
   ]
  },
  {
   "cell_type": "code",
   "execution_count": 22,
   "metadata": {},
   "outputs": [
    {
     "name": "stdout",
     "output_type": "stream",
     "text": [
      "['e4', 'c5'] ||| SD : 40.91255078328056 , total Games: 4070\n",
      "['e4', 'c5', 'c3'] ||| SD : 36.76955262170047 , total Games: 47\n",
      "['e4', 'c5', 'd4'] ||| SD : 103.9446968344225 , total Games: 234\n"
     ]
    },
    {
     "ename": "TypeError",
     "evalue": "loop of ufunc does not support argument 0 of type NoneType which has no callable sqrt method",
     "output_type": "error",
     "traceback": [
      "\u001b[0;31m---------------------------------------------------------------------------\u001b[0m",
      "\u001b[0;31mAttributeError\u001b[0m                            Traceback (most recent call last)",
      "\u001b[0;31mAttributeError\u001b[0m: 'NoneType' object has no attribute 'sqrt'",
      "\nThe above exception was the direct cause of the following exception:\n",
      "\u001b[0;31mTypeError\u001b[0m                                 Traceback (most recent call last)",
      "\u001b[0;32m<ipython-input-22-d86ca4fbfdf7>\u001b[0m in \u001b[0;36m<module>\u001b[0;34m\u001b[0m\n\u001b[1;32m     23\u001b[0m         \u001b[0mcounts\u001b[0m\u001b[0;34m.\u001b[0m\u001b[0mappend\u001b[0m\u001b[0;34m(\u001b[0m\u001b[0mnx\u001b[0m\u001b[0;34m.\u001b[0m\u001b[0mget_node_attributes\u001b[0m\u001b[0;34m(\u001b[0m\u001b[0mg\u001b[0m\u001b[0;34m,\u001b[0m \u001b[0;34m'count'\u001b[0m\u001b[0;34m)\u001b[0m\u001b[0;34m[\u001b[0m\u001b[0mneighbor\u001b[0m\u001b[0;34m]\u001b[0m\u001b[0;34m)\u001b[0m\u001b[0;34m\u001b[0m\u001b[0;34m\u001b[0m\u001b[0m\n\u001b[1;32m     24\u001b[0m \u001b[0;34m\u001b[0m\u001b[0m\n\u001b[0;32m---> 25\u001b[0;31m     \u001b[0mprint\u001b[0m\u001b[0;34m(\u001b[0m\u001b[0;34m'{} ||| SD :'\u001b[0m\u001b[0;34m.\u001b[0m\u001b[0mformat\u001b[0m\u001b[0;34m(\u001b[0m\u001b[0mgame\u001b[0m\u001b[0;34m)\u001b[0m\u001b[0;34m,\u001b[0m \u001b[0mnp\u001b[0m\u001b[0;34m.\u001b[0m\u001b[0msqrt\u001b[0m\u001b[0;34m(\u001b[0m\u001b[0mvarWeighted\u001b[0m\u001b[0;34m(\u001b[0m\u001b[0mscores\u001b[0m\u001b[0;34m,\u001b[0m\u001b[0mcounts\u001b[0m\u001b[0;34m)\u001b[0m\u001b[0;34m)\u001b[0m\u001b[0;34m,\u001b[0m \u001b[0;34m\", total Games:\"\u001b[0m\u001b[0;34m,\u001b[0m \u001b[0msum\u001b[0m\u001b[0;34m(\u001b[0m\u001b[0mcounts\u001b[0m\u001b[0;34m)\u001b[0m\u001b[0;34m)\u001b[0m\u001b[0;34m\u001b[0m\u001b[0;34m\u001b[0m\u001b[0m\n\u001b[0m",
      "\u001b[0;31mTypeError\u001b[0m: loop of ufunc does not support argument 0 of type NoneType which has no callable sqrt method"
     ]
    }
   ],
   "source": [
    "root = ['e4', 'c5']\n",
    "safe = ['e4', 'c5', 'c3']\n",
    "risky = ['e4', 'c5', 'd4']\n",
    "\n",
    "root2 = ['e4', 'e6', 'd4', 'd5']\n",
    "popular2 = ['e4', 'e6', 'd4', 'd5', 'Nc3']\n",
    "popular21 = ['e4', 'e6', 'd4', 'd5', 'Nd2']\n",
    "safe2 = ['e4', 'e6', 'd4', 'd5', 'exd5']\n",
    "risky2 = ['e4', 'e6', 'd4', 'd5', 'e5']\n",
    "\n",
    "Ruy = ['e4', 'e5','Nf3', 'Nc6','Bb5']\n",
    "Vienna = ['e4' ,'e5','d4','exd4','c3']\n",
    "games = [root,safe,risky,root2,popular2, popular21,safe2,risky2, Ruy, Vienna]\n",
    "for game in games:\n",
    "    board = chess.Board()\n",
    "    for move in game:\n",
    "        board.push_san(move)\n",
    "    currFen = board.fen()\n",
    "    scores = []\n",
    "    counts = []\n",
    "    for neighbor in list(g.neighbors(currFen)):\n",
    "        scores.append(nx.get_node_attributes(g, 'score')[neighbor])\n",
    "        counts.append(nx.get_node_attributes(g, 'count')[neighbor])\n",
    "\n",
    "    print('{} ||| SD :'.format(game), np.sqrt(varWeighted(scores,counts)), \", total Games:\", sum(counts))"
   ]
  },
  {
   "cell_type": "code",
   "execution_count": null,
   "metadata": {},
   "outputs": [],
   "source": []
  },
  {
   "cell_type": "code",
   "execution_count": 13,
   "metadata": {},
   "outputs": [
    {
     "ename": "BrokenPipeError",
     "evalue": "[Errno 32] Broken pipe",
     "output_type": "error",
     "traceback": [
      "\u001b[0;31m---------------------------------------------------------------------------\u001b[0m",
      "\u001b[0;31mBrokenPipeError\u001b[0m                           Traceback (most recent call last)",
      "\u001b[0;32m<ipython-input-13-93e70a83ff0d>\u001b[0m in \u001b[0;36m<module>\u001b[0;34m\u001b[0m\n\u001b[1;32m     19\u001b[0m         \u001b[0mboard\u001b[0m\u001b[0;34m.\u001b[0m\u001b[0mpush_san\u001b[0m\u001b[0;34m(\u001b[0m\u001b[0mmove\u001b[0m\u001b[0;34m)\u001b[0m\u001b[0;34m\u001b[0m\u001b[0;34m\u001b[0m\u001b[0m\n\u001b[1;32m     20\u001b[0m     \u001b[0mcurrFen\u001b[0m \u001b[0;34m=\u001b[0m \u001b[0mboard\u001b[0m\u001b[0;34m.\u001b[0m\u001b[0mfen\u001b[0m\u001b[0;34m(\u001b[0m\u001b[0;34m)\u001b[0m\u001b[0;34m\u001b[0m\u001b[0;34m\u001b[0m\u001b[0m\n\u001b[0;32m---> 21\u001b[0;31m     \u001b[0mstockfish\u001b[0m\u001b[0;34m.\u001b[0m\u001b[0mset_fen_position\u001b[0m\u001b[0;34m(\u001b[0m\u001b[0mcurrFen\u001b[0m\u001b[0;34m)\u001b[0m\u001b[0;34m\u001b[0m\u001b[0;34m\u001b[0m\u001b[0m\n\u001b[0m\u001b[1;32m     22\u001b[0m     \u001b[0minfo\u001b[0m \u001b[0;34m=\u001b[0m \u001b[0mstockfish\u001b[0m\u001b[0;34m.\u001b[0m\u001b[0mget_evaluation\u001b[0m\u001b[0;34m(\u001b[0m\u001b[0;34m)\u001b[0m\u001b[0;34m[\u001b[0m\u001b[0;34m'value'\u001b[0m\u001b[0;34m]\u001b[0m\u001b[0;34m\u001b[0m\u001b[0;34m\u001b[0m\u001b[0m\n\u001b[1;32m     23\u001b[0m \u001b[0;34m\u001b[0m\u001b[0m\n",
      "\u001b[0;32m~/opt/anaconda3/lib/python3.7/site-packages/stockfish/models.py\u001b[0m in \u001b[0;36mset_fen_position\u001b[0;34m(self, fen_position)\u001b[0m\n\u001b[1;32m    168\u001b[0m             \u001b[0;32mNone\u001b[0m\u001b[0;34m\u001b[0m\u001b[0;34m\u001b[0m\u001b[0m\n\u001b[1;32m    169\u001b[0m         \"\"\"\n\u001b[0;32m--> 170\u001b[0;31m         \u001b[0mself\u001b[0m\u001b[0;34m.\u001b[0m\u001b[0m_start_new_game\u001b[0m\u001b[0;34m(\u001b[0m\u001b[0;34m)\u001b[0m\u001b[0;34m\u001b[0m\u001b[0;34m\u001b[0m\u001b[0m\n\u001b[0m\u001b[1;32m    171\u001b[0m         \u001b[0mself\u001b[0m\u001b[0;34m.\u001b[0m\u001b[0m_put\u001b[0m\u001b[0;34m(\u001b[0m\u001b[0;34mf\"position fen {fen_position}\"\u001b[0m\u001b[0;34m)\u001b[0m\u001b[0;34m\u001b[0m\u001b[0;34m\u001b[0m\u001b[0m\n\u001b[1;32m    172\u001b[0m \u001b[0;34m\u001b[0m\u001b[0m\n",
      "\u001b[0;32m~/opt/anaconda3/lib/python3.7/site-packages/stockfish/models.py\u001b[0m in \u001b[0;36m_start_new_game\u001b[0;34m(self)\u001b[0m\n\u001b[1;32m     58\u001b[0m \u001b[0;34m\u001b[0m\u001b[0m\n\u001b[1;32m     59\u001b[0m     \u001b[0;32mdef\u001b[0m \u001b[0m_start_new_game\u001b[0m\u001b[0;34m(\u001b[0m\u001b[0mself\u001b[0m\u001b[0;34m)\u001b[0m \u001b[0;34m->\u001b[0m \u001b[0;32mNone\u001b[0m\u001b[0;34m:\u001b[0m\u001b[0;34m\u001b[0m\u001b[0;34m\u001b[0m\u001b[0m\n\u001b[0;32m---> 60\u001b[0;31m         \u001b[0mself\u001b[0m\u001b[0;34m.\u001b[0m\u001b[0m_put\u001b[0m\u001b[0;34m(\u001b[0m\u001b[0;34m\"ucinewgame\"\u001b[0m\u001b[0;34m)\u001b[0m\u001b[0;34m\u001b[0m\u001b[0;34m\u001b[0m\u001b[0m\n\u001b[0m\u001b[1;32m     61\u001b[0m         \u001b[0mself\u001b[0m\u001b[0;34m.\u001b[0m\u001b[0m_is_ready\u001b[0m\u001b[0;34m(\u001b[0m\u001b[0;34m)\u001b[0m\u001b[0;34m\u001b[0m\u001b[0;34m\u001b[0m\u001b[0m\n\u001b[1;32m     62\u001b[0m         \u001b[0mself\u001b[0m\u001b[0;34m.\u001b[0m\u001b[0minfo\u001b[0m \u001b[0;34m=\u001b[0m \u001b[0;34m\"\"\u001b[0m\u001b[0;34m\u001b[0m\u001b[0;34m\u001b[0m\u001b[0m\n",
      "\u001b[0;32m~/opt/anaconda3/lib/python3.7/site-packages/stockfish/models.py\u001b[0m in \u001b[0;36m_put\u001b[0;34m(self, command)\u001b[0m\n\u001b[1;32m     66\u001b[0m             \u001b[0;32mraise\u001b[0m \u001b[0mBrokenPipeError\u001b[0m\u001b[0;34m(\u001b[0m\u001b[0;34m)\u001b[0m\u001b[0;34m\u001b[0m\u001b[0;34m\u001b[0m\u001b[0m\n\u001b[1;32m     67\u001b[0m         \u001b[0mself\u001b[0m\u001b[0;34m.\u001b[0m\u001b[0mstockfish\u001b[0m\u001b[0;34m.\u001b[0m\u001b[0mstdin\u001b[0m\u001b[0;34m.\u001b[0m\u001b[0mwrite\u001b[0m\u001b[0;34m(\u001b[0m\u001b[0;34mf\"{command}\\n\"\u001b[0m\u001b[0;34m)\u001b[0m\u001b[0;34m\u001b[0m\u001b[0;34m\u001b[0m\u001b[0m\n\u001b[0;32m---> 68\u001b[0;31m         \u001b[0mself\u001b[0m\u001b[0;34m.\u001b[0m\u001b[0mstockfish\u001b[0m\u001b[0;34m.\u001b[0m\u001b[0mstdin\u001b[0m\u001b[0;34m.\u001b[0m\u001b[0mflush\u001b[0m\u001b[0;34m(\u001b[0m\u001b[0;34m)\u001b[0m\u001b[0;34m\u001b[0m\u001b[0;34m\u001b[0m\u001b[0m\n\u001b[0m\u001b[1;32m     69\u001b[0m \u001b[0;34m\u001b[0m\u001b[0m\n\u001b[1;32m     70\u001b[0m     \u001b[0;32mdef\u001b[0m \u001b[0m_read_line\u001b[0m\u001b[0;34m(\u001b[0m\u001b[0mself\u001b[0m\u001b[0;34m)\u001b[0m \u001b[0;34m->\u001b[0m \u001b[0mstr\u001b[0m\u001b[0;34m:\u001b[0m\u001b[0;34m\u001b[0m\u001b[0;34m\u001b[0m\u001b[0m\n",
      "\u001b[0;31mBrokenPipeError\u001b[0m: [Errno 32] Broken pipe"
     ]
    }
   ],
   "source": [
    "root = ['e4', 'c5']\n",
    "safe = ['e4', 'c5', 'c3']\n",
    "risky = ['e4', 'c5', 'd4']\n",
    "\n",
    "root2 = ['e4', 'e6', 'd4', 'd5']\n",
    "popular2 = ['e4', 'e6', 'd4', 'd5', 'Nc3']\n",
    "popular21 = ['e4', 'e6', 'd4', 'd5', 'Nd2']\n",
    "safe2 = ['e4', 'e6', 'd4', 'd5', 'exd5']\n",
    "risky2 = ['e4', 'e6', 'd4', 'd5', 'e5']\n",
    "\n",
    "Ruy = ['e4', 'e5','Nf3', 'Nc6','Bb5']\n",
    "Vienna = ['e4' ,'e5','d4','exd4','c3']\n",
    "games = [root,safe,risky,root2,popular2, popular21,safe2,risky2, Ruy, Vienna]\n",
    "\n",
    "\n",
    "for game in games:\n",
    "    board = chess.Board()\n",
    "    for move in game:\n",
    "        board.push_san(move)\n",
    "    currFen = board.fen()\n",
    "    stockfish.set_fen_position(currFen)\n",
    "    info = stockfish.get_evaluation()['value']\n",
    "\n",
    "    print(game,\"Score:\", info)"
   ]
  },
  {
   "cell_type": "code",
   "execution_count": 14,
   "metadata": {},
   "outputs": [
    {
     "ename": "BrokenPipeError",
     "evalue": "[Errno 32] Broken pipe",
     "output_type": "error",
     "traceback": [
      "\u001b[0;31m---------------------------------------------------------------------------\u001b[0m",
      "\u001b[0;31mBrokenPipeError\u001b[0m                           Traceback (most recent call last)",
      "\u001b[0;32m<ipython-input-14-edc503b62ab5>\u001b[0m in \u001b[0;36m<module>\u001b[0;34m\u001b[0m\n\u001b[0;32m----> 1\u001b[0;31m \u001b[0mpos\u001b[0m \u001b[0;34m=\u001b[0m \u001b[0mstockfish\u001b[0m\u001b[0;34m.\u001b[0m\u001b[0mset_fen_position\u001b[0m\u001b[0;34m(\u001b[0m\u001b[0;34m\"rnbqkbnr/pp1ppppp/8/2p5/4P3/8/PPPP1PPP/RNBQKBNR w KQkq - 0 2\"\u001b[0m\u001b[0;34m)\u001b[0m\u001b[0;34m\u001b[0m\u001b[0;34m\u001b[0m\u001b[0m\n\u001b[0m\u001b[1;32m      2\u001b[0m \u001b[0mout\u001b[0m \u001b[0;34m=\u001b[0m \u001b[0mengine\u001b[0m\u001b[0;34m.\u001b[0m\u001b[0manalyse\u001b[0m\u001b[0;34m(\u001b[0m\u001b[0mpos\u001b[0m\u001b[0;34m,\u001b[0m\u001b[0mchess\u001b[0m\u001b[0;34m.\u001b[0m\u001b[0mengine\u001b[0m\u001b[0;34m.\u001b[0m\u001b[0mLimit\u001b[0m\u001b[0;34m(\u001b[0m\u001b[0mtime\u001b[0m\u001b[0;34m=\u001b[0m\u001b[0;36m0.1\u001b[0m\u001b[0;34m)\u001b[0m\u001b[0;34m)\u001b[0m\u001b[0;34m\u001b[0m\u001b[0;34m\u001b[0m\u001b[0m\n\u001b[1;32m      3\u001b[0m \u001b[0mprint\u001b[0m\u001b[0;34m(\u001b[0m\u001b[0mout\u001b[0m\u001b[0;34m[\u001b[0m\u001b[0;34m\"score\"\u001b[0m\u001b[0;34m]\u001b[0m\u001b[0;34m)\u001b[0m\u001b[0;34m\u001b[0m\u001b[0;34m\u001b[0m\u001b[0m\n",
      "\u001b[0;32m~/opt/anaconda3/lib/python3.7/site-packages/stockfish/models.py\u001b[0m in \u001b[0;36mset_fen_position\u001b[0;34m(self, fen_position)\u001b[0m\n\u001b[1;32m    168\u001b[0m             \u001b[0;32mNone\u001b[0m\u001b[0;34m\u001b[0m\u001b[0;34m\u001b[0m\u001b[0m\n\u001b[1;32m    169\u001b[0m         \"\"\"\n\u001b[0;32m--> 170\u001b[0;31m         \u001b[0mself\u001b[0m\u001b[0;34m.\u001b[0m\u001b[0m_start_new_game\u001b[0m\u001b[0;34m(\u001b[0m\u001b[0;34m)\u001b[0m\u001b[0;34m\u001b[0m\u001b[0;34m\u001b[0m\u001b[0m\n\u001b[0m\u001b[1;32m    171\u001b[0m         \u001b[0mself\u001b[0m\u001b[0;34m.\u001b[0m\u001b[0m_put\u001b[0m\u001b[0;34m(\u001b[0m\u001b[0;34mf\"position fen {fen_position}\"\u001b[0m\u001b[0;34m)\u001b[0m\u001b[0;34m\u001b[0m\u001b[0;34m\u001b[0m\u001b[0m\n\u001b[1;32m    172\u001b[0m \u001b[0;34m\u001b[0m\u001b[0m\n",
      "\u001b[0;32m~/opt/anaconda3/lib/python3.7/site-packages/stockfish/models.py\u001b[0m in \u001b[0;36m_start_new_game\u001b[0;34m(self)\u001b[0m\n\u001b[1;32m     58\u001b[0m \u001b[0;34m\u001b[0m\u001b[0m\n\u001b[1;32m     59\u001b[0m     \u001b[0;32mdef\u001b[0m \u001b[0m_start_new_game\u001b[0m\u001b[0;34m(\u001b[0m\u001b[0mself\u001b[0m\u001b[0;34m)\u001b[0m \u001b[0;34m->\u001b[0m \u001b[0;32mNone\u001b[0m\u001b[0;34m:\u001b[0m\u001b[0;34m\u001b[0m\u001b[0;34m\u001b[0m\u001b[0m\n\u001b[0;32m---> 60\u001b[0;31m         \u001b[0mself\u001b[0m\u001b[0;34m.\u001b[0m\u001b[0m_put\u001b[0m\u001b[0;34m(\u001b[0m\u001b[0;34m\"ucinewgame\"\u001b[0m\u001b[0;34m)\u001b[0m\u001b[0;34m\u001b[0m\u001b[0;34m\u001b[0m\u001b[0m\n\u001b[0m\u001b[1;32m     61\u001b[0m         \u001b[0mself\u001b[0m\u001b[0;34m.\u001b[0m\u001b[0m_is_ready\u001b[0m\u001b[0;34m(\u001b[0m\u001b[0;34m)\u001b[0m\u001b[0;34m\u001b[0m\u001b[0;34m\u001b[0m\u001b[0m\n\u001b[1;32m     62\u001b[0m         \u001b[0mself\u001b[0m\u001b[0;34m.\u001b[0m\u001b[0minfo\u001b[0m \u001b[0;34m=\u001b[0m \u001b[0;34m\"\"\u001b[0m\u001b[0;34m\u001b[0m\u001b[0;34m\u001b[0m\u001b[0m\n",
      "\u001b[0;32m~/opt/anaconda3/lib/python3.7/site-packages/stockfish/models.py\u001b[0m in \u001b[0;36m_put\u001b[0;34m(self, command)\u001b[0m\n\u001b[1;32m     66\u001b[0m             \u001b[0;32mraise\u001b[0m \u001b[0mBrokenPipeError\u001b[0m\u001b[0;34m(\u001b[0m\u001b[0;34m)\u001b[0m\u001b[0;34m\u001b[0m\u001b[0;34m\u001b[0m\u001b[0m\n\u001b[1;32m     67\u001b[0m         \u001b[0mself\u001b[0m\u001b[0;34m.\u001b[0m\u001b[0mstockfish\u001b[0m\u001b[0;34m.\u001b[0m\u001b[0mstdin\u001b[0m\u001b[0;34m.\u001b[0m\u001b[0mwrite\u001b[0m\u001b[0;34m(\u001b[0m\u001b[0;34mf\"{command}\\n\"\u001b[0m\u001b[0;34m)\u001b[0m\u001b[0;34m\u001b[0m\u001b[0;34m\u001b[0m\u001b[0m\n\u001b[0;32m---> 68\u001b[0;31m         \u001b[0mself\u001b[0m\u001b[0;34m.\u001b[0m\u001b[0mstockfish\u001b[0m\u001b[0;34m.\u001b[0m\u001b[0mstdin\u001b[0m\u001b[0;34m.\u001b[0m\u001b[0mflush\u001b[0m\u001b[0;34m(\u001b[0m\u001b[0;34m)\u001b[0m\u001b[0;34m\u001b[0m\u001b[0;34m\u001b[0m\u001b[0m\n\u001b[0m\u001b[1;32m     69\u001b[0m \u001b[0;34m\u001b[0m\u001b[0m\n\u001b[1;32m     70\u001b[0m     \u001b[0;32mdef\u001b[0m \u001b[0m_read_line\u001b[0m\u001b[0;34m(\u001b[0m\u001b[0mself\u001b[0m\u001b[0;34m)\u001b[0m \u001b[0;34m->\u001b[0m \u001b[0mstr\u001b[0m\u001b[0;34m:\u001b[0m\u001b[0;34m\u001b[0m\u001b[0;34m\u001b[0m\u001b[0m\n",
      "\u001b[0;31mBrokenPipeError\u001b[0m: [Errno 32] Broken pipe"
     ]
    }
   ],
   "source": [
    "pos = stockfish.set_fen_position(\"rnbqkbnr/pp1ppppp/8/2p5/4P3/8/PPPP1PPP/RNBQKBNR w KQkq - 0 2\")\n",
    "out = engine.analyse(pos,chess.engine.Limit(time=0.1))\n",
    "print(out[\"score\"])"
   ]
  },
  {
   "cell_type": "code",
   "execution_count": null,
   "metadata": {},
   "outputs": [],
   "source": [
    "stockfish.set_fen_position(\"rnbqkbnr/pp1ppppp/8/2p5/4P3/8/PPPP1PPP/RNBQKBNR w KQkq - 0 2\")\n",
    "stockfish.get_evaluation()['value']"
   ]
  },
  {
   "cell_type": "code",
   "execution_count": null,
   "metadata": {},
   "outputs": [],
   "source": [
    "#Deprecated because parent nodes not added\n",
    "# cnt = 0\n",
    "\n",
    "# start = timeit.default_timer()\n",
    "\n",
    "# g = nx.DiGraph()\n",
    "# g.add_node('', score = 0, movelist = 'root')\n",
    "# for s in stringList:\n",
    "#     if(cnt%1000 == 0):\n",
    "#         print(\"strings processed:\", cnt)\n",
    "#     count = int(s[0])\n",
    "#     board = chess.Board()\n",
    "#     parentFen = 'root'\n",
    "#     try:\n",
    "#         if(len(s) == 2):\n",
    "#             board.push_san(s[1])\n",
    "#             currFen = board.fen()\n",
    "#     #             score = engine.analyse(board, chess.engine.Limit(time=0.05))\n",
    "#             stockfish.set_fen_position(currFen)\n",
    "#     #             score = int(str(score[\"score\"]))\n",
    "#             score = stockfish.get_evaluation()['value']\n",
    "#             g.add_node(currFen,\n",
    "#                     score = score,\n",
    "#                     count = count,\n",
    "#                     movelistCount = {parentFen:count})\n",
    "#         else:\n",
    "#             for move in s[1:-1]:\n",
    "#                 board.push_san(move)\n",
    "#                 currFen = board.fen()\n",
    "#                 if(currFen not in g.nodes):\n",
    "#                     g.add_node(currFen,\n",
    "#                                score = score,\n",
    "#                                count = count,\n",
    "#                                movelistCount = {})\n",
    "#                     g.add_edge(parentFen, currFen)\n",
    "#                 else:\n",
    "#                     nx.get_node_attributes(g, 'movelistCount')[currFen][parentFen] = count\n",
    "#                     g.nodes[currFen]['count'] = nx.get_node_attributes(g, 'count')[currFen] + count\n",
    "#                 parentFen = board.fen()\n",
    "#             board.push_san(s[-1])\n",
    "#             currFen = board.fen()\n",
    "#             if(currFen not in g.nodes):\n",
    "#                 board = chess.Board(currFen)\n",
    "#                 if('#' not in s[-1]):\n",
    "#                     stockfish.set_fen_position(currFen)\n",
    "#                     score = stockfish.get_evaluation()['value']\n",
    "#                 else:\n",
    "#                     score = 39765\n",
    "#                 if(parentFen not in g.nodes):\n",
    "#                     print(s, \"no parent\")\n",
    "#                     g.add_node(currFen,\n",
    "#                                score = score,\n",
    "#                                count = count,\n",
    "#                                movelistCount = {})\n",
    "#                 else:\n",
    "#                     g.add_node(currFen,\n",
    "#                                score = score,\n",
    "#                                count = count + nx.get_node_attributes(g, 'count')[parentFen],\n",
    "#                                movelistCount = {parentFen:count})\n",
    "#                 g.add_edge(parentFen, currFen)\n",
    "#             else:\n",
    "#                 nx.get_node_attributes(g, 'movelistCount')[currFen][parentFen] = count\n",
    "#                 g.nodes[currFen]['count'] = nx.get_node_attributes(g, 'count')[currFen] + count\n",
    "#     except Exception as e:\n",
    "#         print(e)\n",
    "#         print(sys.exc_info()[0])\n",
    "#         print(\"Move\",s)\n",
    "#         stockfish.set_fen_position(currFen)\n",
    "#         print(stockfish.get_evaluation()['value'])\n",
    "#         break\n",
    "#     cnt+=1\n",
    "            \n",
    "# stop = timeit.default_timer()\n",
    "# print('Time: ', stop - start)\n",
    "# print(\"totalNodes:\",len(g))"
   ]
  }
 ],
 "metadata": {
  "kernelspec": {
   "display_name": "Python 3",
   "language": "python",
   "name": "python3"
  }
 },
 "nbformat": 4,
 "nbformat_minor": 4
}
