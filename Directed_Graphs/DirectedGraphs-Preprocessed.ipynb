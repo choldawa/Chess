{
 "cells": [
  {
   "cell_type": "code",
   "execution_count": 1,
   "metadata": {},
   "outputs": [],
   "source": [
    "import sys\n",
    "import networkx as nx\n",
    "import matplotlib as plt\n",
    "import numpy as np\n",
    "import re\n",
    "import chess\n",
    "import subprocess\n",
    "import timeit\n",
    "import pickle\n",
    "import stockfish\n",
    "from stockfish import Stockfish\n",
    "import chess\n",
    "import chess.engine\n",
    "\n",
    "engine = chess.engine.SimpleEngine.popen_uci(\"../stockfish-10-64\")\n",
    "stockfish = Stockfish(\"../stockfish-10-64\")"
   ]
  },
  {
   "cell_type": "code",
   "execution_count": 2,
   "metadata": {},
   "outputs": [],
   "source": [
    "def varWeighted(scores, counts):\n",
    "    if (len(counts)<2):\n",
    "        return None\n",
    "    else:\n",
    "        weightedMean = sum([a*b for a,b in zip(scores,counts)])/sum(counts)\n",
    "        scoreDiffs = [(score - weightedMean)**2 for score in scores]\n",
    "        V1 = sum(counts)\n",
    "        V2 = sum([count**2 for count in counts])\n",
    "        var = (V1/(V1**2-V2)) * sum([a*b for a,b in zip(counts,scoreDiffs)])\n",
    "        return var\n",
    "    \n",
    "def get_score(san):\n",
    "    board = chess.Board()\n",
    "    for move in san:\n",
    "        board.push_san(move)\n",
    "    currFen = board.fen()\n",
    "    score = engine.analyse(board, chess.engine.Limit(time=.05), info=chess.engine.INFO_SCORE)\n",
    "    if('#' in str(score['score'])):\n",
    "        if('-' in str(score['score'])):\n",
    "            return -39765\n",
    "        else:\n",
    "            return 39765\n",
    "    else:\n",
    "        score = int(str(score[\"score\"]))\n",
    "    return score\n",
    "\n",
    "def san_to_fen(san):\n",
    "    board = chess.Board()\n",
    "    for move in san:\n",
    "        board.push_san(move)\n",
    "    currFen = board.fen()\n",
    "    return currFen\n",
    "\n",
    "def get_node_sd(node):\n",
    "    scores = []\n",
    "    counts = []\n",
    "    try:\n",
    "        for neighbor in list(g.neighbors(node)):\n",
    "            scores.append(nx.get_node_attributes(g, 'score')[neighbor])\n",
    "            counts.append(nx.get_node_attributes(g, 'movelistCount')[neighbor][node])\n",
    "        return node, np.sqrt(varWeighted(scores,counts))\n",
    "    except:\n",
    "        return node, None"
   ]
  },
  {
   "cell_type": "code",
   "execution_count": null,
   "metadata": {},
   "outputs": [],
   "source": [
    "game_file = \"../tab-trunc.txt\"\n",
    "\n",
    "with open(game_file, \"r\") as file_in:\n",
    "    mainlineList = []\n",
    "    for line in file_in:\n",
    "        mainlineList.append(line)\n",
    "\n",
    "#extract each string of moves\n",
    "stringList = []\n",
    "for mainLine in mainlineList:\n",
    "    stringList.append(mainLine.split())\n",
    "\n",
    "# stringList.sort(key = len) \n"
   ]
  },
  {
   "cell_type": "code",
   "execution_count": null,
   "metadata": {},
   "outputs": [],
   "source": [
    "print(len(stringList))"
   ]
  },
  {
   "cell_type": "code",
   "execution_count": null,
   "metadata": {},
   "outputs": [],
   "source": [
    "#Move ['32', 'f3', 'e5', 'g4', 'Qh4#']\n",
    "\n",
    "board = chess.Board()\n",
    "board.push_san('f3') #push the move to the board\n",
    "board.push_san('e5') #push the move to the board\n",
    "#board.push_san('g4') #push the move to the board\n",
    "#board.push_san('Qh4#') #push the move to the board\n",
    "currFen = board.fen()\n",
    "print(currFen)\n",
    "stockfish.set_fen_position(currFen)\n",
    "score = stockfish.get_evaluation()['value']\n",
    "print(score)"
   ]
  },
  {
   "cell_type": "code",
   "execution_count": null,
   "metadata": {},
   "outputs": [],
   "source": [
    "cnt = 0\n",
    "start = timeit.default_timer()\n",
    "\n",
    "#initialize graph with root node\n",
    "g = nx.DiGraph()\n",
    "g.add_node('root', score = 0, movelist = 'root')\n",
    "\n",
    "for s in stringList[:3000]:\n",
    "    whiteMove = 1\n",
    "    if(cnt%1000 == 0):\n",
    "        print(\"strings processed:\", cnt, \"TIME:\", timeit.default_timer()-start)\n",
    "    count = int(s[0])\n",
    "    board = chess.Board()\n",
    "    parentFen = 'root'\n",
    "    try:\n",
    "        for move in s[1:]:\n",
    "            board.push_san(move)\n",
    "            currFen = board.fen()\n",
    "            if(currFen not in g.nodes):\n",
    "                board = chess.Board(currFen)\n",
    "                if('#' not in move):\n",
    "                    score = engine.analyse(board, chess.engine.Limit(time=0.05))\n",
    "                    if('#' in str(score['score'])):\n",
    "                        if('-' in str(score['score'])):\n",
    "                            score =  -39765\n",
    "                        else:\n",
    "                            score =  39765\n",
    "                    else:\n",
    "                        score = int(str(score[\"score\"])) * whiteMove\n",
    "#                         stockfish.set_fen_position(currFen)\n",
    "#                         score = stockfish.get_evaluation()['value']\n",
    "                else:\n",
    "                    score = 39765 * whiteMove\n",
    "                g.add_node(currFen,\n",
    "                           score = score,\n",
    "                           count = count,\n",
    "                           movelistCount = {parentFen:count})\n",
    "                g.add_edge(parentFen, currFen)\n",
    "            else:\n",
    "                if(parentFen in nx.get_node_attributes(g, 'movelistCount')[currFen]):\n",
    "                    nx.get_node_attributes(g, 'movelistCount')[currFen][parentFen] += count #increase parent count\n",
    "                else:\n",
    "                    nx.get_node_attributes(g, 'movelistCount')[currFen][parentFen] = count #add parent and count\n",
    "                    g.add_edge(parentFen, currFen) #add edge from parentFen to currFen\n",
    "                g.nodes[currFen]['count'] = nx.get_node_attributes(g, 'count')[currFen] + count #increase count\n",
    "#                 whiteMove *= -1\n",
    "            parentFen = currFen\n",
    "    except Exception as e:\n",
    "        print(e)\n",
    "        print(sys.exc_info()[0])\n",
    "        print(\"Move\",s)\n",
    "        stockfish.set_fen_position(currFen)\n",
    "        print(stockfish.get_evaluation()['value'])\n",
    "        break\n",
    "    cnt+=1\n",
    "            \n",
    "stop = timeit.default_timer()\n",
    "print('Time: ', stop - start)\n",
    "print(\"totalNodes:\",len(g))"
   ]
  },
  {
   "cell_type": "code",
   "execution_count": null,
   "metadata": {},
   "outputs": [],
   "source": [
    "g.nodes()['rnbqkbnr/pppppppp/8/8/8/2N5/PPPPPPPP/R1BQKBNR b KQkq - 1 1']"
   ]
  },
  {
   "cell_type": "code",
   "execution_count": null,
   "metadata": {},
   "outputs": [],
   "source": [
    "#nx.write_gpickle(g,\"test.gpickle\")"
   ]
  },
  {
   "cell_type": "code",
   "execution_count": 4,
   "metadata": {},
   "outputs": [
    {
     "ename": "FileNotFoundError",
     "evalue": "[Errno 2] No such file or directory: 'g3k.gpickle'",
     "output_type": "error",
     "traceback": [
      "\u001b[0;31m---------------------------------------------------------------------------\u001b[0m",
      "\u001b[0;31mFileNotFoundError\u001b[0m                         Traceback (most recent call last)",
      "\u001b[0;32m<ipython-input-4-4e0d70bfaf3e>\u001b[0m in \u001b[0;36m<module>\u001b[0;34m\u001b[0m\n\u001b[0;32m----> 1\u001b[0;31m \u001b[0mg\u001b[0m \u001b[0;34m=\u001b[0m \u001b[0mnx\u001b[0m\u001b[0;34m.\u001b[0m\u001b[0mread_gpickle\u001b[0m\u001b[0;34m(\u001b[0m\u001b[0;34m'g3k.gpickle'\u001b[0m\u001b[0;34m)\u001b[0m\u001b[0;34m\u001b[0m\u001b[0;34m\u001b[0m\u001b[0m\n\u001b[0m",
      "\u001b[0;32m</Users/choldawa/opt/anaconda3/lib/python3.7/site-packages/decorator.py:decorator-gen-747>\u001b[0m in \u001b[0;36mread_gpickle\u001b[0;34m(path)\u001b[0m\n",
      "\u001b[0;32m~/opt/anaconda3/lib/python3.7/site-packages/networkx/utils/decorators.py\u001b[0m in \u001b[0;36m_open_file\u001b[0;34m(func_to_be_decorated, *args, **kwargs)\u001b[0m\n\u001b[1;32m    212\u001b[0m         \u001b[0;32mif\u001b[0m \u001b[0mis_string_like\u001b[0m\u001b[0;34m(\u001b[0m\u001b[0mpath\u001b[0m\u001b[0;34m)\u001b[0m\u001b[0;34m:\u001b[0m\u001b[0;34m\u001b[0m\u001b[0;34m\u001b[0m\u001b[0m\n\u001b[1;32m    213\u001b[0m             \u001b[0mext\u001b[0m \u001b[0;34m=\u001b[0m \u001b[0msplitext\u001b[0m\u001b[0;34m(\u001b[0m\u001b[0mpath\u001b[0m\u001b[0;34m)\u001b[0m\u001b[0;34m[\u001b[0m\u001b[0;36m1\u001b[0m\u001b[0;34m]\u001b[0m\u001b[0;34m\u001b[0m\u001b[0;34m\u001b[0m\u001b[0m\n\u001b[0;32m--> 214\u001b[0;31m             \u001b[0mfobj\u001b[0m \u001b[0;34m=\u001b[0m \u001b[0m_dispatch_dict\u001b[0m\u001b[0;34m[\u001b[0m\u001b[0mext\u001b[0m\u001b[0;34m]\u001b[0m\u001b[0;34m(\u001b[0m\u001b[0mpath\u001b[0m\u001b[0;34m,\u001b[0m \u001b[0mmode\u001b[0m\u001b[0;34m=\u001b[0m\u001b[0mmode\u001b[0m\u001b[0;34m)\u001b[0m\u001b[0;34m\u001b[0m\u001b[0;34m\u001b[0m\u001b[0m\n\u001b[0m\u001b[1;32m    215\u001b[0m             \u001b[0mclose_fobj\u001b[0m \u001b[0;34m=\u001b[0m \u001b[0;32mTrue\u001b[0m\u001b[0;34m\u001b[0m\u001b[0;34m\u001b[0m\u001b[0m\n\u001b[1;32m    216\u001b[0m         \u001b[0;32melif\u001b[0m \u001b[0mhasattr\u001b[0m\u001b[0;34m(\u001b[0m\u001b[0mpath\u001b[0m\u001b[0;34m,\u001b[0m \u001b[0;34m'read'\u001b[0m\u001b[0;34m)\u001b[0m\u001b[0;34m:\u001b[0m\u001b[0;34m\u001b[0m\u001b[0;34m\u001b[0m\u001b[0m\n",
      "\u001b[0;31mFileNotFoundError\u001b[0m: [Errno 2] No such file or directory: 'g3k.gpickle'"
     ]
    }
   ],
   "source": [
    "g = nx.read_gpickle('g3k.gpickle')"
   ]
  },
  {
   "cell_type": "code",
   "execution_count": null,
   "metadata": {},
   "outputs": [],
   "source": [
    "start = timeit.default_timer()\n",
    "\n",
    "board = chess.Board()\n",
    "board.push_san('d4') #push the move to the board\n",
    "board.push_san('Nf6') #push the move to the board\n",
    "currFen = board.fen()\n",
    "print(currFen)\n",
    "scores = []\n",
    "counts = []\n",
    "for neighbor in list(g.neighbors(currFen)):\n",
    "    scores.append(nx.get_node_attributes(g, 'score')[neighbor])\n",
    "    counts.append(nx.get_node_attributes(g, 'count')[neighbor])\n",
    "    \n",
    "print(\"sd:\",np.sqrt(varWeighted(scores, counts)))\n",
    "\n",
    "stop = timeit.default_timer()\n",
    "print('Time: ', stop - start) "
   ]
  },
  {
   "cell_type": "code",
   "execution_count": null,
   "metadata": {},
   "outputs": [],
   "source": [
    "gamesDict = {\"root\" : ['e4', 'c5'],\n",
    "\"safe\" : ['e4', 'c5', 'c3'],\n",
    "\"risky\" : ['e4', 'c5', 'd4'],\n",
    "\"root2\" : ['e4', 'e6', 'd4', 'd5'],\n",
    "\"popular2.0\" : ['e4', 'e6', 'd4', 'd5', 'Nc3'],\n",
    "\"popular2.1\" : ['e4', 'e6', 'd4', 'd5', 'Nd2'],\n",
    "\"safe2\" : ['e4', 'e6', 'd4', 'd5', 'exd5'],\n",
    "\"risky2\" : ['e4', 'e6', 'd4', 'd5', 'e5'],\n",
    "\"Ruy\" : ['e4', 'e5','Nf3', 'Nc6','Bb5'],\n",
    "\"Vienna\" : ['e4' ,'e5','d4','exd4','c3']}\n",
    "\n",
    "for key, game in gamesDict.items():\n",
    "    currFen = san_to_fen(game)\n",
    "    scores = []\n",
    "    counts = []\n",
    "    try:\n",
    "        for neighbor in list(g.neighbors(currFen)):\n",
    "            scores.append(nx.get_node_attributes(g, 'score')[neighbor])\n",
    "            counts.append(nx.get_node_attributes(g, 'movelistCount')[neighbor][currFen])\n",
    "        print('{} {} ||| SD :'.format(key, game), np.sqrt(varWeighted(scores,counts)), \", total Games:\", sum(counts))\n",
    "    except:\n",
    "        break\n",
    "\n",
    "    "
   ]
  },
  {
   "cell_type": "code",
   "execution_count": null,
   "metadata": {},
   "outputs": [],
   "source": [
    "sd_dict = {}\n",
    "for node in g.nodes():\n",
    "    n, val = get_node_sd(node)\n",
    "    sd_dict.update({n: val})\n",
    "#     dict.update(Iterable_Sequence of key:value)\n",
    "#     sd_list.append(get_node_sd(node))\n",
    "\n",
    "sd_dict = {key:val for key, val in sd_dict.items() if val != None}\n",
    "\n",
    "maxSD = max(sd_dict.items(), key=lambda x : x[1])\n",
    "print('Max value in Dict: ', maxSD[1])\n",
    "print('Key With Max value in Dict: ', maxSD[0])"
   ]
  },
  {
   "cell_type": "code",
   "execution_count": null,
   "metadata": {},
   "outputs": [],
   "source": [
    "currFen = \"r1b1kbnr/pppp1Npp/8/8/3nq3/8/PPPPBP1P/RNBQKR2 b Qkq - 1 7\"\n",
    "scores = []\n",
    "counts = []\n",
    "\n",
    "for neighbor in list(g.neighbors(currFen)):\n",
    "    print(neighbor, g.nodes()[neighbor])\n",
    "    scores.append(nx.get_node_attributes(g, 'score')[neighbor])\n",
    "    counts.append(nx.get_node_attributes(g, 'movelistCount')[neighbor][currFen])\n",
    "print('SD :', np.sqrt(varWeighted(scores,counts)), \", total Games:\", sum(counts))\n"
   ]
  },
  {
   "cell_type": "code",
   "execution_count": null,
   "metadata": {},
   "outputs": [],
   "source": [
    "board = chess.Board('r1b1kbnr/pppp1Npp/8/8/4q3/8/PPnPBP1P/RNBQKR2 w Qkq - 0 8')\n",
    "print(engine.analyse(board, chess.engine.Limit(time=.05), info=chess.engine.INFO_SCORE))\n",
    "board"
   ]
  }
 ],
 "metadata": {
  "kernelspec": {
   "display_name": "Python 3",
   "language": "python",
   "name": "python3"
  },
  "language_info": {
   "codemirror_mode": {
    "name": "ipython",
    "version": 3
   },
   "file_extension": ".py",
   "mimetype": "text/x-python",
   "name": "python",
   "nbconvert_exporter": "python",
   "pygments_lexer": "ipython3",
   "version": "3.7.6"
  }
 },
 "nbformat": 4,
 "nbformat_minor": 4
}
