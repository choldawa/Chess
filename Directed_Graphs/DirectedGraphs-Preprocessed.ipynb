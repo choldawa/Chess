{
 "cells": [
  {
   "cell_type": "markdown",
   "metadata": {},
   "source": [
    "# Build graph from preprocessed file\n",
    "With a tabulated count:san file"
   ]
  },
  {
   "cell_type": "markdown",
   "metadata": {},
   "source": [
    "## Read in packages, functions, and file"
   ]
  },
  {
   "cell_type": "code",
   "execution_count": 16,
   "metadata": {},
   "outputs": [],
   "source": [
    "import sys\n",
    "import networkx as nx\n",
    "import matplotlib as plt\n",
    "import numpy as np\n",
    "import re\n",
    "import chess\n",
    "import subprocess\n",
    "import timeit\n",
    "import pickle\n",
    "import stockfish\n",
    "from stockfish import Stockfish\n",
    "import chess\n",
    "import chess.engine\n",
    "import warnings\n",
    "warnings.filterwarnings('ignore')\n",
    "\n",
    "engine = chess.engine.SimpleEngine.popen_uci(\"../stockfish-10-64\")\n",
    "stockfish = Stockfish(\"../stockfish-10-64\")"
   ]
  },
  {
   "cell_type": "code",
   "execution_count": 17,
   "metadata": {},
   "outputs": [],
   "source": [
    "def varWeighted(scores, counts):\n",
    "    if (len(counts)<2):\n",
    "        return None\n",
    "    else:\n",
    "        weightedMean = sum([a*b for a,b in zip(scores,counts)])/sum(counts)\n",
    "        scoreDiffs = [(score - weightedMean)**2 for score in scores]\n",
    "        V1 = sum(counts)\n",
    "        V2 = sum([count**2 for count in counts])\n",
    "        var = (V1/(V1**2-V2)) * sum([a*b for a,b in zip(counts,scoreDiffs)])\n",
    "        return var\n",
    "    \n",
    "def get_score(san):\n",
    "    board = chess.Board()\n",
    "    for move in san:\n",
    "        board.push_san(move)\n",
    "    currFen = board.fen()\n",
    "    score = engine.analyse(board, chess.engine.Limit(time=.05), info=chess.engine.INFO_SCORE)\n",
    "    if('#' in str(score['score'])):\n",
    "        if('-' in str(score['score'])):\n",
    "            return -39765\n",
    "        else:\n",
    "            return 39765\n",
    "    else:\n",
    "        score = int(str(score[\"score\"]))\n",
    "    return score\n",
    "\n",
    "def san_to_fen(san):\n",
    "    board = chess.Board()\n",
    "    for move in san:\n",
    "        board.push_san(move)\n",
    "    currFen = board.fen()\n",
    "    return currFen\n",
    "\n",
    "def get_node_sd(node):\n",
    "    scores = []\n",
    "    counts = []\n",
    "    try:\n",
    "        for neighbor in list(g.neighbors(node)):\n",
    "            scores.append(nx.get_node_attributes(g, 'score')[neighbor])\n",
    "            counts.append(nx.get_node_attributes(g, 'movelistCount')[neighbor][node])\n",
    "        return node, np.sqrt(varWeighted(scores,counts))\n",
    "    except:\n",
    "        return node, None"
   ]
  },
  {
   "cell_type": "code",
   "execution_count": 18,
   "metadata": {},
   "outputs": [],
   "source": [
    "game_file = \"../tab-trunc.txt\"\n",
    "\n",
    "with open(game_file, \"r\") as file_in:\n",
    "    mainlineList = []\n",
    "    for line in file_in:\n",
    "        mainlineList.append(line)\n",
    "\n",
    "#extract each string of moves\n",
    "stringList = []\n",
    "for mainLine in mainlineList:\n",
    "    stringList.append(mainLine.split())\n",
    "\n",
    "# stringList.sort(key = len) \n"
   ]
  },
  {
   "cell_type": "code",
   "execution_count": 19,
   "metadata": {},
   "outputs": [
    {
     "name": "stdout",
     "output_type": "stream",
     "text": [
      "692287\n"
     ]
    }
   ],
   "source": [
    "print(len(stringList))"
   ]
  },
  {
   "cell_type": "markdown",
   "metadata": {},
   "source": [
    "## Build and pickle graph"
   ]
  },
  {
   "cell_type": "code",
   "execution_count": 20,
   "metadata": {},
   "outputs": [
    {
     "name": "stdout",
     "output_type": "stream",
     "text": [
      "strings processed: 0 TIME: 0.011848312000438455\n",
      "strings processed: 10000 TIME: 33.230453473000125\n",
      "strings processed: 20000 TIME: 35.83111786399968\n",
      "strings processed: 30000 TIME: 40.355436019999615\n",
      "strings processed: 40000 TIME: 41.9361902820001\n",
      "strings processed: 50000 TIME: 45.41323559800003\n",
      "strings processed: 60000 TIME: 50.10824482800035\n",
      "strings processed: 70000 TIME: 54.40848151600039\n",
      "strings processed: 80000 TIME: 57.18194516800031\n",
      "strings processed: 90000 TIME: 61.01557742899968\n",
      "strings processed: 100000 TIME: 63.567637973000274\n",
      "strings processed: 110000 TIME: 70.16195504799998\n",
      "strings processed: 120000 TIME: 74.25952541900006\n",
      "strings processed: 130000 TIME: 79.53666932099986\n",
      "strings processed: 140000 TIME: 84.33882603799975\n",
      "strings processed: 150000 TIME: 87.98654814699967\n",
      "strings processed: 160000 TIME: 92.85023949700008\n",
      "strings processed: 170000 TIME: 100.75500999999986\n",
      "strings processed: 180000 TIME: 107.18212666399995\n",
      "strings processed: 190000 TIME: 111.45687470200028\n",
      "strings processed: 200000 TIME: 119.46301879899966\n",
      "strings processed: 210000 TIME: 123.75923559700004\n",
      "strings processed: 220000 TIME: 127.10020579200045\n",
      "strings processed: 230000 TIME: 133.56925540300017\n",
      "strings processed: 240000 TIME: 140.7654320290003\n",
      "strings processed: 250000 TIME: 147.89872467799978\n",
      "strings processed: 260000 TIME: 154.28703894800037\n",
      "strings processed: 270000 TIME: 160.90687669399995\n",
      "strings processed: 280000 TIME: 166.08546257600028\n",
      "strings processed: 290000 TIME: 171.69668434100004\n",
      "strings processed: 300000 TIME: 178.52735855500032\n",
      "strings processed: 310000 TIME: 184.7102713860004\n",
      "strings processed: 320000 TIME: 191.94521196999995\n",
      "strings processed: 330000 TIME: 199.0765396550005\n",
      "strings processed: 340000 TIME: 207.53282963899983\n",
      "strings processed: 350000 TIME: 214.98687604800034\n",
      "strings processed: 360000 TIME: 220.36028316600004\n",
      "strings processed: 370000 TIME: 227.0365278170002\n",
      "strings processed: 380000 TIME: 235.2117631379997\n",
      "strings processed: 390000 TIME: 243.60335717700036\n",
      "strings processed: 400000 TIME: 251.01291034099995\n",
      "strings processed: 410000 TIME: 260.36694292599987\n",
      "strings processed: 420000 TIME: 268.75160172400047\n",
      "strings processed: 430000 TIME: 276.6431604159998\n",
      "strings processed: 440000 TIME: 285.6468667320005\n",
      "strings processed: 450000 TIME: 293.6446725900005\n",
      "strings processed: 460000 TIME: 302.46967675500036\n",
      "strings processed: 470000 TIME: 310.90220750499975\n",
      "strings processed: 480000 TIME: 319.63665212900014\n",
      "strings processed: 490000 TIME: 327.1008905640001\n",
      "strings processed: 500000 TIME: 339.8091009290001\n",
      "strings processed: 510000 TIME: 360.4996550900005\n",
      "strings processed: 520000 TIME: 378.8098411150004\n",
      "strings processed: 530000 TIME: 396.14512415900026\n",
      "strings processed: 540000 TIME: 412.97427475899985\n",
      "strings processed: 550000 TIME: 428.6212001069998\n",
      "strings processed: 560000 TIME: 445.08920717900037\n",
      "strings processed: 570000 TIME: 461.8017348000003\n",
      "strings processed: 580000 TIME: 480.82596679000017\n",
      "strings processed: 590000 TIME: 505.04545494099966\n",
      "strings processed: 600000 TIME: 524.6178240609997\n",
      "strings processed: 610000 TIME: 547.9596313949996\n",
      "strings processed: 620000 TIME: 569.059345699\n",
      "strings processed: 630000 TIME: 593.3814926949999\n",
      "strings processed: 640000 TIME: 625.8129336230004\n",
      "strings processed: 650000 TIME: 665.0227795580004\n",
      "strings processed: 660000 TIME: 710.4708509370003\n",
      "strings processed: 670000 TIME: 756.9708772900003\n",
      "strings processed: 680000 TIME: 817.8655466580003\n",
      "strings processed: 690000 TIME: 886.2643208139998\n",
      "Time:  903.7974876890003\n",
      "totalNodes: 10346\n"
     ]
    }
   ],
   "source": [
    "cnt = 0\n",
    "start = timeit.default_timer()\n",
    "\n",
    "#initialize graph with root node\n",
    "g = nx.DiGraph()\n",
    "g.add_node('root', score = 0, movelist = 'root')\n",
    "\n",
    "for s in stringList:\n",
    "    whiteMove = 1\n",
    "    if(cnt%10000 == 0):\n",
    "        print(\"strings processed:\", cnt, \"TIME:\", timeit.default_timer()-start)\n",
    "    count = int(s[0])\n",
    "    if(count >= 50):\n",
    "        board = chess.Board()\n",
    "        parentFen = 'root'\n",
    "        for move in s[1:]:\n",
    "            try:\n",
    "                san = s[1:s.index(move)+1]\n",
    "                board.push_san(move)\n",
    "                currFen = board.fen()\n",
    "                if(currFen not in g.nodes):\n",
    "                    board = chess.Board(currFen)\n",
    "                    if('#' not in move):\n",
    "                        score = engine.analyse(board, chess.engine.Limit(time=0.05))\n",
    "                        if('#' in str(score['score'])):\n",
    "                            if('-' in str(score['score'])):\n",
    "                                score =  -39765\n",
    "                            else:\n",
    "                                score =  39765\n",
    "                        else:\n",
    "                            score = int(str(score[\"score\"])) * whiteMove\n",
    "    #                         stockfish.set_fen_position(currFen)\n",
    "    #                         score = stockfish.get_evaluation()['value']\n",
    "                    else:\n",
    "                        score = -39765 * whiteMove\n",
    "                    g.add_node(currFen,\n",
    "                               score = score,\n",
    "                               count = count,\n",
    "                               san = san,\n",
    "                               movelistCount = {parentFen:count})\n",
    "                    g.add_edge(parentFen, currFen)\n",
    "                else:\n",
    "                    if(parentFen in nx.get_node_attributes(g, 'movelistCount')[currFen]):\n",
    "                        nx.get_node_attributes(g, 'movelistCount')[currFen][parentFen] += count #increase parent count\n",
    "                    else:\n",
    "                        nx.get_node_attributes(g, 'movelistCount')[currFen][parentFen] = count #add parent and count\n",
    "                        g.add_edge(parentFen, currFen) #add edge from parentFen to currFen\n",
    "                    g.nodes[currFen]['count'] = nx.get_node_attributes(g, 'count')[currFen] + count #increase count\n",
    "    #                 whiteMove *= -1\n",
    "                parentFen = currFen\n",
    "            except Exception as e:\n",
    "                print(e)\n",
    "                print(sys.exc_info()[0])\n",
    "                print(\"Move\",s)\n",
    "                stockfish.set_fen_position(currFen)\n",
    "                print(stockfish.get_evaluation()['value'])\n",
    "                break\n",
    "        cnt+=1\n",
    "    else:\n",
    "        cnt+=1\n",
    "            \n",
    "stop = timeit.default_timer()\n",
    "print('Time: ', stop - start)\n",
    "print(\"totalNodes:\",len(g))"
   ]
  },
  {
   "cell_type": "code",
   "execution_count": 21,
   "metadata": {},
   "outputs": [
    {
     "data": {
      "text/plain": [
       "{'score': 44,\n",
       " 'count': 11948,\n",
       " 'san': ['d4', 'Nf6'],\n",
       " 'movelistCount': {'rnbqkbnr/pppppppp/8/8/3P4/8/PPP1PPPP/RNBQKBNR b KQkq - 0 1': 11948}}"
      ]
     },
     "execution_count": 21,
     "metadata": {},
     "output_type": "execute_result"
    }
   ],
   "source": [
    "g.nodes()['rnbqkb1r/pppppppp/5n2/8/3P4/8/PPP1PPPP/RNBQKBNR w KQkq - 1 2']"
   ]
  },
  {
   "cell_type": "code",
   "execution_count": 12,
   "metadata": {},
   "outputs": [],
   "source": [
    "#nx.write_gpickle(g,\"test.gpickle\")"
   ]
  },
  {
   "cell_type": "code",
   "execution_count": 22,
   "metadata": {},
   "outputs": [
    {
     "data": {
      "text/plain": [
       "10346"
      ]
     },
     "execution_count": 22,
     "metadata": {},
     "output_type": "execute_result"
    }
   ],
   "source": [
    "g = nx.read_gpickle('full690k.gpickle')"
   ]
  },
  {
   "cell_type": "code",
   "execution_count": 27,
   "metadata": {},
   "outputs": [
    {
     "data": {
      "text/plain": [
       "{'score': -23,\n",
       " 'count': 50,\n",
       " 'san': ['c4', 'Nf6', 'Nf3'],\n",
       " 'movelistCount': {'rnbqkb1r/pppppppp/5n2/8/2P5/8/PP1PPPPP/RNBQKBNR w KQkq - 1 2': 50}}"
      ]
     },
     "execution_count": 27,
     "metadata": {},
     "output_type": "execute_result"
    }
   ],
   "source": [
    "g.nodes()[san_to_fen(['c4', 'Nf6', 'Nf3'])]"
   ]
  },
  {
   "cell_type": "markdown",
   "metadata": {},
   "source": [
    "## Test variance calcuilations"
   ]
  },
  {
   "cell_type": "code",
   "execution_count": 14,
   "metadata": {},
   "outputs": [
    {
     "name": "stdout",
     "output_type": "stream",
     "text": [
      "rnbqkb1r/pppppppp/5n2/8/3P4/8/PPP1PPPP/RNBQKBNR w KQkq - 1 2\n",
      "sd: 39.42412035207993\n",
      "Time:  0.19528749800019796\n"
     ]
    }
   ],
   "source": [
    "start = timeit.default_timer()\n",
    "\n",
    "board = chess.Board()\n",
    "board.push_san('d4') #push the move to the board\n",
    "board.push_san('Nf6') #push the move to the board\n",
    "currFen = board.fen()\n",
    "print(currFen)\n",
    "scores = []\n",
    "counts = []\n",
    "for neighbor in list(g.neighbors(currFen)):\n",
    "    scores.append(nx.get_node_attributes(g, 'score')[neighbor])\n",
    "    counts.append(nx.get_node_attributes(g, 'count')[neighbor])\n",
    "    \n",
    "print(\"sd:\",np.sqrt(varWeighted(scores, counts)))\n",
    "\n",
    "stop = timeit.default_timer()\n",
    "print('Time: ', stop - start) "
   ]
  },
  {
   "cell_type": "code",
   "execution_count": 15,
   "metadata": {},
   "outputs": [
    {
     "name": "stdout",
     "output_type": "stream",
     "text": [
      "root ['e4', 'c5'] ||| SD : 52.4178835913871 , total Games: 30613\n",
      "safe ['e4', 'c5', 'c3'] ||| SD : 17.919670383656534 , total Games: 1224\n",
      "risky ['e4', 'c5', 'd4'] ||| SD : 87.61629331075976 , total Games: 3702\n",
      "root2 ['e4', 'e6', 'd4', 'd5'] ||| SD : 34.549936453466835 , total Games: 5868\n",
      "popular2.0 ['e4', 'e6', 'd4', 'd5', 'Nc3'] ||| SD : 26.534029951240356 , total Games: 986\n",
      "popular2.1 ['e4', 'e6', 'd4', 'd5', 'Nd2'] ||| SD : 29.42564695849045 , total Games: 677\n",
      "safe2 ['e4', 'e6', 'd4', 'd5', 'exd5'] ||| SD : 79.12339016299454 , total Games: 639\n",
      "risky2 ['e4', 'e6', 'd4', 'd5', 'e5'] ||| SD : 48.575727612339946 , total Games: 4571\n",
      "Ruy ['e4', 'e5', 'Nf3', 'Nc6', 'Bb5'] ||| SD : 32.326789052452725 , total Games: 4814\n",
      "Vienna ['e4', 'e5', 'd4', 'exd4', 'c3'] ||| SD : 43.9007496294731 , total Games: 753\n"
     ]
    }
   ],
   "source": [
    "gamesDict = {\"root\" : ['e4', 'c5'],\n",
    "\"safe\" : ['e4', 'c5', 'c3'],\n",
    "\"risky\" : ['e4', 'c5', 'd4'],\n",
    "\"root2\" : ['e4', 'e6', 'd4', 'd5'],\n",
    "\"popular2.0\" : ['e4', 'e6', 'd4', 'd5', 'Nc3'],\n",
    "\"popular2.1\" : ['e4', 'e6', 'd4', 'd5', 'Nd2'],\n",
    "\"safe2\" : ['e4', 'e6', 'd4', 'd5', 'exd5'],\n",
    "\"risky2\" : ['e4', 'e6', 'd4', 'd5', 'e5'],\n",
    "\"Ruy\" : ['e4', 'e5','Nf3', 'Nc6','Bb5'],\n",
    "\"Vienna\" : ['e4' ,'e5','d4','exd4','c3']}\n",
    "\n",
    "for key, game in gamesDict.items():\n",
    "    currFen = san_to_fen(game)\n",
    "    scores = []\n",
    "    counts = []\n",
    "    try:\n",
    "        for neighbor in list(g.neighbors(currFen)):\n",
    "            scores.append(nx.get_node_attributes(g, 'score')[neighbor])\n",
    "            counts.append(nx.get_node_attributes(g, 'movelistCount')[neighbor][currFen])\n",
    "        print('{} {} ||| SD :'.format(key, game), np.sqrt(varWeighted(scores,counts)), \", total Games:\", sum(counts))\n",
    "    except:\n",
    "        break\n",
    "\n",
    "    "
   ]
  },
  {
   "cell_type": "code",
   "execution_count": null,
   "metadata": {},
   "outputs": [],
   "source": [
    "sd_dict = {}\n",
    "for node in g.nodes():\n",
    "    n, val = get_node_sd(node)\n",
    "    sd_dict.update({n: val})\n",
    "#     dict.update(Iterable_Sequence of key:value)\n",
    "#     sd_list.append(get_node_sd(node))\n",
    "\n",
    "sd_dict = {key:val for key, val in sd_dict.items() if val != None}\n",
    "\n",
    "maxSD = max(sd_dict.items(), key=lambda x : x[1])\n",
    "print('Max value in Dict: ', maxSD[1])\n",
    "print('Key With Max value in Dict: ', maxSD[0])"
   ]
  },
  {
   "cell_type": "code",
   "execution_count": null,
   "metadata": {},
   "outputs": [],
   "source": [
    "{k: v for k, v in sorted(sd_dict.items(), key=lambda item: item[1], reverse = True)}"
   ]
  },
  {
   "cell_type": "code",
   "execution_count": null,
   "metadata": {},
   "outputs": [],
   "source": [
    "currFen =  'rnbqkbnr/p3pppp/8/1p6/2pP4/4PQ2/1P3PPP/RNB1KBNR b KQkq - 1 6'\n",
    "scores = []\n",
    "counts = []\n",
    "\n",
    "for neighbor in list(g.neighbors(currFen)):\n",
    "    print(neighbor, g.nodes()[neighbor])\n",
    "    scores.append(nx.get_node_attributes(g, 'score')[neighbor])\n",
    "    counts.append(nx.get_node_attributes(g, 'movelistCount')[neighbor][currFen])\n",
    "print('SD :', np.sqrt(varWeighted(scores,counts)), \", total Games:\", sum(counts))\n"
   ]
  },
  {
   "cell_type": "markdown",
   "metadata": {},
   "source": [
    "## Ad hoc viz of moves and children with sf score"
   ]
  },
  {
   "cell_type": "code",
   "execution_count": 5,
   "metadata": {},
   "outputs": [
    {
     "name": "stdout",
     "output_type": "stream",
     "text": [
      "rnbqkbnr/pppp1ppp/8/4p3/8/5P2/PPPPP1PP/RNBQKBNR w KQkq - 0 2\n",
      "-101\n"
     ]
    }
   ],
   "source": [
    "#Move ['32', 'f3', 'e5', 'g4', 'Qh4#']\n",
    "\n",
    "board = chess.Board()\n",
    "board.push_san('f3') #push the move to the board\n",
    "board.push_san('e5') #push the move to the board\n",
    "#board.push_san('g4') #push the move to the board\n",
    "#board.push_san('Qh4#') #push the move to the board\n",
    "currFen = board.fen()\n",
    "print(currFen)\n",
    "stockfish.set_fen_position(currFen)\n",
    "score = stockfish.get_evaluation()['value']\n",
    "print(score)"
   ]
  },
  {
   "cell_type": "code",
   "execution_count": null,
   "metadata": {},
   "outputs": [],
   "source": [
    "board = chess.Board(currFen)\n",
    "print(engine.analyse(board, chess.engine.Limit(time=.05), info=chess.engine.INFO_SCORE))\n",
    "board"
   ]
  },
  {
   "cell_type": "code",
   "execution_count": null,
   "metadata": {},
   "outputs": [],
   "source": [
    "board = chess.Board(currFen)\n",
    "print(engine.analyse(board, chess.engine.Limit(time=.05), info=chess.engine.INFO_SCORE))\n",
    "print(\"CURRFEN:\")\n",
    "print(board)\n",
    "print(\"_\"*50)\n",
    "print(\"_\"*50)\n",
    "for neighbor in list(g.neighbors(currFen)):\n",
    "    board = chess.Board(neighbor)\n",
    "    print(engine.analyse(board, chess.engine.Limit(time=.05), info=chess.engine.INFO_SCORE))\n",
    "    print(board)\n",
    "    print(\"_\"*50)"
   ]
  },
  {
   "cell_type": "code",
   "execution_count": null,
   "metadata": {},
   "outputs": [],
   "source": []
  }
 ],
 "metadata": {
  "kernelspec": {
   "display_name": "Python 3",
   "language": "python",
   "name": "python3"
  },
  "language_info": {
   "codemirror_mode": {
    "name": "ipython",
    "version": 3
   },
   "file_extension": ".py",
   "mimetype": "text/x-python",
   "name": "python",
   "nbconvert_exporter": "python",
   "pygments_lexer": "ipython3",
   "version": "3.7.6"
  }
 },
 "nbformat": 4,
 "nbformat_minor": 4
}
