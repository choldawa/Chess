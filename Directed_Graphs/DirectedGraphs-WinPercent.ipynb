{
 "cells": [
  {
   "cell_type": "code",
   "execution_count": 1,
   "metadata": {},
   "outputs": [],
   "source": [
    "########\n",
    "#pipe grep command of move sequence into another grep command to get 1-0 to tabulate total wins, ties and losses\n",
    "#these will need to be incremented in same way as counts\n",
    "\n",
    "import networkx as nx\n",
    "import matplotlib as plt\n",
    "import numpy as np\n",
    "import re\n",
    "import chess\n",
    "import chess.pgn\n",
    "import chess.engine\n",
    "import subprocess\n",
    "import time\n",
    "import timeit\n",
    "import pickle\n",
    "import stockfish\n",
    "engine = chess.engine.SimpleEngine.popen_uci(\"./stockfish-10-64\")"
   ]
  },
  {
   "cell_type": "code",
   "execution_count": 2,
   "metadata": {},
   "outputs": [],
   "source": [
    "from stockfish import Stockfish\n",
    "stockfish = Stockfish(\"./stockfish-10-64\")"
   ]
  },
  {
   "cell_type": "code",
   "execution_count": 3,
   "metadata": {},
   "outputs": [],
   "source": [
    "with open('Lichess2013noNumbers.txt', \"r\") as file_in:\n",
    "    mainlineList = []\n",
    "    for line in file_in:\n",
    "        mainlineList.append(line)"
   ]
  },
  {
   "cell_type": "code",
   "execution_count": 4,
   "metadata": {},
   "outputs": [
    {
     "name": "stdout",
     "output_type": "stream",
     "text": [
      "  e4 e6   d4 b6   a3 Bb7   Nc3 Nh6   Bxh6 gxh6   Be2 Qg5   Bg4 h5   Nf3 Qg6   Nh4 Qg5   Bxh5 Qxh4   Qf3 Kd8   Qxf7 Nc6   Qe8# 1-0\n",
      "\n"
     ]
    }
   ],
   "source": [
    "print(mainlineList[0])"
   ]
  },
  {
   "cell_type": "code",
   "execution_count": 5,
   "metadata": {},
   "outputs": [
    {
     "name": "stdout",
     "output_type": "stream",
     "text": [
      "121332\n"
     ]
    }
   ],
   "source": [
    "stringList = []\n",
    "for mainLine in mainlineList:\n",
    "    stringList.append(mainLine.split())\n",
    "print(len(stringList))"
   ]
  },
  {
   "cell_type": "code",
   "execution_count": 6,
   "metadata": {},
   "outputs": [
    {
     "name": "stdout",
     "output_type": "stream",
     "text": [
      "^ \\+e4\n",
      "36889\n"
     ]
    }
   ],
   "source": [
    "moveString = '^ \\+e4'  \n",
    "print(moveString)\n",
    "commandWhite = \"grep -I '{}'  Lichess2013noNumbers.txt | grep -I '[0]$' | wc -l\".format(moveString)\n",
    "commandBlack = \"grep -I '{}'  Lichess2013noNumbers.txt | grep -I '[1]$' | wc -l\".format(moveString)\n",
    "commandTie = \"grep -I '{}'  Lichess2013noNumbers.txt | grep -I '[2]$' | wc -l\".format(moveString)\n",
    "process = subprocess.Popen(commandWhite, stdout=subprocess.PIPE, stderr=None, shell=True)\n",
    "#Launch the shell command:\n",
    "output = process.communicate()\n",
    "print(int(re.findall('\\d+',str(output))[0]))"
   ]
  },
  {
   "cell_type": "code",
   "execution_count": 7,
   "metadata": {},
   "outputs": [
    {
     "name": "stdout",
     "output_type": "stream",
     "text": [
      "^ \\+e4\n",
      "(b'   72488\\n', None)\n",
      "72488\n",
      "2279\n"
     ]
    }
   ],
   "source": [
    "moveString = '^ \\+e4'  \n",
    "print(moveString)\n",
    "command = \"grep -I '{}'  Lichess2013noNumbers.txt | wc -l\".format(moveString)\n",
    "process = subprocess.Popen(command, stdout=subprocess.PIPE, stderr=None, shell=True)\n",
    "#Launch the shell command:\n",
    "output = process.communicate()\n",
    "print(output)\n",
    "print(int(re.findall('\\d+',str(output))[0]))\n",
    "commandTie = \"grep -I '{}'  Lichess2013noNumbers.txt | grep -I '[2]$' | wc -l\".format(moveString)\n",
    "process = subprocess.Popen(commandTie, stdout=subprocess.PIPE, stderr=None, shell=True)\n",
    "#Launch the shell command:\n",
    "output = process.communicate()\n",
    "print(int(re.findall('\\d+',str(output))[0]))"
   ]
  },
  {
   "cell_type": "code",
   "execution_count": 8,
   "metadata": {},
   "outputs": [],
   "source": [
    "## TESTING IF DIFFERENT MOVESTRINGS CONVERGE TO SAME FEN\n",
    "stringList = [['e4','e5','d4','d5','c3'],\n",
    "             ['d4','e5','e4','d5','a3']]"
   ]
  },
  {
   "cell_type": "code",
   "execution_count": null,
   "metadata": {},
   "outputs": [],
   "source": [
    "game_file = \"Lichess2013noNumbers.txt\"\n",
    "start = timeit.default_timer()\n",
    "\n",
    "g = nx.DiGraph()\n",
    "g.add_node('', score = 0, movelist = 'root')\n",
    "X = 0\n",
    "cnt = 0\n",
    "for string in stringList[:10]:\n",
    "    if(cnt%50 == 0):\n",
    "        print(\"strings processed:\", cnt)\n",
    "    board = chess.Board()\n",
    "    moveString = '^ \\+'\n",
    "    parentID = ''\n",
    "    for move in string:\n",
    "        moveString += move + ' \\+'\n",
    "        try: \n",
    "            board.push_san(move) #push the move to the board\n",
    "            currFen = board.fen() #get the fen from the board\n",
    "             #BASH SCRIPT TO GET COUNT\n",
    "            command = \"grep -I '{}'  {} | wc -l\".format(moveString, game_file)\n",
    "            process = subprocess.Popen(command, stdout=subprocess.PIPE, stderr=None, shell=True)\n",
    "            output = process.communicate()\n",
    "            count = int(re.findall('\\d+',str(output))[0])\n",
    "            #BASH TO GET WIN PERCENT White\n",
    "            commandWhite = \"grep -I '{}'  {} | grep -I '[0]$' | wc -l\".format(moveString, game_file)\n",
    "            process = subprocess.Popen(commandWhite, stdout=subprocess.PIPE, stderr=None, shell=True)\n",
    "            output = process.communicate()\n",
    "            countWhite = int(re.findall('\\d+',str(output))[0])\n",
    "            #Black\n",
    "            commandBlack = \"grep -I '{}'  {} | grep -I '[1]$' | wc -l\".format(moveString, game_file)\n",
    "            process = subprocess.Popen(commandBlack, stdout=subprocess.PIPE, stderr=None, shell=True)\n",
    "            output = process.communicate()\n",
    "            countBlack = int(re.findall('\\d+',str(output))[0])\n",
    "            #Tie\n",
    "            commandTie = \"grep -I '{}'  {} | grep -I '[2]$' | wc -l\".format(moveString, game_file)\n",
    "            process = subprocess.Popen(commandTie, stdout=subprocess.PIPE, stderr=None, shell=True)\n",
    "            output = process.communicate()\n",
    "            countTie = int(re.findall('\\d+',str(output))[0])\n",
    "            \n",
    "            #check if fen is new, if yes, and count is high, add new node\n",
    "            if(currFen not in g.nodes and count>=X): #only add nodes if the sequence has not yet occured and they are frequent enough \n",
    "                #stockfish = engine.analyse(board, chess.engine.Limit(time=0.05)) #get stockfish score of fen\n",
    "                stockfish.set_fen_position(currFen)\n",
    "                \n",
    "                g.add_node(currFen, \n",
    "                           score = stockfish.get_evaluation()['value'], \n",
    "                           count = count,\n",
    "                           whiteWins = countWhite,\n",
    "                           blackWins = countBlack,\n",
    "                           tie = countTie,\n",
    "                           movelist = [[moveString]]) #make a list of moveStrings\n",
    "                g.add_edge(parentID, currFen)\n",
    "                parentID = currFen\n",
    "            #if fen is not new, check if movestring in list of movestrings, if not, add it and add count  \n",
    "            elif(count>=X):\n",
    "                if([moveString] not in nx.get_node_attributes(g, 'movelist')[currFen]):\n",
    "                    nx.get_node_attributes(g, 'movelist')[currFen] = nx.get_node_attributes(g, 'movelist')[currFen].append([moveString])\n",
    "                    g.nodes[currFen]['count'] = nx.get_node_attributes(g, 'count')[currFen]+count\n",
    "                    g.nodes[currFen]['whiteWins'] = nx.get_node_attributes(g, 'whiteWins')[currFen]+countWhite\n",
    "                    g.nodes[currFen]['blackWins'] = nx.get_node_attributes(g, 'blackWins')[currFen]+countBlack\n",
    "                    g.nodes[currFen]['tie'] = nx.get_node_attributes(g, 'tie')[currFen]+countTie\n",
    "                    g.add_edge(parentID, currFen)\n",
    "                parentID = currFen\n",
    "                g.nodes\n",
    "            else:\n",
    "                break\n",
    "        except: #skip any errors in the notation that cannot be pushed to a board\n",
    "            #print(\"EXCEPT\")\n",
    "            break\n",
    "    cnt+=1\n",
    "stop = timeit.default_timer()\n",
    "print('Time: ', stop - start)\n",
    "print(\"totalNodes:\",len(g))"
   ]
  },
  {
   "cell_type": "code",
   "execution_count": 38,
   "metadata": {},
   "outputs": [
    {
     "name": "stdout",
     "output_type": "stream",
     "text": [
      "strings processed: 0\n",
      "EXCEPT\n",
      "EXCEPT\n",
      "Time:  22.6938036370002\n"
     ]
    }
   ],
   "source": [
    "# start = timeit.default_timer()\n",
    "\n",
    "# g = nx.DiGraph()\n",
    "# g.add_node('', score = 0, movelist = 'root')\n",
    "# X = 10\n",
    "# cnt = 0\n",
    "# for string in stringList[:2]:\n",
    "#     if(cnt%100 == 0):\n",
    "#         print(\"strings processed:\", cnt)\n",
    "#     board = chess.Board()\n",
    "#     moveString = '^ \\+'\n",
    "#     parentID = ''\n",
    "#     for move in string:\n",
    "#         moveString += move + ' \\+'\n",
    "#         try: \n",
    "#             board.push_san(move) #push the move to the board\n",
    "#             currFen = board.fen() #get the fen from the board\n",
    "#              #BASH SCRIPT TO GET COUNT\n",
    "#             command = \"grep -I '{}'  Lichess2013noNumbers.txt | wc -l\".format(moveString)\n",
    "#             process = subprocess.Popen(command, stdout=subprocess.PIPE, stderr=None, shell=True)\n",
    "#             output = process.communicate()\n",
    "#             count = int(re.findall('\\d+',str(output))[0])\n",
    "#             #BASH TO GET WIN PERCENT White\n",
    "#             commandWhite = \"grep -I '{}'  Lichess2013noNumbers.txt | grep -I '[0]$' | wc -l\".format(moveString)\n",
    "#             process = subprocess.Popen(commandWhite, stdout=subprocess.PIPE, stderr=None, shell=True)\n",
    "#             output = process.communicate()\n",
    "#             countWhite = int(re.findall('\\d+',str(output))[0])\n",
    "#             #Black\n",
    "#             commandBlack = \"grep -I '{}'  Lichess2013noNumbers.txt | grep -I '[1]$' | wc -l\".format(moveString)\n",
    "#             process = subprocess.Popen(commandBlack, stdout=subprocess.PIPE, stderr=None, shell=True)\n",
    "#             output = process.communicate()\n",
    "#             countBlack = int(re.findall('\\d+',str(output))[0])\n",
    "#             #Tie\n",
    "#             commandTie = \"grep -I '{}'  Lichess2013noNumbers.txt | grep -I '[2]$' | wc -l\".format(moveString)\n",
    "#             process = subprocess.Popen(commandTie, stdout=subprocess.PIPE, stderr=None, shell=True)\n",
    "#             output = process.communicate()\n",
    "#             countTie = int(re.findall('\\d+',str(output))[0])\n",
    "            \n",
    "#         #check if fen exists, if not, do same thing as before\n",
    "#         #if fen does exist, check if movestring exists in list of movestrings, if yes, do nothing (count already gotten)\n",
    "#         # if it doesn't, increment count by count of movestring and add to list of movestrings\n",
    "            \n",
    "#             #check if fen is new, if yes, and count is high, add new node\n",
    "#             if(currFen not in g.nodes and count>=X): #only add nodes if the sequence has not yet occured and they are frequent enough \n",
    "#                 stockfish = engine.analyse(board, chess.engine.Limit(time=0.05)) #get stockfish score of fen\n",
    "#                 g.add_node(currFen, \n",
    "#                            score = float(str(stockfish['score'])), \n",
    "#                            count = count,\n",
    "#                            whiteWins = countWhite,\n",
    "#                            blackWins = countBlack,\n",
    "#                            tie = countTie,\n",
    "#                            movelist = [[moveString]]) #make a list of moveStrings\n",
    "#                 g.add_edge(parentID, currFen)\n",
    "#                 parentID = currFen\n",
    "#             #if fen is not new, check if movestring in list of movestrings, if not, add it and add count  \n",
    "#             elif(count>=X):\n",
    "#                 if([moveString] not in nx.get_node_attributes(g, 'movelist')[currFen]):\n",
    "#                     nx.get_node_attributes(g, 'movelist')[currFen] = nx.get_node_attributes(g, 'movelist')[currFen].append([moveString])\n",
    "#                     g.nodes[currFen]['count'] = nx.get_node_attributes(g, 'count')[currFen]+count\n",
    "#                     g.nodes[currFen]['whiteWins'] = nx.get_node_attributes(g, 'whiteWins')[currFen]+countWhite\n",
    "#                     g.nodes[currFen]['blackWins'] = nx.get_node_attributes(g, 'blackWins')[currFen]+countBlack\n",
    "#                     g.nodes[currFen]['tie'] = nx.get_node_attributes(g, 'tie')[currFen]+countTie\n",
    "#                     g.add_edge(parentID, currFen)\n",
    "#                 parentID = currFen\n",
    "#                 g.nodes\n",
    "#             else:\n",
    "#                 break\n",
    "#         except: #skip any errors in the notation that cannot be pushed to a board\n",
    "#             print(\"EXCEPT\")\n",
    "#             break\n",
    "#     cnt+=1\n",
    "# stop = timeit.default_timer()\n",
    "# print('Time: ', stop - start)     "
   ]
  },
  {
   "cell_type": "code",
   "execution_count": 10,
   "metadata": {},
   "outputs": [],
   "source": [
    "#save as pickle\n",
    "#nx.write_gpickle(g,\"g2000win.gpickle\")"
   ]
  },
  {
   "cell_type": "code",
   "execution_count": 27,
   "metadata": {},
   "outputs": [
    {
     "name": "stdout",
     "output_type": "stream",
     "text": [
      "totalNodes: 11\n"
     ]
    }
   ],
   "source": [
    "#read pickle\n",
    "g=nx.read_gpickle(\"g2000win.gpickle\")\n",
    "print(\"totalNodes:\",len(g))"
   ]
  },
  {
   "cell_type": "code",
   "execution_count": 23,
   "metadata": {},
   "outputs": [
    {
     "data": {
      "image/png": "[encoded data removed]",
      "text/plain": [
       "<Figure size 432x288 with 1 Axes>"
      ]
     },
     "metadata": {},
     "output_type": "display_data"
    }
   ],
   "source": [
    "#print(\"Total Nodes:\", len(g))\n",
    "nx.draw(g, with_labels=False)\n"
   ]
  },
  {
   "cell_type": "code",
   "execution_count": 14,
   "metadata": {},
   "outputs": [],
   "source": [
    "# def varWeighted(scores, counts):\n",
    "#     weightedMean = sum([a*b for a,b in zip(scores,counts)])/sum(counts)\n",
    "\n",
    "#     scoreDiffs = [(score - weightedMean)**2 for score in scores]\n",
    "\n",
    "#     V1 = sum(counts)\n",
    "#     V2 = sum([count**2 for count in counts])\n",
    "    \n",
    "#     try:\n",
    "#         var = (V1/(V1**2-V2)) * sum([a*b for a,b in zip(counts,scoreDiffs)])\n",
    "#     except:\n",
    "#         var = None\n",
    "#     return var\n"
   ]
  },
  {
   "cell_type": "code",
   "execution_count": 14,
   "metadata": {},
   "outputs": [],
   "source": [
    "def varWeighted(scores, counts):\n",
    "    if (len(counts)<2):\n",
    "        return None\n",
    "    else:\n",
    "        weightedMean = sum([a*b for a,b in zip(scores,counts)])/sum(counts)\n",
    "        scoreDiffs = [(score - weightedMean)**2 for score in scores]\n",
    "        V1 = sum(counts)\n",
    "        V2 = sum([count**2 for count in counts])\n",
    "        var = (V1/(V1**2-V2)) * sum([a*b for a,b in zip(counts,scoreDiffs)])\n",
    "        return var"
   ]
  },
  {
   "cell_type": "code",
   "execution_count": 15,
   "metadata": {},
   "outputs": [
    {
     "ename": "NetworkXError",
     "evalue": "The node rnbqkb1r/pppppppp/5n2/8/3P4/8/PPP1PPPP/RNBQKBNR w KQkq - 1 2 is not in the digraph.",
     "output_type": "error",
     "traceback": [
      "\u001b[0;31m---------------------------------------------------------------------------\u001b[0m",
      "\u001b[0;31mKeyError\u001b[0m                                  Traceback (most recent call last)",
      "\u001b[0;32m~/opt/anaconda3/lib/python3.7/site-packages/networkx/classes/digraph.py\u001b[0m in \u001b[0;36msuccessors\u001b[0;34m(self, n)\u001b[0m\n\u001b[1;32m    808\u001b[0m         \u001b[0;32mtry\u001b[0m\u001b[0;34m:\u001b[0m\u001b[0;34m\u001b[0m\u001b[0;34m\u001b[0m\u001b[0m\n\u001b[0;32m--> 809\u001b[0;31m             \u001b[0;32mreturn\u001b[0m \u001b[0miter\u001b[0m\u001b[0;34m(\u001b[0m\u001b[0mself\u001b[0m\u001b[0;34m.\u001b[0m\u001b[0m_succ\u001b[0m\u001b[0;34m[\u001b[0m\u001b[0mn\u001b[0m\u001b[0;34m]\u001b[0m\u001b[0;34m)\u001b[0m\u001b[0;34m\u001b[0m\u001b[0;34m\u001b[0m\u001b[0m\n\u001b[0m\u001b[1;32m    810\u001b[0m         \u001b[0;32mexcept\u001b[0m \u001b[0mKeyError\u001b[0m\u001b[0;34m:\u001b[0m\u001b[0;34m\u001b[0m\u001b[0;34m\u001b[0m\u001b[0m\n",
      "\u001b[0;31mKeyError\u001b[0m: 'rnbqkb1r/pppppppp/5n2/8/3P4/8/PPP1PPPP/RNBQKBNR w KQkq - 1 2'",
      "\nDuring handling of the above exception, another exception occurred:\n",
      "\u001b[0;31mNetworkXError\u001b[0m                             Traceback (most recent call last)",
      "\u001b[0;32m<ipython-input-15-712f4764d838>\u001b[0m in \u001b[0;36m<module>\u001b[0;34m\u001b[0m\n\u001b[1;32m      7\u001b[0m \u001b[0mscores\u001b[0m \u001b[0;34m=\u001b[0m \u001b[0;34m[\u001b[0m\u001b[0;34m]\u001b[0m\u001b[0;34m\u001b[0m\u001b[0;34m\u001b[0m\u001b[0m\n\u001b[1;32m      8\u001b[0m \u001b[0mcounts\u001b[0m \u001b[0;34m=\u001b[0m \u001b[0;34m[\u001b[0m\u001b[0;34m]\u001b[0m\u001b[0;34m\u001b[0m\u001b[0;34m\u001b[0m\u001b[0m\n\u001b[0;32m----> 9\u001b[0;31m \u001b[0;32mfor\u001b[0m \u001b[0mneighbor\u001b[0m \u001b[0;32min\u001b[0m \u001b[0mlist\u001b[0m\u001b[0;34m(\u001b[0m\u001b[0mg\u001b[0m\u001b[0;34m.\u001b[0m\u001b[0mneighbors\u001b[0m\u001b[0;34m(\u001b[0m\u001b[0mcurrFen\u001b[0m\u001b[0;34m)\u001b[0m\u001b[0;34m)\u001b[0m\u001b[0;34m:\u001b[0m\u001b[0;34m\u001b[0m\u001b[0;34m\u001b[0m\u001b[0m\n\u001b[0m\u001b[1;32m     10\u001b[0m     \u001b[0mscores\u001b[0m\u001b[0;34m.\u001b[0m\u001b[0mappend\u001b[0m\u001b[0;34m(\u001b[0m\u001b[0mnx\u001b[0m\u001b[0;34m.\u001b[0m\u001b[0mget_node_attributes\u001b[0m\u001b[0;34m(\u001b[0m\u001b[0mg\u001b[0m\u001b[0;34m,\u001b[0m \u001b[0;34m'score'\u001b[0m\u001b[0;34m)\u001b[0m\u001b[0;34m[\u001b[0m\u001b[0mneighbor\u001b[0m\u001b[0;34m]\u001b[0m\u001b[0;34m)\u001b[0m\u001b[0;34m\u001b[0m\u001b[0;34m\u001b[0m\u001b[0m\n\u001b[1;32m     11\u001b[0m     \u001b[0mcounts\u001b[0m\u001b[0;34m.\u001b[0m\u001b[0mappend\u001b[0m\u001b[0;34m(\u001b[0m\u001b[0mnx\u001b[0m\u001b[0;34m.\u001b[0m\u001b[0mget_node_attributes\u001b[0m\u001b[0;34m(\u001b[0m\u001b[0mg\u001b[0m\u001b[0;34m,\u001b[0m \u001b[0;34m'count'\u001b[0m\u001b[0;34m)\u001b[0m\u001b[0;34m[\u001b[0m\u001b[0mneighbor\u001b[0m\u001b[0;34m]\u001b[0m\u001b[0;34m)\u001b[0m\u001b[0;34m\u001b[0m\u001b[0;34m\u001b[0m\u001b[0m\n",
      "\u001b[0;32m~/opt/anaconda3/lib/python3.7/site-packages/networkx/classes/digraph.py\u001b[0m in \u001b[0;36msuccessors\u001b[0;34m(self, n)\u001b[0m\n\u001b[1;32m    809\u001b[0m             \u001b[0;32mreturn\u001b[0m \u001b[0miter\u001b[0m\u001b[0;34m(\u001b[0m\u001b[0mself\u001b[0m\u001b[0;34m.\u001b[0m\u001b[0m_succ\u001b[0m\u001b[0;34m[\u001b[0m\u001b[0mn\u001b[0m\u001b[0;34m]\u001b[0m\u001b[0;34m)\u001b[0m\u001b[0;34m\u001b[0m\u001b[0;34m\u001b[0m\u001b[0m\n\u001b[1;32m    810\u001b[0m         \u001b[0;32mexcept\u001b[0m \u001b[0mKeyError\u001b[0m\u001b[0;34m:\u001b[0m\u001b[0;34m\u001b[0m\u001b[0;34m\u001b[0m\u001b[0m\n\u001b[0;32m--> 811\u001b[0;31m             \u001b[0;32mraise\u001b[0m \u001b[0mNetworkXError\u001b[0m\u001b[0;34m(\u001b[0m\u001b[0;34m\"The node %s is not in the digraph.\"\u001b[0m \u001b[0;34m%\u001b[0m \u001b[0;34m(\u001b[0m\u001b[0mn\u001b[0m\u001b[0;34m,\u001b[0m\u001b[0;34m)\u001b[0m\u001b[0;34m)\u001b[0m\u001b[0;34m\u001b[0m\u001b[0;34m\u001b[0m\u001b[0m\n\u001b[0m\u001b[1;32m    812\u001b[0m \u001b[0;34m\u001b[0m\u001b[0m\n\u001b[1;32m    813\u001b[0m     \u001b[0;31m# digraph definitions\u001b[0m\u001b[0;34m\u001b[0m\u001b[0;34m\u001b[0m\u001b[0;34m\u001b[0m\u001b[0m\n",
      "\u001b[0;31mNetworkXError\u001b[0m: The node rnbqkb1r/pppppppp/5n2/8/3P4/8/PPP1PPPP/RNBQKBNR w KQkq - 1 2 is not in the digraph."
     ]
    }
   ],
   "source": [
    "start = timeit.default_timer()\n",
    "\n",
    "board = chess.Board()\n",
    "board.push_san('d4') #push the move to the board\n",
    "board.push_san('Nf6') #push the move to the board\n",
    "currFen = board.fen()\n",
    "scores = []\n",
    "counts = []\n",
    "for neighbor in list(g.neighbors(currFen)):\n",
    "    scores.append(nx.get_node_attributes(g, 'score')[neighbor])\n",
    "    counts.append(nx.get_node_attributes(g, 'count')[neighbor])\n",
    "    \n",
    "print(\"var:\",varWeighted(scores, counts))\n",
    "\n",
    "stop = timeit.default_timer()\n",
    "print('Time: ', stop - start) "
   ]
  },
  {
   "cell_type": "code",
   "execution_count": 21,
   "metadata": {},
   "outputs": [
    {
     "ename": "NetworkXError",
     "evalue": "The node rnbqkbnr/pp1ppppp/8/2p5/4P3/8/PPPP1PPP/RNBQKBNR w KQkq - 0 2 is not in the digraph.",
     "output_type": "error",
     "traceback": [
      "\u001b[0;31m---------------------------------------------------------------------------\u001b[0m",
      "\u001b[0;31mKeyError\u001b[0m                                  Traceback (most recent call last)",
      "\u001b[0;32m~/opt/anaconda3/lib/python3.7/site-packages/networkx/classes/digraph.py\u001b[0m in \u001b[0;36msuccessors\u001b[0;34m(self, n)\u001b[0m\n\u001b[1;32m    808\u001b[0m         \u001b[0;32mtry\u001b[0m\u001b[0;34m:\u001b[0m\u001b[0;34m\u001b[0m\u001b[0;34m\u001b[0m\u001b[0m\n\u001b[0;32m--> 809\u001b[0;31m             \u001b[0;32mreturn\u001b[0m \u001b[0miter\u001b[0m\u001b[0;34m(\u001b[0m\u001b[0mself\u001b[0m\u001b[0;34m.\u001b[0m\u001b[0m_succ\u001b[0m\u001b[0;34m[\u001b[0m\u001b[0mn\u001b[0m\u001b[0;34m]\u001b[0m\u001b[0;34m)\u001b[0m\u001b[0;34m\u001b[0m\u001b[0;34m\u001b[0m\u001b[0m\n\u001b[0m\u001b[1;32m    810\u001b[0m         \u001b[0;32mexcept\u001b[0m \u001b[0mKeyError\u001b[0m\u001b[0;34m:\u001b[0m\u001b[0;34m\u001b[0m\u001b[0;34m\u001b[0m\u001b[0m\n",
      "\u001b[0;31mKeyError\u001b[0m: 'rnbqkbnr/pp1ppppp/8/2p5/4P3/8/PPPP1PPP/RNBQKBNR w KQkq - 0 2'",
      "\nDuring handling of the above exception, another exception occurred:\n",
      "\u001b[0;31mNetworkXError\u001b[0m                             Traceback (most recent call last)",
      "\u001b[0;32m<ipython-input-21-d76b40a785bd>\u001b[0m in \u001b[0;36m<module>\u001b[0;34m\u001b[0m\n\u001b[1;32m     19\u001b[0m     \u001b[0mscores\u001b[0m \u001b[0;34m=\u001b[0m \u001b[0;34m[\u001b[0m\u001b[0;34m]\u001b[0m\u001b[0;34m\u001b[0m\u001b[0;34m\u001b[0m\u001b[0m\n\u001b[1;32m     20\u001b[0m     \u001b[0mcounts\u001b[0m \u001b[0;34m=\u001b[0m \u001b[0;34m[\u001b[0m\u001b[0;34m]\u001b[0m\u001b[0;34m\u001b[0m\u001b[0;34m\u001b[0m\u001b[0m\n\u001b[0;32m---> 21\u001b[0;31m     \u001b[0;32mfor\u001b[0m \u001b[0mneighbor\u001b[0m \u001b[0;32min\u001b[0m \u001b[0mlist\u001b[0m\u001b[0;34m(\u001b[0m\u001b[0mg\u001b[0m\u001b[0;34m.\u001b[0m\u001b[0mneighbors\u001b[0m\u001b[0;34m(\u001b[0m\u001b[0mcurrFen\u001b[0m\u001b[0;34m)\u001b[0m\u001b[0;34m)\u001b[0m\u001b[0;34m:\u001b[0m\u001b[0;34m\u001b[0m\u001b[0;34m\u001b[0m\u001b[0m\n\u001b[0m\u001b[1;32m     22\u001b[0m         \u001b[0mscores\u001b[0m\u001b[0;34m.\u001b[0m\u001b[0mappend\u001b[0m\u001b[0;34m(\u001b[0m\u001b[0mnx\u001b[0m\u001b[0;34m.\u001b[0m\u001b[0mget_node_attributes\u001b[0m\u001b[0;34m(\u001b[0m\u001b[0mg\u001b[0m\u001b[0;34m,\u001b[0m \u001b[0;34m'score'\u001b[0m\u001b[0;34m)\u001b[0m\u001b[0;34m[\u001b[0m\u001b[0mneighbor\u001b[0m\u001b[0;34m]\u001b[0m\u001b[0;34m)\u001b[0m\u001b[0;34m\u001b[0m\u001b[0;34m\u001b[0m\u001b[0m\n\u001b[1;32m     23\u001b[0m         \u001b[0mcounts\u001b[0m\u001b[0;34m.\u001b[0m\u001b[0mappend\u001b[0m\u001b[0;34m(\u001b[0m\u001b[0mnx\u001b[0m\u001b[0;34m.\u001b[0m\u001b[0mget_node_attributes\u001b[0m\u001b[0;34m(\u001b[0m\u001b[0mg\u001b[0m\u001b[0;34m,\u001b[0m \u001b[0;34m'count'\u001b[0m\u001b[0;34m)\u001b[0m\u001b[0;34m[\u001b[0m\u001b[0mneighbor\u001b[0m\u001b[0;34m]\u001b[0m\u001b[0;34m)\u001b[0m\u001b[0;34m\u001b[0m\u001b[0;34m\u001b[0m\u001b[0m\n",
      "\u001b[0;32m~/opt/anaconda3/lib/python3.7/site-packages/networkx/classes/digraph.py\u001b[0m in \u001b[0;36msuccessors\u001b[0;34m(self, n)\u001b[0m\n\u001b[1;32m    809\u001b[0m             \u001b[0;32mreturn\u001b[0m \u001b[0miter\u001b[0m\u001b[0;34m(\u001b[0m\u001b[0mself\u001b[0m\u001b[0;34m.\u001b[0m\u001b[0m_succ\u001b[0m\u001b[0;34m[\u001b[0m\u001b[0mn\u001b[0m\u001b[0;34m]\u001b[0m\u001b[0;34m)\u001b[0m\u001b[0;34m\u001b[0m\u001b[0;34m\u001b[0m\u001b[0m\n\u001b[1;32m    810\u001b[0m         \u001b[0;32mexcept\u001b[0m \u001b[0mKeyError\u001b[0m\u001b[0;34m:\u001b[0m\u001b[0;34m\u001b[0m\u001b[0;34m\u001b[0m\u001b[0m\n\u001b[0;32m--> 811\u001b[0;31m             \u001b[0;32mraise\u001b[0m \u001b[0mNetworkXError\u001b[0m\u001b[0;34m(\u001b[0m\u001b[0;34m\"The node %s is not in the digraph.\"\u001b[0m \u001b[0;34m%\u001b[0m \u001b[0;34m(\u001b[0m\u001b[0mn\u001b[0m\u001b[0;34m,\u001b[0m\u001b[0;34m)\u001b[0m\u001b[0;34m)\u001b[0m\u001b[0;34m\u001b[0m\u001b[0;34m\u001b[0m\u001b[0m\n\u001b[0m\u001b[1;32m    812\u001b[0m \u001b[0;34m\u001b[0m\u001b[0m\n\u001b[1;32m    813\u001b[0m     \u001b[0;31m# digraph definitions\u001b[0m\u001b[0;34m\u001b[0m\u001b[0;34m\u001b[0m\u001b[0;34m\u001b[0m\u001b[0m\n",
      "\u001b[0;31mNetworkXError\u001b[0m: The node rnbqkbnr/pp1ppppp/8/2p5/4P3/8/PPPP1PPP/RNBQKBNR w KQkq - 0 2 is not in the digraph."
     ]
    }
   ],
   "source": [
    "root = ['e4', 'c5']\n",
    "safe = ['e4', 'c5', 'c3']\n",
    "risky = ['e4', 'c5', 'd4']\n",
    "\n",
    "root2 = ['e4', 'e6', 'd4', 'd5']\n",
    "popular2 = ['e4', 'e6', 'd4', 'd5', 'Nc3']\n",
    "popular21 = ['e4', 'e6', 'd4', 'd5', 'Nd2']\n",
    "safe2 = ['e4', 'e6', 'd4', 'd5', 'exd5']\n",
    "risky2 = ['e4', 'e6', 'd4', 'd5', 'e5']\n",
    "\n",
    "Ruy = ['e4', 'e5','Nf3', 'Nc6','Bb5']\n",
    "Vienna = ['e4' ,'e5','d4','exd4','c3']\n",
    "games = [root,safe,risky,root2,popular2, popular21,safe2,risky2, Ruy, Vienna]\n",
    "for game in games:\n",
    "    board = chess.Board()\n",
    "    for move in game:\n",
    "        board.push_san(move)\n",
    "    currFen = board.fen()\n",
    "    scores = []\n",
    "    counts = []\n",
    "    for neighbor in list(g.neighbors(currFen)):\n",
    "        scores.append(nx.get_node_attributes(g, 'score')[neighbor])\n",
    "        counts.append(nx.get_node_attributes(g, 'count')[neighbor])\n",
    "\n",
    "    print('Var {}:'.format(game), varWeighted(scores,counts), \", total Games:\", sum(counts), ', TIE%:', nx.get_node_attributes(g, 'tie')[currFen]/sum(counts)*100)"
   ]
  },
  {
   "cell_type": "code",
   "execution_count": 32,
   "metadata": {},
   "outputs": [
    {
     "name": "stdout",
     "output_type": "stream",
     "text": [
      "['e4', 'c5'] Score: 52\n",
      "['e4', 'c5', 'c3'] Score: -13\n",
      "['e4', 'c5', 'd4'] Score: 74\n",
      "['e4', 'e6', 'd4', 'd5'] Score: 61\n",
      "['e4', 'e6', 'd4', 'd5', 'Nc3'] Score: 52\n",
      "['e4', 'e6', 'd4', 'd5', 'Nd2'] Score: 45\n",
      "['e4', 'e6', 'd4', 'd5', 'exd5'] Score: 64\n",
      "['e4', 'e6', 'd4', 'd5', 'e5'] Score: 43\n",
      "['e4', 'e5', 'Nf3', 'Nc6', 'Bb5'] Score: -16\n",
      "['e4', 'e5', 'd4', 'exd4', 'c3'] Score: -26\n"
     ]
    }
   ],
   "source": [
    "root = ['e4', 'c5']\n",
    "safe = ['e4', 'c5', 'c3']\n",
    "risky = ['e4', 'c5', 'd4']\n",
    "\n",
    "root2 = ['e4', 'e6', 'd4', 'd5']\n",
    "popular2 = ['e4', 'e6', 'd4', 'd5', 'Nc3']\n",
    "popular21 = ['e4', 'e6', 'd4', 'd5', 'Nd2']\n",
    "safe2 = ['e4', 'e6', 'd4', 'd5', 'exd5']\n",
    "risky2 = ['e4', 'e6', 'd4', 'd5', 'e5']\n",
    "\n",
    "Ruy = ['e4', 'e5','Nf3', 'Nc6','Bb5']\n",
    "Vienna = ['e4' ,'e5','d4','exd4','c3']\n",
    "games = [root,safe,risky,root2,popular2, popular21,safe2,risky2, Ruy, Vienna]\n",
    "\n",
    "\n",
    "for game in games:\n",
    "    board = chess.Board()\n",
    "    for move in game:\n",
    "        board.push_san(move)\n",
    "    currFen = board.fen()\n",
    "    stockfish.set_fen_position(currFen)\n",
    "    info = stockfish.get_evaluation()['value']\n",
    "\n",
    "    print(game,\"Score:\", info)"
   ]
  },
  {
   "cell_type": "code",
   "execution_count": 19,
   "metadata": {
    "collapsed": true
   },
   "outputs": [
    {
     "ename": "AttributeError",
     "evalue": "type object 'NoneType' has no attribute 'uci_variant'",
     "output_type": "error",
     "traceback": [
      "\u001b[0;31m---------------------------------------------------------------------------\u001b[0m",
      "\u001b[0;31mAttributeError\u001b[0m                            Traceback (most recent call last)",
      "\u001b[0;32m<ipython-input-19-edc503b62ab5>\u001b[0m in \u001b[0;36m<module>\u001b[0;34m\u001b[0m\n\u001b[1;32m      1\u001b[0m \u001b[0mpos\u001b[0m \u001b[0;34m=\u001b[0m \u001b[0mstockfish\u001b[0m\u001b[0;34m.\u001b[0m\u001b[0mset_fen_position\u001b[0m\u001b[0;34m(\u001b[0m\u001b[0;34m\"rnbqkbnr/pp1ppppp/8/2p5/4P3/8/PPPP1PPP/RNBQKBNR w KQkq - 0 2\"\u001b[0m\u001b[0;34m)\u001b[0m\u001b[0;34m\u001b[0m\u001b[0;34m\u001b[0m\u001b[0m\n\u001b[0;32m----> 2\u001b[0;31m \u001b[0mout\u001b[0m \u001b[0;34m=\u001b[0m \u001b[0mengine\u001b[0m\u001b[0;34m.\u001b[0m\u001b[0manalyse\u001b[0m\u001b[0;34m(\u001b[0m\u001b[0mpos\u001b[0m\u001b[0;34m,\u001b[0m\u001b[0mchess\u001b[0m\u001b[0;34m.\u001b[0m\u001b[0mengine\u001b[0m\u001b[0;34m.\u001b[0m\u001b[0mLimit\u001b[0m\u001b[0;34m(\u001b[0m\u001b[0mtime\u001b[0m\u001b[0;34m=\u001b[0m\u001b[0;36m0.1\u001b[0m\u001b[0;34m)\u001b[0m\u001b[0;34m)\u001b[0m\u001b[0;34m\u001b[0m\u001b[0;34m\u001b[0m\u001b[0m\n\u001b[0m\u001b[1;32m      3\u001b[0m \u001b[0mprint\u001b[0m\u001b[0;34m(\u001b[0m\u001b[0mout\u001b[0m\u001b[0;34m[\u001b[0m\u001b[0;34m\"score\"\u001b[0m\u001b[0;34m]\u001b[0m\u001b[0;34m)\u001b[0m\u001b[0;34m\u001b[0m\u001b[0;34m\u001b[0m\u001b[0m\n",
      "\u001b[0;32m~/opt/anaconda3/lib/python3.7/site-packages/chess/engine.py\u001b[0m in \u001b[0;36manalyse\u001b[0;34m(self, board, limit, multipv, game, info, root_moves, options)\u001b[0m\n\u001b[1;32m   2386\u001b[0m                 self._timeout_for(limit))\n\u001b[1;32m   2387\u001b[0m             \u001b[0mfuture\u001b[0m \u001b[0;34m=\u001b[0m \u001b[0masyncio\u001b[0m\u001b[0;34m.\u001b[0m\u001b[0mrun_coroutine_threadsafe\u001b[0m\u001b[0;34m(\u001b[0m\u001b[0mcoro\u001b[0m\u001b[0;34m,\u001b[0m \u001b[0mself\u001b[0m\u001b[0;34m.\u001b[0m\u001b[0mprotocol\u001b[0m\u001b[0;34m.\u001b[0m\u001b[0mloop\u001b[0m\u001b[0;34m)\u001b[0m\u001b[0;34m\u001b[0m\u001b[0;34m\u001b[0m\u001b[0m\n\u001b[0;32m-> 2388\u001b[0;31m         \u001b[0;32mreturn\u001b[0m \u001b[0mfuture\u001b[0m\u001b[0;34m.\u001b[0m\u001b[0mresult\u001b[0m\u001b[0;34m(\u001b[0m\u001b[0;34m)\u001b[0m\u001b[0;34m\u001b[0m\u001b[0;34m\u001b[0m\u001b[0m\n\u001b[0m\u001b[1;32m   2389\u001b[0m \u001b[0;34m\u001b[0m\u001b[0m\n\u001b[1;32m   2390\u001b[0m     \u001b[0;32mdef\u001b[0m \u001b[0manalysis\u001b[0m\u001b[0;34m(\u001b[0m\u001b[0mself\u001b[0m\u001b[0;34m,\u001b[0m \u001b[0mboard\u001b[0m\u001b[0;34m:\u001b[0m \u001b[0mchess\u001b[0m\u001b[0;34m.\u001b[0m\u001b[0mBoard\u001b[0m\u001b[0;34m,\u001b[0m \u001b[0mlimit\u001b[0m\u001b[0;34m:\u001b[0m \u001b[0mOptional\u001b[0m\u001b[0;34m[\u001b[0m\u001b[0mLimit\u001b[0m\u001b[0;34m]\u001b[0m \u001b[0;34m=\u001b[0m \u001b[0;32mNone\u001b[0m\u001b[0;34m,\u001b[0m \u001b[0;34m*\u001b[0m\u001b[0;34m,\u001b[0m \u001b[0mmultipv\u001b[0m\u001b[0;34m:\u001b[0m \u001b[0mOptional\u001b[0m\u001b[0;34m[\u001b[0m\u001b[0mint\u001b[0m\u001b[0;34m]\u001b[0m \u001b[0;34m=\u001b[0m \u001b[0;32mNone\u001b[0m\u001b[0;34m,\u001b[0m \u001b[0mgame\u001b[0m\u001b[0;34m:\u001b[0m \u001b[0mobject\u001b[0m \u001b[0;34m=\u001b[0m \u001b[0;32mNone\u001b[0m\u001b[0;34m,\u001b[0m \u001b[0minfo\u001b[0m\u001b[0;34m:\u001b[0m \u001b[0mInfo\u001b[0m \u001b[0;34m=\u001b[0m \u001b[0mINFO_ALL\u001b[0m\u001b[0;34m,\u001b[0m \u001b[0mroot_moves\u001b[0m\u001b[0;34m:\u001b[0m \u001b[0mOptional\u001b[0m\u001b[0;34m[\u001b[0m\u001b[0mIterable\u001b[0m\u001b[0;34m[\u001b[0m\u001b[0mchess\u001b[0m\u001b[0;34m.\u001b[0m\u001b[0mMove\u001b[0m\u001b[0;34m]\u001b[0m\u001b[0;34m]\u001b[0m \u001b[0;34m=\u001b[0m \u001b[0;32mNone\u001b[0m\u001b[0;34m,\u001b[0m \u001b[0moptions\u001b[0m\u001b[0;34m:\u001b[0m \u001b[0mConfigMapping\u001b[0m \u001b[0;34m=\u001b[0m \u001b[0;34m{\u001b[0m\u001b[0;34m}\u001b[0m\u001b[0;34m)\u001b[0m \u001b[0;34m->\u001b[0m \u001b[0;34m\"SimpleAnalysisResult\"\u001b[0m\u001b[0;34m:\u001b[0m\u001b[0;34m\u001b[0m\u001b[0;34m\u001b[0m\u001b[0m\n",
      "\u001b[0;32m~/opt/anaconda3/lib/python3.7/concurrent/futures/_base.py\u001b[0m in \u001b[0;36mresult\u001b[0;34m(self, timeout)\u001b[0m\n\u001b[1;32m    433\u001b[0m                 \u001b[0;32mraise\u001b[0m \u001b[0mCancelledError\u001b[0m\u001b[0;34m(\u001b[0m\u001b[0;34m)\u001b[0m\u001b[0;34m\u001b[0m\u001b[0;34m\u001b[0m\u001b[0m\n\u001b[1;32m    434\u001b[0m             \u001b[0;32melif\u001b[0m \u001b[0mself\u001b[0m\u001b[0;34m.\u001b[0m\u001b[0m_state\u001b[0m \u001b[0;34m==\u001b[0m \u001b[0mFINISHED\u001b[0m\u001b[0;34m:\u001b[0m\u001b[0;34m\u001b[0m\u001b[0;34m\u001b[0m\u001b[0m\n\u001b[0;32m--> 435\u001b[0;31m                 \u001b[0;32mreturn\u001b[0m \u001b[0mself\u001b[0m\u001b[0;34m.\u001b[0m\u001b[0m__get_result\u001b[0m\u001b[0;34m(\u001b[0m\u001b[0;34m)\u001b[0m\u001b[0;34m\u001b[0m\u001b[0;34m\u001b[0m\u001b[0m\n\u001b[0m\u001b[1;32m    436\u001b[0m             \u001b[0;32melse\u001b[0m\u001b[0;34m:\u001b[0m\u001b[0;34m\u001b[0m\u001b[0;34m\u001b[0m\u001b[0m\n\u001b[1;32m    437\u001b[0m                 \u001b[0;32mraise\u001b[0m \u001b[0mTimeoutError\u001b[0m\u001b[0;34m(\u001b[0m\u001b[0;34m)\u001b[0m\u001b[0;34m\u001b[0m\u001b[0;34m\u001b[0m\u001b[0m\n",
      "\u001b[0;32m~/opt/anaconda3/lib/python3.7/concurrent/futures/_base.py\u001b[0m in \u001b[0;36m__get_result\u001b[0;34m(self)\u001b[0m\n\u001b[1;32m    382\u001b[0m     \u001b[0;32mdef\u001b[0m \u001b[0m__get_result\u001b[0m\u001b[0;34m(\u001b[0m\u001b[0mself\u001b[0m\u001b[0;34m)\u001b[0m\u001b[0;34m:\u001b[0m\u001b[0;34m\u001b[0m\u001b[0;34m\u001b[0m\u001b[0m\n\u001b[1;32m    383\u001b[0m         \u001b[0;32mif\u001b[0m \u001b[0mself\u001b[0m\u001b[0;34m.\u001b[0m\u001b[0m_exception\u001b[0m\u001b[0;34m:\u001b[0m\u001b[0;34m\u001b[0m\u001b[0;34m\u001b[0m\u001b[0m\n\u001b[0;32m--> 384\u001b[0;31m             \u001b[0;32mraise\u001b[0m \u001b[0mself\u001b[0m\u001b[0;34m.\u001b[0m\u001b[0m_exception\u001b[0m\u001b[0;34m\u001b[0m\u001b[0;34m\u001b[0m\u001b[0m\n\u001b[0m\u001b[1;32m    385\u001b[0m         \u001b[0;32melse\u001b[0m\u001b[0;34m:\u001b[0m\u001b[0;34m\u001b[0m\u001b[0;34m\u001b[0m\u001b[0m\n\u001b[1;32m    386\u001b[0m             \u001b[0;32mreturn\u001b[0m \u001b[0mself\u001b[0m\u001b[0;34m.\u001b[0m\u001b[0m_result\u001b[0m\u001b[0;34m\u001b[0m\u001b[0;34m\u001b[0m\u001b[0m\n",
      "\u001b[0;32m~/opt/anaconda3/lib/python3.7/asyncio/tasks.py\u001b[0m in \u001b[0;36mwait_for\u001b[0;34m(fut, timeout, loop)\u001b[0m\n\u001b[1;32m    440\u001b[0m \u001b[0;34m\u001b[0m\u001b[0m\n\u001b[1;32m    441\u001b[0m         \u001b[0;32mif\u001b[0m \u001b[0mfut\u001b[0m\u001b[0;34m.\u001b[0m\u001b[0mdone\u001b[0m\u001b[0;34m(\u001b[0m\u001b[0;34m)\u001b[0m\u001b[0;34m:\u001b[0m\u001b[0;34m\u001b[0m\u001b[0;34m\u001b[0m\u001b[0m\n\u001b[0;32m--> 442\u001b[0;31m             \u001b[0;32mreturn\u001b[0m \u001b[0mfut\u001b[0m\u001b[0;34m.\u001b[0m\u001b[0mresult\u001b[0m\u001b[0;34m(\u001b[0m\u001b[0;34m)\u001b[0m\u001b[0;34m\u001b[0m\u001b[0;34m\u001b[0m\u001b[0m\n\u001b[0m\u001b[1;32m    443\u001b[0m         \u001b[0;32melse\u001b[0m\u001b[0;34m:\u001b[0m\u001b[0;34m\u001b[0m\u001b[0;34m\u001b[0m\u001b[0m\n\u001b[1;32m    444\u001b[0m             \u001b[0mfut\u001b[0m\u001b[0;34m.\u001b[0m\u001b[0mremove_done_callback\u001b[0m\u001b[0;34m(\u001b[0m\u001b[0mcb\u001b[0m\u001b[0;34m)\u001b[0m\u001b[0;34m\u001b[0m\u001b[0;34m\u001b[0m\u001b[0m\n",
      "\u001b[0;32m~/opt/anaconda3/lib/python3.7/site-packages/chess/engine.py\u001b[0m in \u001b[0;36manalyse\u001b[0;34m(self, board, limit, multipv, game, info, root_moves, options)\u001b[0m\n\u001b[1;32m    853\u001b[0m             \u001b[0;32mwith\u001b[0m \u001b[0;34m:\u001b[0m\u001b[0mfunc\u001b[0m\u001b[0;34m:\u001b[0m\u001b[0;31m`\u001b[0m\u001b[0;34m~\u001b[0m\u001b[0mchess\u001b[0m\u001b[0;34m.\u001b[0m\u001b[0mengine\u001b[0m\u001b[0;34m.\u001b[0m\u001b[0mEngineProtocol\u001b[0m\u001b[0;34m.\u001b[0m\u001b[0mconfigure\u001b[0m\u001b[0;34m(\u001b[0m\u001b[0;34m)\u001b[0m\u001b[0;31m`\u001b[0m\u001b[0;34m.\u001b[0m\u001b[0;34m\u001b[0m\u001b[0;34m\u001b[0m\u001b[0m\n\u001b[1;32m    854\u001b[0m         \"\"\"\n\u001b[0;32m--> 855\u001b[0;31m         \u001b[0manalysis\u001b[0m \u001b[0;34m=\u001b[0m \u001b[0;32mawait\u001b[0m \u001b[0mself\u001b[0m\u001b[0;34m.\u001b[0m\u001b[0manalysis\u001b[0m\u001b[0;34m(\u001b[0m\u001b[0mboard\u001b[0m\u001b[0;34m,\u001b[0m \u001b[0mlimit\u001b[0m\u001b[0;34m,\u001b[0m \u001b[0mmultipv\u001b[0m\u001b[0;34m=\u001b[0m\u001b[0mmultipv\u001b[0m\u001b[0;34m,\u001b[0m \u001b[0mgame\u001b[0m\u001b[0;34m=\u001b[0m\u001b[0mgame\u001b[0m\u001b[0;34m,\u001b[0m \u001b[0minfo\u001b[0m\u001b[0;34m=\u001b[0m\u001b[0minfo\u001b[0m\u001b[0;34m,\u001b[0m \u001b[0mroot_moves\u001b[0m\u001b[0;34m=\u001b[0m\u001b[0mroot_moves\u001b[0m\u001b[0;34m,\u001b[0m \u001b[0moptions\u001b[0m\u001b[0;34m=\u001b[0m\u001b[0moptions\u001b[0m\u001b[0;34m)\u001b[0m\u001b[0;34m\u001b[0m\u001b[0;34m\u001b[0m\u001b[0m\n\u001b[0m\u001b[1;32m    856\u001b[0m \u001b[0;34m\u001b[0m\u001b[0m\n\u001b[1;32m    857\u001b[0m         \u001b[0;32mwith\u001b[0m \u001b[0manalysis\u001b[0m\u001b[0;34m:\u001b[0m\u001b[0;34m\u001b[0m\u001b[0;34m\u001b[0m\u001b[0m\n",
      "\u001b[0;32m~/opt/anaconda3/lib/python3.7/site-packages/chess/engine.py\u001b[0m in \u001b[0;36manalysis\u001b[0;34m(self, board, limit, multipv, game, info, root_moves, options)\u001b[0m\n\u001b[1;32m   1368\u001b[0m                 \u001b[0mself\u001b[0m\u001b[0;34m.\u001b[0m\u001b[0manalysis\u001b[0m\u001b[0;34m.\u001b[0m\u001b[0mset_exception\u001b[0m\u001b[0;34m(\u001b[0m\u001b[0mexc\u001b[0m\u001b[0;34m)\u001b[0m\u001b[0;34m\u001b[0m\u001b[0;34m\u001b[0m\u001b[0m\n\u001b[1;32m   1369\u001b[0m \u001b[0;34m\u001b[0m\u001b[0m\n\u001b[0;32m-> 1370\u001b[0;31m         \u001b[0;32mreturn\u001b[0m \u001b[0;32mawait\u001b[0m \u001b[0mself\u001b[0m\u001b[0;34m.\u001b[0m\u001b[0mcommunicate\u001b[0m\u001b[0;34m(\u001b[0m\u001b[0mUciAnalysisCommand\u001b[0m\u001b[0;34m)\u001b[0m\u001b[0;34m\u001b[0m\u001b[0;34m\u001b[0m\u001b[0m\n\u001b[0m\u001b[1;32m   1371\u001b[0m \u001b[0;34m\u001b[0m\u001b[0m\n\u001b[1;32m   1372\u001b[0m     \u001b[0;32masync\u001b[0m \u001b[0;32mdef\u001b[0m \u001b[0mquit\u001b[0m\u001b[0;34m(\u001b[0m\u001b[0mself\u001b[0m\u001b[0;34m)\u001b[0m \u001b[0;34m->\u001b[0m \u001b[0;32mNone\u001b[0m\u001b[0;34m:\u001b[0m\u001b[0;34m\u001b[0m\u001b[0;34m\u001b[0m\u001b[0m\n",
      "\u001b[0;32m~/opt/anaconda3/lib/python3.7/site-packages/chess/engine.py\u001b[0m in \u001b[0;36mcommunicate\u001b[0;34m(self, command_factory)\u001b[0m\n\u001b[1;32m    760\u001b[0m \u001b[0;34m\u001b[0m\u001b[0m\n\u001b[1;32m    761\u001b[0m         \u001b[0;32mif\u001b[0m \u001b[0mself\u001b[0m\u001b[0;34m.\u001b[0m\u001b[0mcommand\u001b[0m \u001b[0;32mis\u001b[0m \u001b[0;32mNone\u001b[0m\u001b[0;34m:\u001b[0m\u001b[0;34m\u001b[0m\u001b[0;34m\u001b[0m\u001b[0m\n\u001b[0;32m--> 762\u001b[0;31m             \u001b[0mprevious_command_finished\u001b[0m\u001b[0;34m(\u001b[0m\u001b[0;32mNone\u001b[0m\u001b[0;34m)\u001b[0m\u001b[0;34m\u001b[0m\u001b[0;34m\u001b[0m\u001b[0m\n\u001b[0m\u001b[1;32m    763\u001b[0m         \u001b[0;32melif\u001b[0m \u001b[0;32mnot\u001b[0m \u001b[0mself\u001b[0m\u001b[0;34m.\u001b[0m\u001b[0mcommand\u001b[0m\u001b[0;34m.\u001b[0m\u001b[0mresult\u001b[0m\u001b[0;34m.\u001b[0m\u001b[0mdone\u001b[0m\u001b[0;34m(\u001b[0m\u001b[0;34m)\u001b[0m\u001b[0;34m:\u001b[0m\u001b[0;34m\u001b[0m\u001b[0;34m\u001b[0m\u001b[0m\n\u001b[1;32m    764\u001b[0m             \u001b[0mself\u001b[0m\u001b[0;34m.\u001b[0m\u001b[0mcommand\u001b[0m\u001b[0;34m.\u001b[0m\u001b[0mresult\u001b[0m\u001b[0;34m.\u001b[0m\u001b[0mcancel\u001b[0m\u001b[0;34m(\u001b[0m\u001b[0;34m)\u001b[0m\u001b[0;34m\u001b[0m\u001b[0;34m\u001b[0m\u001b[0m\n",
      "\u001b[0;32m~/opt/anaconda3/lib/python3.7/site-packages/chess/engine.py\u001b[0m in \u001b[0;36mprevious_command_finished\u001b[0;34m(_)\u001b[0m\n\u001b[1;32m    757\u001b[0m                 \u001b[0mcmd\u001b[0m\u001b[0;34m.\u001b[0m\u001b[0mresult\u001b[0m\u001b[0;34m.\u001b[0m\u001b[0madd_done_callback\u001b[0m\u001b[0;34m(\u001b[0m\u001b[0mcancel_if_cancelled\u001b[0m\u001b[0;34m)\u001b[0m\u001b[0;34m\u001b[0m\u001b[0;34m\u001b[0m\u001b[0m\n\u001b[1;32m    758\u001b[0m                 \u001b[0mcmd\u001b[0m\u001b[0;34m.\u001b[0m\u001b[0mfinished\u001b[0m\u001b[0;34m.\u001b[0m\u001b[0madd_done_callback\u001b[0m\u001b[0;34m(\u001b[0m\u001b[0mprevious_command_finished\u001b[0m\u001b[0;34m)\u001b[0m\u001b[0;34m\u001b[0m\u001b[0;34m\u001b[0m\u001b[0m\n\u001b[0;32m--> 759\u001b[0;31m                 \u001b[0mcmd\u001b[0m\u001b[0;34m.\u001b[0m\u001b[0m_start\u001b[0m\u001b[0;34m(\u001b[0m\u001b[0mself\u001b[0m\u001b[0;34m)\u001b[0m\u001b[0;34m\u001b[0m\u001b[0;34m\u001b[0m\u001b[0m\n\u001b[0m\u001b[1;32m    760\u001b[0m \u001b[0;34m\u001b[0m\u001b[0m\n\u001b[1;32m    761\u001b[0m         \u001b[0;32mif\u001b[0m \u001b[0mself\u001b[0m\u001b[0;34m.\u001b[0m\u001b[0mcommand\u001b[0m \u001b[0;32mis\u001b[0m \u001b[0;32mNone\u001b[0m\u001b[0;34m:\u001b[0m\u001b[0;34m\u001b[0m\u001b[0;34m\u001b[0m\u001b[0m\n",
      "\u001b[0;32m~/opt/anaconda3/lib/python3.7/site-packages/chess/engine.py\u001b[0m in \u001b[0;36m_start\u001b[0;34m(self, engine)\u001b[0m\n\u001b[1;32m    966\u001b[0m         \u001b[0;32mtry\u001b[0m\u001b[0;34m:\u001b[0m\u001b[0;34m\u001b[0m\u001b[0;34m\u001b[0m\u001b[0m\n\u001b[1;32m    967\u001b[0m             \u001b[0mself\u001b[0m\u001b[0;34m.\u001b[0m\u001b[0mcheck_initialized\u001b[0m\u001b[0;34m(\u001b[0m\u001b[0mengine\u001b[0m\u001b[0;34m)\u001b[0m\u001b[0;34m\u001b[0m\u001b[0;34m\u001b[0m\u001b[0m\n\u001b[0;32m--> 968\u001b[0;31m             \u001b[0mself\u001b[0m\u001b[0;34m.\u001b[0m\u001b[0mstart\u001b[0m\u001b[0;34m(\u001b[0m\u001b[0mengine\u001b[0m\u001b[0;34m)\u001b[0m\u001b[0;34m\u001b[0m\u001b[0;34m\u001b[0m\u001b[0m\n\u001b[0m\u001b[1;32m    969\u001b[0m         \u001b[0;32mexcept\u001b[0m \u001b[0mEngineError\u001b[0m \u001b[0;32mas\u001b[0m \u001b[0merr\u001b[0m\u001b[0;34m:\u001b[0m\u001b[0;34m\u001b[0m\u001b[0;34m\u001b[0m\u001b[0m\n\u001b[1;32m    970\u001b[0m             \u001b[0mself\u001b[0m\u001b[0;34m.\u001b[0m\u001b[0m_handle_exception\u001b[0m\u001b[0;34m(\u001b[0m\u001b[0mengine\u001b[0m\u001b[0;34m,\u001b[0m \u001b[0merr\u001b[0m\u001b[0;34m)\u001b[0m\u001b[0;34m\u001b[0m\u001b[0;34m\u001b[0m\u001b[0m\n",
      "\u001b[0;32m~/opt/anaconda3/lib/python3.7/site-packages/chess/engine.py\u001b[0m in \u001b[0;36mstart\u001b[0;34m(self, engine)\u001b[0m\n\u001b[1;32m   1328\u001b[0m                     \u001b[0mengine\u001b[0m\u001b[0;34m.\u001b[0m\u001b[0m_isready\u001b[0m\u001b[0;34m(\u001b[0m\u001b[0;34m)\u001b[0m\u001b[0;34m\u001b[0m\u001b[0;34m\u001b[0m\u001b[0m\n\u001b[1;32m   1329\u001b[0m                 \u001b[0;32melse\u001b[0m\u001b[0;34m:\u001b[0m\u001b[0;34m\u001b[0m\u001b[0;34m\u001b[0m\u001b[0m\n\u001b[0;32m-> 1330\u001b[0;31m                     \u001b[0mself\u001b[0m\u001b[0;34m.\u001b[0m\u001b[0m_readyok\u001b[0m\u001b[0;34m(\u001b[0m\u001b[0mengine\u001b[0m\u001b[0;34m)\u001b[0m\u001b[0;34m\u001b[0m\u001b[0;34m\u001b[0m\u001b[0m\n\u001b[0m\u001b[1;32m   1331\u001b[0m \u001b[0;34m\u001b[0m\u001b[0m\n\u001b[1;32m   1332\u001b[0m             \u001b[0;32mdef\u001b[0m \u001b[0mline_received\u001b[0m\u001b[0;34m(\u001b[0m\u001b[0mself\u001b[0m\u001b[0;34m,\u001b[0m \u001b[0mengine\u001b[0m\u001b[0;34m:\u001b[0m \u001b[0mUciProtocol\u001b[0m\u001b[0;34m,\u001b[0m \u001b[0mline\u001b[0m\u001b[0;34m:\u001b[0m \u001b[0mstr\u001b[0m\u001b[0;34m)\u001b[0m \u001b[0;34m->\u001b[0m \u001b[0;32mNone\u001b[0m\u001b[0;34m:\u001b[0m\u001b[0;34m\u001b[0m\u001b[0;34m\u001b[0m\u001b[0m\n",
      "\u001b[0;32m~/opt/anaconda3/lib/python3.7/site-packages/chess/engine.py\u001b[0m in \u001b[0;36m_readyok\u001b[0;34m(self, engine)\u001b[0m\n\u001b[1;32m   1342\u001b[0m             \u001b[0;32mdef\u001b[0m \u001b[0m_readyok\u001b[0m\u001b[0;34m(\u001b[0m\u001b[0mself\u001b[0m\u001b[0;34m,\u001b[0m \u001b[0mengine\u001b[0m\u001b[0;34m:\u001b[0m \u001b[0mUciProtocol\u001b[0m\u001b[0;34m)\u001b[0m \u001b[0;34m->\u001b[0m \u001b[0;32mNone\u001b[0m\u001b[0;34m:\u001b[0m\u001b[0;34m\u001b[0m\u001b[0;34m\u001b[0m\u001b[0m\n\u001b[1;32m   1343\u001b[0m                 \u001b[0mself\u001b[0m\u001b[0;34m.\u001b[0m\u001b[0msent_isready\u001b[0m \u001b[0;34m=\u001b[0m \u001b[0;32mFalse\u001b[0m\u001b[0;34m\u001b[0m\u001b[0;34m\u001b[0m\u001b[0m\n\u001b[0;32m-> 1344\u001b[0;31m                 \u001b[0mengine\u001b[0m\u001b[0;34m.\u001b[0m\u001b[0m_position\u001b[0m\u001b[0;34m(\u001b[0m\u001b[0mboard\u001b[0m\u001b[0;34m)\u001b[0m\u001b[0;34m\u001b[0m\u001b[0;34m\u001b[0m\u001b[0m\n\u001b[0m\u001b[1;32m   1345\u001b[0m \u001b[0;34m\u001b[0m\u001b[0m\n\u001b[1;32m   1346\u001b[0m                 \u001b[0;32mif\u001b[0m \u001b[0mlimit\u001b[0m\u001b[0;34m:\u001b[0m\u001b[0;34m\u001b[0m\u001b[0;34m\u001b[0m\u001b[0m\n",
      "\u001b[0;32m~/opt/anaconda3/lib/python3.7/site-packages/chess/engine.py\u001b[0m in \u001b[0;36m_position\u001b[0;34m(self, board)\u001b[0m\n\u001b[1;32m   1169\u001b[0m     \u001b[0;32mdef\u001b[0m \u001b[0m_position\u001b[0m\u001b[0;34m(\u001b[0m\u001b[0mself\u001b[0m\u001b[0;34m,\u001b[0m \u001b[0mboard\u001b[0m\u001b[0;34m:\u001b[0m \u001b[0mchess\u001b[0m\u001b[0;34m.\u001b[0m\u001b[0mBoard\u001b[0m\u001b[0;34m)\u001b[0m \u001b[0;34m->\u001b[0m \u001b[0;32mNone\u001b[0m\u001b[0;34m:\u001b[0m\u001b[0;34m\u001b[0m\u001b[0;34m\u001b[0m\u001b[0m\n\u001b[1;32m   1170\u001b[0m         \u001b[0;31m# Select UCI_Variant and UCI_Chess960.\u001b[0m\u001b[0;34m\u001b[0m\u001b[0;34m\u001b[0m\u001b[0;34m\u001b[0m\u001b[0m\n\u001b[0;32m-> 1171\u001b[0;31m         \u001b[0muci_variant\u001b[0m \u001b[0;34m=\u001b[0m \u001b[0mtype\u001b[0m\u001b[0;34m(\u001b[0m\u001b[0mboard\u001b[0m\u001b[0;34m)\u001b[0m\u001b[0;34m.\u001b[0m\u001b[0muci_variant\u001b[0m\u001b[0;34m\u001b[0m\u001b[0;34m\u001b[0m\u001b[0m\n\u001b[0m\u001b[1;32m   1172\u001b[0m         \u001b[0;32mif\u001b[0m \u001b[0;34m\"UCI_Variant\"\u001b[0m \u001b[0;32min\u001b[0m \u001b[0mself\u001b[0m\u001b[0;34m.\u001b[0m\u001b[0moptions\u001b[0m\u001b[0;34m:\u001b[0m\u001b[0;34m\u001b[0m\u001b[0;34m\u001b[0m\u001b[0m\n\u001b[1;32m   1173\u001b[0m             \u001b[0mself\u001b[0m\u001b[0;34m.\u001b[0m\u001b[0m_setoption\u001b[0m\u001b[0;34m(\u001b[0m\u001b[0;34m\"UCI_Variant\"\u001b[0m\u001b[0;34m,\u001b[0m \u001b[0muci_variant\u001b[0m\u001b[0;34m)\u001b[0m\u001b[0;34m\u001b[0m\u001b[0;34m\u001b[0m\u001b[0m\n",
      "\u001b[0;31mAttributeError\u001b[0m: type object 'NoneType' has no attribute 'uci_variant'"
     ]
    }
   ],
   "source": [
    "pos = stockfish.set_fen_position(\"rnbqkbnr/pp1ppppp/8/2p5/4P3/8/PPPP1PPP/RNBQKBNR w KQkq - 0 2\")\n",
    "out = engine.analyse(pos,chess.engine.Limit(time=0.1))\n",
    "print(out[\"score\"])"
   ]
  },
  {
   "cell_type": "code",
   "execution_count": 18,
   "metadata": {},
   "outputs": [
    {
     "data": {
      "text/plain": [
       "52"
      ]
     },
     "execution_count": 18,
     "metadata": {},
     "output_type": "execute_result"
    }
   ],
   "source": [
    "stockfish.set_fen_position(\"rnbqkbnr/pp1ppppp/8/2p5/4P3/8/PPPP1PPP/RNBQKBNR w KQkq - 0 2\")\n",
    "stockfish.get_evaluation()['value']"
   ]
  },
  {
   "cell_type": "code",
   "execution_count": null,
   "metadata": {},
   "outputs": [],
   "source": [
    "# ###Chess Gambits\n",
    "# Polish Gambit 1. e4 b5\n",
    "# Wing Gambit 1. e4 c5 2. b4\n",
    "# Ware Gambit 1. a4 e5 2. a5 d5 3. e3 f5 4. a6\n",
    "# Birmingham Gambit 1. b4 c5\n",
    "# Schuhler Gambit 1. b4 c6 2. Bb2 a5 3. b5 cxb5 4. e4\n",
    "# Wolferts Gambit 1. b4 e5 2. Bb2 c5\n",
    "# Englund Gambit 1. d4 e5\n",
    "# Budapest Gambit 1. d4 Nf6 2. c4 e5\n",
    "# Benko Gambit 1. d4 Nf6 2. c4 c5 3. d5 b5\n",
    "# Staunton Gambit 1. d4 f5 2. e4\n",
    "# Smith-Morra Gambit 1. e4 c5 2. d4 cxd4 3. c3\n",
    "# Danish Gambit 1. e4 e5 2. d4 exd4 3. c3\n",
    "# Vienna Gambit 1. e4 e5 2. Nc3 Nf6 3. f4\n",
    "# King's Gambit 1. e4 e5 2. f4\n",
    "# Quaade Gambit 1. e4 e5 2. f4 exf4 3. Nf3 g5 4. Nc3\n",
    "# Kieseritsky Gambit 1. e4 e5 2. Nc3 Nf6 3. Bc4 Nxe4 4. Nf3\n",
    "# Rice Gambit 1. e4 e5 2. f4 exf4 3. Nf3 g5 4. h4 g4 5. Ne5 Nf6 6. Bc4 d5 7. exd5 Bd6 8. 0-0\n",
    "# Elephant Gambit 1. e4 e5 2. Nf3 d5\n",
    "# Latvian Gambit 1. e4 e5 2. Nf3 f5\n",
    "# Irish Gambit 1. e4 e5 2. Nf3 Nc6 3. Nxe5?\n",
    "# Halloween Gambit 1. e4 e5 2. Nf3 Nc6 3. Nc3 Nf6 4. Nxe5?!\n",
    "# Blackburne Shilling Gambit 1. e4 e5 2. Nf3 Nc6 3. Bc4 Nd4\n",
    "# Italian Gambit 1. e4 e5 2. Nf3 Nc6 3. Bc4 Bc5 4. d4\n",
    "# Rousseau Gambit 1. e4 e5 2. Nf3 Nc6 3. Bc4 f5\n",
    "# Evans Gambit 1. e4 e5 2. Nf3 Nc6 3. Bc4 Bc5 4. b4\n",
    "# Blackmar–Diemer Gambit 1. d4 d5 2. e4 dxe4 3. Nc3\n",
    "# Queen's Gambit 1. d4 d5 2. c4\n",
    "# Grünfeld Gambit 1. d4 Nf6 2. c4 g6 3. Nc3 d5 4. Bf4 Bg7 5. e3 0-0"
   ]
  }
 ],
 "metadata": {
  "kernelspec": {
   "display_name": "Python 3",
   "language": "python",
   "name": "python3"
  },
  "language_info": {
   "codemirror_mode": {
    "name": "ipython",
    "version": 3
   },
   "file_extension": ".py",
   "mimetype": "text/x-python",
   "name": "python",
   "nbconvert_exporter": "python",
   "pygments_lexer": "ipython3",
   "version": "3.7.6"
  }
 },
 "nbformat": 4,
 "nbformat_minor": 4
}
