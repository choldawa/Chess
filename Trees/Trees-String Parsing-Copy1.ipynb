{
 "cells": [
  {
   "cell_type": "raw",
   "metadata": {},
   "source": [
    "\n",
    "When building tree: iterate through every move\n",
    "generate unique ID (label for that node) -- increment data associated with node\n",
    "Load pgn push move, load board get fen <- now unique id\n",
    "\n",
    "When looking up, go to root, go to child, continue until desired position reached. Get stockfish of all listed children, weighted by frequency\n",
    "\n",
    "\n",
    "unpack games into intermediate step before tree (query)\n",
    "    text file of mainlines\n",
    "    grep strings\n",
    "\n",
    "6/28--------------------------- \n",
    "MAKE JUMBO TXT with all pgn files using grep (concatenate all for final iteration)\n",
    "Store in node:\n",
    "    Full string path (san)\n",
    "    Stockfish score at node\n",
    "    count of instances of node\n",
    "Preprocessing:\n",
    "    We have a txt file with mainlines\n",
    "        Need to split on lines, and parse for simplified san (using regex)\n",
    "How to add to nodes:\n",
    "    pass through each line\n",
    "    For each line:\n",
    "        grab move \n",
    "        push move to board - get board - get fen\n",
    "        calculate stockfish using fen\n",
    "        get line count using grep\n",
    "    Stop (do not add node) when line count too low, move to next game\n",
    "        \n",
    "\n",
    "\n",
    "\n",
    "7/2\n",
    "ToDo:\n",
    "++Preprocessing into strings (can we do this in grep?) \n",
    "    https://linuxize.com/post/how-to-use-sed-to-find-and-replace-string-in-files/\n",
    "Get count\n",
    " #(BASH SCRIPT TO GET COUNT : takes string returns number of lines, -- search for movestring+ \" \")\n",
    " \n",
    "How to traverse tree for variance\n",
    "\tUnique IDs are just concatenated strings.. is that right? Cant use FEN…\n",
    "    \n",
    "\n",
    "    \n"
   ]
  },
  {
   "cell_type": "code",
   "execution_count": 1,
   "metadata": {},
   "outputs": [],
   "source": [
    "# import pip\n",
    "#!pip install pgnparser\n",
    "#Build a tree\n",
    "import numpy as np\n",
    "import chess\n",
    "import chess.pgn\n",
    "import re\n",
    "import treelib\n",
    "from treelib import Node, Tree\n",
    "import chess.engine\n",
    "\n",
    "engine = chess.engine.SimpleEngine.popen_uci(\"./stockfish-10-64\")"
   ]
  },
  {
   "cell_type": "code",
   "execution_count": 2,
   "metadata": {},
   "outputs": [
    {
     "name": "stdout",
     "output_type": "stream",
     "text": [
      "Line 1: e4 e6   d4 b6   a3 Bb7   Nc3 Nh6   Bxh6 gxh6   Be2 Qg5   Bg4 h5   Nf3 Qg6   Nh4 Qg5   Bxh5 Qxh4   Qf3 Kd8   Qxf7 Nc6   Qe8# 1-0\n",
      "Line 2: d4 d5   Nf3 Nf6   e3 Bf5   Nh4 Bg6   Nxg6 hxg6   Nd2 e6   Bd3 Bd6   e4 dxe4   Nxe4 Rxh2   Ke2 Rxh1   Qxh1 Nc6   Bg5 Ke7   Qh7 Nxd4+   Kd2 Qe8   Qxg7 Qh8   Bxf6+ Kd7   Qxh8 Rxh8   Bxh8 1-0\n",
      "Line 3: e4 e5   Nf3 Nc6   Bc4 Nf6   Nc3 Bc5   a3 Bxf2+   Kxf2 Nd4   d3 Ng4+   Kf1 Qf6   h3 d5   Nxd5 Qe6   Nxc7+ 1-0\n",
      "Line 4: e4 c6   Nc3 d5   Qf3 dxe4   Nxe4 Nd7   Bc4 Ngf6   Nxf6+ Nxf6   Qg3 Bf5   d3 Bg6   Ne2 e6   Bf4 Nh5   Qf3 Nxf4   Nxf4 Be7   Bxe6 fxe6   Nxe6 Qa5+   c3 Qe5+   Qe3 Qxe3+   fxe3 Kd7   Nf4 Bd6   Nxg6 hxg6   h3 Bg3+   Kd2 Raf8   Rhf1 Ke7   d4 Rxf1   Rxf1 Rf8   Rxf8 Kxf8   e4 Ke7   Ke3 g5   Kf3 Be1   Kg4 Bd2   Kf5 Bc1   Kg6 Kf8   e5 Bxb2   Kxg5 Bxc3   h4 Bxd4   h5 Bxe5   g4 Bb2   Kf5 Kf7   g5 Bc1   g6+ Ke7   Ke5 b5   Kd4 Kd6   Kc3 c5   a3 Bg5   a4 bxa4   Kb2 Kd5   Ka3 Kd4   Kxa4 c4 0-1\n"
     ]
    }
   ],
   "source": [
    "f = open('Lichess2013noNumbers.txt', \"r\")\n",
    "mainlineList = []\n",
    "filepath = 'Lichess2013noNumbers.txt'\n",
    "with open(filepath) as fp:\n",
    "    line = fp.readline()\n",
    "    mainlineList.append(line)\n",
    "    cnt = 1\n",
    "    while cnt <5:\n",
    "        print(\"Line {}: {}\".format(cnt, line.strip()))\n",
    "        line = fp.readline()\n",
    "        mainlineList.append(line)\n",
    "        cnt += 1"
   ]
  },
  {
   "cell_type": "code",
   "execution_count": 3,
   "metadata": {},
   "outputs": [],
   "source": [
    "# def processMainline(mainlineString):\n",
    "#     out = ''\n",
    "#     for move in re.split('\\s?\\d+\\.\\s',mainlineString):\n",
    "#         out = out+re.sub(r'\\W+', ' ',move) + ' '\n",
    "#     move_list = re.split('\\s',out)\n",
    "#     while(\"\" in move_list) : \n",
    "#         move_list.remove(\"\")\n",
    "#     return move_list"
   ]
  },
  {
   "cell_type": "code",
   "execution_count": 4,
   "metadata": {},
   "outputs": [],
   "source": [
    "def processMainline(mainlineString):\n",
    "    out = ''\n",
    "    for move in re.split('\\s?\\d+\\.\\s',mainlineString):\n",
    "        out = out+re.sub(r'\\W+', ' ',move) + ' '\n",
    "    move_list = re.split('\\s',out)\n",
    "    while(\"\" in move_list) : \n",
    "        move_list.remove(\"\")\n",
    "    return move_list"
   ]
  },
  {
   "cell_type": "code",
   "execution_count": 5,
   "metadata": {},
   "outputs": [],
   "source": [
    "import os"
   ]
  },
  {
   "cell_type": "code",
   "execution_count": 6,
   "metadata": {},
   "outputs": [
    {
     "name": "stdout",
     "output_type": "stream",
     "text": [
      "72488\n"
     ]
    }
   ],
   "source": [
    "# command=\"grep -A 12 -i LOGBOOK SUMMARY: my_folder/logbook.log\"\n",
    "# command=\"grep -A 12 -i 'LOGBOOK SUMMARY:' my_folder/logbook.log\"\n",
    "command = \"grep -I '^ \\+e4'  Lichess2013noNumbers.txt | wc -l\"\n",
    "import subprocess\n",
    "process = subprocess.Popen(command, stdout=subprocess.PIPE, stderr=None, shell=True)\n",
    "\n",
    "#Launch the shell command:\n",
    "output = process.communicate()\n",
    "\n",
    "print(int(re.findall('\\d+',str(output))[0]))"
   ]
  },
  {
   "cell_type": "code",
   "execution_count": 11,
   "metadata": {},
   "outputs": [
    {
     "name": "stdout",
     "output_type": "stream",
     "text": [
      "[['e4', 'e6', 'd4', 'b6', 'a3', 'Bb7', 'Nc3', 'Nh6', 'Bxh6', 'gxh6', 'Be2', 'Qg5', 'Bg4', 'h5', 'Nf3', 'Qg6', 'Nh4', 'Qg5', 'Bxh5', 'Qxh4', 'Qf3', 'Kd8', 'Qxf7', 'Nc6', 'Qe8#', '1-0'], ['d4', 'd5', 'Nf3', 'Nf6', 'e3', 'Bf5', 'Nh4', 'Bg6', 'Nxg6', 'hxg6', 'Nd2', 'e6', 'Bd3', 'Bd6', 'e4', 'dxe4', 'Nxe4', 'Rxh2', 'Ke2', 'Rxh1', 'Qxh1', 'Nc6', 'Bg5', 'Ke7', 'Qh7', 'Nxd4+', 'Kd2', 'Qe8', 'Qxg7', 'Qh8', 'Bxf6+', 'Kd7', 'Qxh8', 'Rxh8', 'Bxh8', '1-0'], ['e4', 'e5', 'Nf3', 'Nc6', 'Bc4', 'Nf6', 'Nc3', 'Bc5', 'a3', 'Bxf2+', 'Kxf2', 'Nd4', 'd3', 'Ng4+', 'Kf1', 'Qf6', 'h3', 'd5', 'Nxd5', 'Qe6', 'Nxc7+', '1-0'], ['e4', 'c6', 'Nc3', 'd5', 'Qf3', 'dxe4', 'Nxe4', 'Nd7', 'Bc4', 'Ngf6', 'Nxf6+', 'Nxf6', 'Qg3', 'Bf5', 'd3', 'Bg6', 'Ne2', 'e6', 'Bf4', 'Nh5', 'Qf3', 'Nxf4', 'Nxf4', 'Be7', 'Bxe6', 'fxe6', 'Nxe6', 'Qa5+', 'c3', 'Qe5+', 'Qe3', 'Qxe3+', 'fxe3', 'Kd7', 'Nf4', 'Bd6', 'Nxg6', 'hxg6', 'h3', 'Bg3+', 'Kd2', 'Raf8', 'Rhf1', 'Ke7', 'd4', 'Rxf1', 'Rxf1', 'Rf8', 'Rxf8', 'Kxf8', 'e4', 'Ke7', 'Ke3', 'g5', 'Kf3', 'Be1', 'Kg4', 'Bd2', 'Kf5', 'Bc1', 'Kg6', 'Kf8', 'e5', 'Bxb2', 'Kxg5', 'Bxc3', 'h4', 'Bxd4', 'h5', 'Bxe5', 'g4', 'Bb2', 'Kf5', 'Kf7', 'g5', 'Bc1', 'g6+', 'Ke7', 'Ke5', 'b5', 'Kd4', 'Kd6', 'Kc3', 'c5', 'a3', 'Bg5', 'a4', 'bxa4', 'Kb2', 'Kd5', 'Ka3', 'Kd4', 'Kxa4', 'c4', '0-1'], ['e4', 'e6', 'f4', 'd5', 'e5', 'c5', 'Nf3', 'Qb6', 'c3', 'Nc6', 'd3', 'Bd7', 'Be2', 'Nh6', 'O-O', 'Nf5', 'g4', 'Nh6', 'Kg2', 'Nxg4', 'h3', 'Nh6', 'Ng5', 'Nf5', 'Bg4', 'Nce7', 'Nd2', 'Ne3+', 'Kf3', 'Nxd1', 'Rxd1', 'h6', 'Nxf7', 'Kxf7', 'Rf1', 'h5', 'Bxe6+', 'Bxe6', 'Kg3', 'Nf5+', 'Kg2', 'Ne3+', 'Kf2', 'Nxf1', 'Kxf1', 'Bxh3+', '0-1']]\n"
     ]
    }
   ],
   "source": [
    "# stringList = []\n",
    "# for mainLine in mainlineList:\n",
    "#     stringList.append(processMainline(mainLine))\n",
    "# print(stringList)\n",
    "stringList = []\n",
    "for mainLine in mainlineList:\n",
    "    stringList.append(mainLine.split())\n",
    "print(stringList)"
   ]
  },
  {
   "cell_type": "code",
   "execution_count": 12,
   "metadata": {},
   "outputs": [
    {
     "name": "stdout",
     "output_type": "stream",
     "text": [
      "HERE\n"
     ]
    }
   ],
   "source": [
    "board = chess.Board()\n",
    "try:\n",
    "    board.push_san('0-1')\n",
    "except:\n",
    "    print(\"HERE\")"
   ]
  },
  {
   "cell_type": "markdown",
   "metadata": {},
   "source": [
    "## Build tree"
   ]
  },
  {
   "cell_type": "code",
   "execution_count": 14,
   "metadata": {},
   "outputs": [
    {
     "name": "stdout",
     "output_type": "stream",
     "text": [
      "1-0\n",
      "HERE\n",
      "1-0\n",
      "HERE\n",
      "1-0\n",
      "HERE\n",
      "0-1\n",
      "HERE\n",
      "0-1\n",
      "HERE\n"
     ]
    }
   ],
   "source": [
    "tree = Tree() #instantiate tree\n",
    "tree.create_node('root', 'root', data = 1)\n",
    "\n",
    "X = 6 #set pruning limit (don't add moves with less than X instances)\n",
    "\n",
    "for string in stringList: #loop through pre-processed games now as san strings\n",
    "    board = chess.Board() #instantiate blank board\n",
    "    moveString = '' #instantiate empty list to append moves to (for unique id)\n",
    "    #set parent ID to root\n",
    "    parentID = 'root'\n",
    "    count = 1\n",
    "    for move in string: #loop through all moves in single game\n",
    "        moveString += move + ' '#check if FEN can work\n",
    "        try:\n",
    "            board.push_san(move) #push the move to the board\n",
    "            currFen = board.fen() #get the fen from the board\n",
    "            #count = 1 #count the instances of this sequence of moves in mega game file (grep?)\n",
    "            #(BASH SCRIPT TO GET COUNT : takes string returns number of lines, search for movestring+ \" \")\n",
    "            \n",
    "            if((tree.get_node(moveString) == None) & (count < X)): #only add nodes if the sequence has not yet occured (HOW TO CHECK?) and they are frequent enough \n",
    "                stockfish = engine.analyse(board, chess.engine.Limit(time=0.05)) #get stockfish score of fen\n",
    "                tree.create_node(tag = move, \n",
    "                                     identifier = moveString, \n",
    "                                     parent = parentID, \n",
    "                                     data =[count,int(re.split('\\+|-', str(stockfish['score']))[1])])\n",
    "            count+=1\n",
    "            parentID = moveString\n",
    "        except:\n",
    "            print(move)\n",
    "            print(\"HERE\")\n",
    "            continue"
   ]
  },
  {
   "cell_type": "code",
   "execution_count": 21,
   "metadata": {},
   "outputs": [
    {
     "name": "stdout",
     "output_type": "stream",
     "text": [
      "root\n",
      "├── d4\n",
      "│   └── d5\n",
      "│       └── Nf3\n",
      "│           └── Nf6\n",
      "│               └── e3\n",
      "└── e4\n",
      "    ├── c6\n",
      "    │   └── Nc3\n",
      "    │       └── d5\n",
      "    │           └── Qf3\n",
      "    ├── e5\n",
      "    │   └── Nf3\n",
      "    │       └── Nc6\n",
      "    │           └── Bc4\n",
      "    └── e6\n",
      "        ├── d4\n",
      "        │   └── b6\n",
      "        │       └── a3\n",
      "        └── f4\n",
      "            └── d5\n",
      "                └── e5\n",
      "\n"
     ]
    }
   ],
   "source": [
    "print(tree)"
   ]
  },
  {
   "cell_type": "code",
   "execution_count": 10,
   "metadata": {},
   "outputs": [
    {
     "ename": "NodeIDAbsentError",
     "evalue": "Node 'e4e6' is not in the tree",
     "output_type": "error",
     "traceback": [
      "\u001b[0;31m---------------------------------------------------------------------------\u001b[0m",
      "\u001b[0;31mNodeIDAbsentError\u001b[0m                         Traceback (most recent call last)",
      "\u001b[0;32m<ipython-input-10-d8e19ab82bd9>\u001b[0m in \u001b[0;36m<module>\u001b[0;34m\u001b[0m\n\u001b[1;32m      1\u001b[0m \u001b[0mvar\u001b[0m \u001b[0;34m=\u001b[0m \u001b[0;34m[\u001b[0m\u001b[0;34m]\u001b[0m\u001b[0;34m\u001b[0m\u001b[0;34m\u001b[0m\u001b[0m\n\u001b[0;32m----> 2\u001b[0;31m \u001b[0;32mfor\u001b[0m \u001b[0mchild\u001b[0m \u001b[0;32min\u001b[0m \u001b[0mtree\u001b[0m\u001b[0;34m.\u001b[0m\u001b[0mchildren\u001b[0m\u001b[0;34m(\u001b[0m\u001b[0;34m'e4e6'\u001b[0m\u001b[0;34m)\u001b[0m\u001b[0;34m:\u001b[0m\u001b[0;34m\u001b[0m\u001b[0;34m\u001b[0m\u001b[0m\n\u001b[0m\u001b[1;32m      3\u001b[0m     \u001b[0mvar\u001b[0m\u001b[0;34m.\u001b[0m\u001b[0mappend\u001b[0m\u001b[0;34m(\u001b[0m\u001b[0mchild\u001b[0m\u001b[0;34m.\u001b[0m\u001b[0mdata\u001b[0m\u001b[0;34m[\u001b[0m\u001b[0;36m1\u001b[0m\u001b[0;34m]\u001b[0m\u001b[0;34m)\u001b[0m\u001b[0;34m\u001b[0m\u001b[0;34m\u001b[0m\u001b[0m\n\u001b[1;32m      4\u001b[0m \u001b[0mprint\u001b[0m\u001b[0;34m(\u001b[0m\u001b[0mnp\u001b[0m\u001b[0;34m.\u001b[0m\u001b[0mvar\u001b[0m\u001b[0;34m(\u001b[0m\u001b[0mvar\u001b[0m\u001b[0;34m)\u001b[0m\u001b[0;34m)\u001b[0m\u001b[0;34m\u001b[0m\u001b[0;34m\u001b[0m\u001b[0m\n",
      "\u001b[0;32m~/opt/anaconda3/lib/python3.7/site-packages/treelib/tree.py\u001b[0m in \u001b[0;36mchildren\u001b[0;34m(self, nid)\u001b[0m\n\u001b[1;32m    358\u001b[0m         \u001b[0mEmpty\u001b[0m \u001b[0mlist\u001b[0m \u001b[0;32mis\u001b[0m \u001b[0mreturned\u001b[0m \u001b[0;32mif\u001b[0m \u001b[0mnid\u001b[0m \u001b[0mdoes\u001b[0m \u001b[0;32mnot\u001b[0m \u001b[0mexist\u001b[0m\u001b[0;34m\u001b[0m\u001b[0;34m\u001b[0m\u001b[0m\n\u001b[1;32m    359\u001b[0m         \"\"\"\n\u001b[0;32m--> 360\u001b[0;31m         \u001b[0;32mreturn\u001b[0m \u001b[0;34m[\u001b[0m\u001b[0mself\u001b[0m\u001b[0;34m[\u001b[0m\u001b[0mi\u001b[0m\u001b[0;34m]\u001b[0m \u001b[0;32mfor\u001b[0m \u001b[0mi\u001b[0m \u001b[0;32min\u001b[0m \u001b[0mself\u001b[0m\u001b[0;34m.\u001b[0m\u001b[0mis_branch\u001b[0m\u001b[0;34m(\u001b[0m\u001b[0mnid\u001b[0m\u001b[0;34m)\u001b[0m\u001b[0;34m]\u001b[0m\u001b[0;34m\u001b[0m\u001b[0;34m\u001b[0m\u001b[0m\n\u001b[0m\u001b[1;32m    361\u001b[0m \u001b[0;34m\u001b[0m\u001b[0m\n\u001b[1;32m    362\u001b[0m     \u001b[0;32mdef\u001b[0m \u001b[0mcontains\u001b[0m\u001b[0;34m(\u001b[0m\u001b[0mself\u001b[0m\u001b[0;34m,\u001b[0m \u001b[0mnid\u001b[0m\u001b[0;34m)\u001b[0m\u001b[0;34m:\u001b[0m\u001b[0;34m\u001b[0m\u001b[0;34m\u001b[0m\u001b[0m\n",
      "\u001b[0;32m~/opt/anaconda3/lib/python3.7/site-packages/treelib/tree.py\u001b[0m in \u001b[0;36mis_branch\u001b[0;34m(self, nid)\u001b[0m\n\u001b[1;32m    498\u001b[0m             \u001b[0;32mraise\u001b[0m \u001b[0mOSError\u001b[0m\u001b[0;34m(\u001b[0m\u001b[0;34m\"First parameter can't be None\"\u001b[0m\u001b[0;34m)\u001b[0m\u001b[0;34m\u001b[0m\u001b[0;34m\u001b[0m\u001b[0m\n\u001b[1;32m    499\u001b[0m         \u001b[0;32mif\u001b[0m \u001b[0;32mnot\u001b[0m \u001b[0mself\u001b[0m\u001b[0;34m.\u001b[0m\u001b[0mcontains\u001b[0m\u001b[0;34m(\u001b[0m\u001b[0mnid\u001b[0m\u001b[0;34m)\u001b[0m\u001b[0;34m:\u001b[0m\u001b[0;34m\u001b[0m\u001b[0;34m\u001b[0m\u001b[0m\n\u001b[0;32m--> 500\u001b[0;31m             \u001b[0;32mraise\u001b[0m \u001b[0mNodeIDAbsentError\u001b[0m\u001b[0;34m(\u001b[0m\u001b[0;34m\"Node '%s' is not in the tree\"\u001b[0m \u001b[0;34m%\u001b[0m \u001b[0mnid\u001b[0m\u001b[0;34m)\u001b[0m\u001b[0;34m\u001b[0m\u001b[0;34m\u001b[0m\u001b[0m\n\u001b[0m\u001b[1;32m    501\u001b[0m \u001b[0;34m\u001b[0m\u001b[0m\n\u001b[1;32m    502\u001b[0m         \u001b[0;32mtry\u001b[0m\u001b[0;34m:\u001b[0m\u001b[0;34m\u001b[0m\u001b[0;34m\u001b[0m\u001b[0m\n",
      "\u001b[0;31mNodeIDAbsentError\u001b[0m: Node 'e4e6' is not in the tree"
     ]
    }
   ],
   "source": [
    "var = []\n",
    "for child in tree.children('e4e6'):\n",
    "    var.append(child.data[1])\n",
    "print(np.var(var))"
   ]
  },
  {
   "cell_type": "code",
   "execution_count": null,
   "metadata": {},
   "outputs": [],
   "source": [
    "stockfish = engine.analyse(board, chess.engine.Limit(time=0.05))\n",
    "info2 = engine.analyse(board, chess.engine.Limit(time=0.05))\n",
    "print(float(str(stockfish['score'])))\n",
    "re.split('\\+|-', str(info2['score']))[1]"
   ]
  },
  {
   "cell_type": "code",
   "execution_count": null,
   "metadata": {},
   "outputs": [],
   "source": []
  },
  {
   "cell_type": "code",
   "execution_count": null,
   "metadata": {},
   "outputs": [],
   "source": [
    "str(info2['score'])"
   ]
  },
  {
   "cell_type": "code",
   "execution_count": null,
   "metadata": {},
   "outputs": [],
   "source": [
    "print(tree.get_node('e4').data)"
   ]
  },
  {
   "cell_type": "code",
   "execution_count": null,
   "metadata": {},
   "outputs": [],
   "source": [
    "move_tree = Tree()\n",
    "move_tree.create_node('a', 'a', data = 1)\n",
    "move_tree.create_node('b', 'b', parent = 'a', data = 1)\n",
    "move_tree.create_node('b', 'c', parent = 'a', data = 1)\n",
    "print(move_tree)"
   ]
  },
  {
   "cell_type": "code",
   "execution_count": null,
   "metadata": {},
   "outputs": [],
   "source": [
    "bStr = ['b']"
   ]
  },
  {
   "cell_type": "code",
   "execution_count": null,
   "metadata": {},
   "outputs": [],
   "source": [
    "import chess\n",
    "import chess.engine\n",
    "\n",
    "engine = chess.engine.SimpleEngine.popen_uci(\"./stockfish-10-64\")\n",
    "\n",
    "scores = []\n",
    "board = chess.Board()\n",
    "for move in stringList[0][0:10]:\n",
    "    print(type(move))\n",
    "    board.push_san(move)\n",
    "    #print(board.board_fen())\n",
    "    \n",
    "#info = engine.analyse(board, chess.engine.Limit(depth=20)) #seems about same as below, but slower\n",
    "#info1 = engine.analyse(board, chess.engine.Limit(time=0.1))\n",
    "stockfish = engine.analyse(board, chess.engine.Limit(time=0.05))\n",
    "#print(\"Score:\", info[\"score\"])\n",
    "#print(\"Score:\", info1[\"score\"])\n",
    "print(\"Score:\", stockfish[\"score\"])"
   ]
  },
  {
   "cell_type": "code",
   "execution_count": null,
   "metadata": {},
   "outputs": [],
   "source": [
    "print(move_tree.get_node('d') == None)"
   ]
  },
  {
   "cell_type": "code",
   "execution_count": null,
   "metadata": {},
   "outputs": [],
   "source": [
    "move_tree = Tree()\n",
    "for i, move in enumerate(move_list):\n",
    "    if move_tree.get_node(move_list[i]) is None:\n",
    "        if(i ==0):\n",
    "            move_tree.create_node(move_list[i], move_list[i], data = 1)\n",
    "        else:\n",
    "            move_tree.create_node(move_list[i], move_list[i], parent = move_list[i-1], data = 1)\n",
    "    else:\n",
    "        move_tree.get_node(move_list[i-1]).data+=1\n"
   ]
  },
  {
   "cell_type": "code",
   "execution_count": null,
   "metadata": {},
   "outputs": [],
   "source": [
    "move_list2 = move_list[0:10] + ['test', 'test2']\n",
    "move_list_full = [move_list, move_list2]\n",
    "print(move_list_full)"
   ]
  },
  {
   "cell_type": "code",
   "execution_count": null,
   "metadata": {},
   "outputs": [],
   "source": [
    "move_tree = Tree()\n",
    "for move_list in move_list_full:\n",
    "#     print (move_list)\n",
    "    for i, move in enumerate(move_list):\n",
    "#         print(move)\n",
    "        if move_tree.get_node(move_list[i]) is None:\n",
    "            if(i ==0):\n",
    "                move_tree.create_node(move_list[i], move_list[i], data = 1)\n",
    "            else:\n",
    "                move_tree.create_node(move_list[i], move_list[i], parent = move_list[i-1], data = 1)\n",
    "        else:\n",
    "            if(i!=0):\n",
    "                move_tree.get_node(move_list[i-1]).data+=1"
   ]
  },
  {
   "cell_type": "code",
   "execution_count": null,
   "metadata": {},
   "outputs": [],
   "source": [
    "move_tree.children('Bxh6')[0].tag"
   ]
  },
  {
   "cell_type": "code",
   "execution_count": null,
   "metadata": {},
   "outputs": [],
   "source": [
    "print(move_tree.get_node('test2').data)\n",
    "print(move_tree)"
   ]
  },
  {
   "cell_type": "code",
   "execution_count": null,
   "metadata": {},
   "outputs": [],
   "source": [
    "# import pip\n",
    "# !pip install chessmoves\n",
    "#import chessmoves"
   ]
  },
  {
   "cell_type": "code",
   "execution_count": null,
   "metadata": {},
   "outputs": [],
   "source": [
    "# import pip\n",
    "# !pip install stockfish\n",
    "from stockfish import Stockfish\n",
    "stockfish = Stockfish(\"./stockfish-10-64\")\n"
   ]
  },
  {
   "cell_type": "code",
   "execution_count": null,
   "metadata": {},
   "outputs": [],
   "source": [
    "stockfish.set_position([\"e2e4\", \"e7e6\", \"d2d4\"]) #only takes lan and fen??\n",
    "stockfish.get_evaluation()"
   ]
  },
  {
   "cell_type": "code",
   "execution_count": null,
   "metadata": {},
   "outputs": [],
   "source": [
    "print(board.fen())\n",
    "print(board.board_fen())\n",
    "print(board.castling_shredder_fen)\n",
    "print(board.castling_xfen)\n",
    "print(board.lan)\n",
    "print(board.parse_san)\n",
    "print(board.san)\n",
    "print(board.shredder_fen())\n",
    "print(board.starting_fen)"
   ]
  },
  {
   "cell_type": "code",
   "execution_count": null,
   "metadata": {},
   "outputs": [],
   "source": [
    "board.fen"
   ]
  }
 ],
 "metadata": {
  "kernelspec": {
   "display_name": "Python 3",
   "language": "python",
   "name": "python3"
  },
  "language_info": {
   "codemirror_mode": {
    "name": "ipython",
    "version": 3
   },
   "file_extension": ".py",
   "mimetype": "text/x-python",
   "name": "python",
   "nbconvert_exporter": "python",
   "pygments_lexer": "ipython3",
   "version": "3.7.6"
  }
 },
 "nbformat": 4,
 "nbformat_minor": 4
}
