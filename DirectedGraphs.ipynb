{
 "cells": [
  {
   "cell_type": "code",
   "execution_count": 57,
   "metadata": {},
   "outputs": [],
   "source": [
    "import networkx as nx\n",
    "import matplotlib as plt\n",
    "import numpy as np\n",
    "import re\n",
    "import chess\n",
    "import chess.pgn\n",
    "import chess.engine\n",
    "import subprocess\n",
    "\n",
    "engine = chess.engine.SimpleEngine.popen_uci(\"./stockfish-10-64\")"
   ]
  },
  {
   "cell_type": "code",
   "execution_count": 2,
   "metadata": {},
   "outputs": [
    {
     "name": "stdout",
     "output_type": "stream",
     "text": [
      "Line 1: e4 e6   d4 b6   a3 Bb7   Nc3 Nh6   Bxh6 gxh6   Be2 Qg5   Bg4 h5   Nf3 Qg6   Nh4 Qg5   Bxh5 Qxh4   Qf3 Kd8   Qxf7 Nc6   Qe8# 1-0\n",
      "Line 2: d4 d5   Nf3 Nf6   e3 Bf5   Nh4 Bg6   Nxg6 hxg6   Nd2 e6   Bd3 Bd6   e4 dxe4   Nxe4 Rxh2   Ke2 Rxh1   Qxh1 Nc6   Bg5 Ke7   Qh7 Nxd4+   Kd2 Qe8   Qxg7 Qh8   Bxf6+ Kd7   Qxh8 Rxh8   Bxh8 1-0\n",
      "Line 3: e4 e5   Nf3 Nc6   Bc4 Nf6   Nc3 Bc5   a3 Bxf2+   Kxf2 Nd4   d3 Ng4+   Kf1 Qf6   h3 d5   Nxd5 Qe6   Nxc7+ 1-0\n",
      "Line 4: e4 c6   Nc3 d5   Qf3 dxe4   Nxe4 Nd7   Bc4 Ngf6   Nxf6+ Nxf6   Qg3 Bf5   d3 Bg6   Ne2 e6   Bf4 Nh5   Qf3 Nxf4   Nxf4 Be7   Bxe6 fxe6   Nxe6 Qa5+   c3 Qe5+   Qe3 Qxe3+   fxe3 Kd7   Nf4 Bd6   Nxg6 hxg6   h3 Bg3+   Kd2 Raf8   Rhf1 Ke7   d4 Rxf1   Rxf1 Rf8   Rxf8 Kxf8   e4 Ke7   Ke3 g5   Kf3 Be1   Kg4 Bd2   Kf5 Bc1   Kg6 Kf8   e5 Bxb2   Kxg5 Bxc3   h4 Bxd4   h5 Bxe5   g4 Bb2   Kf5 Kf7   g5 Bc1   g6+ Ke7   Ke5 b5   Kd4 Kd6   Kc3 c5   a3 Bg5   a4 bxa4   Kb2 Kd5   Ka3 Kd4   Kxa4 c4 0-1\n"
     ]
    }
   ],
   "source": [
    "f = open('Lichess2013noNumbers.txt', \"r\")\n",
    "mainlineList = []\n",
    "filepath = 'Lichess2013noNumbers.txt'\n",
    "with open(filepath) as fp:\n",
    "    line = fp.readline()\n",
    "    mainlineList.append(line)\n",
    "    cnt = 1\n",
    "    while cnt <5:\n",
    "        print(\"Line {}: {}\".format(cnt, line.strip()))\n",
    "        line = fp.readline()\n",
    "        mainlineList.append(line)\n",
    "        cnt += 1"
   ]
  },
  {
   "cell_type": "code",
   "execution_count": 3,
   "metadata": {},
   "outputs": [
    {
     "name": "stdout",
     "output_type": "stream",
     "text": [
      "[['e4', 'e6', 'd4', 'b6', 'a3', 'Bb7', 'Nc3', 'Nh6', 'Bxh6', 'gxh6', 'Be2', 'Qg5', 'Bg4', 'h5', 'Nf3', 'Qg6', 'Nh4', 'Qg5', 'Bxh5', 'Qxh4', 'Qf3', 'Kd8', 'Qxf7', 'Nc6', 'Qe8#', '1-0'], ['d4', 'd5', 'Nf3', 'Nf6', 'e3', 'Bf5', 'Nh4', 'Bg6', 'Nxg6', 'hxg6', 'Nd2', 'e6', 'Bd3', 'Bd6', 'e4', 'dxe4', 'Nxe4', 'Rxh2', 'Ke2', 'Rxh1', 'Qxh1', 'Nc6', 'Bg5', 'Ke7', 'Qh7', 'Nxd4+', 'Kd2', 'Qe8', 'Qxg7', 'Qh8', 'Bxf6+', 'Kd7', 'Qxh8', 'Rxh8', 'Bxh8', '1-0'], ['e4', 'e5', 'Nf3', 'Nc6', 'Bc4', 'Nf6', 'Nc3', 'Bc5', 'a3', 'Bxf2+', 'Kxf2', 'Nd4', 'd3', 'Ng4+', 'Kf1', 'Qf6', 'h3', 'd5', 'Nxd5', 'Qe6', 'Nxc7+', '1-0'], ['e4', 'c6', 'Nc3', 'd5', 'Qf3', 'dxe4', 'Nxe4', 'Nd7', 'Bc4', 'Ngf6', 'Nxf6+', 'Nxf6', 'Qg3', 'Bf5', 'd3', 'Bg6', 'Ne2', 'e6', 'Bf4', 'Nh5', 'Qf3', 'Nxf4', 'Nxf4', 'Be7', 'Bxe6', 'fxe6', 'Nxe6', 'Qa5+', 'c3', 'Qe5+', 'Qe3', 'Qxe3+', 'fxe3', 'Kd7', 'Nf4', 'Bd6', 'Nxg6', 'hxg6', 'h3', 'Bg3+', 'Kd2', 'Raf8', 'Rhf1', 'Ke7', 'd4', 'Rxf1', 'Rxf1', 'Rf8', 'Rxf8', 'Kxf8', 'e4', 'Ke7', 'Ke3', 'g5', 'Kf3', 'Be1', 'Kg4', 'Bd2', 'Kf5', 'Bc1', 'Kg6', 'Kf8', 'e5', 'Bxb2', 'Kxg5', 'Bxc3', 'h4', 'Bxd4', 'h5', 'Bxe5', 'g4', 'Bb2', 'Kf5', 'Kf7', 'g5', 'Bc1', 'g6+', 'Ke7', 'Ke5', 'b5', 'Kd4', 'Kd6', 'Kc3', 'c5', 'a3', 'Bg5', 'a4', 'bxa4', 'Kb2', 'Kd5', 'Ka3', 'Kd4', 'Kxa4', 'c4', '0-1'], ['e4', 'e6', 'f4', 'd5', 'e5', 'c5', 'Nf3', 'Qb6', 'c3', 'Nc6', 'd3', 'Bd7', 'Be2', 'Nh6', 'O-O', 'Nf5', 'g4', 'Nh6', 'Kg2', 'Nxg4', 'h3', 'Nh6', 'Ng5', 'Nf5', 'Bg4', 'Nce7', 'Nd2', 'Ne3+', 'Kf3', 'Nxd1', 'Rxd1', 'h6', 'Nxf7', 'Kxf7', 'Rf1', 'h5', 'Bxe6+', 'Bxe6', 'Kg3', 'Nf5+', 'Kg2', 'Ne3+', 'Kf2', 'Nxf1', 'Kxf1', 'Bxh3+', '0-1']]\n"
     ]
    }
   ],
   "source": [
    "stringList = []\n",
    "for mainLine in mainlineList:\n",
    "    stringList.append(mainLine.split())\n",
    "print(stringList)"
   ]
  },
  {
   "cell_type": "code",
   "execution_count": 20,
   "metadata": {},
   "outputs": [
    {
     "name": "stdout",
     "output_type": "stream",
     "text": [
      "115\n",
      "0.007289000000000101\n"
     ]
    }
   ],
   "source": [
    "import time\n",
    "start = time.process_time()\n",
    "\n",
    "command = \"grep -I '^ \\+e4 d5 \\+d4'  Lichess2013noNumbers.txt | wc -l\"\n",
    "process = subprocess.Popen(command, stdout=subprocess.PIPE, stderr=None, shell=True)\n",
    "#Launch the shell command:\n",
    "output = process.communicate()\n",
    "print(int(re.findall('\\d+',str(output))[0]))\n",
    "\n",
    "# your code here    \n",
    "print(time.process_time() - start)"
   ]
  },
  {
   "cell_type": "code",
   "execution_count": 16,
   "metadata": {},
   "outputs": [
    {
     "name": "stdout",
     "output_type": "stream",
     "text": [
      "0.08551799999999332\n"
     ]
    }
   ],
   "source": [
    "\n",
    "start = time.process_time()\n",
    "data = open('Lichess2013noNumbers.txt').read()\n",
    "count = data.count('d4')\n",
    "count\n",
    "print(time.process_time() - start)"
   ]
  },
  {
   "cell_type": "code",
   "execution_count": null,
   "metadata": {},
   "outputs": [],
   "source": [
    "move = 'd4'\n",
    "command = \"grep -I '^ \\+{}'  Lichess2013noNumbers.txt | wc -l\".format(move)\n",
    "process = subprocess.Popen(command, stdout=subprocess.PIPE, stderr=None, shell=True)\n",
    "#Launch the shell command:\n",
    "output = process.communicate()\n",
    "print(int(re.findall('\\d+',str(output))[0]))"
   ]
  },
  {
   "cell_type": "code",
   "execution_count": null,
   "metadata": {},
   "outputs": [],
   "source": [
    "#make new graph\n",
    "g = nx.DiGraph()\n",
    "g.add_node('a', values = {'score':120, 'movelist': '12345'})\n",
    "g.add_node('b',values = {'score':180, 'movelist': '6789'})\n",
    "g.add_node('fen',score = 100, movelist = 'abcd')\n",
    "g.add_edge('a','b')\n",
    "g.add_edge('a', 'fen')\n",
    "g.add_edge('fen', 'a')\n",
    "g.add_edge('a','c')"
   ]
  },
  {
   "cell_type": "code",
   "execution_count": null,
   "metadata": {},
   "outputs": [],
   "source": [
    "g.nodes"
   ]
  },
  {
   "cell_type": "code",
   "execution_count": null,
   "metadata": {},
   "outputs": [],
   "source": [
    "nx.get_node_attributes(g, 'values')['a']"
   ]
  },
  {
   "cell_type": "code",
   "execution_count": null,
   "metadata": {},
   "outputs": [],
   "source": [
    "nx.draw(g, with_labels=True, font_weight='bold')\n"
   ]
  },
  {
   "cell_type": "code",
   "execution_count": null,
   "metadata": {},
   "outputs": [],
   "source": [
    "name = 'fen'\n",
    "print('d' not in g.nodes)\n",
    "\n",
    "print(list(g.neighbors('a')))"
   ]
  },
  {
   "cell_type": "code",
   "execution_count": 41,
   "metadata": {},
   "outputs": [
    {
     "name": "stdout",
     "output_type": "stream",
     "text": [
      "^ \\+e4 \\+e6 \\+d4\n",
      "2979\n"
     ]
    }
   ],
   "source": [
    "moveString = '^ \\+e4 \\+e6 \\+d4'  \n",
    "print(moveString)\n",
    "command = \"grep -I '{}'  Lichess2013noNumbers.txt | wc -l\".format(moveString)\n",
    "process = subprocess.Popen(command, stdout=subprocess.PIPE, stderr=None, shell=True)\n",
    "#Launch the shell command:\n",
    "output = process.communicate()\n",
    "print(int(re.findall('\\d+',str(output))[0]))"
   ]
  },
  {
   "cell_type": "code",
   "execution_count": 73,
   "metadata": {
    "scrolled": true
   },
   "outputs": [],
   "source": [
    "g = nx.DiGraph()\n",
    "g.add_node('', score = 0, movelist = 'root')\n",
    "X = 10\n",
    "for string in stringList:\n",
    "    board = chess.Board()\n",
    "    moveString = '^ \\+'\n",
    "    parentID = ''\n",
    "    for move in string:\n",
    "        moveString += move + ' \\+'\n",
    "        try: \n",
    "            board.push_san(move) #push the move to the board\n",
    "            currFen = board.fen() #get the fen from the board\n",
    "             #(BASH SCRIPT TO GET COUNT : takes string returns number of lines, search for movestring+ \" \")\n",
    "            command = \"grep -I '{}'  Lichess2013noNumbers.txt | wc -l\".format(moveString)\n",
    "            process = subprocess.Popen(command, stdout=subprocess.PIPE, stderr=None, shell=True)\n",
    "            #Launch the shell command:\n",
    "            output = process.communicate()\n",
    "            count = int(re.findall('\\d+',str(output))[0])\n",
    "            if(currFen not in g.nodes and count>X): #only add nodes if the sequence has not yet occured and they are frequent enough \n",
    "                stockfish = engine.analyse(board, chess.engine.Limit(time=0.05)) #get stockfish score of fen\n",
    "                g.add_node(currFen, \n",
    "                           score = float(str(stockfish['score'])), \n",
    "                           movelist = moveString)\n",
    "                g.add_edge(parentID, currFen)\n",
    "            \n",
    "            parentID = currFen\n",
    "            \n",
    "        except: #skip any errors in the notation that cannot be pushed to a board\n",
    "            break\n",
    "        "
   ]
  },
  {
   "cell_type": "code",
   "execution_count": 77,
   "metadata": {},
   "outputs": [
    {
     "data": {
      "image/png": "[encoded data removed]",
      "text/plain": [
       "<Figure size 432x288 with 1 Axes>"
      ]
     },
     "metadata": {},
     "output_type": "display_data"
    }
   ],
   "source": [
    "nx.draw(g, with_labels=False, font_weight='bold')"
   ]
  },
  {
   "cell_type": "code",
   "execution_count": null,
   "metadata": {},
   "outputs": [],
   "source": []
  }
 ],
 "metadata": {
  "kernelspec": {
   "display_name": "Python 3",
   "language": "python",
   "name": "python3"
  },
  "language_info": {
   "codemirror_mode": {
    "name": "ipython",
    "version": 3
   },
   "file_extension": ".py",
   "mimetype": "text/x-python",
   "name": "python",
   "nbconvert_exporter": "python",
   "pygments_lexer": "ipython3",
   "version": "3.7.6"
  }
 },
 "nbformat": 4,
 "nbformat_minor": 4
}
