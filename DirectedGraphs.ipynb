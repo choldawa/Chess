{
 "cells": [
  {
   "cell_type": "code",
   "execution_count": 1,
   "metadata": {},
   "outputs": [],
   "source": [
    "########\n",
    "#pipe grep command of move sequence into another grep command to get 1-0 to tabulate total wins, ties and losses\n",
    "#these will need to be incremented in same way as counts\n",
    "\n",
    "import networkx as nx\n",
    "import matplotlib as plt\n",
    "import numpy as np\n",
    "import re\n",
    "import chess\n",
    "import chess.pgn\n",
    "import chess.engine\n",
    "import subprocess\n",
    "import time\n",
    "import timeit\n",
    "import pickle\n",
    "engine = chess.engine.SimpleEngine.popen_uci(\"./stockfish-10-64\")"
   ]
  },
  {
   "cell_type": "code",
   "execution_count": 2,
   "metadata": {},
   "outputs": [],
   "source": [
    "with open('Lichess2013noNumbers.txt', \"r\") as file_in:\n",
    "    mainlineList = []\n",
    "    for line in file_in:\n",
    "        mainlineList.append(line)"
   ]
  },
  {
   "cell_type": "code",
   "execution_count": 3,
   "metadata": {},
   "outputs": [
    {
     "name": "stdout",
     "output_type": "stream",
     "text": [
      "  e4 e6   d4 b6   a3 Bb7   Nc3 Nh6   Bxh6 gxh6   Be2 Qg5   Bg4 h5   Nf3 Qg6   Nh4 Qg5   Bxh5 Qxh4   Qf3 Kd8   Qxf7 Nc6   Qe8# 1-0\n",
      "\n"
     ]
    }
   ],
   "source": [
    "print(mainlineList[0])"
   ]
  },
  {
   "cell_type": "code",
   "execution_count": 4,
   "metadata": {},
   "outputs": [
    {
     "name": "stdout",
     "output_type": "stream",
     "text": [
      "121332\n"
     ]
    }
   ],
   "source": [
    "stringList = []\n",
    "for mainLine in mainlineList:\n",
    "    stringList.append(mainLine.split())\n",
    "print(len(stringList))"
   ]
  },
  {
   "cell_type": "code",
   "execution_count": 5,
   "metadata": {},
   "outputs": [],
   "source": [
    "##Testing time taken using grep\n",
    "\n",
    "# import time\n",
    "# start = time.process_time()\n",
    "\n",
    "# command = \"grep -I '^ \\+e4 d5 \\+d4'  Lichess2013noNumbers.txt | wc -l\"\n",
    "# process = subprocess.Popen(command, stdout=subprocess.PIPE, stderr=None, shell=True)\n",
    "# #Launch the shell command:\n",
    "# output = process.communicate()\n",
    "# print(int(re.findall('\\d+',str(output))[0]))\n",
    "\n",
    "# # your code here    \n",
    "# print(time.process_time() - start)"
   ]
  },
  {
   "cell_type": "code",
   "execution_count": 6,
   "metadata": {},
   "outputs": [
    {
     "data": {
      "text/plain": [
       "{'score': 100, 'movelist': [['a', 'b', 'c']]}"
      ]
     },
     "execution_count": 6,
     "metadata": {},
     "output_type": "execute_result"
    }
   ],
   "source": [
    "#make new graph\n",
    "g = nx.DiGraph()\n",
    "g.add_node('fen',score = 100, movelist = [['a','b','c']])\n",
    "g.nodes['fen']"
   ]
  },
  {
   "cell_type": "code",
   "execution_count": 7,
   "metadata": {},
   "outputs": [
    {
     "name": "stdout",
     "output_type": "stream",
     "text": [
      "{'score': 100, 'movelist': [['a', 'b', 'c']]}\n",
      "{'score': 200, 'movelist': [['a', 'b', 'c'], ['d']]}\n"
     ]
    }
   ],
   "source": [
    "print(g.nodes['fen'])\n",
    "nx.get_node_attributes(g, 'movelist')['fen'] = nx.get_node_attributes(g, 'movelist')['fen'].append(['d'])\n",
    "g.nodes['fen']['score'] = nx.get_node_attributes(g, 'score')['fen']+100\n",
    "print(g.nodes['fen'])"
   ]
  },
  {
   "cell_type": "code",
   "execution_count": 8,
   "metadata": {},
   "outputs": [
    {
     "name": "stdout",
     "output_type": "stream",
     "text": [
      "^ \\+e4 \\+e6 \\+d4\n",
      "2979\n"
     ]
    }
   ],
   "source": [
    "moveString = '^ \\+e4 \\+e6 \\+d4'  \n",
    "print(moveString)\n",
    "command = \"grep -I '{}'  Lichess2013noNumbers.txt | wc -l\".format(moveString)\n",
    "process = subprocess.Popen(command, stdout=subprocess.PIPE, stderr=None, shell=True)\n",
    "#Launch the shell command:\n",
    "output = process.communicate()\n",
    "print(int(re.findall('\\d+',str(output))[0]))"
   ]
  },
  {
   "cell_type": "code",
   "execution_count": 64,
   "metadata": {},
   "outputs": [],
   "source": [
    "## TESTING IF DIFFERENT MOVESTRINGS CONVERGE TO SAME FEN\n",
    "# stringList = [['e4','e5','d4','d5','c3'],\n",
    "#              ['d4','e5','e4','d5','a3']]"
   ]
  },
  {
   "cell_type": "code",
   "execution_count": 187,
   "metadata": {},
   "outputs": [
    {
     "name": "stdout",
     "output_type": "stream",
     "text": [
      "strings processed: 0\n",
      "strings processed: 100\n",
      "strings processed: 200\n",
      "EXCEPT\n",
      "strings processed: 300\n",
      "strings processed: 400\n",
      "EXCEPT\n",
      "strings processed: 500\n",
      "EXCEPT\n",
      "strings processed: 600\n",
      "EXCEPT\n",
      "strings processed: 700\n",
      "EXCEPT\n",
      "EXCEPT\n",
      "strings processed: 800\n",
      "EXCEPT\n",
      "EXCEPT\n",
      "EXCEPT\n",
      "EXCEPT\n",
      "EXCEPT\n",
      "strings processed: 900\n",
      "EXCEPT\n",
      "strings processed: 1000\n",
      "EXCEPT\n",
      "EXCEPT\n",
      "EXCEPT\n",
      "strings processed: 1100\n",
      "EXCEPT\n",
      "EXCEPT\n",
      "strings processed: 1200\n",
      "strings processed: 1300\n",
      "EXCEPT\n",
      "EXCEPT\n",
      "strings processed: 1400\n",
      "EXCEPT\n",
      "EXCEPT\n",
      "EXCEPT\n",
      "strings processed: 1500\n",
      "EXCEPT\n",
      "EXCEPT\n",
      "strings processed: 1600\n",
      "EXCEPT\n",
      "strings processed: 1700\n",
      "EXCEPT\n",
      "EXCEPT\n",
      "strings processed: 1800\n",
      "strings processed: 1900\n",
      "strings processed: 2000\n",
      "EXCEPT\n",
      "EXCEPT\n",
      "strings processed: 2100\n",
      "EXCEPT\n",
      "strings processed: 2200\n",
      "EXCEPT\n",
      "EXCEPT\n",
      "EXCEPT\n",
      "strings processed: 2300\n",
      "EXCEPT\n",
      "strings processed: 2400\n",
      "EXCEPT\n",
      "EXCEPT\n",
      "EXCEPT\n",
      "strings processed: 2500\n",
      "strings processed: 2600\n",
      "EXCEPT\n",
      "strings processed: 2700\n",
      "EXCEPT\n",
      "EXCEPT\n",
      "EXCEPT\n",
      "strings processed: 2800\n",
      "EXCEPT\n",
      "EXCEPT\n",
      "EXCEPT\n",
      "strings processed: 2900\n",
      "strings processed: 3000\n",
      "strings processed: 3100\n",
      "EXCEPT\n",
      "EXCEPT\n",
      "EXCEPT\n",
      "strings processed: 3200\n",
      "EXCEPT\n",
      "strings processed: 3300\n",
      "EXCEPT\n",
      "strings processed: 3400\n",
      "strings processed: 3500\n",
      "EXCEPT\n",
      "EXCEPT\n",
      "EXCEPT\n",
      "strings processed: 3600\n",
      "EXCEPT\n",
      "EXCEPT\n",
      "EXCEPT\n",
      "EXCEPT\n",
      "strings processed: 3700\n",
      "EXCEPT\n",
      "EXCEPT\n",
      "EXCEPT\n",
      "EXCEPT\n",
      "strings processed: 3800\n",
      "strings processed: 3900\n",
      "EXCEPT\n",
      "strings processed: 4000\n",
      "EXCEPT\n",
      "EXCEPT\n",
      "strings processed: 4100\n",
      "EXCEPT\n",
      "EXCEPT\n",
      "EXCEPT\n",
      "EXCEPT\n",
      "strings processed: 4200\n",
      "EXCEPT\n",
      "EXCEPT\n",
      "EXCEPT\n",
      "strings processed: 4300\n",
      "EXCEPT\n",
      "strings processed: 4400\n",
      "EXCEPT\n",
      "strings processed: 4500\n",
      "EXCEPT\n",
      "EXCEPT\n",
      "strings processed: 4600\n",
      "EXCEPT\n",
      "EXCEPT\n",
      "EXCEPT\n",
      "EXCEPT\n",
      "strings processed: 4700\n",
      "EXCEPT\n",
      "EXCEPT\n",
      "strings processed: 4800\n",
      "EXCEPT\n",
      "strings processed: 4900\n",
      "EXCEPT\n",
      "Time:  12056.734299761998\n"
     ]
    }
   ],
   "source": [
    "start = timeit.default_timer()\n",
    "\n",
    "g = nx.DiGraph()\n",
    "g.add_node('', score = 0, movelist = 'root')\n",
    "X = 10\n",
    "cnt = 0\n",
    "for string in stringList[:5000]:\n",
    "    if(cnt%100 == 0):\n",
    "        print(\"strings processed:\", cnt)\n",
    "    board = chess.Board()\n",
    "    moveString = '^ \\+'\n",
    "    parentID = ''\n",
    "    for move in string:\n",
    "        moveString += move + ' \\+'\n",
    "        try: \n",
    "            board.push_san(move) #push the move to the board\n",
    "            currFen = board.fen() #get the fen from the board\n",
    "             #BASH SCRIPT TO GET COUNT\n",
    "            command = \"grep -I '{}'  Lichess2013noNumbers.txt | wc -l\".format(moveString)\n",
    "            process = subprocess.Popen(command, stdout=subprocess.PIPE, stderr=None, shell=True)\n",
    "            output = process.communicate()\n",
    "            count = int(re.findall('\\d+',str(output))[0])\n",
    "        #check if fen exists, if not, do same thing as before\n",
    "        #if fen does exist, check if movestring exists in list of movestrings, if yes, do nothing (count already gotten)\n",
    "        # if it doesn't, increment count by count of movestring and add to list of movestrings\n",
    "            \n",
    "            #check if fen is new, if yes, and count is high, add new node\n",
    "            if(currFen not in g.nodes and count>=X): #only add nodes if the sequence has not yet occured and they are frequent enough \n",
    "                stockfish = engine.analyse(board, chess.engine.Limit(time=0.05)) #get stockfish score of fen\n",
    "                g.add_node(currFen, \n",
    "                           score = float(str(stockfish['score'])), \n",
    "                           count = count,\n",
    "                           movelist = [[moveString]]) #make a list of moveStrings\n",
    "                g.add_edge(parentID, currFen)\n",
    "                parentID = currFen\n",
    "            #if fen is not new, check if movestring in list of movestrings, if not, add it and add count  \n",
    "            elif(count>=X):\n",
    "                if([moveString] not in nx.get_node_attributes(g, 'movelist')[currFen]):\n",
    "                    nx.get_node_attributes(g, 'movelist')[currFen] = nx.get_node_attributes(g, 'movelist')[currFen].append([moveString])\n",
    "                    g.nodes[currFen]['count'] = nx.get_node_attributes(g, 'count')[currFen]+count\n",
    "                    g.add_edge(parentID, currFen)\n",
    "                parentID = currFen\n",
    "                g.nodes\n",
    "            else:\n",
    "                break\n",
    "        except: #skip any errors in the notation that cannot be pushed to a board\n",
    "            print(\"EXCEPT\")\n",
    "            break\n",
    "    cnt+=1\n",
    "stop = timeit.default_timer()\n",
    "print('Time: ', stop - start)     "
   ]
  },
  {
   "cell_type": "code",
   "execution_count": 188,
   "metadata": {},
   "outputs": [],
   "source": [
    "#save as pickle\n",
    "#nx.write_gpickle(g,\"TEST.gpickle\")"
   ]
  },
  {
   "cell_type": "code",
   "execution_count": 9,
   "metadata": {},
   "outputs": [
    {
     "name": "stdout",
     "output_type": "stream",
     "text": [
      "totalNodes: 4431\n"
     ]
    }
   ],
   "source": [
    "#read pickle\n",
    "g=nx.read_gpickle(\"g5000v2.gpickle\")\n",
    "print(\"totalNodes:\",len(g))"
   ]
  },
  {
   "cell_type": "code",
   "execution_count": 10,
   "metadata": {},
   "outputs": [],
   "source": [
    "#print(\"Total Nodes:\", len(g))\n",
    "#nx.draw(g, with_labels=True)\n"
   ]
  },
  {
   "cell_type": "code",
   "execution_count": 11,
   "metadata": {},
   "outputs": [],
   "source": [
    "def varWeighted(scores, counts):\n",
    "    weightedMean = sum([a*b for a,b in zip(scores,counts)])/sum(counts)\n",
    "\n",
    "    scoreDiffs = [(score - weightedMean)**2 for score in scores]\n",
    "\n",
    "    V1 = sum(counts)\n",
    "    V2 = sum([count**2 for count in counts])\n",
    "    var = (V1/(V1**2-V2)) * sum([a*b for a,b in zip(counts,scoreDiffs)])\n",
    "    return var\n"
   ]
  },
  {
   "cell_type": "code",
   "execution_count": 12,
   "metadata": {},
   "outputs": [
    {
     "name": "stdout",
     "output_type": "stream",
     "text": [
      "var: 769.4224254088821\n",
      "Time:  0.059860887999999335\n"
     ]
    }
   ],
   "source": [
    "start = timeit.default_timer()\n",
    "\n",
    "board = chess.Board()\n",
    "board.push_san('d4') #push the move to the board\n",
    "board.push_san('Nf6') #push the move to the board\n",
    "currFen = board.fen()\n",
    "scores = []\n",
    "counts = []\n",
    "for neighbor in list(g.neighbors(currFen)):\n",
    "    scores.append(nx.get_node_attributes(g, 'score')[neighbor])\n",
    "    counts.append(nx.get_node_attributes(g, 'count')[neighbor])\n",
    "    \n",
    "print(\"var:\",varWeighted(scores, counts))\n",
    "\n",
    "stop = timeit.default_timer()\n",
    "print('Time: ', stop - start) "
   ]
  },
  {
   "cell_type": "code",
   "execution_count": 13,
   "metadata": {},
   "outputs": [
    {
     "name": "stdout",
     "output_type": "stream",
     "text": [
      "Var ['e4', 'c5', 'c3']: 505.60426018934174 , total Games: 342\n",
      "Var ['e4', 'c5', 'd4']: 5802.094926348421 , total Games: 1270\n",
      "Var ['e4', 'e6', 'd4', 'd5', 'exd5']: 3361.9999999999995 , total Games: 601\n",
      "Var ['e4', 'e6', 'd4', 'd5', 'e5']: 8864.217954360909 , total Games: 938\n"
     ]
    }
   ],
   "source": [
    "safe = ['e4', 'c5', 'c3']\n",
    "risky = ['e4', 'c5', 'd4']\n",
    "\n",
    "safe2 = ['e4', 'e6', 'd4', 'd5', 'exd5']\n",
    "risky2 = ['e4', 'e6', 'd4', 'd5', 'e5']\n",
    "games = [safe,risky,safe2,risky2]\n",
    "for game in games:\n",
    "    board = chess.Board()\n",
    "    for move in game:\n",
    "        board.push_san(move)\n",
    "    currFen = board.fen()\n",
    "    scores = []\n",
    "    counts = []\n",
    "    for neighbor in list(g.neighbors(currFen)):\n",
    "        scores.append(nx.get_node_attributes(g, 'score')[neighbor])\n",
    "        counts.append(nx.get_node_attributes(g, 'count')[neighbor])\n",
    "\n",
    "    print('Var {}:'.format(game), varWeighted(scores,counts), \", total Games:\", sum(counts))"
   ]
  },
  {
   "cell_type": "code",
   "execution_count": null,
   "metadata": {},
   "outputs": [],
   "source": [
    "##OLD CODE (prior to fixinig count issue -- re: multiple mosestrings can lead to same fen)\n",
    "\n",
    "# start = timeit.default_timer()\n",
    "\n",
    "# g = nx.DiGraph()\n",
    "# g.add_node('', score = 0, movelist = 'root')\n",
    "# X = 10\n",
    "# cnt = 0\n",
    "# for string in stringList[:5000]:\n",
    "#     if(cnt%100 == 0):\n",
    "#         print(\"strings processed:\", cnt)\n",
    "#     board = chess.Board()\n",
    "#     moveString = '^ \\+'\n",
    "#     parentID = ''\n",
    "#     for move in string:\n",
    "#         moveString += move + ' \\+'\n",
    "#         try: \n",
    "#             board.push_san(move) #push the move to the board\n",
    "#             currFen = board.fen() #get the fen from the board\n",
    "#              #BASH SCRIPT TO GET COUNT\n",
    "#             command = \"grep -I '{}'  Lichess2013noNumbers.txt | wc -l\".format(moveString)\n",
    "#             process = subprocess.Popen(command, stdout=subprocess.PIPE, stderr=None, shell=True)\n",
    "#             output = process.communicate()\n",
    "#             count = int(re.findall('\\d+',str(output))[0])\n",
    "#             #check if fen exists, if not, do same thing as before\n",
    "#             #if fen does exist, check if movestring exists in list of movestrings, if yes, do nothing (count already gotten)\n",
    "#             # if it doesn't, increment count by count of movestring and add to list of movestrings\n",
    "            \n",
    "#             #check gambits, check nodes with high variance\n",
    "#             #if new fen, make node and add \n",
    "#             if(currFen not in g.nodes and count>X): #only add nodes if the sequence has not yet occured and they are frequent enough \n",
    "#                 stockfish = engine.analyse(board, chess.engine.Limit(time=0.05)) #get stockfish score of fen\n",
    "#                 g.add_node(currFen, \n",
    "#                            score = float(str(stockfish['score'])), \n",
    "#                            count = count,\n",
    "#                            movelist = moveString) #make a list of moveStrings\n",
    "#                 g.add_edge(parentID, currFen)\n",
    "            \n",
    "#                 parentID = currFen\n",
    "#             elif(count>X):\n",
    "#                 parentID = currFen\n",
    "#             else:\n",
    "#                 break\n",
    "#         except: #skip any errors in the notation that cannot be pushed to a board\n",
    "#             break\n",
    "#     cnt+=1\n",
    "# stop = timeit.default_timer()\n",
    "# print('Time: ', stop - start) "
   ]
  }
 ],
 "metadata": {
  "kernelspec": {
   "display_name": "Python 3",
   "language": "python",
   "name": "python3"
  },
  "language_info": {
   "codemirror_mode": {
    "name": "ipython",
    "version": 3
   },
   "file_extension": ".py",
   "mimetype": "text/x-python",
   "name": "python",
   "nbconvert_exporter": "python",
   "pygments_lexer": "ipython3",
   "version": "3.7.6"
  }
 },
 "nbformat": 4,
 "nbformat_minor": 4
}
