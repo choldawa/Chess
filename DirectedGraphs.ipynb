{
 "cells": [
  {
   "cell_type": "code",
   "execution_count": 2,
   "metadata": {},
   "outputs": [],
   "source": [
    "import networkx as nx\n",
    "import matplotlib as plt\n",
    "import numpy as np"
   ]
  },
  {
   "cell_type": "code",
   "execution_count": 19,
   "metadata": {},
   "outputs": [],
   "source": [
    "#make new graph\n",
    "g = nx.DiGraph()\n",
    "g.add_node('a', values = {'score':120, 'movelist': '12345'})\n",
    "g.add_node('b',values = {'score':180, 'movelist': '6789'})\n",
    "g.add_node('fen',score = 100, movelist = 'abcd')\n",
    "g.add_edge('a','b')\n",
    "g.add_edge('a', 'fen')\n",
    "g.add_edge('fen', 'a')\n",
    "g.add_edge('a','c')"
   ]
  },
  {
   "cell_type": "code",
   "execution_count": 45,
   "metadata": {},
   "outputs": [
    {
     "data": {
      "text/plain": [
       "NodeView(('a', 'b'))"
      ]
     },
     "execution_count": 45,
     "metadata": {},
     "output_type": "execute_result"
    }
   ],
   "source": [
    "g.nodes"
   ]
  },
  {
   "cell_type": "code",
   "execution_count": 46,
   "metadata": {},
   "outputs": [
    {
     "data": {
      "text/plain": [
       "{'score': 120, 'movelist': '12345'}"
      ]
     },
     "execution_count": 46,
     "metadata": {},
     "output_type": "execute_result"
    }
   ],
   "source": [
    "nx.get_node_attributes(g, 'values')['a']"
   ]
  },
  {
   "cell_type": "code",
   "execution_count": 20,
   "metadata": {},
   "outputs": [
    {
     "data": {
      "image/png": "[encoded data removed]",
      "text/plain": [
       "<Figure size 432x288 with 1 Axes>"
      ]
     },
     "metadata": {},
     "output_type": "display_data"
    }
   ],
   "source": [
    "nx.draw(g, with_labels=True, font_weight='bold')\n"
   ]
  },
  {
   "cell_type": "code",
   "execution_count": 14,
   "metadata": {},
   "outputs": [
    {
     "data": {
      "text/plain": [
       "True"
      ]
     },
     "execution_count": 14,
     "metadata": {},
     "output_type": "execute_result"
    }
   ],
   "source": [
    "name = 'fen'\n",
    "'d' not in g.nodes"
   ]
  },
  {
   "cell_type": "code",
   "execution_count": 60,
   "metadata": {},
   "outputs": [],
   "source": [
    "def get_sf(g,x):\n",
    "    for neighbor in g.neighbors(x):\n",
    "        print(g.nodes[neighbor][\"values\"])"
   ]
  },
  {
   "cell_type": "code",
   "execution_count": 61,
   "metadata": {},
   "outputs": [
    {
     "name": "stdout",
     "output_type": "stream",
     "text": [
      "{'score': 180, 'movelist': '6789'}\n"
     ]
    }
   ],
   "source": [
    "get_sf(g,'a')"
   ]
  },
  {
   "cell_type": "code",
   "execution_count": null,
   "metadata": {},
   "outputs": [],
   "source": [
    "g = nx.Digraph()\n",
    "\n",
    "for string in stringList:\n",
    "    board = chess.Board()\n",
    "    moveString = ''\n",
    "    for move in string:\n",
    "        moveString += move + ' '\n",
    "        parentId = ''\n",
    "        try: \n",
    "            board.push_san(move) #push the move to the board\n",
    "            currFen = board.fen() #get the fen from the board\n",
    "            #(BASH SCRIPT TO GET COUNT : takes string returns number of lines, search for movestring+ \" \")\n",
    "            if(currFen not in g.nodes & (count < X)): #only add nodes if the sequence has not yet occured (HOW TO CHECK?) and they are frequent enough \n",
    "                stockfish = engine.analyse(board, chess.engine.Limit(time=0.05)) #get stockfish score of fen\n",
    "                g.add_node(currFen, \n",
    "                           score = float(str(stockfish['score'])), \n",
    "                           movelist = moveString)\n",
    "                g.add_edge(parentId, currFen)\n",
    "            parentID = currFen\n",
    "        except: #skip any errors in the notation that cannot be pushed to a board\n",
    "            continue\n",
    "        "
   ]
  },
  {
   "cell_type": "code",
   "execution_count": null,
   "metadata": {},
   "outputs": [],
   "source": [
    "tree = Tree() #instantiate tree\n",
    "tree.create_node('root', 'root', data = 1)\n",
    "\n",
    "X = 6 #set pruning limit (don't add moves with less than X instances)\n",
    "parentID = ''\n",
    "for string in stringList: #loop through pre-processed games now as san strings\n",
    "    board = chess.Board() #instantiate blank board\n",
    "    moveString = '' #instantiate empty list to append moves to (for unique id)\n",
    "    #set parent ID to root\n",
    "    count = 1\n",
    "    for move in string: #loop through all moves in single game\n",
    "        moveString +=move #check if FEN can work\n",
    "        try:\n",
    "            board.push_san(move) #push the move to the board\n",
    "            currFen = board.fen() #get the fen from the board\n",
    "            #count = 1 #count the instances of this sequence of moves in mega game file (grep?)\n",
    "            #(BASH SCRIPT TO GET COUNT : takes string returns number of lines, search for movestring+ \" \")\n",
    "            if((tree.get_node(moveString) == None) & (count < X)): #only add nodes if the sequence has not yet occured (HOW TO CHECK?) and they are frequent enough \n",
    "                stockfish = engine.analyse(board, chess.engine.Limit(time=0.05)) #get stockfish score of fen\n",
    "                if(string[0] == move): #handle first moves, add to root #handle repeated opening (check length)\n",
    "                    tree.create_node(tag = move, \n",
    "                                     identifier = moveString, \n",
    "                                     parent = 'root', \n",
    "                                     data =[count,int(re.split('\\+|-', str(stockfish['score']))[1])])\n",
    "                                     #data = {cnt: count, sf: stockfish['score']}) #store count of instances and associated stockfish score\n",
    "                else:\n",
    "                    tree.create_node(tag = move, #add node, tag is move, unique id is sequence of moves, \n",
    "                                     identifier = moveString, \n",
    "                                     parent = parentID, #parent is last set of moves\n",
    "                                     data =[count,int(re.split('\\+|-', str(stockfish['score']))[1])]) # get rid of re.split conert to float\n",
    "                                 #data = {\"cnt\": count, \"sf\": stockfish['score']}) #store count of instances and associated stockfish score\n",
    "            count+=1\n",
    "            parentID = moveString\n",
    "        except:\n",
    "            continue"
   ]
  }
 ],
 "metadata": {
  "kernelspec": {
   "display_name": "Python 3",
   "language": "python",
   "name": "python3"
  },
  "language_info": {
   "codemirror_mode": {
    "name": "ipython",
    "version": 3
   },
   "file_extension": ".py",
   "mimetype": "text/x-python",
   "name": "python",
   "nbconvert_exporter": "python",
   "pygments_lexer": "ipython3",
   "version": "3.7.6"
  }
 },
 "nbformat": 4,
 "nbformat_minor": 4
}
