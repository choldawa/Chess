{
 "cells": [
  {
   "cell_type": "raw",
   "metadata": {},
   "source": [
    "Issues:\n",
    "    what about circular/repeated moves?\n",
    "    how to store/efficiently search tree (just move or move path?)\n",
    "    how to evaluate move in stockfish-- can we pass in san?\n",
    "    \n",
    "\n",
    "for tress:\n",
    "[need to track: node, all children, frequency of children]\n",
    "1. get list of moves\n",
    "2. first move becomes root\n",
    "3. next move becomes child\n",
    "4. add +1 to child attribute\n",
    "\n",
    "When looking up, go to root, go to child, continue until desired position reached. Get stockfish of all listed children, weighted by frequency\n"
   ]
  },
  {
   "cell_type": "code",
   "execution_count": 1,
   "metadata": {},
   "outputs": [],
   "source": [
    "# import pip\n",
    "#!pip install pgnparser\n",
    "#Build a tree\n",
    "import chess\n",
    "import chess.pgn\n",
    "import re\n",
    "from treelib import Node, Tree\n"
   ]
  },
  {
   "cell_type": "code",
   "execution_count": 2,
   "metadata": {},
   "outputs": [],
   "source": [
    "pgn_mega = open(\"lichess 2013-01.pgn\")\n",
    "gameList = []\n",
    "for i in range(1,10):\n",
    "    gameList.append(chess.pgn.read_game(pgn_mega))\n",
    "game = gameList[0]"
   ]
  },
  {
   "cell_type": "code",
   "execution_count": 3,
   "metadata": {},
   "outputs": [],
   "source": [
    "# board = chess.Board()\n",
    "# for move in game.mainline():\n",
    "#     print(move)"
   ]
  },
  {
   "cell_type": "code",
   "execution_count": 4,
   "metadata": {},
   "outputs": [
    {
     "name": "stdout",
     "output_type": "stream",
     "text": [
      "1. e4 e6 2. d4 b6 3. a3 Bb7 4. Nc3 Nh6 5. Bxh6 gxh6 6. Be2 Qg5 7. Bg4 h5 8. Nf3 Qg6 9. Nh4 Qg5 10. Bxh5 Qxh4 11. Qf3 Kd8 12. Qxf7 Nc6 13. Qe8#\n"
     ]
    }
   ],
   "source": [
    "print(game.mainline())"
   ]
  },
  {
   "cell_type": "code",
   "execution_count": 5,
   "metadata": {},
   "outputs": [
    {
     "name": "stdout",
     "output_type": "stream",
     "text": [
      "1. e4 e6 2. d4 b6 3. a3 Bb7 4. Nc3 Nh6 5. Bxh6 gxh6 6. Be2 Qg5 7. Bg4 h5 8. Nf3 Qg6 9. Nh4 Qg5 10. Bxh5 Qxh4 11. Qf3 Kd8 12. Qxf7 Nc6 13. Qe8#\n",
      "1 e4 e6 2 d4 b6 3 a3 Bb7 4 Nc3 Nh6 5 Bxh6 gxh6 6 Be2 Qg5 7 Bg4 h5 8 Nf3 Qg6 9 Nh4 Qg5 10 Bxh5 Qxh4 11 Qf3 Kd8 12 Qxf7 Nc6 13 Qe8 \n"
     ]
    }
   ],
   "source": [
    "print(str(game.mainline()))\n",
    "print(re.sub(r'\\W+', ' ', str(game.mainline())))"
   ]
  },
  {
   "cell_type": "code",
   "execution_count": 6,
   "metadata": {},
   "outputs": [
    {
     "name": "stdout",
     "output_type": "stream",
     "text": [
      "['', 'e4 e6', 'd4 b6', 'a3 Bb7', 'Nc3 Nh6', 'Bxh6 gxh6', 'Be2 Qg5', 'Bg4 h5', 'Nf3 Qg6', 'Nh4 Qg5', 'Bxh5 Qxh4', 'Qf3 Kd8', 'Qxf7 Nc6', 'Qe8 ']\n"
     ]
    }
   ],
   "source": [
    "moves = []\n",
    "for move in re.split('\\s?\\d+\\.\\s',str(game.mainline())):\n",
    "    moves.append(re.sub(r'\\W+', ' ',move))\n",
    "print(moves)"
   ]
  },
  {
   "cell_type": "code",
   "execution_count": 7,
   "metadata": {},
   "outputs": [
    {
     "name": "stdout",
     "output_type": "stream",
     "text": [
      " e4 e6 d4 b6 a3 Bb7 Nc3 Nh6 Bxh6 gxh6 Be2 Qg5 Bg4 h5 Nf3 Qg6 Nh4 Qg5 Bxh5 Qxh4 Qf3 Kd8 Qxf7 Nc6 Qe8  \n"
     ]
    }
   ],
   "source": [
    "#string of moves\n",
    "strings = ''\n",
    "for move in re.split('\\s?\\d+\\.\\s',str(game.mainline())):\n",
    "    strings = strings+re.sub(r'\\W+', ' ',move) + ' '\n",
    "print(strings)"
   ]
  },
  {
   "cell_type": "code",
   "execution_count": 8,
   "metadata": {},
   "outputs": [
    {
     "name": "stdout",
     "output_type": "stream",
     "text": [
      "['e4', 'e6', 'd4', 'b6', 'a3', 'Bb7', 'Nc3', 'Nh6', 'Bxh6', 'gxh6', 'Be2', 'Qg5', 'Bg4', 'h5', 'Nf3', 'Qg6', 'Nh4', 'Qg5', 'Bxh5', 'Qxh4', 'Qf3', 'Kd8', 'Qxf7', 'Nc6', 'Qe8']\n",
      "['root', 'e4', 'e6', 'd4', 'b6', 'a3', 'Bb7', 'Nc3', 'Nh6', 'Bxh6', 'gxh6', 'Be2', 'Qg5', 'Bg4', 'h5', 'Nf3', 'Qg6', 'Nh4', 'Qg5', 'Bxh5', 'Qxh4', 'Qf3', 'Kd8', 'Qxf7', 'Nc6', 'Qe8']\n"
     ]
    }
   ],
   "source": [
    "move_list = re.split('\\s',strings)\n",
    "while(\"\" in move_list) : \n",
    "    move_list.remove(\"\")\n",
    "print(move_list)\n",
    "move_list = ['root'] + move_list\n",
    "print(move_list)"
   ]
  },
  {
   "cell_type": "code",
   "execution_count": 9,
   "metadata": {},
   "outputs": [
    {
     "data": {
      "text/plain": [
       "Node(tag=e6, identifier=e6, data=3)"
      ]
     },
     "execution_count": 9,
     "metadata": {},
     "output_type": "execute_result"
    }
   ],
   "source": [
    "tree = Tree()\n",
    "tree.create_node(move_list[0], move_list[0])  # root node\n",
    "tree.create_node(move_list[1], move_list[1], parent = move_list[0])\n",
    "tree.create_node(move_list[2], move_list[2], parent = move_list[1], data =3)\n",
    "\n"
   ]
  },
  {
   "cell_type": "code",
   "execution_count": 10,
   "metadata": {},
   "outputs": [
    {
     "data": {
      "text/plain": [
       "4"
      ]
     },
     "execution_count": 10,
     "metadata": {},
     "output_type": "execute_result"
    }
   ],
   "source": [
    "tree.get_node(move_list[2]).data+=1\n",
    "tree.get_node(move_list[2]).data"
   ]
  },
  {
   "cell_type": "code",
   "execution_count": 11,
   "metadata": {},
   "outputs": [],
   "source": [
    "move_tree = Tree()\n",
    "for i, move in enumerate(move_list):\n",
    "    if move_tree.get_node(move_list[i]) is None:\n",
    "        if(i ==0):\n",
    "            move_tree.create_node(move_list[i], move_list[i], data = 1)\n",
    "        else:\n",
    "            move_tree.create_node(move_list[i], move_list[i], parent = move_list[i-1], data = 1)\n",
    "    else:\n",
    "        move_tree.get_node(move_list[i-1]).data+=1\n"
   ]
  },
  {
   "cell_type": "code",
   "execution_count": 12,
   "metadata": {},
   "outputs": [
    {
     "name": "stdout",
     "output_type": "stream",
     "text": [
      "[['root', 'e4', 'e6', 'd4', 'b6', 'a3', 'Bb7', 'Nc3', 'Nh6', 'Bxh6', 'gxh6', 'Be2', 'Qg5', 'Bg4', 'h5', 'Nf3', 'Qg6', 'Nh4', 'Qg5', 'Bxh5', 'Qxh4', 'Qf3', 'Kd8', 'Qxf7', 'Nc6', 'Qe8'], ['root', 'e4', 'e6', 'd4', 'b6', 'a3', 'Bb7', 'Nc3', 'Nh6', 'Bxh6', 'test', 'test2']]\n"
     ]
    }
   ],
   "source": [
    "move_list2 = move_list[0:10] + ['test', 'test2']\n",
    "move_list_full = [move_list, move_list2]\n",
    "print(move_list_full)"
   ]
  },
  {
   "cell_type": "code",
   "execution_count": 13,
   "metadata": {},
   "outputs": [],
   "source": [
    "move_tree = Tree()\n",
    "for move_list in move_list_full:\n",
    "#     print (move_list)\n",
    "    for i, move in enumerate(move_list):\n",
    "#         print(move)\n",
    "        if move_tree.get_node(move_list[i]) is None:\n",
    "            if(i ==0):\n",
    "                move_tree.create_node(move_list[i], move_list[i], data = 1)\n",
    "            else:\n",
    "                move_tree.create_node(move_list[i], move_list[i], parent = move_list[i-1], data = 1)\n",
    "        else:\n",
    "            if(i!=0):\n",
    "                move_tree.get_node(move_list[i-1]).data+=1"
   ]
  },
  {
   "cell_type": "code",
   "execution_count": 14,
   "metadata": {},
   "outputs": [
    {
     "data": {
      "text/plain": [
       "'gxh6'"
      ]
     },
     "execution_count": 14,
     "metadata": {},
     "output_type": "execute_result"
    }
   ],
   "source": [
    "move_tree.children('Bxh6')[0].tag"
   ]
  },
  {
   "cell_type": "code",
   "execution_count": 15,
   "metadata": {},
   "outputs": [
    {
     "name": "stdout",
     "output_type": "stream",
     "text": [
      "2\n",
      "root\n",
      "└── e4\n",
      "    └── e6\n",
      "        └── d4\n",
      "            └── b6\n",
      "                └── a3\n",
      "                    └── Bb7\n",
      "                        └── Nc3\n",
      "                            └── Nh6\n",
      "                                └── Bxh6\n",
      "                                    ├── gxh6\n",
      "                                    │   └── Be2\n",
      "                                    │       └── Qg5\n",
      "                                    │           ├── Bg4\n",
      "                                    │           │   └── h5\n",
      "                                    │           │       └── Nf3\n",
      "                                    │           │           └── Qg6\n",
      "                                    │           │               └── Nh4\n",
      "                                    │           └── Bxh5\n",
      "                                    │               └── Qxh4\n",
      "                                    │                   └── Qf3\n",
      "                                    │                       └── Kd8\n",
      "                                    │                           └── Qxf7\n",
      "                                    │                               └── Nc6\n",
      "                                    │                                   └── Qe8\n",
      "                                    └── test\n",
      "                                        └── test2\n",
      "\n"
     ]
    }
   ],
   "source": [
    "print(move_tree.get_node('e4').data)\n",
    "print(move_tree)"
   ]
  },
  {
   "cell_type": "code",
   "execution_count": 16,
   "metadata": {},
   "outputs": [],
   "source": [
    "# import pip\n",
    "# !pip install chessmoves\n",
    "#import chessmoves"
   ]
  },
  {
   "cell_type": "code",
   "execution_count": 17,
   "metadata": {},
   "outputs": [],
   "source": [
    "# import pip\n",
    "# !pip install stockfish\n",
    "from stockfish import Stockfish\n",
    "stockfish = Stockfish(\"./stockfish-10-64\")\n"
   ]
  },
  {
   "cell_type": "code",
   "execution_count": 24,
   "metadata": {},
   "outputs": [
    {
     "data": {
      "text/plain": [
       "{'type': 'cp', 'value': 74}"
      ]
     },
     "execution_count": 24,
     "metadata": {},
     "output_type": "execute_result"
    }
   ],
   "source": [
    "stockfish.set_position([\"e2e4\", \"e7e6\", \"d2d4\"]) #only takes lan and fen??\n",
    "stockfish.get_evaluation()"
   ]
  },
  {
   "cell_type": "code",
   "execution_count": 21,
   "metadata": {},
   "outputs": [
    {
     "name": "stdout",
     "output_type": "stream",
     "text": [
      "Score: -123\n",
      "Score: -123\n",
      "Score: -108\n"
     ]
    }
   ],
   "source": [
    "import chess\n",
    "import chess.engine\n",
    "\n",
    "engine = chess.engine.SimpleEngine.popen_uci(\"./stockfish-10-64\")\n",
    "\n",
    "scores = []\n",
    "board = chess.Board()\n",
    "for move in move_list[1:10]:\n",
    "    board.push_san(move)\n",
    "info = engine.analyse(board, chess.engine.Limit(depth=20)) #seems about same as below, but slower\n",
    "info1 = engine.analyse(board, chess.engine.Limit(time=0.1))\n",
    "info2 = engine.analyse(board, chess.engine.Limit(time=0.05))\n",
    "print(\"Score:\", info[\"score\"])\n",
    "print(\"Score:\", info1[\"score\"])\n",
    "print(\"Score:\", info2[\"score\"])"
   ]
  }
 ],
 "metadata": {
  "kernelspec": {
   "display_name": "Python 3",
   "language": "python",
   "name": "python3"
  },
  "language_info": {
   "codemirror_mode": {
    "name": "ipython",
    "version": 3
   },
   "file_extension": ".py",
   "mimetype": "text/x-python",
   "name": "python",
   "nbconvert_exporter": "python",
   "pygments_lexer": "ipython3",
   "version": "3.7.6"
  }
 },
 "nbformat": 4,
 "nbformat_minor": 4
}
