{
 "cells": [
  {
   "cell_type": "code",
   "execution_count": 2,
   "metadata": {},
   "outputs": [],
   "source": [
    "########\n",
    "#pipe grep command of move sequence into another grep command to get 1-0 to tabulate total wins, ties and losses\n",
    "#these will need to be incremented in same way as counts\n",
    "\n",
    "import networkx as nx\n",
    "import matplotlib as plt\n",
    "import numpy as np\n",
    "import re\n",
    "import chess\n",
    "import chess.pgn\n",
    "import chess.engine\n",
    "import subprocess\n",
    "import time\n",
    "import timeit\n",
    "import pickle\n",
    "import stockfish\n",
    "engine = chess.engine.SimpleEngine.popen_uci(\"./stockfish-10-64\")"
   ]
  },
  {
   "cell_type": "code",
   "execution_count": 3,
   "metadata": {},
   "outputs": [],
   "source": [
    "from stockfish import Stockfish\n",
    "stockfish = Stockfish(\"./stockfish-10-64\")"
   ]
  },
  {
   "cell_type": "code",
   "execution_count": 4,
   "metadata": {},
   "outputs": [],
   "source": [
    "with open('Lichess2013noNumbers.txt', \"r\") as file_in:\n",
    "    mainlineList = []\n",
    "    for line in file_in:\n",
    "        mainlineList.append(line)"
   ]
  },
  {
   "cell_type": "code",
   "execution_count": 5,
   "metadata": {},
   "outputs": [
    {
     "name": "stdout",
     "output_type": "stream",
     "text": [
      "121332\n"
     ]
    }
   ],
   "source": [
    "stringList = []\n",
    "for mainLine in mainlineList:\n",
    "    stringList.append(mainLine.split())\n",
    "print(len(stringList))"
   ]
  },
  {
   "cell_type": "code",
   "execution_count": 6,
   "metadata": {},
   "outputs": [],
   "source": [
    "## TESTING IF DIFFERENT MOVESTRINGS CONVERGE TO SAME FEN\n",
    "stringList = [['e4','e5','d4','d5','c3'],\n",
    "             ['d4','e5','e4','d5','a3']]"
   ]
  },
  {
   "cell_type": "code",
   "execution_count": 65,
   "metadata": {},
   "outputs": [
    {
     "name": "stdout",
     "output_type": "stream",
     "text": [
      "strings processed: 0\n",
      "e4 ['36889', '0', '33320', '1', '2279', '2']\n",
      "e4 36889 33320 2279 72488\n",
      "e5 ['17255', '0', '14411', '1', '1036', '2']\n",
      "e5 17255 14411 1036 32702\n",
      "d4 ['1197', '0', '991', '1', '53', '2']\n",
      "d4 1197 991 53 2241\n",
      "d5 ['54', '0', '31', '1', '1', '2']\n",
      "d5 54 31 1 86\n",
      "c3 ['1', '0', '1', '1', '1', '2']\n",
      "c3 1 1 1 3\n",
      "strings processed: 0\n",
      "d4 ['15666', '0', '12327', '1', '1074', '2']\n",
      "d4 15666 12327 1074 29067\n",
      "e5 ['453', '0', '371', '1', '35', '2']\n",
      "e5 453 371 35 859\n",
      "e4 ['10', '0', '12', '1', '1', '2']\n",
      "e4 10 12 1 23\n",
      "d5 ['1', '0', '1', '1']\n"
     ]
    },
    {
     "ename": "IndexError",
     "evalue": "list index out of range",
     "output_type": "error",
     "traceback": [
      "\u001b[0;31m---------------------------------------------------------------------------\u001b[0m",
      "\u001b[0;31mIndexError\u001b[0m                                Traceback (most recent call last)",
      "\u001b[0;32m<ipython-input-65-19cebbb6e8a7>\u001b[0m in \u001b[0;36m<module>\u001b[0;34m\u001b[0m\n\u001b[1;32m     32\u001b[0m         \u001b[0;32melse\u001b[0m\u001b[0;34m:\u001b[0m\u001b[0;34m\u001b[0m\u001b[0;34m\u001b[0m\u001b[0m\n\u001b[1;32m     33\u001b[0m             \u001b[0mcountWhite\u001b[0m \u001b[0;34m=\u001b[0m \u001b[0;36m0\u001b[0m \u001b[0;31m#black\u001b[0m\u001b[0;34m\u001b[0m\u001b[0;34m\u001b[0m\u001b[0m\n\u001b[0;32m---> 34\u001b[0;31m         \u001b[0;32mif\u001b[0m\u001b[0;34m(\u001b[0m\u001b[0mint\u001b[0m\u001b[0;34m(\u001b[0m\u001b[0mre\u001b[0m\u001b[0;34m.\u001b[0m\u001b[0mfindall\u001b[0m\u001b[0;34m(\u001b[0m\u001b[0;34m'\\d+'\u001b[0m\u001b[0;34m,\u001b[0m\u001b[0mstr\u001b[0m\u001b[0;34m(\u001b[0m\u001b[0moutput\u001b[0m\u001b[0;34m)\u001b[0m\u001b[0;34m)\u001b[0m\u001b[0;34m[\u001b[0m\u001b[0;36m5\u001b[0m\u001b[0;34m]\u001b[0m\u001b[0;34m)\u001b[0m \u001b[0;34m==\u001b[0m \u001b[0;36m2\u001b[0m\u001b[0;34m)\u001b[0m\u001b[0;34m:\u001b[0m\u001b[0;34m\u001b[0m\u001b[0;34m\u001b[0m\u001b[0m\n\u001b[0m\u001b[1;32m     35\u001b[0m                 \u001b[0mcountTie\u001b[0m \u001b[0;34m=\u001b[0m \u001b[0mint\u001b[0m\u001b[0;34m(\u001b[0m\u001b[0mre\u001b[0m\u001b[0;34m.\u001b[0m\u001b[0mfindall\u001b[0m\u001b[0;34m(\u001b[0m\u001b[0;34m'\\d+'\u001b[0m\u001b[0;34m,\u001b[0m\u001b[0mstr\u001b[0m\u001b[0;34m(\u001b[0m\u001b[0moutput\u001b[0m\u001b[0;34m)\u001b[0m\u001b[0;34m)\u001b[0m\u001b[0;34m[\u001b[0m\u001b[0;36m4\u001b[0m\u001b[0;34m]\u001b[0m\u001b[0;34m)\u001b[0m\u001b[0;31m#black\u001b[0m\u001b[0;34m\u001b[0m\u001b[0;34m\u001b[0m\u001b[0m\n\u001b[1;32m     36\u001b[0m         \u001b[0;32melse\u001b[0m\u001b[0;34m:\u001b[0m\u001b[0;34m\u001b[0m\u001b[0;34m\u001b[0m\u001b[0m\n",
      "\u001b[0;31mIndexError\u001b[0m: list index out of range"
     ]
    }
   ],
   "source": [
    "game_file = \"Lichess2013noNumbers.txt\"\n",
    "start = timeit.default_timer()\n",
    "\n",
    "g = nx.DiGraph()\n",
    "g.add_node('')\n",
    "X = 0\n",
    "cnt = 0\n",
    "for string in stringList[:10]:\n",
    "    if(cnt%50 == 0):\n",
    "        print(\"strings processed:\", cnt)\n",
    "    board = chess.Board()\n",
    "    moveString = '^ \\+'\n",
    "    parentFen = ''\n",
    "    for move in string:\n",
    "        moveString += move + ' \\+'\n",
    "        board.push_san(move) #push the move to the board\n",
    "        currFen = board.fen() #get the fen from the board\n",
    "         #BASH SCRIPT TO GET COUNT\n",
    "            #pipe big grep into temp file, cat/query that\n",
    "            #eliminate duplicate count call\n",
    "            #grep -o '.$' | sort |unique- c\n",
    "        command = 'grep -I \"{}\"  {}  | grep -o \".$\" | sort | uniq -c'.format(moveString, game_file)\n",
    "        process = subprocess.Popen(command, stdout=subprocess.PIPE, stderr=None, shell=True)\n",
    "        output = process.communicate()\n",
    "        print(move,re.findall('\\d+',str(output)))\n",
    "        if(int(re.findall('\\d+',str(output))[1]) == 0):\n",
    "                countBlack = int(re.findall('\\d+',str(output))[0])#black\n",
    "        else:\n",
    "            countBlack = 0 #black\n",
    "        if(int(re.findall('\\d+',str(output))[3]) == 1):\n",
    "                countWhite = int(re.findall('\\d+',str(output))[2])#black\n",
    "        else:\n",
    "            countWhite = 0 #black\n",
    "        if(int(re.findall('\\d+',str(output))[5]) == 2):\n",
    "                countTie = int(re.findall('\\d+',str(output))[4])#black\n",
    "        else:\n",
    "            countTie = 0 #black\n",
    "        count = countWhite + countBlack + countTie\n",
    "        print(move, countBlack, countWhite, countTie, count)"
   ]
  },
  {
   "cell_type": "code",
   "execution_count": 57,
   "metadata": {},
   "outputs": [
    {
     "name": "stdout",
     "output_type": "stream",
     "text": [
      "strings processed: 0\n",
      "e4 72488\n",
      "e5 32702\n",
      "d4 2241\n",
      "d5 86\n",
      "c3 3\n",
      "d4 29067\n",
      "e5 859\n",
      "e4 23\n",
      "Time:  3.535269480002171\n",
      "totalNodes: 8\n",
      "['', 'rnbqkbnr/pppppppp/8/8/4P3/8/PPPP1PPP/RNBQKBNR b KQkq - 0 1', 'rnbqkbnr/pppp1ppp/8/4p3/4P3/8/PPPP1PPP/RNBQKBNR w KQkq - 0 2', 'rnbqkbnr/pppp1ppp/8/4p3/3PP3/8/PPP2PPP/RNBQKBNR b KQkq - 0 2', 'rnbqkbnr/ppp2ppp/8/3pp3/3PP3/8/PPP2PPP/RNBQKBNR w KQkq - 0 3', 'rnbqkbnr/ppp2ppp/8/3pp3/3PP3/2P5/PP3PPP/RNBQKBNR b KQkq - 0 3', 'rnbqkbnr/pppppppp/8/8/3P4/8/PPP1PPPP/RNBQKBNR b KQkq - 0 1', 'rnbqkbnr/pppp1ppp/8/4p3/3P4/8/PPP1PPPP/RNBQKBNR w KQkq - 0 2']\n"
     ]
    }
   ],
   "source": [
    "#FIXES ISSUE WITHMULTIPLE NODES, OVERCOUNTING\n",
    "game_file = \"Lichess2013noNumbers.txt\"\n",
    "start = timeit.default_timer()\n",
    "\n",
    "g = nx.DiGraph()\n",
    "g.add_node('')\n",
    "X = 0\n",
    "cnt = 0\n",
    "for string in stringList[:10]:\n",
    "    if(cnt%50 == 0):\n",
    "        print(\"strings processed:\", cnt)\n",
    "    board = chess.Board()\n",
    "    moveString = '^ \\+'\n",
    "    parentFen = ''\n",
    "    for move in string:\n",
    "        moveString += move + ' \\+'\n",
    "        try: \n",
    "            \n",
    "            board.push_san(move) #push the move to the board\n",
    "            currFen = board.fen() #get the fen from the board\n",
    "             #BASH SCRIPT TO GET COUNT\n",
    "                #pipe big grep into temp file, cat/query that\n",
    "                #eliminate duplicate count call\n",
    "                #grep -o '.$' | sort |unique- c\n",
    "            command = 'grep -I \"{}\"  {}  | grep -o \".$\" | sort | uniq -c'.format(moveString, game_file)\n",
    "            process = subprocess.Popen(command, stdout=subprocess.PIPE, stderr=None, shell=True)\n",
    "            output = process.communicate()\n",
    "            \n",
    "            countBlack = int(re.findall('\\d+',str(output))[0]) #black\n",
    "            countWhite = int(re.findall('\\d+',str(output))[2]) #white\n",
    "            countTie = int(re.findall('\\d+',str(output))[4]) #tie\n",
    "            count = countWhite + countBlack + countTie\n",
    "            \n",
    "            print(move, count)\n",
    "            #check if fen is new, if yes, and count is high, add new node\n",
    "            if(currFen not in g.nodes and count>=X): #only add nodes if the sequence has not yet occured and they are frequent enough \n",
    "                #stockfish = engine.analyse(board, chess.engine.Limit(time=0.05)) #get stockfish score of fen\n",
    "                stockfish.set_fen_position(currFen)\n",
    "                \n",
    "                g.add_node(currFen, \n",
    "                           score = stockfish.get_evaluation()['value'], \n",
    "                           count = count,\n",
    "#                            whiteWins = countWhite,\n",
    "#                            blackWins = countBlack,\n",
    "#                            tie = countTie,\n",
    "                           movelist = {parentFen:count}) #make a dict of parent IDs and count\n",
    "                          # movelist = [[moveString]]) #make a list of moveStrings\n",
    "                g.add_edge(parentFen, currFen)\n",
    "                parentFen = currFen\n",
    "            #if fen is not new, check if movestring in list of movestrings, if not, add it and add count  \n",
    "            elif(count>=X):\n",
    "                if(parentFen not in nx.get_node_attributes(g, 'movelist')[currFen]):\n",
    "                    #nx.get_node_attributes(g, 'movelist')[currFen] = nx.get_node_attributes(g, 'movelist')[currFen].append([moveString])\n",
    "                    nx.get_node_attributes(g, 'movelist')[currFen][parentFen] = count\n",
    "                    g.nodes[currFen]['count'] = nx.get_node_attributes(g, 'count')[currFen]+count\n",
    "#                     g.nodes[currFen]['whiteWins'] = nx.get_node_attributes(g, 'whiteWins')[currFen]+countWhite\n",
    "#                     g.nodes[currFen]['blackWins'] = nx.get_node_attributes(g, 'blackWins')[currFen]+countBlack\n",
    "#                     g.nodes[currFen]['tie'] = nx.get_node_attributes(g, 'tie')[currFen]+countTie\n",
    "                    g.add_edge(parentFen, currFen)\n",
    "                parentFen = currFen\n",
    "            else:\n",
    "                break\n",
    "        except: #skip any errors in the notation that cannot be pushed to a board\n",
    "            #print(\"EXCEPT\")\n",
    "            break\n",
    "    cnt+=1\n",
    "stop = timeit.default_timer()\n",
    "print('Time: ', stop - start)\n",
    "print(\"totalNodes:\",len(g))\n",
    "print(g.nodes)"
   ]
  },
  {
   "cell_type": "code",
   "execution_count": 36,
   "metadata": {},
   "outputs": [
    {
     "name": "stdout",
     "output_type": "stream",
     "text": [
      "strings processed: 0\n",
      "e4 72488\n",
      "e5 32702\n",
      "d4 2241\n",
      "d5 86\n",
      "c3 3\n",
      "d4 29067\n",
      "e5 859\n",
      "e4 23\n",
      "d5 2\n",
      "a3 0\n",
      "Time:  13.726465587000348\n",
      "totalNodes: 9\n",
      "['', 'rnbqkbnr/pppppppp/8/8/4P3/8/PPPP1PPP/RNBQKBNR b KQkq - 0 1', 'rnbqkbnr/pppp1ppp/8/4p3/4P3/8/PPPP1PPP/RNBQKBNR w KQkq - 0 2', 'rnbqkbnr/pppp1ppp/8/4p3/3PP3/8/PPP2PPP/RNBQKBNR b KQkq - 0 2', 'rnbqkbnr/ppp2ppp/8/3pp3/3PP3/8/PPP2PPP/RNBQKBNR w KQkq - 0 3', 'rnbqkbnr/ppp2ppp/8/3pp3/3PP3/2P5/PP3PPP/RNBQKBNR b KQkq - 0 3', 'rnbqkbnr/pppppppp/8/8/3P4/8/PPP1PPPP/RNBQKBNR b KQkq - 0 1', 'rnbqkbnr/pppp1ppp/8/4p3/3P4/8/PPP1PPPP/RNBQKBNR w KQkq - 0 2', 'rnbqkbnr/ppp2ppp/8/3pp3/3PP3/P7/1PP2PPP/RNBQKBNR b KQkq - 0 3']\n"
     ]
    }
   ],
   "source": [
    "#FIXES ISSUE WITHMULTIPLE NODES, OVERCOUNTING\n",
    "game_file = \"Lichess2013noNumbers.txt\"\n",
    "start = timeit.default_timer()\n",
    "\n",
    "g = nx.DiGraph()\n",
    "g.add_node('')\n",
    "X = 0\n",
    "cnt = 0\n",
    "for string in stringList[:10]:\n",
    "    if(cnt%50 == 0):\n",
    "        print(\"strings processed:\", cnt)\n",
    "    board = chess.Board()\n",
    "    moveString = '^ \\+'\n",
    "    parentFen = ''\n",
    "    for move in string:\n",
    "        moveString += move + ' \\+'\n",
    "        try: \n",
    "            board.push_san(move) #push the move to the board\n",
    "            currFen = board.fen() #get the fen from the board\n",
    "             #BASH SCRIPT TO GET COUNT\n",
    "                #pipe big grep into temp file, cat/query that\n",
    "                #eliminate duplicate count call\n",
    "                #grep -o '.$' | sort |unique- c\n",
    "            command = \"grep -I '{}'  {} | wc -l\".format(moveString, game_file)\n",
    "            process = subprocess.Popen(command, stdout=subprocess.PIPE, stderr=None, shell=True)\n",
    "            output = process.communicate()\n",
    "            count = int(re.findall('\\d+',str(output))[0])\n",
    "            #BASH TO GET WIN PERCENT White\n",
    "            commandWhite = \"grep -I '{}'  {} | grep -I '[0]$' | wc -l\".format(moveString, game_file)\n",
    "            process = subprocess.Popen(commandWhite, stdout=subprocess.PIPE, stderr=None, shell=True)\n",
    "            output = process.communicate()\n",
    "            countWhite = int(re.findall('\\d+',str(output))[0])\n",
    "            #Black\n",
    "            commandBlack = \"grep -I '{}'  {} | grep -I '[1]$' | wc -l\".format(moveString, game_file)\n",
    "            process = subprocess.Popen(commandBlack, stdout=subprocess.PIPE, stderr=None, shell=True)\n",
    "            output = process.communicate()\n",
    "            countBlack = int(re.findall('\\d+',str(output))[0])\n",
    "            #Tie\n",
    "            commandTie = \"grep -I '{}'  {} | grep -I '[2]$' | wc -l\".format(moveString, game_file)\n",
    "            process = subprocess.Popen(commandTie, stdout=subprocess.PIPE, stderr=None, shell=True)\n",
    "            output = process.communicate()\n",
    "            countTie = int(re.findall('\\d+',str(output))[0])\n",
    "            \n",
    "            print(move, count)\n",
    "            #check if fen is new, if yes, and count is high, add new node\n",
    "            if(currFen not in g.nodes and count>=X): #only add nodes if the sequence has not yet occured and they are frequent enough \n",
    "                #stockfish = engine.analyse(board, chess.engine.Limit(time=0.05)) #get stockfish score of fen\n",
    "                stockfish.set_fen_position(currFen)\n",
    "                \n",
    "                g.add_node(currFen, \n",
    "                           score = stockfish.get_evaluation()['value'], \n",
    "                           count = count,\n",
    "#                            whiteWins = countWhite,\n",
    "#                            blackWins = countBlack,\n",
    "#                            tie = countTie,\n",
    "                           movelist = {parentFen:count}) #make a dict of parent IDs and count\n",
    "                          # movelist = [[moveString]]) #make a list of moveStrings\n",
    "                g.add_edge(parentFen, currFen)\n",
    "                parentFen = currFen\n",
    "            #if fen is not new, check if movestring in list of movestrings, if not, add it and add count  \n",
    "            elif(count>=X):\n",
    "                if(parentFen not in nx.get_node_attributes(g, 'movelist')[currFen]):\n",
    "                    #nx.get_node_attributes(g, 'movelist')[currFen] = nx.get_node_attributes(g, 'movelist')[currFen].append([moveString])\n",
    "                    nx.get_node_attributes(g, 'movelist')[currFen][parentFen] = count\n",
    "                    g.nodes[currFen]['count'] = nx.get_node_attributes(g, 'count')[currFen]+count\n",
    "#                     g.nodes[currFen]['whiteWins'] = nx.get_node_attributes(g, 'whiteWins')[currFen]+countWhite\n",
    "#                     g.nodes[currFen]['blackWins'] = nx.get_node_attributes(g, 'blackWins')[currFen]+countBlack\n",
    "#                     g.nodes[currFen]['tie'] = nx.get_node_attributes(g, 'tie')[currFen]+countTie\n",
    "                    g.add_edge(parentFen, currFen)\n",
    "                parentFen = currFen\n",
    "            else:\n",
    "                break\n",
    "        except: #skip any errors in the notation that cannot be pushed to a board\n",
    "            #print(\"EXCEPT\")\n",
    "            break\n",
    "    cnt+=1\n",
    "stop = timeit.default_timer()\n",
    "print('Time: ', stop - start)\n",
    "print(\"totalNodes:\",len(g))\n",
    "print(g.nodes)"
   ]
  },
  {
   "cell_type": "code",
   "execution_count": null,
   "metadata": {},
   "outputs": [],
   "source": [
    "#save as pickle\n",
    "nx.write_gpickle(g,\"g1000dict.gpickle\")"
   ]
  },
  {
   "cell_type": "code",
   "execution_count": 1,
   "metadata": {
    "collapsed": true
   },
   "outputs": [
    {
     "ename": "NameError",
     "evalue": "name 'g' is not defined",
     "output_type": "error",
     "traceback": [
      "\u001b[0;31m---------------------------------------------------------------------------\u001b[0m",
      "\u001b[0;31mNameError\u001b[0m                                 Traceback (most recent call last)",
      "\u001b[0;32m<ipython-input-1-820c1766eb2d>\u001b[0m in \u001b[0;36m<module>\u001b[0;34m\u001b[0m\n\u001b[1;32m      1\u001b[0m \u001b[0;31m#read pickle\u001b[0m\u001b[0;34m\u001b[0m\u001b[0;34m\u001b[0m\u001b[0;34m\u001b[0m\u001b[0m\n\u001b[1;32m      2\u001b[0m \u001b[0;31m#g=nx.read_gpickle(\"g1000dict.gpickle\")\u001b[0m\u001b[0;34m\u001b[0m\u001b[0;34m\u001b[0m\u001b[0;34m\u001b[0m\u001b[0m\n\u001b[0;32m----> 3\u001b[0;31m \u001b[0mprint\u001b[0m\u001b[0;34m(\u001b[0m\u001b[0;34m\"totalNodes:\"\u001b[0m\u001b[0;34m,\u001b[0m\u001b[0mlen\u001b[0m\u001b[0;34m(\u001b[0m\u001b[0mg\u001b[0m\u001b[0;34m)\u001b[0m\u001b[0;34m)\u001b[0m\u001b[0;34m\u001b[0m\u001b[0;34m\u001b[0m\u001b[0m\n\u001b[0m",
      "\u001b[0;31mNameError\u001b[0m: name 'g' is not defined"
     ]
    }
   ],
   "source": [
    "#read pickle\n",
    "g=nx.read_gpickle(\"g1000dict.gpickle\")\n",
    "print(\"totalNodes:\",len(g))"
   ]
  },
  {
   "cell_type": "code",
   "execution_count": 35,
   "metadata": {},
   "outputs": [
    {
     "data": {
      "image/png": "[encoded data removed]",
      "text/plain": [
       "<Figure size 432x288 with 1 Axes>"
      ]
     },
     "metadata": {},
     "output_type": "display_data"
    }
   ],
   "source": [
    "#print(\"Total Nodes:\", len(g))\n",
    "nx.draw(g, with_labels=False)"
   ]
  },
  {
   "cell_type": "code",
   "execution_count": 21,
   "metadata": {
    "collapsed": true
   },
   "outputs": [
    {
     "data": {
      "text/plain": [
       "NodeView(('', 'rnbqkbnr/pppppppp/8/8/4P3/8/PPPP1PPP/RNBQKBNR b KQkq - 0 1', 'rnbqkbnr/pppp1ppp/4p3/8/4P3/8/PPPP1PPP/RNBQKBNR w KQkq - 0 2', 'rnbqkbnr/pppp1ppp/4p3/8/3PP3/8/PPP2PPP/RNBQKBNR b KQkq - 0 2', 'rnbqkbnr/p1pp1ppp/1p2p3/8/3PP3/8/PPP2PPP/RNBQKBNR w KQkq - 0 3', 'rnbqkbnr/p1pp1ppp/1p2p3/8/3PP3/P7/1PP2PPP/RNBQKBNR b KQkq - 0 3', 'rn1qkbnr/pbpp1ppp/1p2p3/8/3PP3/P7/1PP2PPP/RNBQKBNR w KQkq - 1 4', 'rn1qkbnr/pbpp1ppp/1p2p3/8/3PP3/P1N5/1PP2PPP/R1BQKBNR b KQkq - 2 4', 'rn1qkb1r/pbpp1ppp/1p2p2n/8/3PP3/P1N5/1PP2PPP/R1BQKBNR w KQkq - 3 5', 'rn1qkb1r/pbpp1ppp/1p2p2B/8/3PP3/P1N5/1PP2PPP/R2QKBNR b KQkq - 0 5', 'rn1qkb1r/pbpp1p1p/1p2p2p/8/3PP3/P1N5/1PP2PPP/R2QKBNR w KQkq - 0 6', 'rn1qkb1r/pbpp1p1p/1p2p2p/8/3PP3/P1N5/1PP1BPPP/R2QK1NR b KQkq - 1 6', 'rn2kb1r/pbpp1p1p/1p2p2p/6q1/3PP3/P1N5/1PP1BPPP/R2QK1NR w KQkq - 2 7', 'rn2kb1r/pbpp1p1p/1p2p2p/6q1/3PP1B1/P1N5/1PP2PPP/R2QK1NR b KQkq - 3 7', 'rn2kb1r/pbpp1p1p/1p2p3/6qp/3PP1B1/P1N5/1PP2PPP/R2QK1NR w KQkq - 0 8', 'rn2kb1r/pbpp1p1p/1p2p3/6qp/3PP1B1/P1N2N2/1PP2PPP/R2QK2R b KQkq - 1 8', 'rn2kb1r/pbpp1p1p/1p2p1q1/7p/3PP1B1/P1N2N2/1PP2PPP/R2QK2R w KQkq - 2 9', 'rn2kb1r/pbpp1p1p/1p2p1q1/7p/3PP1BN/P1N5/1PP2PPP/R2QK2R b KQkq - 3 9', 'rn2kb1r/pbpp1p1p/1p2p3/6qp/3PP1BN/P1N5/1PP2PPP/R2QK2R w KQkq - 4 10', 'rn2kb1r/pbpp1p1p/1p2p3/6qB/3PP2N/P1N5/1PP2PPP/R2QK2R b KQkq - 0 10', 'rn2kb1r/pbpp1p1p/1p2p3/7B/3PP2q/P1N5/1PP2PPP/R2QK2R w KQkq - 0 11', 'rn2kb1r/pbpp1p1p/1p2p3/7B/3PP2q/P1N2Q2/1PP2PPP/R3K2R b KQkq - 1 11', 'rn1k1b1r/pbpp1p1p/1p2p3/7B/3PP2q/P1N2Q2/1PP2PPP/R3K2R w KQ - 2 12', 'rn1k1b1r/pbpp1Q1p/1p2p3/7B/3PP2q/P1N5/1PP2PPP/R3K2R b KQ - 0 12', 'r2k1b1r/pbpp1Q1p/1pn1p3/7B/3PP2q/P1N5/1PP2PPP/R3K2R w KQ - 1 13', 'rnbqkbnr/pppppppp/8/8/3P4/8/PPP1PPPP/RNBQKBNR b KQkq - 0 1', 'rnbqkbnr/ppp1pppp/8/3p4/3P4/8/PPP1PPPP/RNBQKBNR w KQkq - 0 2', 'rnbqkbnr/ppp1pppp/8/3p4/3P4/5N2/PPP1PPPP/RNBQKB1R b KQkq - 1 2', 'rnbqkb1r/ppp1pppp/5n2/3p4/3P4/5N2/PPP1PPPP/RNBQKB1R w KQkq - 2 3', 'rnbqkb1r/ppp1pppp/5n2/3p4/3P4/4PN2/PPP2PPP/RNBQKB1R b KQkq - 0 3', 'rn1qkb1r/ppp1pppp/5n2/3p1b2/3P4/4PN2/PPP2PPP/RNBQKB1R w KQkq - 1 4', 'rn1qkb1r/ppp1pppp/5n2/3p1b2/3P3N/4P3/PPP2PPP/RNBQKB1R b KQkq - 2 4', 'rn1qkb1r/ppp1pppp/5nb1/3p4/3P3N/4P3/PPP2PPP/RNBQKB1R w KQkq - 3 5', 'rn1qkb1r/ppp1pppp/5nN1/3p4/3P4/4P3/PPP2PPP/RNBQKB1R b KQkq - 0 5', 'rn1qkb1r/ppp1ppp1/5np1/3p4/3P4/4P3/PPP2PPP/RNBQKB1R w KQkq - 0 6', 'rn1qkb1r/ppp1ppp1/5np1/3p4/3P4/4P3/PPPN1PPP/R1BQKB1R b KQkq - 1 6', 'rn1qkb1r/ppp2pp1/4pnp1/3p4/3P4/4P3/PPPN1PPP/R1BQKB1R w KQkq - 0 7', 'rn1qkb1r/ppp2pp1/4pnp1/3p4/3P4/3BP3/PPPN1PPP/R1BQK2R b KQkq - 1 7', 'rn1qk2r/ppp2pp1/3bpnp1/3p4/3P4/3BP3/PPPN1PPP/R1BQK2R w KQkq - 2 8', 'rn1qk2r/ppp2pp1/3bpnp1/3p4/3PP3/3B4/PPPN1PPP/R1BQK2R b KQkq - 0 8', 'rn1qk2r/ppp2pp1/3bpnp1/8/3Pp3/3B4/PPPN1PPP/R1BQK2R w KQkq - 0 9', 'rn1qk2r/ppp2pp1/3bpnp1/8/3PN3/3B4/PPP2PPP/R1BQK2R b KQkq - 0 9', 'rn1qk3/ppp2pp1/3bpnp1/8/3PN3/3B4/PPP2PPr/R1BQK2R w KQq - 0 10', 'rn1qk3/ppp2pp1/3bpnp1/8/3PN3/3B4/PPP1KPPr/R1BQ3R b q - 1 10', 'rn1qk3/ppp2pp1/3bpnp1/8/3PN3/3B4/PPP1KPP1/R1BQ3r w q - 0 11', 'rn1qk3/ppp2pp1/3bpnp1/8/3PN3/3B4/PPP1KPP1/R1B4Q b q - 0 11', 'r2qk3/ppp2pp1/2nbpnp1/8/3PN3/3B4/PPP1KPP1/R1B4Q w q - 1 12', 'r2qk3/ppp2pp1/2nbpnp1/6B1/3PN3/3B4/PPP1KPP1/R6Q b q - 2 12', 'r2q4/ppp1kpp1/2nbpnp1/6B1/3PN3/3B4/PPP1KPP1/R6Q w - - 3 13', 'r2q4/ppp1kppQ/2nbpnp1/6B1/3PN3/3B4/PPP1KPP1/R7 b - - 4 13', 'r2q4/ppp1kppQ/3bpnp1/6B1/3nN3/3B4/PPP1KPP1/R7 w - - 0 14', 'r2q4/ppp1kppQ/3bpnp1/6B1/3nN3/3B4/PPPK1PP1/R7 b - - 1 14', 'r3q3/ppp1kppQ/3bpnp1/6B1/3nN3/3B4/PPPK1PP1/R7 w - - 2 15', 'r3q3/ppp1kpQ1/3bpnp1/6B1/3nN3/3B4/PPPK1PP1/R7 b - - 0 15', 'r6q/ppp1kpQ1/3bpnp1/6B1/3nN3/3B4/PPPK1PP1/R7 w - - 1 16', 'r6q/ppp1kpQ1/3bpBp1/8/3nN3/3B4/PPPK1PP1/R7 b - - 0 16', 'r6q/pppk1pQ1/3bpBp1/8/3nN3/3B4/PPPK1PP1/R7 w - - 1 17', 'r6Q/pppk1p2/3bpBp1/8/3nN3/3B4/PPPK1PP1/R7 b - - 0 17', '7r/pppk1p2/3bpBp1/8/3nN3/3B4/PPPK1PP1/R7 w - - 0 18', '7B/pppk1p2/3bp1p1/8/3nN3/3B4/PPPK1PP1/R7 b - - 0 18', 'rnbqkbnr/pppp1ppp/8/4p3/4P3/8/PPPP1PPP/RNBQKBNR w KQkq - 0 2', 'rnbqkbnr/pppp1ppp/8/4p3/4P3/5N2/PPPP1PPP/RNBQKB1R b KQkq - 1 2', 'r1bqkbnr/pppp1ppp/2n5/4p3/4P3/5N2/PPPP1PPP/RNBQKB1R w KQkq - 2 3', 'r1bqkbnr/pppp1ppp/2n5/4p3/2B1P3/5N2/PPPP1PPP/RNBQK2R b KQkq - 3 3', 'r1bqkb1r/pppp1ppp/2n2n2/4p3/2B1P3/5N2/PPPP1PPP/RNBQK2R w KQkq - 4 4', 'r1bqkb1r/pppp1ppp/2n2n2/4p3/2B1P3/2N2N2/PPPP1PPP/R1BQK2R b KQkq - 5 4', 'r1bqk2r/pppp1ppp/2n2n2/2b1p3/2B1P3/2N2N2/PPPP1PPP/R1BQK2R w KQkq - 6 5', 'r1bqk2r/pppp1ppp/2n2n2/2b1p3/2B1P3/P1N2N2/1PPP1PPP/R1BQK2R b KQkq - 0 5', 'r1bqk2r/pppp1ppp/2n2n2/4p3/2B1P3/P1N2N2/1PPP1bPP/R1BQK2R w KQkq - 0 6', 'r1bqk2r/pppp1ppp/2n2n2/4p3/2B1P3/P1N2N2/1PPP1KPP/R1BQ3R b kq - 0 6', 'r1bqk2r/pppp1ppp/5n2/4p3/2BnP3/P1N2N2/1PPP1KPP/R1BQ3R w kq - 1 7', 'r1bqk2r/pppp1ppp/5n2/4p3/2BnP3/P1NP1N2/1PP2KPP/R1BQ3R b kq - 0 7', 'r1bqk2r/pppp1ppp/8/4p3/2BnP1n1/P1NP1N2/1PP2KPP/R1BQ3R w kq - 1 8', 'r1bqk2r/pppp1ppp/8/4p3/2BnP1n1/P1NP1N2/1PP3PP/R1BQ1K1R b kq - 2 8', 'r1b1k2r/pppp1ppp/5q2/4p3/2BnP1n1/P1NP1N2/1PP3PP/R1BQ1K1R w kq - 3 9', 'r1b1k2r/pppp1ppp/5q2/4p3/2BnP1n1/P1NP1N1P/1PP3P1/R1BQ1K1R b kq - 0 9', 'r1b1k2r/ppp2ppp/5q2/3pp3/2BnP1n1/P1NP1N1P/1PP3P1/R1BQ1K1R w kq - 0 10', 'r1b1k2r/ppp2ppp/5q2/3Np3/2BnP1n1/P2P1N1P/1PP3P1/R1BQ1K1R b kq - 0 10', 'r1b1k2r/ppp2ppp/4q3/3Np3/2BnP1n1/P2P1N1P/1PP3P1/R1BQ1K1R w kq - 1 11', 'r1b1k2r/ppN2ppp/4q3/4p3/2BnP1n1/P2P1N1P/1PP3P1/R1BQ1K1R b kq - 0 11', 'rnbqkbnr/pp1ppppp/2p5/8/4P3/8/PPPP1PPP/RNBQKBNR w KQkq - 0 2', 'rnbqkbnr/pp1ppppp/2p5/8/4P3/2N5/PPPP1PPP/R1BQKBNR b KQkq - 1 2', 'rnbqkbnr/pp2pppp/2p5/3p4/4P3/2N5/PPPP1PPP/R1BQKBNR w KQkq - 0 3', 'rnbqkbnr/pp2pppp/2p5/3p4/4P3/2N2Q2/PPPP1PPP/R1B1KBNR b KQkq - 1 3', 'rnbqkbnr/pp2pppp/2p5/8/4p3/2N2Q2/PPPP1PPP/R1B1KBNR w KQkq - 0 4', 'rnbqkbnr/pp2pppp/2p5/8/4N3/5Q2/PPPP1PPP/R1B1KBNR b KQkq - 0 4', 'r1bqkbnr/pp1npppp/2p5/8/4N3/5Q2/PPPP1PPP/R1B1KBNR w KQkq - 1 5', 'r1bqkbnr/pp1npppp/2p5/8/2B1N3/5Q2/PPPP1PPP/R1B1K1NR b KQkq - 2 5', 'r1bqkb1r/pp1npppp/2p2n2/8/2B1N3/5Q2/PPPP1PPP/R1B1K1NR w KQkq - 3 6', 'r1bqkb1r/pp1npppp/2p2N2/8/2B5/5Q2/PPPP1PPP/R1B1K1NR b KQkq - 0 6', 'r1bqkb1r/pp2pppp/2p2n2/8/2B5/5Q2/PPPP1PPP/R1B1K1NR w KQkq - 0 7', 'r1bqkb1r/pp2pppp/2p2n2/8/2B5/6Q1/PPPP1PPP/R1B1K1NR b KQkq - 1 7', 'r2qkb1r/pp2pppp/2p2n2/5b2/2B5/6Q1/PPPP1PPP/R1B1K1NR w KQkq - 2 8', 'r2qkb1r/pp2pppp/2p2n2/5b2/2B5/3P2Q1/PPP2PPP/R1B1K1NR b KQkq - 0 8', 'r2qkb1r/pp2pppp/2p2nb1/8/2B5/3P2Q1/PPP2PPP/R1B1K1NR w KQkq - 1 9', 'r2qkb1r/pp2pppp/2p2nb1/8/2B5/3P2Q1/PPP1NPPP/R1B1K2R b KQkq - 2 9', 'r2qkb1r/pp3ppp/2p1pnb1/8/2B5/3P2Q1/PPP1NPPP/R1B1K2R w KQkq - 0 10', 'r2qkb1r/pp3ppp/2p1pnb1/8/2B2B2/3P2Q1/PPP1NPPP/R3K2R b KQkq - 1 10', 'r2qkb1r/pp3ppp/2p1p1b1/7n/2B2B2/3P2Q1/PPP1NPPP/R3K2R w KQkq - 2 11', 'r2qkb1r/pp3ppp/2p1p1b1/7n/2B2B2/3P1Q2/PPP1NPPP/R3K2R b KQkq - 3 11', 'r2qkb1r/pp3ppp/2p1p1b1/8/2B2n2/3P1Q2/PPP1NPPP/R3K2R w KQkq - 0 12', 'r2qkb1r/pp3ppp/2p1p1b1/8/2B2N2/3P1Q2/PPP2PPP/R3K2R b KQkq - 0 12', 'r2qk2r/pp2bppp/2p1p1b1/8/2B2N2/3P1Q2/PPP2PPP/R3K2R w KQkq - 1 13', 'r2qk2r/pp2bppp/2p1B1b1/8/5N2/3P1Q2/PPP2PPP/R3K2R b KQkq - 0 13', 'r2qk2r/pp2b1pp/2p1p1b1/8/5N2/3P1Q2/PPP2PPP/R3K2R w KQkq - 0 14', 'r2qk2r/pp2b1pp/2p1N1b1/8/8/3P1Q2/PPP2PPP/R3K2R b KQkq - 0 14', 'r3k2r/pp2b1pp/2p1N1b1/q7/8/3P1Q2/PPP2PPP/R3K2R w KQkq - 1 15', 'r3k2r/pp2b1pp/2p1N1b1/q7/8/2PP1Q2/PP3PPP/R3K2R b KQkq - 0 15', 'r3k2r/pp2b1pp/2p1N1b1/4q3/8/2PP1Q2/PP3PPP/R3K2R w KQkq - 1 16', 'r3k2r/pp2b1pp/2p1N1b1/4q3/8/2PPQ3/PP3PPP/R3K2R b KQkq - 2 16', 'r3k2r/pp2b1pp/2p1N1b1/8/8/2PPq3/PP3PPP/R3K2R w KQkq - 0 17', 'r3k2r/pp2b1pp/2p1N1b1/8/8/2PPP3/PP4PP/R3K2R b KQkq - 0 17', 'r6r/pp1kb1pp/2p1N1b1/8/8/2PPP3/PP4PP/R3K2R w KQ - 1 18', 'r6r/pp1kb1pp/2p3b1/8/5N2/2PPP3/PP4PP/R3K2R b KQ - 2 18', 'r6r/pp1k2pp/2pb2b1/8/5N2/2PPP3/PP4PP/R3K2R w KQ - 3 19', 'r6r/pp1k2pp/2pb2N1/8/8/2PPP3/PP4PP/R3K2R b KQ - 0 19', 'r6r/pp1k2p1/2pb2p1/8/8/2PPP3/PP4PP/R3K2R w KQ - 0 20', 'r6r/pp1k2p1/2pb2p1/8/8/2PPP2P/PP4P1/R3K2R b KQ - 0 20', 'r6r/pp1k2p1/2p3p1/8/8/2PPP1bP/PP4P1/R3K2R w KQ - 1 21', 'r6r/pp1k2p1/2p3p1/8/8/2PPP1bP/PP1K2P1/R6R b - - 2 21', '5r1r/pp1k2p1/2p3p1/8/8/2PPP1bP/PP1K2P1/R6R w - - 3 22', '5r1r/pp1k2p1/2p3p1/8/8/2PPP1bP/PP1K2P1/R4R2 b - - 4 22', '5r1r/pp2k1p1/2p3p1/8/8/2PPP1bP/PP1K2P1/R4R2 w - - 5 23', '5r1r/pp2k1p1/2p3p1/8/3P4/2P1P1bP/PP1K2P1/R4R2 b - - 0 23', '7r/pp2k1p1/2p3p1/8/3P4/2P1P1bP/PP1K2P1/R4r2 w - - 0 24', '7r/pp2k1p1/2p3p1/8/3P4/2P1P1bP/PP1K2P1/5R2 b - - 0 24', '5r2/pp2k1p1/2p3p1/8/3P4/2P1P1bP/PP1K2P1/5R2 w - - 1 25', '5R2/pp2k1p1/2p3p1/8/3P4/2P1P1bP/PP1K2P1/8 b - - 0 25', '5k2/pp4p1/2p3p1/8/3P4/2P1P1bP/PP1K2P1/8 w - - 0 26', '5k2/pp4p1/2p3p1/8/3PP3/2P3bP/PP1K2P1/8 b - - 0 26', '8/pp2k1p1/2p3p1/8/3PP3/2P3bP/PP1K2P1/8 w - - 1 27', '8/pp2k1p1/2p3p1/8/3PP3/2P1K1bP/PP4P1/8 b - - 2 27', '8/pp2k1p1/2p5/6p1/3PP3/2P1K1bP/PP4P1/8 w - - 0 28', '8/pp2k1p1/2p5/6p1/3PP3/2P2KbP/PP4P1/8 b - - 1 28', '8/pp2k1p1/2p5/6p1/3PP3/2P2K1P/PP4P1/4b3 w - - 2 29', '8/pp2k1p1/2p5/6p1/3PP1K1/2P4P/PP4P1/4b3 b - - 3 29', '8/pp2k1p1/2p5/6p1/3PP1K1/2P4P/PP1b2P1/8 w - - 4 30', '8/pp2k1p1/2p5/5Kp1/3PP3/2P4P/PP1b2P1/8 b - - 5 30', '8/pp2k1p1/2p5/5Kp1/3PP3/2P4P/PP4P1/2b5 w - - 6 31', '8/pp2k1p1/2p3K1/6p1/3PP3/2P4P/PP4P1/2b5 b - - 7 31', '5k2/pp4p1/2p3K1/6p1/3PP3/2P4P/PP4P1/2b5 w - - 8 32', '5k2/pp4p1/2p3K1/4P1p1/3P4/2P4P/PP4P1/2b5 b - - 0 32', '5k2/pp4p1/2p3K1/4P1p1/3P4/2P4P/Pb4P1/8 w - - 0 33', '5k2/pp4p1/2p5/4P1K1/3P4/2P4P/Pb4P1/8 b - - 0 33', '5k2/pp4p1/2p5/4P1K1/3P4/2b4P/P5P1/8 w - - 0 34', '5k2/pp4p1/2p5/4P1K1/3P3P/2b5/P5P1/8 b - - 0 34', '5k2/pp4p1/2p5/4P1K1/3b3P/8/P5P1/8 w - - 0 35', '5k2/pp4p1/2p5/4P1KP/3b4/8/P5P1/8 b - - 0 35', '5k2/pp4p1/2p5/4b1KP/8/8/P5P1/8 w - - 0 36', '5k2/pp4p1/2p5/4b1KP/6P1/8/P7/8 b - - 0 36', '5k2/pp4p1/2p5/6KP/6P1/8/Pb6/8 w - - 1 37', '5k2/pp4p1/2p5/5K1P/6P1/8/Pb6/8 b - - 2 37', '8/pp3kp1/2p5/5K1P/6P1/8/Pb6/8 w - - 3 38', '8/pp3kp1/2p5/5KPP/8/8/Pb6/8 b - - 0 38', '8/pp3kp1/2p5/5KPP/8/8/P7/2b5 w - - 1 39', '8/pp3kp1/2p3P1/5K1P/8/8/P7/2b5 b - - 0 39', '8/pp2k1p1/2p3P1/5K1P/8/8/P7/2b5 w - - 1 40', '8/pp2k1p1/2p3P1/4K2P/8/8/P7/2b5 b - - 2 40', '8/p3k1p1/2p3P1/1p2K2P/8/8/P7/2b5 w - - 0 41', '8/p3k1p1/2p3P1/1p5P/3K4/8/P7/2b5 b - - 1 41', '8/p5p1/2pk2P1/1p5P/3K4/8/P7/2b5 w - - 2 42', '8/p5p1/2pk2P1/1p5P/8/2K5/P7/2b5 b - - 3 42', '8/p5p1/3k2P1/1pp4P/8/2K5/P7/2b5 w - - 0 43', '8/p5p1/3k2P1/1pp4P/8/P1K5/8/2b5 b - - 0 43', '8/p5p1/3k2P1/1pp3bP/8/P1K5/8/8 w - - 1 44', '8/p5p1/3k2P1/1pp3bP/P7/2K5/8/8 b - - 0 44', '8/p5p1/3k2P1/2p3bP/p7/2K5/8/8 w - - 0 45', '8/p5p1/3k2P1/2p3bP/p7/8/1K6/8 b - - 1 45', '8/p5p1/6P1/2pk2bP/p7/8/1K6/8 w - - 2 46', '8/p5p1/6P1/2pk2bP/p7/K7/8/8 b - - 3 46', '8/p5p1/6P1/2p3bP/p2k4/K7/8/8 w - - 4 47', '8/p5p1/6P1/2p3bP/K2k4/8/8/8 b - - 0 47', '8/p5p1/6P1/6bP/K1pk4/8/8/8 w - - 0 48', 'rnbqkbnr/pppp1ppp/4p3/8/4PP2/8/PPPP2PP/RNBQKBNR b KQkq - 0 2', 'rnbqkbnr/ppp2ppp/4p3/3p4/4PP2/8/PPPP2PP/RNBQKBNR w KQkq - 0 3', 'rnbqkbnr/ppp2ppp/4p3/3pP3/5P2/8/PPPP2PP/RNBQKBNR b KQkq - 0 3', 'rnbqkbnr/pp3ppp/4p3/2ppP3/5P2/8/PPPP2PP/RNBQKBNR w KQkq - 0 4', 'rnbqkbnr/pp3ppp/4p3/2ppP3/5P2/5N2/PPPP2PP/RNBQKB1R b KQkq - 1 4', 'rnb1kbnr/pp3ppp/1q2p3/2ppP3/5P2/5N2/PPPP2PP/RNBQKB1R w KQkq - 2 5', 'rnb1kbnr/pp3ppp/1q2p3/2ppP3/5P2/2P2N2/PP1P2PP/RNBQKB1R b KQkq - 0 5', 'r1b1kbnr/pp3ppp/1qn1p3/2ppP3/5P2/2P2N2/PP1P2PP/RNBQKB1R w KQkq - 1 6', 'r1b1kbnr/pp3ppp/1qn1p3/2ppP3/5P2/2PP1N2/PP4PP/RNBQKB1R b KQkq - 0 6', 'r3kbnr/pp1b1ppp/1qn1p3/2ppP3/5P2/2PP1N2/PP4PP/RNBQKB1R w KQkq - 1 7', 'r3kbnr/pp1b1ppp/1qn1p3/2ppP3/5P2/2PP1N2/PP2B1PP/RNBQK2R b KQkq - 2 7', 'r3kb1r/pp1b1ppp/1qn1p2n/2ppP3/5P2/2PP1N2/PP2B1PP/RNBQK2R w KQkq - 3 8', 'r3kb1r/pp1b1ppp/1qn1p2n/2ppP3/5P2/2PP1N2/PP2B1PP/RNBQ1RK1 b kq - 4 8', 'r3kb1r/pp1b1ppp/1qn1p3/2ppPn2/5P2/2PP1N2/PP2B1PP/RNBQ1RK1 w kq - 5 9', 'r3kb1r/pp1b1ppp/1qn1p3/2ppPn2/5PP1/2PP1N2/PP2B2P/RNBQ1RK1 b kq - 0 9', 'r3kb1r/pp1b1ppp/1qn1p2n/2ppP3/5PP1/2PP1N2/PP2B2P/RNBQ1RK1 w kq - 1 10', 'r3kb1r/pp1b1ppp/1qn1p2n/2ppP3/5PP1/2PP1N2/PP2B1KP/RNBQ1R2 b kq - 2 10', 'r3kb1r/pp1b1ppp/1qn1p3/2ppP3/5Pn1/2PP1N2/PP2B1KP/RNBQ1R2 w kq - 0 11', 'r3kb1r/pp1b1ppp/1qn1p3/2ppP3/5Pn1/2PP1N1P/PP2B1K1/RNBQ1R2 b kq - 0 11', 'r3kb1r/pp1b1ppp/1qn1p2n/2ppP3/5P2/2PP1N1P/PP2B1K1/RNBQ1R2 w kq - 1 12', 'r3kb1r/pp1b1ppp/1qn1p2n/2ppP1N1/5P2/2PP3P/PP2B1K1/RNBQ1R2 b kq - 2 12', 'r3kb1r/pp1b1ppp/1qn1p3/2ppPnN1/5P2/2PP3P/PP2B1K1/RNBQ1R2 w kq - 3 13', 'r3kb1r/pp1b1ppp/1qn1p3/2ppPnN1/5PB1/2PP3P/PP4K1/RNBQ1R2 b kq - 4 13', 'r3kb1r/pp1bnppp/1q2p3/2ppPnN1/5PB1/2PP3P/PP4K1/RNBQ1R2 w kq - 5 14', 'r3kb1r/pp1bnppp/1q2p3/2ppPnN1/5PB1/2PP3P/PP1N2K1/R1BQ1R2 b kq - 6 14', 'r3kb1r/pp1bnppp/1q2p3/2ppP1N1/5PB1/2PPn2P/PP1N2K1/R1BQ1R2 w kq - 7 15', 'r3kb1r/pp1bnppp/1q2p3/2ppP1N1/5PB1/2PPnK1P/PP1N4/R1BQ1R2 b kq - 8 15', 'r3kb1r/pp1bnppp/1q2p3/2ppP1N1/5PB1/2PP1K1P/PP1N4/R1Bn1R2 w kq - 0 16', 'r3kb1r/pp1bnppp/1q2p3/2ppP1N1/5PB1/2PP1K1P/PP1N4/R1BR4 b kq - 0 16', 'r3kb1r/pp1bnpp1/1q2p2p/2ppP1N1/5PB1/2PP1K1P/PP1N4/R1BR4 w kq - 0 17', 'r3kb1r/pp1bnNp1/1q2p2p/2ppP3/5PB1/2PP1K1P/PP1N4/R1BR4 b kq - 0 17', 'r4b1r/pp1bnkp1/1q2p2p/2ppP3/5PB1/2PP1K1P/PP1N4/R1BR4 w - - 0 18', 'r4b1r/pp1bnkp1/1q2p2p/2ppP3/5PB1/2PP1K1P/PP1N4/R1B2R2 b - - 1 18', 'r4b1r/pp1bnkp1/1q2p3/2ppP2p/5PB1/2PP1K1P/PP1N4/R1B2R2 w - - 0 19', 'r4b1r/pp1bnkp1/1q2B3/2ppP2p/5P2/2PP1K1P/PP1N4/R1B2R2 b - - 0 19', 'r4b1r/pp2nkp1/1q2b3/2ppP2p/5P2/2PP1K1P/PP1N4/R1B2R2 w - - 0 20', 'r4b1r/pp2nkp1/1q2b3/2ppP2p/5P2/2PP2KP/PP1N4/R1B2R2 b - - 1 20', 'r4b1r/pp3kp1/1q2b3/2ppPn1p/5P2/2PP2KP/PP1N4/R1B2R2 w - - 2 21', 'r4b1r/pp3kp1/1q2b3/2ppPn1p/5P2/2PP3P/PP1N2K1/R1B2R2 b - - 3 21', 'r4b1r/pp3kp1/1q2b3/2ppP2p/5P2/2PPn2P/PP1N2K1/R1B2R2 w - - 4 22', 'r4b1r/pp3kp1/1q2b3/2ppP2p/5P2/2PPn2P/PP1N1K2/R1B2R2 b - - 5 22', 'r4b1r/pp3kp1/1q2b3/2ppP2p/5P2/2PP3P/PP1N1K2/R1B2n2 w - - 0 23', 'r4b1r/pp3kp1/1q2b3/2ppP2p/5P2/2PP3P/PP1N4/R1B2K2 b - - 0 23', 'r4b1r/pp3kp1/1q6/2ppP2p/5P2/2PP3b/PP1N4/R1B2K2 w - - 0 24', 'rnbqkbnr/p1pppppp/1p6/8/4P3/8/PPPP1PPP/RNBQKBNR w KQkq - 0 2', 'rnbqkbnr/p1pppppp/1p6/8/2B1P3/8/PPPP1PPP/RNBQK1NR b KQkq - 1 2', 'rn1qkbnr/pbpppppp/1p6/8/2B1P3/8/PPPP1PPP/RNBQK1NR w KQkq - 2 3', 'rn1qkbnr/pbpppppp/1p6/8/2B1P3/3P4/PPP2PPP/RNBQK1NR b KQkq - 0 3', 'rn1qkb1r/pbpppppp/1p5n/8/2B1P3/3P4/PPP2PPP/RNBQK1NR w KQkq - 1 4', 'rn1qkb1r/pbpppppp/1p5B/8/2B1P3/3P4/PPP2PPP/RN1QK1NR b KQkq - 0 4', 'rn1qkb1r/pbpppp1p/1p5p/8/2B1P3/3P4/PPP2PPP/RN1QK1NR w KQkq - 0 5', 'rn1qkb1r/pbpppp1p/1p5p/8/2B1P3/3P1Q2/PPP2PPP/RN2K1NR b KQkq - 1 5', 'rn1qkb1r/pbpp1p1p/1p2p2p/8/2B1P3/3P1Q2/PPP2PPP/RN2K1NR w KQkq - 0 6', 'rn1qkb1r/pbpp1p1p/1p2p2p/8/2B1P3/3P1Q1N/PPP2PPP/RN2K2R b KQkq - 1 6', 'rn1qk2r/pbpp1pbp/1p2p2p/8/2B1P3/3P1Q1N/PPP2PPP/RN2K2R w KQkq - 2 7', 'rn1qk2r/pbpp1pbp/1p2p2p/8/2B1P3/2PP1Q1N/PP3PPP/RN2K2R b KQkq - 0 7', 'r2qk2r/pbpp1pbp/1pn1p2p/8/2B1P3/2PP1Q1N/PP3PPP/RN2K2R w KQkq - 1 8', 'r2qk2r/pbpp1pbp/1pn1p2p/8/2B1P3/2PP2QN/PP3PPP/RN2K2R b KQkq - 2 8', 'r2qk1r1/pbpp1pbp/1pn1p2p/8/2B1P3/2PP2QN/PP3PPP/RN2K2R w KQq - 3 9', 'r2qk1r1/pbpp1pbp/1pn1p2p/8/2B1P3/2PP1Q1N/PP3PPP/RN2K2R b KQq - 4 9', 'r2qk1r1/pbpp1pbp/1p2p2p/4n3/2B1P3/2PP1Q1N/PP3PPP/RN2K2R w KQq - 5 10', 'r2qk1r1/pbpp1pbp/1p2p2p/4n3/2B1P3/2PPQ2N/PP3PPP/RN2K2R b KQq - 6 10', 'r2qk1r1/pbpp1pbp/1p2p2p/8/2n1P3/2PPQ2N/PP3PPP/RN2K2R w KQq - 0 11', 'r2qk1r1/pbpp1pbp/1p2p2p/8/2P1P3/2P1Q2N/PP3PPP/RN2K2R b KQq - 0 11', 'r3k1r1/pbppqpbp/1p2p2p/8/2P1P3/2P1Q2N/PP3PPP/RN2K2R w KQq - 1 12', 'r3k1r1/pbppqpbp/1p2p2p/8/2P1P3/2P1Q2N/PP3PPP/RN3RK1 b q - 2 12', 'r3k1r1/pbpp1pbp/1p2p2p/2q5/2P1P3/2P1Q2N/PP3PPP/RN3RK1 w q - 3 13', 'r3k1r1/pbpp1pbp/1p2p2p/2Q5/2P1P3/2P4N/PP3PPP/RN3RK1 b q - 0 13', 'r3k1r1/pbpp1pbp/4p2p/1pQ5/2P1P3/2P4N/PP3PPP/RN3RK1 w q - 0 14', 'r3k1r1/pbpp1pbp/4p2p/1Q6/2P1P3/2P4N/PP3PPP/RN3RK1 b q - 0 14', 'r3k1r1/p1pp1pbp/4p2p/1Q6/2P1b3/2P4N/PP3PPP/RN3RK1 w q - 0 15', 'r3k1r1/p1pp1pbp/4p2p/1Q6/2P1b3/2P4N/PP1N1PPP/R4RK1 b q - 1 15', 'r3k1r1/p1pp1pbp/2b1p2p/1Q6/2P5/2P4N/PP1N1PPP/R4RK1 w q - 2 16', 'r3k1r1/p1pp1pbp/2b1p2p/8/2P5/1QP4N/PP1N1PPP/R4RK1 b q - 3 16', 'r3k1r1/p1pp1p1p/2b1p2p/8/2P5/1Qb4N/PP1N1PPP/R4RK1 w q - 0 17', 'r3k1r1/p1pp1p1p/2b1p2p/8/2P5/1Qb3PN/PP1N1P1P/R4RK1 b q - 0 17', 'r3k1r1/p1pp1p1p/2b1p2p/8/2P5/1Q4PN/PP1b1P1P/R4RK1 w q - 0 18', 'r3k1r1/p1pp1p1p/2b1p2p/8/2P5/1Q4PN/PP1b1P1P/3R1RK1 b q - 1 18', 'r3k1r1/p1pp1p1p/2b1p2p/6b1/2P5/1Q4PN/PP3P1P/3R1RK1 w q - 2 19', 'r3k1r1/p1pp1p1p/2b1p2p/6N1/2P5/1Q4P1/PP3P1P/3R1RK1 b q - 0 19', 'r3k1r1/p1pp1p1p/2b1p3/6p1/2P5/1Q4P1/PP3P1P/3R1RK1 w q - 0 20', 'r3k1r1/p1pp1p1p/2b1p3/6p1/2P5/3Q2P1/PP3P1P/3R1RK1 b q - 1 20', 'r3k1r1/p1pp1p2/2b1p2p/6p1/2P5/3Q2P1/PP3P1P/3R1RK1 w q - 0 21', 'r3k1r1/p1pp1p2/2b1p2p/6p1/1PP5/3Q2P1/P4P1P/3R1RK1 b q - 0 21', 'r3k1r1/p1pp1p2/4p2p/6p1/bPP5/3Q2P1/P4P1P/3R1RK1 w q - 1 22', 'r3k1r1/p1pp1p2/4p2p/6p1/bPP5/3Q2P1/P2R1P1P/5RK1 b q - 2 22', '1r2k1r1/p1pp1p2/4p2p/6p1/bPP5/3Q2P1/P2R1P1P/5RK1 w - - 3 23', '1r2k1r1/p1pp1p2/4p2p/1P4p1/b1P5/3Q2P1/P2R1P1P/5RK1 b - - 0 23', '1r2k1r1/p1p2p2/3pp2p/1P4p1/b1P5/3Q2P1/P2R1P1P/5RK1 w - - 0 24', '1r2k1r1/p1p2p2/3pp2p/1P4p1/b1P5/Q5P1/P2R1P1P/5RK1 b - - 1 24', '1r2k1r1/p1p2p2/3pp2p/1b4p1/2P5/Q5P1/P2R1P1P/5RK1 w - - 0 25', '1r2k1r1/p1p2p2/3pp2p/1P4p1/8/Q5P1/P2R1P1P/5RK1 b - - 0 25', '4k1r1/p1p2p2/3pp2p/1r4p1/8/Q5P1/P2R1P1P/5RK1 w - - 0 26', '4k1r1/Q1p2p2/3pp2p/1r4p1/8/6P1/P2R1P1P/5RK1 b - - 0 26', '4k1r1/Q1p2p2/3pp2p/2r3p1/8/6P1/P2R1P1P/5RK1 w - - 1 27', 'Q3k1r1/2p2p2/3pp2p/2r3p1/8/6P1/P2R1P1P/5RK1 b - - 2 27', 'Q5r1/2p1kp2/3pp2p/2r3p1/8/6P1/P2R1P1P/5RK1 w - - 3 28', '6Q1/2p1kp2/3pp2p/2r3p1/8/6P1/P2R1P1P/5RK1 b - - 0 28', '6Q1/2p1kp2/3p3p/2r1p1p1/8/6P1/P2R1P1P/5RK1 w - - 0 29', '7Q/2p1kp2/3p3p/2r1p1p1/8/6P1/P2R1P1P/5RK1 b - - 1 29', '7Q/2p1kp2/7p/2rpp1p1/8/6P1/P2R1P1P/5RK1 w - - 0 30', '8/2p1kp2/7p/2rpQ1p1/8/6P1/P2R1P1P/5RK1 b - - 0 30', '8/2pk1p2/7p/2rpQ1p1/8/6P1/P2R1P1P/5RK1 w - - 1 31', '8/2pk1p2/7p/2rRQ1p1/8/6P1/P4P1P/5RK1 b - - 0 31', '8/2pk1p2/7p/3rQ1p1/8/6P1/P4P1P/5RK1 w - - 0 32', '8/2pk1p2/7p/3Q2p1/8/6P1/P4P1P/5RK1 b - - 0 32', 'r1bqkb1r/pppp1ppp/2n2n2/4p3/2B1P3/3P1N2/PPP2PPP/RNBQK2R b KQkq - 0 4', 'r1bqk2r/pppp1ppp/2n2n2/2b1p3/2B1P3/3P1N2/PPP2PPP/RNBQK2R w KQkq - 1 5', 'r1bqk2r/pppp1ppp/2n2n2/2b1p3/2B1P3/2PP1N2/PP3PPP/RNBQK2R b KQkq - 0 5', 'r1bq1rk1/pppp1ppp/2n2n2/2b1p3/2B1P3/2PP1N2/PP3PPP/RNBQK2R w KQ - 1 6', 'r1bq1rk1/pppp1ppp/2n2n2/2b1p3/2B1P3/2PP1N2/PP3PPP/RNBQ1RK1 b - - 2 6', 'r1bq1rk1/ppp2ppp/2np1n2/2b1p3/2B1P3/2PP1N2/PP3PPP/RNBQ1RK1 w - - 0 7', 'r1bq1rk1/ppp2ppp/2np1n2/2b1p1B1/2B1P3/2PP1N2/PP3PPP/RN1Q1RK1 b - - 1 7', 'r1bq1rk1/ppp2ppp/3p1n2/n1b1p1B1/2B1P3/2PP1N2/PP3PPP/RN1Q1RK1 w - - 2 8', 'r1bq1rk1/ppp2ppp/3p1n2/n1b1p1B1/4P3/1BPP1N2/PP3PPP/RN1Q1RK1 b - - 3 8', 'r1bq1rk1/ppp2ppp/3p1n2/2b1p1B1/4P3/1nPP1N2/PP3PPP/RN1Q1RK1 w - - 0 9', 'r1bq1rk1/ppp2ppp/3p1n2/2b1p1B1/4P3/1QPP1N2/PP3PPP/RN3RK1 b - - 0 9', 'r2q1rk1/ppp2ppp/3pbn2/2b1p1B1/4P3/1QPP1N2/PP3PPP/RN3RK1 w - - 1 10', 'r2q1rk1/pQp2ppp/3pbn2/2b1p1B1/4P3/2PP1N2/PP3PPP/RN3RK1 b - - 0 10', '1r1q1rk1/pQp2ppp/3pbn2/2b1p1B1/4P3/2PP1N2/PP3PPP/RN3RK1 w - - 1 11', '1r1q1rk1/p1p2ppp/Q2pbn2/2b1p1B1/4P3/2PP1N2/PP3PPP/RN3RK1 b - - 2 11', '3q1rk1/p1p2ppp/Q2pbn2/2b1p1B1/4P3/2PP1N2/Pr3PPP/RN3RK1 w - - 0 12', '3q1rk1/p1p2ppp/Q2pbn2/2b1p1B1/4P3/2PP1N2/Pr1N1PPP/R4RK1 b - - 1 12', '3q1rk1/p1p2ppp/Q2pbn2/2b1p1B1/4P3/2PP1N2/P2r1PPP/R4RK1 w - - 0 13', '3q1rk1/p1p2ppp/Q2pbn2/2b1p1B1/4P3/2PP4/P2N1PPP/R4RK1 b - - 0 13', '3q1rk1/p1p2pp1/Q2pbn1p/2b1p1B1/4P3/2PP4/P2N1PPP/R4RK1 w - - 0 14', '3q1rk1/p1p2pp1/Q2pbn1p/2b1p3/4P2B/2PP4/P2N1PPP/R4RK1 b - - 1 14', '3q1rk1/p1p2p2/Q2pbn1p/2b1p1p1/4P2B/2PP4/P2N1PPP/R4RK1 w - - 0 15', '3q1rk1/p1p2p2/Q2pbn1p/2b1p1p1/4P3/2PP2B1/P2N1PPP/R4RK1 b - - 1 15', '3q1rk1/p1p2p2/Q2pbn2/2b1p1pp/4P3/2PP2B1/P2N1PPP/R4RK1 w - - 0 16', '3q1rk1/p1p2p2/Q2pbn2/2b1p1pp/4P3/2PP2BP/P2N1PP1/R4RK1 b - - 0 16', '3q1rk1/p1p2p2/Q2pbn2/2b1p1p1/4P2p/2PP2BP/P2N1PP1/R4RK1 w - - 0 17', '3q1rk1/p1p2p2/Q2pbn2/2b1p1p1/4P2p/2PP3P/P2N1PPB/R4RK1 b - - 1 17', '5rk1/p1pq1p2/Q2pbn2/2b1p1p1/4P2p/2PP3P/P2N1PPB/R4RK1 w - - 2 18', '5rk1/p1pq1p2/Q2pbn2/2b1p1p1/4P2p/2PP1N1P/P4PPB/R4RK1 b - - 3 18', '5rk1/p1pq1p2/Q2p1n2/2b1p1p1/4P2p/2PP1N1b/P4PPB/R4RK1 w - - 0 19', '5rk1/p1pq1p2/Q2p1n2/2b1p1N1/4P2p/2PP3b/P4PPB/R4RK1 b - - 0 19', '5rk1/p1p2p2/Q2p1n2/2b1p1N1/4P1qp/2PP3b/P4PPB/R4RK1 w - - 1 20', 'rnbqkbnr/pppp1ppp/8/4p3/2P1P3/8/PP1P1PPP/RNBQKBNR b KQkq - 0 2', 'rnbqk1nr/pppp1ppp/8/2b1p3/2P1P3/8/PP1P1PPP/RNBQKBNR w KQkq - 1 3', 'rnbqk1nr/pppp1ppp/8/2b1p3/2P1P3/5N2/PP1P1PPP/RNBQKB1R b KQkq - 2 3', 'rnbqk1nr/ppp2ppp/3p4/2b1p3/2P1P3/5N2/PP1P1PPP/RNBQKB1R w KQkq - 0 4', 'rnbqk1nr/ppp2ppp/3p4/2b1p3/2P1P3/3P1N2/PP3PPP/RNBQKB1R b KQkq - 0 4', 'rnbqk1nr/1pp2ppp/p2p4/2b1p3/2P1P3/3P1N2/PP3PPP/RNBQKB1R w KQkq - 0 5', 'rnbqk1nr/1pp2ppp/p2p4/2b1p3/2P1P3/P2P1N2/1P3PPP/RNBQKB1R b KQkq - 0 5', 'rn1qk1nr/1pp2ppp/p2p4/2b1p3/2P1P1b1/P2P1N2/1P3PPP/RNBQKB1R w KQkq - 1 6', 'rn1qk1nr/1pp2ppp/p2p4/2b1p3/2P1P1b1/P2P1N1P/1P3PP1/RNBQKB1R b KQkq - 0 6', 'rn1qk1nr/1pp2ppp/p2p4/2b1p3/2P1P3/P2P1b1P/1P3PP1/RNBQKB1R w KQkq - 0 7', 'rn1qk1nr/1pp2ppp/p2p4/2b1p3/2P1P3/P2P1Q1P/1P3PP1/RNB1KB1R b KQkq - 0 7', 'rn2k1nr/1pp2ppp/p2p1q2/2b1p3/2P1P3/P2P1Q1P/1P3PP1/RNB1KB1R w KQkq - 1 8', 'rn2k1nr/1pp2ppp/p2p1q2/2b1p3/2P1P3/P2P1Q1P/1P2BPP1/RNB1K2R b KQkq - 2 8', 'r3k1nr/1ppn1ppp/p2p1q2/2b1p3/2P1P3/P2P1Q1P/1P2BPP1/RNB1K2R w KQkq - 3 9', 'r3k1nr/1ppn1ppp/p2p1q2/2b1p3/2P1P3/P1NP1Q1P/1P2BPP1/R1B1K2R b KQkq - 4 9', 'r3k2r/1ppnnppp/p2p1q2/2b1p3/2P1P3/P1NP1Q1P/1P2BPP1/R1B1K2R w KQkq - 5 10', 'r3k2r/1ppnnppp/p2p1q2/2b1p3/2P1P3/P1NP1Q1P/1P2BPP1/R1B2RK1 b kq - 6 10', 'r3k2r/1ppnnppp/p2p1q2/4p3/2PbP3/P1NP1Q1P/1P2BPP1/R1B2RK1 w kq - 7 11', 'r3k2r/1ppnnppp/p2p1q2/4p3/2PbP3/P1NP1Q1P/1P1BBPP1/R4RK1 b kq - 8 11', 'r3k2r/1ppnnpp1/p2p1q1p/4p3/2PbP3/P1NP1Q1P/1P1BBPP1/R4RK1 w kq - 0 12', 'r3k2r/1ppnnpp1/p2p1q1p/4p3/2PbP3/P1NP1Q1P/1P1BBPP1/1R3RK1 b kq - 1 12', 'r3k2r/1ppnnp2/p2p1q1p/4p1p1/2PbP3/P1NP1Q1P/1P1BBPP1/1R3RK1 w kq - 0 13', 'r3k2r/1ppnnp2/p2p1q1p/4p1p1/2PbP1Q1/P1NP3P/1P1BBPP1/1R3RK1 b kq - 1 13', 'r3k2r/1p1nnp2/p1pp1q1p/4p1p1/2PbP1Q1/P1NP3P/1P1BBPP1/1R3RK1 w kq - 0 14', 'r3k2r/1p1nnp2/p1pp1q1p/4p1p1/2PbP1Q1/P1NPB2P/1P2BPP1/1R3RK1 b kq - 1 14', 'r3k2r/bp1nnp2/p1pp1q1p/4p1p1/2P1P1Q1/P1NPB2P/1P2BPP1/1R3RK1 w kq - 2 15', 'r3k2r/Bp1nnp2/p1pp1q1p/4p1p1/2P1P1Q1/P1NP3P/1P2BPP1/1R3RK1 b kq - 0 15', '4k2r/rp1nnp2/p1pp1q1p/4p1p1/2P1P1Q1/P1NP3P/1P2BPP1/1R3RK1 w k - 0 16', '4k2r/rp1nnp2/p1pp1q1p/4p1p1/1PP1P1Q1/P1NP3P/4BPP1/1R3RK1 b k - 0 16', '4k2r/rp1nnp2/p1pp2qp/4p1p1/1PP1P1Q1/P1NP3P/4BPP1/1R3RK1 w k - 1 17', '4k2r/rp1nnp2/p1pp2qp/4p1p1/NPP1P1Q1/P2P3P/4BPP1/1R3RK1 b k - 2 17', '4k2r/rp1nnp2/p1pp2q1/4p1pp/NPP1P1Q1/P2P3P/4BPP1/1R3RK1 w k - 0 18', '4k2r/rp1nnp2/p1pp2q1/4p1pp/NPP1P3/P2P2QP/4BPP1/1R3RK1 b k - 1 18', '4k2r/rp2np2/p1pp1nq1/4p1pp/NPP1P3/P2P2QP/4BPP1/1R3RK1 w k - 2 19', '4k2r/rp2np2/p1pp1nq1/4p1pp/NPP1P3/P2PQ2P/4BPP1/1R3RK1 b k - 3 19', 'r3k2r/1p2np2/p1pp1nq1/4p1pp/NPP1P3/P2PQ2P/4BPP1/1R3RK1 w k - 4 20', 'r3k2r/1p2np2/pNpp1nq1/4p1pp/1PP1P3/P2PQ2P/4BPP1/1R3RK1 b k - 5 20', '1r2k2r/1p2np2/pNpp1nq1/4p1pp/1PP1P3/P2PQ2P/4BPP1/1R3RK1 w k - 6 21', '1r2k2r/1p2np2/pNpp1nq1/2P1p1pp/1P2P3/P2PQ2P/4BPP1/1R3RK1 b k - 0 21', '1r2k2r/1p2np2/pNp2nq1/2Ppp1pp/1P2P3/P2PQ2P/4BPP1/1R3RK1 w k - 0 22', '1r2k2r/1p2np2/pNp2nq1/2PPp1pp/1P6/P2PQ2P/4BPP1/1R3RK1 b k - 0 22', '1r2k2r/1p2np2/pNp3q1/2Pnp1pp/1P6/P2PQ2P/4BPP1/1R3RK1 w k - 0 23', '1r2k2r/1p2np2/pNp3q1/2PnQ1pp/1P6/P2P3P/4BPP1/1R3RK1 b k - 0 23', '3rk2r/1p2np2/pNp3q1/2PnQ1pp/1P6/P2P3P/4BPP1/1R3RK1 w k - 1 24', '3rk2Q/1p2np2/pNp3q1/2Pn2pp/1P6/P2P3P/4BPP1/1R3RK1 b - - 0 24', '3rk1nQ/1p3p2/pNp3q1/2Pn2pp/1P6/P2P3P/4BPP1/1R3RK1 w - - 1 25', '3rk1nQ/1p3p2/pNp3q1/2Pn2pB/1P6/P2P3P/5PP1/1R3RK1 b - - 0 25', '3rk1nQ/1p3p2/pNp4q/2Pn2pB/1P6/P2P3P/5PP1/1R3RK1 w - - 1 26', '3rk1nQ/1p3p2/pNp4q/2Pn2pB/1P6/P2P3P/5PP1/4RRK1 b - - 2 26', '3rk1nQ/1p2np2/pNp4q/2P3pB/1P6/P2P3P/5PP1/4RRK1 w - - 3 27', '3rk1nQ/1p2Rp2/pNp4q/2P3pB/1P6/P2P3P/5PP1/5RK1 b - - 0 27', '3r2nQ/1p2kp2/pNp4q/2P3pB/1P6/P2P3P/5PP1/5RK1 w - - 0 28', '3r2nQ/1p2kp2/pNp4q/2P3pB/1P6/P2P3P/5PP1/4R1K1 b - - 1 28', 'rnbqkbnr/pp1ppppp/8/2p5/3P4/8/PPP1PPPP/RNBQKBNR w KQkq - 0 2', 'rnbqkbnr/pp1ppppp/8/2p5/2PP4/8/PP2PPPP/RNBQKBNR b KQkq - 0 2', 'rnbqkbnr/pp2pppp/3p4/2p5/2PP4/8/PP2PPPP/RNBQKBNR w KQkq - 0 3', 'rnbqkbnr/pp2pppp/3p4/2p5/2PP1B2/8/PP2PPPP/RN1QKBNR b KQkq - 1 3', 'rnbqkbnr/pp2pp1p/3p2p1/2p5/2PP1B2/8/PP2PPPP/RN1QKBNR w KQkq - 0 4', 'rnbqkbnr/pp2pp1p/3p2p1/2p5/2PP1B2/5N2/PP2PPPP/RN1QKB1R b KQkq - 1 4', 'rnbqk1nr/pp2pp1p/3p2pb/2p5/2PP1B2/5N2/PP2PPPP/RN1QKB1R w KQkq - 2 5', 'rnbqk1nr/pp2pp1p/3p2pB/2p5/2PP4/5N2/PP2PPPP/RN1QKB1R b KQkq - 0 5', 'rnbqk2r/pp2pp1p/3p2pn/2p5/2PP4/5N2/PP2PPPP/RN1QKB1R w KQkq - 0 6', 'rnbqk2r/pp2pp1p/3p2pn/2p5/2PP4/2N2N2/PP2PPPP/R2QKB1R b KQkq - 1 6', 'rnbqk2r/pp2pp1p/3p2p1/2p2n2/2PP4/2N2N2/PP2PPPP/R2QKB1R w KQkq - 2 7', 'rnbqk2r/pp2pp1p/3p2p1/2pP1n2/2P5/2N2N2/PP2PPPP/R2QKB1R b KQkq - 0 7', 'rnbq1rk1/pp2pp1p/3p2p1/2pP1n2/2P5/2N2N2/PP2PPPP/R2QKB1R w KQ - 1 8', 'rnbq1rk1/pp2pp1p/3p2p1/2pP1n2/2P1P3/2N2N2/PP3PPP/R2QKB1R b KQ - 0 8', 'rnbq1rk1/pp2pp1p/3p2p1/2pP4/2PnP3/2N2N2/PP3PPP/R2QKB1R w KQ - 1 9', 'rnbq1rk1/pp2pp1p/3p2p1/2pP4/2PnP3/2NB1N2/PP3PPP/R2QK2R b KQ - 2 9', 'rn1q1rk1/pp1bpp1p/3p2p1/2pP4/2PnP3/2NB1N2/PP3PPP/R2QK2R w KQ - 3 10', 'rn1q1rk1/pp1bpp1p/3p2p1/2pP4/2PnP3/2NB1N2/PP3PPP/R2Q1RK1 b - - 4 10', 'rn1q1rk1/1p1bpp1p/p2p2p1/2pP4/2PnP3/2NB1N2/PP3PPP/R2Q1RK1 w - - 0 11', 'rn1q1rk1/1p1bpp1p/p2p2p1/2pP2N1/2PnP3/2NB4/PP3PPP/R2Q1RK1 b - - 1 11', 'rn1q1rk1/1p1bpp2/p2p2p1/2pP2Np/2PnP3/2NB4/PP3PPP/R2Q1RK1 w - - 0 12', 'rn1q1rk1/1p1bpp2/p2p2p1/2pP2Np/2PnP3/2NB4/PP3PPP/R2QR1K1 b - - 1 12', 'rn1q1rk1/1p1b1p2/p2pp1p1/2pP2Np/2PnP3/2NB4/PP3PPP/R2QR1K1 w - - 0 13', 'rn1q1rk1/1p1b1p2/p2pP1p1/2p3Np/2PnP3/2NB4/PP3PPP/R2QR1K1 b - - 0 13', 'rn1q1rk1/1p1b1p2/p2pn1p1/2p3Np/2P1P3/2NB4/PP3PPP/R2QR1K1 w - - 0 14', 'rn1q1rk1/1p1b1p2/p2pN1p1/2p4p/2P1P3/2NB4/PP3PPP/R2QR1K1 b - - 0 14', 'rn1q1rk1/1p3p2/p2pb1p1/2p4p/2P1P3/2NB4/PP3PPP/R2QR1K1 w - - 0 15', 'rn1q1rk1/1p3p2/p2pb1p1/2pN3p/2P1P3/3B4/PP3PPP/R2QR1K1 b - - 1 15', 'rn1q1rk1/1p3p2/p2pb1p1/2pN4/2P1P2p/3B4/PP3PPP/R2QR1K1 w - - 0 16', 'rn1q1rk1/1p3p2/p2pb1p1/2pN4/2P1P2p/3B3P/PP3PP1/R2QR1K1 b - - 0 16', 'rn1q1rk1/1p3p2/p2p2p1/2pN4/2P1P2p/3B3b/PP3PP1/R2QR1K1 w - - 0 17', 'rn1q1rk1/1p3p2/p2p2p1/2pN4/2P1P2p/3B3P/PP3P2/R2QR1K1 b - - 0 17', 'rn3rk1/1p3p2/p2p2p1/2pN2q1/2P1P2p/3B3P/PP3P2/R2QR1K1 w - - 1 18', 'rn3rk1/1p3p2/p2p2p1/2pN2q1/2P1P2p/3B3P/PP3P2/R2QRK2 b - - 2 18', 'r4rk1/1p1n1p2/p2p2p1/2pN2q1/2P1P2p/3B3P/PP3P2/R2QRK2 w - - 3 19', 'r4rk1/1p1n1p2/p2p2p1/2pN2q1/Q1P1P2p/3B3P/PP3P2/R3RK2 b - - 4 19', 'r4rk1/1p3p2/p2p1np1/2pN2q1/Q1P1P2p/3B3P/PP3P2/R3RK2 w - - 5 20', 'r4rk1/1p2Np2/p2p1np1/2p3q1/Q1P1P2p/3B3P/PP3P2/R3RK2 b - - 6 20', 'r4r1k/1p2Np2/p2p1np1/2p3q1/Q1P1P2p/3B3P/PP3P2/R3RK2 w - - 7 21', 'r4r1k/1p2Np2/p2p1np1/2p3q1/Q1P1P2p/3B1P1P/PP6/R3RK2 b - - 0 21', 'r4r1k/1p2Np2/p2p1np1/2p5/Q1P1P2p/3B1PqP/PP6/R3RK2 w - - 1 22', 'r4r1k/1p2Np2/p2p1np1/2p5/Q1P1P2p/3B1PqP/PP2K3/R3R3 b - - 2 22', 'r4r1k/1p2Np2/p2p1np1/2p5/Q1P1P2p/3B1P1q/PP2K3/R3R3 w - - 0 23', 'r4r1k/1p2Np2/p2p1np1/2p5/Q1P1P2p/3B1P1q/PP2K3/R6R b - - 1 23', 'r4r1k/1p2Np2/p2p1np1/2p5/Q1P1P2p/3B1P2/PP2K1q1/R6R w - - 2 24', 'r4r1k/1p2Np2/p2p1np1/2p5/Q1P1P2p/3BKP2/PP4q1/R6R b - - 3 24', 'r4r1k/1p2Np2/p2p1np1/2p5/Q1P1P3/3BKP1p/PP4q1/R6R w - - 0 25', 'r4r1k/1p2Np2/p2p1np1/2p5/2P1P3/3BKP1p/PP4q1/R2Q3R b - - 1 25', '4rr1k/1p2Np2/p2p1np1/2p5/2P1P3/3BKP1p/PP4q1/R2Q3R w - - 2 26', '4rr1k/1p2Np2/p2p1np1/2p5/2P1P3/4KP1p/PP4q1/R2Q1B1R b - - 3 26', '4rr1k/1p2Np2/p2p2p1/2p5/2P1P1n1/4KP1p/PP4q1/R2Q1B1R w - - 4 27', '4rr1k/1p2Np2/p2p2p1/2p5/2P1P1n1/3K1P1p/PP4q1/R2Q1B1R b - - 5 27', '4rr1k/1p2Np2/p2p2p1/2p1n3/2P1P3/3K1P1p/PP4q1/R2Q1B1R w - - 6 28', '4rr1k/1p2Np2/p2p2p1/2p1n3/2P1P3/2K2P1p/PP4q1/R2Q1B1R b - - 7 28', '4rr1k/1p2Np2/p2p2p1/2p1n3/2P1P3/2K2Pqp/PP6/R2Q1B1R w - - 8 29', '4rr1k/1p2Np2/p2p2p1/2p1n3/2P1P3/2K2PqR/PP6/R2Q1B2 b - - 0 29', '4rr1k/1p2Np2/p2p2p1/2p1n3/2P1P3/2K2P1q/PP6/R2Q1B2 w - - 0 30', '4rr1k/1p2Np2/p2p2p1/2p1n3/2P1P3/2K2P1B/PP6/R2Q4 b - - 0 30', '5r1k/1p2rp2/p2p2p1/2p1n3/2P1P3/2K2P1B/PP6/R2Q4 w - - 0 31', '5r1k/1p2rp2/p2Q2p1/2p1n3/2P1P3/2K2P1B/PP6/R7 b - - 0 31', '5r1k/1p2rp2/p1nQ2p1/2p5/2P1P3/2K2P1B/PP6/R7 w - - 1 32', '5r1k/1p2rp2/p1nQ2p1/2p5/2P1P3/2K2P1B/PP6/7R b - - 2 32', '3r3k/1p2rp2/p1nQ2p1/2p5/2P1P3/2K2P1B/PP6/7R w - - 3 33', '3r3k/1p2rp2/p1n3p1/2Q5/2P1P3/2K2P1B/PP6/7R b - - 0 33', '3r3k/1p2rp2/2n3p1/p1Q5/2P1P3/2K2P1B/PP6/7R w - - 0 34', '3r3k/1p1Brp2/2n3p1/p1Q5/2P1P3/2K2P2/PP6/7R b - - 1 34', '3r4/1p1Brpk1/2n3p1/p1Q5/2P1P3/2K2P2/PP6/7R w - - 2 35', '3r4/1p2rpk1/2B3p1/p1Q5/2P1P3/2K2P2/PP6/7R b - - 0 35', '3r4/1pr2pk1/2B3p1/p1Q5/2P1P3/2K2P2/PP6/7R w - - 1 36', '3r4/1pr2pk1/2B3p1/p3Q3/2P1P3/2K2P2/PP6/7R b - - 2 36', '3r4/1pr3k1/2B2pp1/p3Q3/2P1P3/2K2P2/PP6/7R w - - 0 37', '3r4/1pQ3k1/2B2pp1/p7/2P1P3/2K2P2/PP6/7R b - - 0 37', 'rnbqkbnr/pppp1ppp/8/4p3/3P4/8/PPP1PPPP/RNBQKBNR w KQkq - 0 2', 'rnbqkbnr/pppp1ppp/8/4P3/8/8/PPP1PPPP/RNBQKBNR b KQkq - 0 2', 'rnbqkbnr/ppp2ppp/3p4/4P3/8/8/PPP1PPPP/RNBQKBNR w KQkq - 0 3', 'rnbqkbnr/ppp2ppp/3P4/8/8/8/PPP1PPPP/RNBQKBNR b KQkq - 0 3', 'rnbqk1nr/ppp2ppp/3b4/8/8/8/PPP1PPPP/RNBQKBNR w KQkq - 0 4', 'rnbqk1nr/ppp2ppp/3b4/8/8/5N2/PPP1PPPP/RNBQKB1R b KQkq - 1 4', 'rnbqk2r/ppp2ppp/3b1n2/8/8/5N2/PPP1PPPP/RNBQKB1R w KQkq - 2 5', 'rnbqk2r/ppp2ppp/3b1n2/8/8/2N2N2/PPP1PPPP/R1BQKB1R b KQkq - 3 5', 'rnbq1rk1/ppp2ppp/3b1n2/8/8/2N2N2/PPP1PPPP/R1BQKB1R w KQ - 4 6', 'rnbq1rk1/ppp2ppp/3b1n2/8/8/P1N2N2/1PP1PPPP/R1BQKB1R b KQ - 0 6', 'r1bq1rk1/ppp2ppp/2nb1n2/8/8/P1N2N2/1PP1PPPP/R1BQKB1R w KQ - 1 7', 'r1bq1rk1/ppp2ppp/2nb1n2/8/8/P1N1PN2/1PP2PPP/R1BQKB1R b KQ - 0 7', 'r1bq1rk1/1pp2ppp/p1nb1n2/8/8/P1N1PN2/1PP2PPP/R1BQKB1R w KQ - 0 8', 'r1bq1rk1/1pp2ppp/p1nb1n2/8/8/P1N1PN2/1PP1BPPP/R1BQK2R b KQ - 1 8', 'r1bq1rk1/1pp2pp1/p1nb1n1p/8/8/P1N1PN2/1PP1BPPP/R1BQK2R w KQ - 0 9', 'r1bq1rk1/1pp2pp1/p1nb1n1p/8/8/P1N1PN2/1PP1BPPP/R1BQ1RK1 b - - 1 9', 'r1bq1rk1/1pp2pp1/p2b1n1p/4n3/8/P1N1PN2/1PP1BPPP/R1BQ1RK1 w - - 2 10', 'r1bq1rk1/1pp2pp1/p2b1n1p/4n3/8/P1N1PN2/1PPBBPPP/R2Q1RK1 b - - 3 10', 'r1bq1rk1/1pp2pp1/p2b1n1p/8/8/P1N1Pn2/1PPBBPPP/R2Q1RK1 w - - 0 11', 'r1bq1rk1/1pp2pp1/p2b1n1p/8/8/P1N1PB2/1PPB1PPP/R2Q1RK1 b - - 0 11', 'r1bq1rk1/1pp2pp1/p4n1p/4b3/8/P1N1PB2/1PPB1PPP/R2Q1RK1 w - - 1 12', 'r1bq1rk1/1pp2pp1/p4n1p/4b3/8/P1N1PB2/1PPB1PPP/2RQ1RK1 b - - 2 12', 'r1bq1rk1/1p3pp1/p1p2n1p/4b3/8/P1N1PB2/1PPB1PPP/2RQ1RK1 w - - 0 13', 'r1bq1rk1/1p3pp1/p1p2n1p/4b3/8/P1N1PB2/1PPBQPPP/2R2RK1 b - - 1 13', 'r1b2rk1/1p3pp1/p1pq1n1p/4b3/8/P1N1PB2/1PPBQPPP/2R2RK1 w - - 2 14', 'r1b2rk1/1p3pp1/p1pq1n1p/4b3/8/P1N1PB2/1PPBQPPP/2RR2K1 b - - 3 14', 'r1b2rk1/1p3pp1/p1pq1n1p/8/8/P1N1PB2/1PPBQPPb/2RR2K1 w - - 0 15', 'r1b2rk1/1p3pp1/p1pq1n1p/8/8/P1N1PB2/1PPBQPPb/2RR3K b - - 1 15', 'r1b2rk1/1p3pp1/p1pq1n1p/4b3/8/P1N1PB2/1PPBQPP1/2RR3K w - - 2 16', 'r1b2rk1/1p3pp1/p1pq1n1p/4b3/4P3/P1N2B2/1PPBQPP1/2RR3K b - - 0 16', 'r1b2rk1/1p3pp1/p1pq1n1p/8/4P3/P1b2B2/1PPBQPP1/2RR3K w - - 0 17', 'r1b2rk1/1p3pp1/p1pq1n1p/8/4P3/P1B2B2/1PP1QPP1/2RR3K b - - 0 17', 'r1b2rk1/1p3pp1/p1p1qn1p/8/4P3/P1B2B2/1PP1QPP1/2RR3K w - - 1 18', 'r1b2rk1/1p3pp1/p1p1qn1p/8/4P3/P1BR1B2/1PP1QPP1/2R4K b - - 2 18', 'r4rk1/1p1b1pp1/p1p1qn1p/8/4P3/P1BR1B2/1PP1QPP1/2R4K w - - 3 19', 'r4rk1/1p1b1pp1/p1p1qn1p/8/4P3/P1BR1B2/1PP1QPP1/3R3K b - - 4 19', '3r1rk1/1p1b1pp1/p1p1qn1p/8/4P3/P1BR1B2/1PP1QPP1/3R3K w - - 5 20', '3r1rk1/1p1b1pp1/p1p1qB1p/8/4P3/P2R1B2/1PP1QPP1/3R3K b - - 0 20', '3r1rk1/1p1b1p2/p1p1qp1p/8/4P3/P2R1B2/1PP1QPP1/3R3K w - - 0 21', '3r1rk1/1p1b1p2/p1pRqp1p/8/4P3/P4B2/1PP1QPP1/3R3K b - - 1 21', '3r1rk1/1p1bqp2/p1pR1p1p/8/4P3/P4B2/1PP1QPP1/3R3K w - - 2 22', '3r1rk1/1p1bqp2/p1pR1p1p/8/4P3/P4B2/1PPRQPP1/7K b - - 3 22', '3r1rk1/1p2qp2/p1pRbp1p/8/4P3/P4B2/1PPRQPP1/7K w - - 4 23', '3R1rk1/1p2qp2/p1p1bp1p/8/4P3/P4B2/1PPRQPP1/7K b - - 0 23', '3r2k1/1p2qp2/p1p1bp1p/8/4P3/P4B2/1PPRQPP1/7K w - - 0 24', '3R2k1/1p2qp2/p1p1bp1p/8/4P3/P4B2/1PP1QPP1/7K b - - 0 24', '3q2k1/1p3p2/p1p1bp1p/8/4P3/P4B2/1PP1QPP1/7K w - - 0 25', '3q2k1/1p3p2/p1p1bp1p/8/2P1P3/P4B2/1P2QPP1/7K b - - 0 25', '6k1/1p3p2/p1p1bp1p/8/2PqP3/P4B2/1P2QPP1/7K w - - 1 26', '6k1/1p3p2/p1p1bp1p/2P5/3qP3/P4B2/1P2QPP1/7K b - - 0 26', '6k1/1p3p2/p1p1bp1p/2q5/4P3/P4B2/1P2QPP1/7K w - - 0 27', '6k1/1p3p2/p1p1bp1p/2q5/4P3/P4B2/1P1Q1PP1/7K b - - 1 27', '6k1/1p3p2/p1p1b2p/2q2p2/4P3/P4B2/1P1Q1PP1/7K w - - 0 28', '6k1/1p3p2/p1p1b2p/2q2P2/8/P4B2/1P1Q1PP1/7K b - - 0 28', '6k1/1p3p2/p1p4p/2q2b2/8/P4B2/1P1Q1PP1/7K w - - 0 29', '6k1/1p3p2/p1p4Q/2q2b2/8/P4B2/1P3PP1/7K b - - 0 29', '6k1/1p3p2/p1p3bQ/2q5/8/P4B2/1P3PP1/7K w - - 1 30', '6k1/1p3p2/p1p3bQ/2q5/4B3/P7/1P3PP1/7K b - - 2 30', '6k1/1p3p2/p1p4Q/2q5/4b3/P7/1P3PP1/7K w - - 0 31', '6k1/1p3p2/p1p5/2q5/4b2Q/P7/1P3PP1/7K b - - 1 31', '6k1/1p3p2/p1p3b1/2q5/7Q/P7/1P3PP1/7K w - - 2 32', '3Q2k1/1p3p2/p1p3b1/2q5/8/P7/1P3PP1/7K b - - 3 32', '3Q4/1p3pk1/p1p3b1/2q5/8/P7/1P3PP1/7K w - - 4 33', '8/1pQ2pk1/p1p3b1/2q5/8/P7/1P3PP1/7K b - - 5 33', '8/2Q2pk1/p1p3b1/1pq5/8/P7/1P3PP1/7K w - - 0 34', '8/2Q2pk1/p1p3b1/1pq5/1P6/P7/5PP1/7K b - - 0 34', '8/2Q2pk1/p1p3b1/1p6/1P6/P7/5PP1/2q4K w - - 1 35', '8/2Q2pk1/p1p3b1/1p6/1P6/P7/5PPK/2q5 b - - 2 35', '8/2Q2pk1/p1p3b1/1p6/1P6/q7/5PPK/8 w - - 0 36', '8/5pk1/p1p3b1/1p2Q3/1P6/q7/5PPK/8 b - - 1 36', '6k1/5p2/p1p3b1/1p2Q3/1P6/q7/5PPK/8 w - - 2 37', '4Q1k1/5p2/p1p3b1/1p6/1P6/q7/5PPK/8 b - - 3 37', '4Q3/5pk1/p1p3b1/1p6/1P6/q7/5PPK/8 w - - 4 38', '8/5pk1/p1Q3b1/1p6/1P6/q7/5PPK/8 b - - 0 38', '8/5pk1/p1Q3b1/1p6/1q6/8/5PPK/8 w - - 0 39', '8/5pk1/Q5b1/1p6/1q6/8/5PPK/8 b - - 0 39', '8/5pk1/Q5b1/1p6/7q/8/5PPK/8 w - - 1 40', '8/5pk1/Q5b1/1p6/7q/8/5PP1/6K1 b - - 2 40', '8/5pk1/Q5b1/8/1p5q/8/5PP1/6K1 w - - 0 41', '8/5pk1/6b1/8/1p5q/8/5PP1/Q5K1 b - - 1 41', '8/5pk1/5qb1/8/1p6/8/5PP1/Q5K1 w - - 2 42', '8/5pk1/5qb1/8/Qp6/8/5PP1/6K1 b - - 3 42', '8/5pk1/6b1/8/Qp6/2q5/5PP1/6K1 w - - 4 43', '8/5pk1/6b1/8/Qp6/2q2P2/6P1/6K1 b - - 0 43', '8/5pk1/6b1/8/Q7/1pq2P2/6P1/6K1 w - - 0 44', '8/5pk1/6b1/8/8/Qpq2P2/6P1/6K1 b - - 1 44', '8/5pk1/6b1/8/8/Qp3P2/2q3P1/6K1 w - - 2 45', '8/5pk1/6b1/8/8/Qp3P2/2q3PK/8 b - - 3 45', '8/5pk1/6b1/8/8/Q4P2/1pq3PK/8 w - - 0 46'))"
      ]
     },
     "execution_count": 21,
     "metadata": {},
     "output_type": "execute_result"
    }
   ],
   "source": [
    "g.nodes"
   ]
  },
  {
   "cell_type": "code",
   "execution_count": null,
   "metadata": {},
   "outputs": [],
   "source": [
    "g.nodes['rnbqkbnr/pppp1ppp/8/4p3/3PP3/8/PPP2PPP/RNBQKBNR b KQkq - 0 2']"
   ]
  },
  {
   "cell_type": "code",
   "execution_count": null,
   "metadata": {},
   "outputs": [],
   "source": [
    "def varWeighted(scores, counts):\n",
    "    if (len(counts)<2):\n",
    "        return None\n",
    "    else:\n",
    "        weightedMean = sum([a*b for a,b in zip(scores,counts)])/sum(counts)\n",
    "        scoreDiffs = [(score - weightedMean)**2 for score in scores]\n",
    "        V1 = sum(counts)\n",
    "        V2 = sum([count**2 for count in counts])\n",
    "        var = (V1/(V1**2-V2)) * sum([a*b for a,b in zip(counts,scoreDiffs)])\n",
    "        return var"
   ]
  },
  {
   "cell_type": "code",
   "execution_count": 20,
   "metadata": {
    "collapsed": true
   },
   "outputs": [
    {
     "ename": "NetworkXError",
     "evalue": "The node rnbqkb1r/pppppppp/5n2/8/3P4/8/PPP1PPPP/RNBQKBNR w KQkq - 1 2 is not in the digraph.",
     "output_type": "error",
     "traceback": [
      "\u001b[0;31m---------------------------------------------------------------------------\u001b[0m",
      "\u001b[0;31mKeyError\u001b[0m                                  Traceback (most recent call last)",
      "\u001b[0;32m~/opt/anaconda3/lib/python3.7/site-packages/networkx/classes/digraph.py\u001b[0m in \u001b[0;36msuccessors\u001b[0;34m(self, n)\u001b[0m\n\u001b[1;32m    808\u001b[0m         \u001b[0;32mtry\u001b[0m\u001b[0;34m:\u001b[0m\u001b[0;34m\u001b[0m\u001b[0;34m\u001b[0m\u001b[0m\n\u001b[0;32m--> 809\u001b[0;31m             \u001b[0;32mreturn\u001b[0m \u001b[0miter\u001b[0m\u001b[0;34m(\u001b[0m\u001b[0mself\u001b[0m\u001b[0;34m.\u001b[0m\u001b[0m_succ\u001b[0m\u001b[0;34m[\u001b[0m\u001b[0mn\u001b[0m\u001b[0;34m]\u001b[0m\u001b[0;34m)\u001b[0m\u001b[0;34m\u001b[0m\u001b[0;34m\u001b[0m\u001b[0m\n\u001b[0m\u001b[1;32m    810\u001b[0m         \u001b[0;32mexcept\u001b[0m \u001b[0mKeyError\u001b[0m\u001b[0;34m:\u001b[0m\u001b[0;34m\u001b[0m\u001b[0;34m\u001b[0m\u001b[0m\n",
      "\u001b[0;31mKeyError\u001b[0m: 'rnbqkb1r/pppppppp/5n2/8/3P4/8/PPP1PPPP/RNBQKBNR w KQkq - 1 2'",
      "\nDuring handling of the above exception, another exception occurred:\n",
      "\u001b[0;31mNetworkXError\u001b[0m                             Traceback (most recent call last)",
      "\u001b[0;32m<ipython-input-20-712f4764d838>\u001b[0m in \u001b[0;36m<module>\u001b[0;34m\u001b[0m\n\u001b[1;32m      7\u001b[0m \u001b[0mscores\u001b[0m \u001b[0;34m=\u001b[0m \u001b[0;34m[\u001b[0m\u001b[0;34m]\u001b[0m\u001b[0;34m\u001b[0m\u001b[0;34m\u001b[0m\u001b[0m\n\u001b[1;32m      8\u001b[0m \u001b[0mcounts\u001b[0m \u001b[0;34m=\u001b[0m \u001b[0;34m[\u001b[0m\u001b[0;34m]\u001b[0m\u001b[0;34m\u001b[0m\u001b[0;34m\u001b[0m\u001b[0m\n\u001b[0;32m----> 9\u001b[0;31m \u001b[0;32mfor\u001b[0m \u001b[0mneighbor\u001b[0m \u001b[0;32min\u001b[0m \u001b[0mlist\u001b[0m\u001b[0;34m(\u001b[0m\u001b[0mg\u001b[0m\u001b[0;34m.\u001b[0m\u001b[0mneighbors\u001b[0m\u001b[0;34m(\u001b[0m\u001b[0mcurrFen\u001b[0m\u001b[0;34m)\u001b[0m\u001b[0;34m)\u001b[0m\u001b[0;34m:\u001b[0m\u001b[0;34m\u001b[0m\u001b[0;34m\u001b[0m\u001b[0m\n\u001b[0m\u001b[1;32m     10\u001b[0m     \u001b[0mscores\u001b[0m\u001b[0;34m.\u001b[0m\u001b[0mappend\u001b[0m\u001b[0;34m(\u001b[0m\u001b[0mnx\u001b[0m\u001b[0;34m.\u001b[0m\u001b[0mget_node_attributes\u001b[0m\u001b[0;34m(\u001b[0m\u001b[0mg\u001b[0m\u001b[0;34m,\u001b[0m \u001b[0;34m'score'\u001b[0m\u001b[0;34m)\u001b[0m\u001b[0;34m[\u001b[0m\u001b[0mneighbor\u001b[0m\u001b[0;34m]\u001b[0m\u001b[0;34m)\u001b[0m\u001b[0;34m\u001b[0m\u001b[0;34m\u001b[0m\u001b[0m\n\u001b[1;32m     11\u001b[0m     \u001b[0mcounts\u001b[0m\u001b[0;34m.\u001b[0m\u001b[0mappend\u001b[0m\u001b[0;34m(\u001b[0m\u001b[0mnx\u001b[0m\u001b[0;34m.\u001b[0m\u001b[0mget_node_attributes\u001b[0m\u001b[0;34m(\u001b[0m\u001b[0mg\u001b[0m\u001b[0;34m,\u001b[0m \u001b[0;34m'count'\u001b[0m\u001b[0;34m)\u001b[0m\u001b[0;34m[\u001b[0m\u001b[0mneighbor\u001b[0m\u001b[0;34m]\u001b[0m\u001b[0;34m)\u001b[0m\u001b[0;34m\u001b[0m\u001b[0;34m\u001b[0m\u001b[0m\n",
      "\u001b[0;32m~/opt/anaconda3/lib/python3.7/site-packages/networkx/classes/digraph.py\u001b[0m in \u001b[0;36msuccessors\u001b[0;34m(self, n)\u001b[0m\n\u001b[1;32m    809\u001b[0m             \u001b[0;32mreturn\u001b[0m \u001b[0miter\u001b[0m\u001b[0;34m(\u001b[0m\u001b[0mself\u001b[0m\u001b[0;34m.\u001b[0m\u001b[0m_succ\u001b[0m\u001b[0;34m[\u001b[0m\u001b[0mn\u001b[0m\u001b[0;34m]\u001b[0m\u001b[0;34m)\u001b[0m\u001b[0;34m\u001b[0m\u001b[0;34m\u001b[0m\u001b[0m\n\u001b[1;32m    810\u001b[0m         \u001b[0;32mexcept\u001b[0m \u001b[0mKeyError\u001b[0m\u001b[0;34m:\u001b[0m\u001b[0;34m\u001b[0m\u001b[0;34m\u001b[0m\u001b[0m\n\u001b[0;32m--> 811\u001b[0;31m             \u001b[0;32mraise\u001b[0m \u001b[0mNetworkXError\u001b[0m\u001b[0;34m(\u001b[0m\u001b[0;34m\"The node %s is not in the digraph.\"\u001b[0m \u001b[0;34m%\u001b[0m \u001b[0;34m(\u001b[0m\u001b[0mn\u001b[0m\u001b[0;34m,\u001b[0m\u001b[0;34m)\u001b[0m\u001b[0;34m)\u001b[0m\u001b[0;34m\u001b[0m\u001b[0;34m\u001b[0m\u001b[0m\n\u001b[0m\u001b[1;32m    812\u001b[0m \u001b[0;34m\u001b[0m\u001b[0m\n\u001b[1;32m    813\u001b[0m     \u001b[0;31m# digraph definitions\u001b[0m\u001b[0;34m\u001b[0m\u001b[0;34m\u001b[0m\u001b[0;34m\u001b[0m\u001b[0m\n",
      "\u001b[0;31mNetworkXError\u001b[0m: The node rnbqkb1r/pppppppp/5n2/8/3P4/8/PPP1PPPP/RNBQKBNR w KQkq - 1 2 is not in the digraph."
     ]
    }
   ],
   "source": [
    "start = timeit.default_timer()\n",
    "\n",
    "board = chess.Board()\n",
    "board.push_san('d4') #push the move to the board\n",
    "board.push_san('Nf6') #push the move to the board\n",
    "currFen = board.fen()\n",
    "scores = []\n",
    "counts = []\n",
    "for neighbor in list(g.neighbors(currFen)):\n",
    "    scores.append(nx.get_node_attributes(g, 'score')[neighbor])\n",
    "    counts.append(nx.get_node_attributes(g, 'count')[neighbor])\n",
    "    \n",
    "print(\"var:\",varWeighted(scores, counts))\n",
    "\n",
    "stop = timeit.default_timer()\n",
    "print('Time: ', stop - start) "
   ]
  },
  {
   "cell_type": "code",
   "execution_count": 18,
   "metadata": {
    "collapsed": true
   },
   "outputs": [
    {
     "ename": "NetworkXError",
     "evalue": "The node rnbqkbnr/pp1ppppp/8/2p5/4P3/8/PPPP1PPP/RNBQKBNR w KQkq - 0 2 is not in the digraph.",
     "output_type": "error",
     "traceback": [
      "\u001b[0;31m---------------------------------------------------------------------------\u001b[0m",
      "\u001b[0;31mKeyError\u001b[0m                                  Traceback (most recent call last)",
      "\u001b[0;32m~/opt/anaconda3/lib/python3.7/site-packages/networkx/classes/digraph.py\u001b[0m in \u001b[0;36msuccessors\u001b[0;34m(self, n)\u001b[0m\n\u001b[1;32m    808\u001b[0m         \u001b[0;32mtry\u001b[0m\u001b[0;34m:\u001b[0m\u001b[0;34m\u001b[0m\u001b[0;34m\u001b[0m\u001b[0m\n\u001b[0;32m--> 809\u001b[0;31m             \u001b[0;32mreturn\u001b[0m \u001b[0miter\u001b[0m\u001b[0;34m(\u001b[0m\u001b[0mself\u001b[0m\u001b[0;34m.\u001b[0m\u001b[0m_succ\u001b[0m\u001b[0;34m[\u001b[0m\u001b[0mn\u001b[0m\u001b[0;34m]\u001b[0m\u001b[0;34m)\u001b[0m\u001b[0;34m\u001b[0m\u001b[0;34m\u001b[0m\u001b[0m\n\u001b[0m\u001b[1;32m    810\u001b[0m         \u001b[0;32mexcept\u001b[0m \u001b[0mKeyError\u001b[0m\u001b[0;34m:\u001b[0m\u001b[0;34m\u001b[0m\u001b[0;34m\u001b[0m\u001b[0m\n",
      "\u001b[0;31mKeyError\u001b[0m: 'rnbqkbnr/pp1ppppp/8/2p5/4P3/8/PPPP1PPP/RNBQKBNR w KQkq - 0 2'",
      "\nDuring handling of the above exception, another exception occurred:\n",
      "\u001b[0;31mNetworkXError\u001b[0m                             Traceback (most recent call last)",
      "\u001b[0;32m<ipython-input-18-d76b40a785bd>\u001b[0m in \u001b[0;36m<module>\u001b[0;34m\u001b[0m\n\u001b[1;32m     19\u001b[0m     \u001b[0mscores\u001b[0m \u001b[0;34m=\u001b[0m \u001b[0;34m[\u001b[0m\u001b[0;34m]\u001b[0m\u001b[0;34m\u001b[0m\u001b[0;34m\u001b[0m\u001b[0m\n\u001b[1;32m     20\u001b[0m     \u001b[0mcounts\u001b[0m \u001b[0;34m=\u001b[0m \u001b[0;34m[\u001b[0m\u001b[0;34m]\u001b[0m\u001b[0;34m\u001b[0m\u001b[0;34m\u001b[0m\u001b[0m\n\u001b[0;32m---> 21\u001b[0;31m     \u001b[0;32mfor\u001b[0m \u001b[0mneighbor\u001b[0m \u001b[0;32min\u001b[0m \u001b[0mlist\u001b[0m\u001b[0;34m(\u001b[0m\u001b[0mg\u001b[0m\u001b[0;34m.\u001b[0m\u001b[0mneighbors\u001b[0m\u001b[0;34m(\u001b[0m\u001b[0mcurrFen\u001b[0m\u001b[0;34m)\u001b[0m\u001b[0;34m)\u001b[0m\u001b[0;34m:\u001b[0m\u001b[0;34m\u001b[0m\u001b[0;34m\u001b[0m\u001b[0m\n\u001b[0m\u001b[1;32m     22\u001b[0m         \u001b[0mscores\u001b[0m\u001b[0;34m.\u001b[0m\u001b[0mappend\u001b[0m\u001b[0;34m(\u001b[0m\u001b[0mnx\u001b[0m\u001b[0;34m.\u001b[0m\u001b[0mget_node_attributes\u001b[0m\u001b[0;34m(\u001b[0m\u001b[0mg\u001b[0m\u001b[0;34m,\u001b[0m \u001b[0;34m'score'\u001b[0m\u001b[0;34m)\u001b[0m\u001b[0;34m[\u001b[0m\u001b[0mneighbor\u001b[0m\u001b[0;34m]\u001b[0m\u001b[0;34m)\u001b[0m\u001b[0;34m\u001b[0m\u001b[0;34m\u001b[0m\u001b[0m\n\u001b[1;32m     23\u001b[0m         \u001b[0mcounts\u001b[0m\u001b[0;34m.\u001b[0m\u001b[0mappend\u001b[0m\u001b[0;34m(\u001b[0m\u001b[0mnx\u001b[0m\u001b[0;34m.\u001b[0m\u001b[0mget_node_attributes\u001b[0m\u001b[0;34m(\u001b[0m\u001b[0mg\u001b[0m\u001b[0;34m,\u001b[0m \u001b[0;34m'count'\u001b[0m\u001b[0;34m)\u001b[0m\u001b[0;34m[\u001b[0m\u001b[0mneighbor\u001b[0m\u001b[0;34m]\u001b[0m\u001b[0;34m)\u001b[0m\u001b[0;34m\u001b[0m\u001b[0;34m\u001b[0m\u001b[0m\n",
      "\u001b[0;32m~/opt/anaconda3/lib/python3.7/site-packages/networkx/classes/digraph.py\u001b[0m in \u001b[0;36msuccessors\u001b[0;34m(self, n)\u001b[0m\n\u001b[1;32m    809\u001b[0m             \u001b[0;32mreturn\u001b[0m \u001b[0miter\u001b[0m\u001b[0;34m(\u001b[0m\u001b[0mself\u001b[0m\u001b[0;34m.\u001b[0m\u001b[0m_succ\u001b[0m\u001b[0;34m[\u001b[0m\u001b[0mn\u001b[0m\u001b[0;34m]\u001b[0m\u001b[0;34m)\u001b[0m\u001b[0;34m\u001b[0m\u001b[0;34m\u001b[0m\u001b[0m\n\u001b[1;32m    810\u001b[0m         \u001b[0;32mexcept\u001b[0m \u001b[0mKeyError\u001b[0m\u001b[0;34m:\u001b[0m\u001b[0;34m\u001b[0m\u001b[0;34m\u001b[0m\u001b[0m\n\u001b[0;32m--> 811\u001b[0;31m             \u001b[0;32mraise\u001b[0m \u001b[0mNetworkXError\u001b[0m\u001b[0;34m(\u001b[0m\u001b[0;34m\"The node %s is not in the digraph.\"\u001b[0m \u001b[0;34m%\u001b[0m \u001b[0;34m(\u001b[0m\u001b[0mn\u001b[0m\u001b[0;34m,\u001b[0m\u001b[0;34m)\u001b[0m\u001b[0;34m)\u001b[0m\u001b[0;34m\u001b[0m\u001b[0;34m\u001b[0m\u001b[0m\n\u001b[0m\u001b[1;32m    812\u001b[0m \u001b[0;34m\u001b[0m\u001b[0m\n\u001b[1;32m    813\u001b[0m     \u001b[0;31m# digraph definitions\u001b[0m\u001b[0;34m\u001b[0m\u001b[0;34m\u001b[0m\u001b[0;34m\u001b[0m\u001b[0m\n",
      "\u001b[0;31mNetworkXError\u001b[0m: The node rnbqkbnr/pp1ppppp/8/2p5/4P3/8/PPPP1PPP/RNBQKBNR w KQkq - 0 2 is not in the digraph."
     ]
    }
   ],
   "source": [
    "root = ['e4', 'c5']\n",
    "safe = ['e4', 'c5', 'c3']\n",
    "risky = ['e4', 'c5', 'd4']\n",
    "\n",
    "root2 = ['e4', 'e6', 'd4', 'd5']\n",
    "popular2 = ['e4', 'e6', 'd4', 'd5', 'Nc3']\n",
    "popular21 = ['e4', 'e6', 'd4', 'd5', 'Nd2']\n",
    "safe2 = ['e4', 'e6', 'd4', 'd5', 'exd5']\n",
    "risky2 = ['e4', 'e6', 'd4', 'd5', 'e5']\n",
    "\n",
    "Ruy = ['e4', 'e5','Nf3', 'Nc6','Bb5']\n",
    "Vienna = ['e4' ,'e5','d4','exd4','c3']\n",
    "games = [root,safe,risky,root2,popular2, popular21,safe2,risky2, Ruy, Vienna]\n",
    "for game in games:\n",
    "    board = chess.Board()\n",
    "    for move in game:\n",
    "        board.push_san(move)\n",
    "    currFen = board.fen()\n",
    "    scores = []\n",
    "    counts = []\n",
    "    for neighbor in list(g.neighbors(currFen)):\n",
    "        scores.append(nx.get_node_attributes(g, 'score')[neighbor])\n",
    "        counts.append(nx.get_node_attributes(g, 'count')[neighbor])\n",
    "\n",
    "    print('Var {}:'.format(game), varWeighted(scores,counts), \", total Games:\", sum(counts), ', TIE%:', nx.get_node_attributes(g, 'tie')[currFen]/sum(counts)*100)"
   ]
  },
  {
   "cell_type": "code",
   "execution_count": null,
   "metadata": {},
   "outputs": [],
   "source": [
    "root = ['e4', 'c5']\n",
    "safe = ['e4', 'c5', 'c3']\n",
    "risky = ['e4', 'c5', 'd4']\n",
    "\n",
    "root2 = ['e4', 'e6', 'd4', 'd5']\n",
    "popular2 = ['e4', 'e6', 'd4', 'd5', 'Nc3']\n",
    "popular21 = ['e4', 'e6', 'd4', 'd5', 'Nd2']\n",
    "safe2 = ['e4', 'e6', 'd4', 'd5', 'exd5']\n",
    "risky2 = ['e4', 'e6', 'd4', 'd5', 'e5']\n",
    "\n",
    "Ruy = ['e4', 'e5','Nf3', 'Nc6','Bb5']\n",
    "Vienna = ['e4' ,'e5','d4','exd4','c3']\n",
    "games = [root,safe,risky,root2,popular2, popular21,safe2,risky2, Ruy, Vienna]\n",
    "\n",
    "\n",
    "for game in games:\n",
    "    board = chess.Board()\n",
    "    for move in game:\n",
    "        board.push_san(move)\n",
    "    currFen = board.fen()\n",
    "    stockfish.set_fen_position(currFen)\n",
    "    info = stockfish.get_evaluation()['value']\n",
    "\n",
    "    print(game,\"Score:\", info)"
   ]
  },
  {
   "cell_type": "code",
   "execution_count": 19,
   "metadata": {},
   "outputs": [
    {
     "data": {
      "text/plain": [
       "97"
      ]
     },
     "execution_count": 19,
     "metadata": {},
     "output_type": "execute_result"
    }
   ],
   "source": [
    "stockfish.set_fen_position(\"rnbqkbnr/pp1ppppp/8/2p5/4P3/8/PPPP1PPP/RNBQKBNR w KQkq - 0 2\")\n",
    "stockfish.get_evaluation()['value']"
   ]
  },
  {
   "cell_type": "code",
   "execution_count": null,
   "metadata": {},
   "outputs": [],
   "source": [
    "# ###Chess Gambits\n",
    "# Polish Gambit 1. e4 b5\n",
    "# Wing Gambit 1. e4 c5 2. b4\n",
    "# Ware Gambit 1. a4 e5 2. a5 d5 3. e3 f5 4. a6\n",
    "# Birmingham Gambit 1. b4 c5\n",
    "# Schuhler Gambit 1. b4 c6 2. Bb2 a5 3. b5 cxb5 4. e4\n",
    "# Wolferts Gambit 1. b4 e5 2. Bb2 c5\n",
    "# Englund Gambit 1. d4 e5\n",
    "# Budapest Gambit 1. d4 Nf6 2. c4 e5\n",
    "# Benko Gambit 1. d4 Nf6 2. c4 c5 3. d5 b5\n",
    "# Staunton Gambit 1. d4 f5 2. e4\n",
    "# Smith-Morra Gambit 1. e4 c5 2. d4 cxd4 3. c3\n",
    "# Danish Gambit 1. e4 e5 2. d4 exd4 3. c3\n",
    "# Vienna Gambit 1. e4 e5 2. Nc3 Nf6 3. f4\n",
    "# King's Gambit 1. e4 e5 2. f4\n",
    "# Quaade Gambit 1. e4 e5 2. f4 exf4 3. Nf3 g5 4. Nc3\n",
    "# Kieseritsky Gambit 1. e4 e5 2. Nc3 Nf6 3. Bc4 Nxe4 4. Nf3\n",
    "# Rice Gambit 1. e4 e5 2. f4 exf4 3. Nf3 g5 4. h4 g4 5. Ne5 Nf6 6. Bc4 d5 7. exd5 Bd6 8. 0-0\n",
    "# Elephant Gambit 1. e4 e5 2. Nf3 d5\n",
    "# Latvian Gambit 1. e4 e5 2. Nf3 f5\n",
    "# Irish Gambit 1. e4 e5 2. Nf3 Nc6 3. Nxe5?\n",
    "# Halloween Gambit 1. e4 e5 2. Nf3 Nc6 3. Nc3 Nf6 4. Nxe5?!\n",
    "# Blackburne Shilling Gambit 1. e4 e5 2. Nf3 Nc6 3. Bc4 Nd4\n",
    "# Italian Gambit 1. e4 e5 2. Nf3 Nc6 3. Bc4 Bc5 4. d4\n",
    "# Rousseau Gambit 1. e4 e5 2. Nf3 Nc6 3. Bc4 f5\n",
    "# Evans Gambit 1. e4 e5 2. Nf3 Nc6 3. Bc4 Bc5 4. b4\n",
    "# Blackmar–Diemer Gambit 1. d4 d5 2. e4 dxe4 3. Nc3\n",
    "# Queen's Gambit 1. d4 d5 2. c4\n",
    "# Grünfeld Gambit 1. d4 Nf6 2. c4 g6 3. Nc3 d5 4. Bf4 Bg7 5. e3 0-0"
   ]
  }
 ],
 "metadata": {
  "kernelspec": {
   "display_name": "Python 3",
   "language": "python",
   "name": "python3"
  },
  "language_info": {
   "codemirror_mode": {
    "name": "ipython",
    "version": 3
   },
   "file_extension": ".py",
   "mimetype": "text/x-python",
   "name": "python",
   "nbconvert_exporter": "python",
   "pygments_lexer": "ipython3",
   "version": "3.7.6"
  }
 },
 "nbformat": 4,
 "nbformat_minor": 4
}
