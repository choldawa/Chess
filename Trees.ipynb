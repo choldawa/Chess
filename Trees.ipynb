{
 "cells": [
  {
   "cell_type": "code",
   "execution_count": 21,
   "metadata": {},
   "outputs": [],
   "source": [
    "# import pip\n",
    "#!pip install pgnparser\n",
    "#Build a tree\n",
    "import chess\n",
    "import chess.pgn\n",
    "import re\n",
    "from treelib import Node, Tree\n"
   ]
  },
  {
   "cell_type": "code",
   "execution_count": 22,
   "metadata": {},
   "outputs": [],
   "source": [
    "pgn_mega = open(\"lichess 2013-01.pgn\")\n",
    "gameList = []\n",
    "for i in range(1,10):\n",
    "    gameList.append(chess.pgn.read_game(pgn_mega))\n",
    "game = gameList[0]"
   ]
  },
  {
   "cell_type": "code",
   "execution_count": 29,
   "metadata": {},
   "outputs": [
    {
     "name": "stdout",
     "output_type": "stream",
     "text": [
      "1. e4 e6 2. d4 b6 3. a3 Bb7 4. Nc3 Nh6 5. Bxh6 gxh6 6. Be2 Qg5 7. Bg4 h5 8. Nf3 Qg6 9. Nh4 Qg5 10. Bxh5 Qxh4 11. Qf3 Kd8 12. Qxf7 Nc6 13. Qe8#\n"
     ]
    }
   ],
   "source": [
    "print(game.mainline())"
   ]
  },
  {
   "cell_type": "code",
   "execution_count": 38,
   "metadata": {},
   "outputs": [
    {
     "name": "stdout",
     "output_type": "stream",
     "text": [
      "1. e4 e6 2. d4 b6 3. a3 Bb7 4. Nc3 Nh6 5. Bxh6 gxh6 6. Be2 Qg5 7. Bg4 h5 8. Nf3 Qg6 9. Nh4 Qg5 10. Bxh5 Qxh4 11. Qf3 Kd8 12. Qxf7 Nc6 13. Qe8#\n",
      "1 e4 e6 2 d4 b6 3 a3 Bb7 4 Nc3 Nh6 5 Bxh6 gxh6 6 Be2 Qg5 7 Bg4 h5 8 Nf3 Qg6 9 Nh4 Qg5 10 Bxh5 Qxh4 11 Qf3 Kd8 12 Qxf7 Nc6 13 Qe8 \n"
     ]
    }
   ],
   "source": [
    "print(str(game.mainline()))\n",
    "print(re.sub(r'\\W+', ' ', str(game.mainline())))"
   ]
  },
  {
   "cell_type": "code",
   "execution_count": 55,
   "metadata": {},
   "outputs": [
    {
     "name": "stdout",
     "output_type": "stream",
     "text": [
      "['', 'e4 e6', 'd4 b6', 'a3 Bb7', 'Nc3 Nh6', 'Bxh6 gxh6', 'Be2 Qg5', 'Bg4 h5', 'Nf3 Qg6', 'Nh4 Qg5', 'Bxh5 Qxh4', 'Qf3 Kd8', 'Qxf7 Nc6', 'Qe8#']\n"
     ]
    }
   ],
   "source": [
    "moves = []\n",
    "for move in re.split('\\s?\\d+\\.\\s',str(game.mainline())):\n",
    "    moves.append(re.sub(r'\\W+', ' ',move))\n",
    "print(moves)"
   ]
  },
  {
   "cell_type": "code",
   "execution_count": 61,
   "metadata": {},
   "outputs": [
    {
     "name": "stdout",
     "output_type": "stream",
     "text": [
      " e4 e6 d4 b6 a3 Bb7 Nc3 Nh6 Bxh6 gxh6 Be2 Qg5 Bg4 h5 Nf3 Qg6 Nh4 Qg5 Bxh5 Qxh4 Qf3 Kd8 Qxf7 Nc6 Qe8  \n"
     ]
    }
   ],
   "source": [
    "#string of moves\n",
    "strings = ''\n",
    "for move in re.split('\\s?\\d+\\.\\s',str(game.mainline())):\n",
    "    strings = strings+re.sub(r'\\W+', ' ',move) + ' '\n",
    "print(strings)"
   ]
  },
  {
   "cell_type": "code",
   "execution_count": 34,
   "metadata": {},
   "outputs": [
    {
     "data": {
      "text/plain": [
       "Node(tag=Harry, identifier=harry, data=None)"
      ]
     },
     "execution_count": 34,
     "metadata": {},
     "output_type": "execute_result"
    }
   ],
   "source": [
    "tree = Tree()\n",
    "tree.create_node(\"Harry\", \"harry\")  # root node"
   ]
  }
 ],
 "metadata": {
  "kernelspec": {
   "display_name": "Python 3",
   "language": "python",
   "name": "python3"
  },
  "language_info": {
   "codemirror_mode": {
    "name": "ipython",
    "version": 3
   },
   "file_extension": ".py",
   "mimetype": "text/x-python",
   "name": "python",
   "nbconvert_exporter": "python",
   "pygments_lexer": "ipython3",
   "version": "3.7.6"
  }
 },
 "nbformat": 4,
 "nbformat_minor": 4
}
