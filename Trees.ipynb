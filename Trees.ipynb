{
 "cells": [
  {
   "cell_type": "raw",
   "metadata": {},
   "source": [
    "Issues:\n",
    "    what about circular/repeated moves?\n",
    "    how to store/efficiently search tree (just move or move path?)\n",
    "    how to evaluate move in stockfish-- can we pass in san?\n",
    "    \n",
    "\n",
    "for tress:\n",
    "[need to track: node, all children, frequency of children]\n",
    "1. get list of moves\n",
    "2. first move becomes root\n",
    "3. next move becomes child\n",
    "4. add +1 to child attribute\n",
    "\n",
    "When building tree: iterate through every move\n",
    "generate unique ID (label for that node) -- increment data associated with node\n",
    "Load pgn push move, load board get fen <- now unique id\n",
    "\n",
    "When looking up, go to root, go to child, continue until desired position reached. Get stockfish of all listed children, weighted by frequency\n",
    "\n",
    "\n",
    "unpack games into intermediate step before tree (query)\n",
    "    text file of mainlines\n",
    "    grep strings\n",
    "\n",
    "6/28--------------------------- \n",
    "MAKE JUMBO TXT with all pgn files using grep (concatenate all for final iteration)\n",
    "Store in node:\n",
    "    Full string path (san)\n",
    "    Stockfish score at node\n",
    "    count of instances of node\n",
    "Preprocessing:\n",
    "    We have a txt file with mainlines\n",
    "        Need to split on lines, and parse for simplified san (using regex)\n",
    "How to add to nodes:\n",
    "    pass through each line\n",
    "    For each line:\n",
    "        grab move \n",
    "        push move to board - get board - get fen\n",
    "        calculate stockfish using fen\n",
    "        get line count using grep\n",
    "    Stop (do not add node) when line count too low, move to next game\n",
    "        \n",
    "\n"
   ]
  },
  {
   "cell_type": "code",
   "execution_count": 1,
   "metadata": {},
   "outputs": [],
   "source": [
    "# import pip\n",
    "#!pip install pgnparser\n",
    "#Build a tree\n",
    "import chess\n",
    "import chess.pgn\n",
    "import re\n",
    "from treelib import Node, Tree"
   ]
  },
  {
   "cell_type": "code",
   "execution_count": 2,
   "metadata": {},
   "outputs": [
    {
     "name": "stdout",
     "output_type": "stream",
     "text": [
      "Line 1: 1. e4 e6 2. d4 b6 3. a3 Bb7 4. Nc3 Nh6 5. Bxh6 gxh6 6. Be2 Qg5 7. Bg4 h5 8. Nf3 Qg6 9. Nh4 Qg5 10. Bxh5 Qxh4 11. Qf3 Kd8 12. Qxf7 Nc6 13. Qe8# 1-0\n",
      "Line 2: 1. d4 d5 2. Nf3 Nf6 3. e3 Bf5 4. Nh4 Bg6 5. Nxg6 hxg6 6. Nd2 e6 7. Bd3 Bd6 8. e4 dxe4 9. Nxe4 Rxh2 10. Ke2 Rxh1 11. Qxh1 Nc6 12. Bg5 Ke7 13. Qh7 Nxd4+ 14. Kd2 Qe8 15. Qxg7 Qh8 16. Bxf6+ Kd7 17. Qxh8 Rxh8 18. Bxh8 1-0\n",
      "Line 3: 1. e4 e5 2. Nf3 Nc6 3. Bc4 Nf6 4. Nc3 Bc5 5. a3 Bxf2+ 6. Kxf2 Nd4 7. d3 Ng4+ 8. Kf1 Qf6 9. h3 d5 10. Nxd5 Qe6 11. Nxc7+ 1-0\n",
      "Line 4: 1. e4 c6 2. Nc3 d5 3. Qf3 dxe4 4. Nxe4 Nd7 5. Bc4 Ngf6 6. Nxf6+ Nxf6 7. Qg3 Bf5 8. d3 Bg6 9. Ne2 e6 10. Bf4 Nh5 11. Qf3 Nxf4 12. Nxf4 Be7 13. Bxe6 fxe6 14. Nxe6 Qa5+ 15. c3 Qe5+ 16. Qe3 Qxe3+ 17. fxe3 Kd7 18. Nf4 Bd6 19. Nxg6 hxg6 20. h3 Bg3+ 21. Kd2 Raf8 22. Rhf1 Ke7 23. d4 Rxf1 24. Rxf1 Rf8 25. Rxf8 Kxf8 26. e4 Ke7 27. Ke3 g5 28. Kf3 Be1 29. Kg4 Bd2 30. Kf5 Bc1 31. Kg6 Kf8 32. e5 Bxb2 33. Kxg5 Bxc3 34. h4 Bxd4 35. h5 Bxe5 36. g4 Bb2 37. Kf5 Kf7 38. g5 Bc1 39. g6+ Ke7 40. Ke5 b5 41. Kd4 Kd6 42. Kc3 c5 43. a3 Bg5 44. a4 bxa4 45. Kb2 Kd5 46. Ka3 Kd4 47. Kxa4 c4 0-1\n"
     ]
    }
   ],
   "source": [
    "f = open('Lichess2013mainline.txt', \"r\")\n",
    "mainlineList = []\n",
    "filepath = 'Lichess2013mainline.txt'\n",
    "with open(filepath) as fp:\n",
    "   line = fp.readline()\n",
    "   cnt = 1\n",
    "   while cnt <5:\n",
    "       print(\"Line {}: {}\".format(cnt, line.strip()))\n",
    "       line = fp.readline()\n",
    "       cnt += 1"
   ]
  },
  {
   "cell_type": "code",
   "execution_count": 3,
   "metadata": {},
   "outputs": [],
   "source": [
    "pgn_mega = open(\"lichess 2013-01.pgn\")\n",
    "gameList = []\n",
    "for i in range(1,10):\n",
    "    gameList.append(chess.pgn.read_game(pgn_mega))\n",
    "game = gameList[0]"
   ]
  },
  {
   "cell_type": "code",
   "execution_count": 4,
   "metadata": {},
   "outputs": [
    {
     "name": "stdout",
     "output_type": "stream",
     "text": [
      "[Event \"Rated Classical game\"]\n",
      "[Site \"https://lichess.org/j1dkb5dw\"]\n",
      "[Date \"????.??.??\"]\n",
      "[Round \"?\"]\n",
      "[White \"BFG9k\"]\n",
      "[Black \"mamalak\"]\n",
      "[Result \"1-0\"]\n",
      "[BlackElo \"1403\"]\n",
      "[BlackRatingDiff \"-8\"]\n",
      "[ECO \"C00\"]\n",
      "[Opening \"French Defense: Normal Variation\"]\n",
      "[Termination \"Normal\"]\n",
      "[TimeControl \"600+8\"]\n",
      "[UTCDate \"2012.12.31\"]\n",
      "[UTCTime \"23:01:03\"]\n",
      "[WhiteElo \"1639\"]\n",
      "[WhiteRatingDiff \"+5\"]\n",
      "\n",
      "1. e4 e6 2. d4 b6 3. a3 Bb7 4. Nc3 Nh6 5. Bxh6 gxh6 6. Be2 Qg5 7. Bg4 h5 8. Nf3 Qg6 9. Nh4 Qg5 10. Bxh5 Qxh4 11. Qf3 Kd8 12. Qxf7 Nc6 13. Qe8# 1-0\n"
     ]
    }
   ],
   "source": [
    "print(game)"
   ]
  },
  {
   "cell_type": "code",
   "execution_count": 5,
   "metadata": {},
   "outputs": [],
   "source": [
    "# board = chess.Board()\n",
    "# for move in game.mainline():\n",
    "#     print(move)"
   ]
  },
  {
   "cell_type": "code",
   "execution_count": 6,
   "metadata": {},
   "outputs": [
    {
     "name": "stdout",
     "output_type": "stream",
     "text": [
      "1. e4 e6 2. d4 b6 3. a3 Bb7 4. Nc3 Nh6 5. Bxh6 gxh6 6. Be2 Qg5 7. Bg4 h5 8. Nf3 Qg6 9. Nh4 Qg5 10. Bxh5 Qxh4 11. Qf3 Kd8 12. Qxf7 Nc6 13. Qe8#\n"
     ]
    }
   ],
   "source": [
    "print(game.mainline())"
   ]
  },
  {
   "cell_type": "code",
   "execution_count": 7,
   "metadata": {},
   "outputs": [
    {
     "data": {
      "text/plain": [
       "<bound method GameNode.board of <Game at 0x10a94add0 ('BFG9k' vs. 'mamalak', '????.??.??')>>"
      ]
     },
     "execution_count": 7,
     "metadata": {},
     "output_type": "execute_result"
    }
   ],
   "source": [
    "game.board"
   ]
  },
  {
   "cell_type": "code",
   "execution_count": 8,
   "metadata": {},
   "outputs": [
    {
     "name": "stdout",
     "output_type": "stream",
     "text": [
      "1. e4 e6 2. d4 b6 3. a3 Bb7 4. Nc3 Nh6 5. Bxh6 gxh6 6. Be2 Qg5 7. Bg4 h5 8. Nf3 Qg6 9. Nh4 Qg5 10. Bxh5 Qxh4 11. Qf3 Kd8 12. Qxf7 Nc6 13. Qe8#\n",
      "1 e4 e6 2 d4 b6 3 a3 Bb7 4 Nc3 Nh6 5 Bxh6 gxh6 6 Be2 Qg5 7 Bg4 h5 8 Nf3 Qg6 9 Nh4 Qg5 10 Bxh5 Qxh4 11 Qf3 Kd8 12 Qxf7 Nc6 13 Qe8 \n"
     ]
    }
   ],
   "source": [
    "print(str(game.mainline()))\n",
    "print(re.sub(r'\\W+', ' ', str(game.mainline())))"
   ]
  },
  {
   "cell_type": "code",
   "execution_count": 9,
   "metadata": {},
   "outputs": [
    {
     "name": "stdout",
     "output_type": "stream",
     "text": [
      "['', 'e4 e6', 'd4 b6', 'a3 Bb7', 'Nc3 Nh6', 'Bxh6 gxh6', 'Be2 Qg5', 'Bg4 h5', 'Nf3 Qg6', 'Nh4 Qg5', 'Bxh5 Qxh4', 'Qf3 Kd8', 'Qxf7 Nc6', 'Qe8 ']\n"
     ]
    }
   ],
   "source": [
    "moves = []\n",
    "for move in re.split('\\s?\\d+\\.\\s',str(game.mainline())):\n",
    "    moves.append(re.sub(r'\\W+', ' ',move))\n",
    "print(moves)"
   ]
  },
  {
   "cell_type": "code",
   "execution_count": 10,
   "metadata": {},
   "outputs": [
    {
     "name": "stdout",
     "output_type": "stream",
     "text": [
      " e4 e6 d4 b6 a3 Bb7 Nc3 Nh6 Bxh6 gxh6 Be2 Qg5 Bg4 h5 Nf3 Qg6 Nh4 Qg5 Bxh5 Qxh4 Qf3 Kd8 Qxf7 Nc6 Qe8  \n"
     ]
    }
   ],
   "source": [
    "#string of moves\n",
    "strings = ''\n",
    "for move in re.split('\\s?\\d+\\.\\s',str(game.mainline())):\n",
    "    strings = strings+re.sub(r'\\W+', ' ',move) + ' '\n",
    "print(strings)"
   ]
  },
  {
   "cell_type": "code",
   "execution_count": 11,
   "metadata": {},
   "outputs": [
    {
     "name": "stdout",
     "output_type": "stream",
     "text": [
      "['e4', 'e6', 'd4', 'b6', 'a3', 'Bb7', 'Nc3', 'Nh6', 'Bxh6', 'gxh6', 'Be2', 'Qg5', 'Bg4', 'h5', 'Nf3', 'Qg6', 'Nh4', 'Qg5', 'Bxh5', 'Qxh4', 'Qf3', 'Kd8', 'Qxf7', 'Nc6', 'Qe8']\n"
     ]
    }
   ],
   "source": [
    "move_list = re.split('\\s',strings)\n",
    "while(\"\" in move_list) : \n",
    "    move_list.remove(\"\")\n",
    "print(move_list)\n",
    "#move_list = ['root'] + move_list\n",
    "#print(move_list)"
   ]
  },
  {
   "cell_type": "code",
   "execution_count": 12,
   "metadata": {},
   "outputs": [],
   "source": [
    "\n",
    "# pgn = io.StringIO(stringa)\n",
    "# game = chess.pgn.read_game(pgn)"
   ]
  },
  {
   "cell_type": "code",
   "execution_count": 13,
   "metadata": {},
   "outputs": [
    {
     "data": {
      "text/plain": [
       "Node(tag=d4, identifier=d4, data=3)"
      ]
     },
     "execution_count": 13,
     "metadata": {},
     "output_type": "execute_result"
    }
   ],
   "source": [
    "tree = Tree()\n",
    "tree.create_node(move_list[0], move_list[0])  # root node\n",
    "tree.create_node(move_list[1], move_list[1], parent = move_list[0])\n",
    "tree.create_node(move_list[2], move_list[2], parent = move_list[1], data =3)"
   ]
  },
  {
   "cell_type": "code",
   "execution_count": 14,
   "metadata": {},
   "outputs": [
    {
     "data": {
      "text/plain": [
       "4"
      ]
     },
     "execution_count": 14,
     "metadata": {},
     "output_type": "execute_result"
    }
   ],
   "source": [
    "tree.get_node(move_list[2]).data+=1\n",
    "tree.get_node(move_list[2]).data"
   ]
  },
  {
   "cell_type": "code",
   "execution_count": 15,
   "metadata": {},
   "outputs": [],
   "source": [
    "move_tree = Tree()\n",
    "for i, move in enumerate(move_list):\n",
    "    if move_tree.get_node(move_list[i]) is None:\n",
    "        if(i ==0):\n",
    "            move_tree.create_node(move_list[i], move_list[i], data = 1)\n",
    "        else:\n",
    "            move_tree.create_node(move_list[i], move_list[i], parent = move_list[i-1], data = 1)\n",
    "    else:\n",
    "        move_tree.get_node(move_list[i-1]).data+=1\n"
   ]
  },
  {
   "cell_type": "code",
   "execution_count": 16,
   "metadata": {},
   "outputs": [
    {
     "name": "stdout",
     "output_type": "stream",
     "text": [
      "[['e4', 'e6', 'd4', 'b6', 'a3', 'Bb7', 'Nc3', 'Nh6', 'Bxh6', 'gxh6', 'Be2', 'Qg5', 'Bg4', 'h5', 'Nf3', 'Qg6', 'Nh4', 'Qg5', 'Bxh5', 'Qxh4', 'Qf3', 'Kd8', 'Qxf7', 'Nc6', 'Qe8'], ['e4', 'e6', 'd4', 'b6', 'a3', 'Bb7', 'Nc3', 'Nh6', 'Bxh6', 'gxh6', 'test', 'test2']]\n"
     ]
    }
   ],
   "source": [
    "move_list2 = move_list[0:10] + ['test', 'test2']\n",
    "move_list_full = [move_list, move_list2]\n",
    "print(move_list_full)"
   ]
  },
  {
   "cell_type": "code",
   "execution_count": 17,
   "metadata": {},
   "outputs": [],
   "source": [
    "move_tree = Tree()\n",
    "for move_list in move_list_full:\n",
    "#     print (move_list)\n",
    "    for i, move in enumerate(move_list):\n",
    "#         print(move)\n",
    "        if move_tree.get_node(move_list[i]) is None:\n",
    "            if(i ==0):\n",
    "                move_tree.create_node(move_list[i], move_list[i], data = 1)\n",
    "            else:\n",
    "                move_tree.create_node(move_list[i], move_list[i], parent = move_list[i-1], data = 1)\n",
    "        else:\n",
    "            if(i!=0):\n",
    "                move_tree.get_node(move_list[i-1]).data+=1"
   ]
  },
  {
   "cell_type": "code",
   "execution_count": 18,
   "metadata": {},
   "outputs": [
    {
     "data": {
      "text/plain": [
       "'gxh6'"
      ]
     },
     "execution_count": 18,
     "metadata": {},
     "output_type": "execute_result"
    }
   ],
   "source": [
    "move_tree.children('Bxh6')[0].tag"
   ]
  },
  {
   "cell_type": "code",
   "execution_count": 19,
   "metadata": {},
   "outputs": [
    {
     "name": "stdout",
     "output_type": "stream",
     "text": [
      "1\n",
      "e4\n",
      "└── e6\n",
      "    └── d4\n",
      "        └── b6\n",
      "            └── a3\n",
      "                └── Bb7\n",
      "                    └── Nc3\n",
      "                        └── Nh6\n",
      "                            └── Bxh6\n",
      "                                └── gxh6\n",
      "                                    ├── Be2\n",
      "                                    │   └── Qg5\n",
      "                                    │       ├── Bg4\n",
      "                                    │       │   └── h5\n",
      "                                    │       │       └── Nf3\n",
      "                                    │       │           └── Qg6\n",
      "                                    │       │               └── Nh4\n",
      "                                    │       └── Bxh5\n",
      "                                    │           └── Qxh4\n",
      "                                    │               └── Qf3\n",
      "                                    │                   └── Kd8\n",
      "                                    │                       └── Qxf7\n",
      "                                    │                           └── Nc6\n",
      "                                    │                               └── Qe8\n",
      "                                    └── test\n",
      "                                        └── test2\n",
      "\n"
     ]
    }
   ],
   "source": [
    "print(move_tree.get_node('test2').data)\n",
    "print(move_tree)"
   ]
  },
  {
   "cell_type": "code",
   "execution_count": 20,
   "metadata": {},
   "outputs": [],
   "source": [
    "# import pip\n",
    "# !pip install chessmoves\n",
    "#import chessmoves"
   ]
  },
  {
   "cell_type": "code",
   "execution_count": 21,
   "metadata": {},
   "outputs": [],
   "source": [
    "# import pip\n",
    "# !pip install stockfish\n",
    "from stockfish import Stockfish\n",
    "stockfish = Stockfish(\"./stockfish-10-64\")\n"
   ]
  },
  {
   "cell_type": "code",
   "execution_count": 22,
   "metadata": {},
   "outputs": [
    {
     "data": {
      "text/plain": [
       "{'type': 'cp', 'value': 64}"
      ]
     },
     "execution_count": 22,
     "metadata": {},
     "output_type": "execute_result"
    }
   ],
   "source": [
    "stockfish.set_position([\"e2e4\", \"e7e6\", \"d2d4\"]) #only takes lan and fen??\n",
    "stockfish.get_evaluation()"
   ]
  },
  {
   "cell_type": "code",
   "execution_count": 24,
   "metadata": {},
   "outputs": [
    {
     "name": "stdout",
     "output_type": "stream",
     "text": [
      "e4\n",
      "<bound method Board.fen of Board('rnbqkbnr/pppppppp/8/8/4P3/8/PPPP1PPP/RNBQKBNR b KQkq - 0 1')>\n",
      "e6\n",
      "<bound method Board.fen of Board('rnbqkbnr/pppp1ppp/4p3/8/4P3/8/PPPP1PPP/RNBQKBNR w KQkq - 0 2')>\n",
      "d4\n",
      "<bound method Board.fen of Board('rnbqkbnr/pppp1ppp/4p3/8/3PP3/8/PPP2PPP/RNBQKBNR b KQkq - 0 2')>\n",
      "b6\n",
      "<bound method Board.fen of Board('rnbqkbnr/p1pp1ppp/1p2p3/8/3PP3/8/PPP2PPP/RNBQKBNR w KQkq - 0 3')>\n",
      "a3\n",
      "<bound method Board.fen of Board('rnbqkbnr/p1pp1ppp/1p2p3/8/3PP3/P7/1PP2PPP/RNBQKBNR b KQkq - 0 3')>\n",
      "Bb7\n",
      "<bound method Board.fen of Board('rn1qkbnr/pbpp1ppp/1p2p3/8/3PP3/P7/1PP2PPP/RNBQKBNR w KQkq - 1 4')>\n",
      "Nc3\n",
      "<bound method Board.fen of Board('rn1qkbnr/pbpp1ppp/1p2p3/8/3PP3/P1N5/1PP2PPP/R1BQKBNR b KQkq - 2 4')>\n",
      "Nh6\n",
      "<bound method Board.fen of Board('rn1qkb1r/pbpp1ppp/1p2p2n/8/3PP3/P1N5/1PP2PPP/R1BQKBNR w KQkq - 3 5')>\n",
      "Bxh6\n",
      "<bound method Board.fen of Board('rn1qkb1r/pbpp1ppp/1p2p2B/8/3PP3/P1N5/1PP2PPP/R2QKBNR b KQkq - 0 5')>\n",
      "gxh6\n",
      "<bound method Board.fen of Board('rn1qkb1r/pbpp1p1p/1p2p2p/8/3PP3/P1N5/1PP2PPP/R2QKBNR w KQkq - 0 6')>\n",
      "Score: +162\n",
      "Score: +179\n",
      "Score: +165\n"
     ]
    }
   ],
   "source": [
    "import chess\n",
    "import chess.engine\n",
    "\n",
    "engine = chess.engine.SimpleEngine.popen_uci(\"./stockfish-10-64\")\n",
    "\n",
    "scores = []\n",
    "board = chess.Board()\n",
    "for move in move_list[0:10]:\n",
    "    print(move)\n",
    "    board.push_san(move)\n",
    "    print(board.fen)\n",
    "info = engine.analyse(board, chess.engine.Limit(depth=20)) #seems about same as below, but slower\n",
    "info1 = engine.analyse(board, chess.engine.Limit(time=0.1))\n",
    "info2 = engine.analyse(board, chess.engine.Limit(time=0.05))\n",
    "print(\"Score:\", info[\"score\"])\n",
    "print(\"Score:\", info1[\"score\"])\n",
    "print(\"Score:\", info2[\"score\"])"
   ]
  },
  {
   "cell_type": "code",
   "execution_count": 31,
   "metadata": {},
   "outputs": [
    {
     "data": {
      "text/plain": [
       "<bound method Board.fen of Board('rn1qkb1r/pbpp1p1p/1p2p2p/8/3PP3/P1N5/1PP2PPP/R2QKBNR w KQkq - 0 6')>"
      ]
     },
     "execution_count": 31,
     "metadata": {},
     "output_type": "execute_result"
    }
   ],
   "source": [
    "print(board.fen)\n",
    "print(board.board_fen)\n",
    "print(board.castling_shredder_fen)\n",
    "print(board.castling_xfen)\n",
    "print(board.lan)\n",
    "print(board.parse_san)\n",
    "print(board.san)\n",
    "print(board.shredder_fen)\n",
    "print(board.)"
   ]
  }
 ],
 "metadata": {
  "kernelspec": {
   "display_name": "Python 3",
   "language": "python",
   "name": "python3"
  },
  "language_info": {
   "codemirror_mode": {
    "name": "ipython",
    "version": 3
   },
   "file_extension": ".py",
   "mimetype": "text/x-python",
   "name": "python",
   "nbconvert_exporter": "python",
   "pygments_lexer": "ipython3",
   "version": "3.7.6"
  }
 },
 "nbformat": 4,
 "nbformat_minor": 4
}
