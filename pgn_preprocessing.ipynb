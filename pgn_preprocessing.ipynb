{
 "cells": [
  {
   "cell_type": "code",
   "execution_count": 1,
   "metadata": {},
   "outputs": [],
   "source": [
    "import subprocess\n",
    "import re"
   ]
  },
  {
   "cell_type": "code",
   "execution_count": null,
   "metadata": {},
   "outputs": [],
   "source": [
    "grep -I \"^1.\"  lichess_db_standard_rated_2013-01.pgn > lichess.txt\n",
    "sed -i '' 's/[0-9]*\\./ /g' lichess.txt\n",
    "sed -i '' 's/{.*}//g' lichess.txt\n",
    "tr -s ' ' < lichess.txt > tmp.txt && mv tmp.txt lichess.txt\n",
    "cut -d' ' -f2-5 lichess.txt | sort | uniq -c | sort -k 1 -n"
   ]
  },
  {
   "cell_type": "code",
   "execution_count": 2,
   "metadata": {},
   "outputs": [],
   "source": [
    "command = \"grep -I '^1.'  lichess_db_standard_rated_2013-01.pgn > lichess.txt\"\n",
    "process = subprocess.Popen(command, stdout=subprocess.PIPE, stderr=None, shell=True)\n",
    "# output = process.communicate()\n",
    "# count = int(re.findall('\\d+',str(output))[0])"
   ]
  },
  {
   "cell_type": "code",
   "execution_count": 3,
   "metadata": {},
   "outputs": [],
   "source": [
    "command = \"sed -i '' 's/[0-9]*\\./ /g' lichess.txt\"\n",
    "process = subprocess.Popen(command, stdout=subprocess.PIPE, stderr=None, shell=True)"
   ]
  },
  {
   "cell_type": "code",
   "execution_count": 4,
   "metadata": {},
   "outputs": [],
   "source": [
    "command = \"sed -i '' 's/{.*}//g' lichess.txt\"\n",
    "process = subprocess.Popen(command, stdout=subprocess.PIPE, stderr=None, shell=True)"
   ]
  },
  {
   "cell_type": "code",
   "execution_count": 5,
   "metadata": {},
   "outputs": [],
   "source": [
    "command = \"tr -s ' ' < lichess.txt > tmp.txt && mv tmp.txt lichess.txt\"\n",
    "process = subprocess.Popen(command, stdout=subprocess.PIPE, stderr=None, shell=True)"
   ]
  },
  {
   "cell_type": "code",
   "execution_count": 6,
   "metadata": {},
   "outputs": [],
   "source": [
    "command = \"cut -d' ' -f2-5 lichess.txt | sort | uniq -c | sort -k 1 -n\"\n",
    "process = subprocess.Popen(command, stdout=subprocess.PIPE, stderr=None, shell=True)"
   ]
  },
  {
   "cell_type": "code",
   "execution_count": null,
   "metadata": {},
   "outputs": [],
   "source": []
  }
 ],
 "metadata": {
  "kernelspec": {
   "display_name": "Python 3",
   "language": "python",
   "name": "python3"
  },
  "language_info": {
   "codemirror_mode": {
    "name": "ipython",
    "version": 3
   },
   "file_extension": ".py",
   "mimetype": "text/x-python",
   "name": "python",
   "nbconvert_exporter": "python",
   "pygments_lexer": "ipython3",
   "version": "3.7.6"
  }
 },
 "nbformat": 4,
 "nbformat_minor": 4
}
